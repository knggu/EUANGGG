{
 "cells": [
  {
   "cell_type": "code",
   "execution_count": 1,
   "id": "edd8bc87-2931-4078-bd2d-2932375c524a",
   "metadata": {},
   "outputs": [
    {
     "name": "stderr",
     "output_type": "stream",
     "text": [
      "C:\\Users\\dave\\anaconda3\\envs\\haikoo\\lib\\site-packages\\tqdm\\auto.py:21: TqdmWarning: IProgress not found. Please update jupyter and ipywidgets. See https://ipywidgets.readthedocs.io/en/stable/user_install.html\n",
      "  from .autonotebook import tqdm as notebook_tqdm\n"
     ]
    }
   ],
   "source": [
    "import ast_preprocess_dataloader\n",
    "from ast_preprocess_dataloader import AudioPipeline\n",
    "import torch\n",
    "import os\n",
    "import glob\n",
    "from torch.utils.data import Dataset, DataLoader\n",
    "from audiomentations import Compose, TimeStretch, PitchShift, HighPassFilter, LowPassFilter, BandPassFilter\n",
    "import numpy as np\n",
    "from transformers import AutoProcessor, ASTConfig, ASTModel\n",
    "from sklearn.model_selection import train_test_split\n",
    "import torch.nn as nn\n",
    "import matplotlib.pyplot as plt\n",
    "import torch.optim as optim\n",
    "from tqdm import tqdm\n",
    "import matplotlib.pyplot as plt\n",
    "import librosa\n",
    "import torch.nn.functional as F"
   ]
  },
  {
   "cell_type": "code",
   "execution_count": 2,
   "id": "abbb5726-9c6b-4110-a041-40c88925edd8",
   "metadata": {},
   "outputs": [
    {
     "name": "stdout",
     "output_type": "stream",
     "text": [
      "PyTorch is using GPU 🟢\n"
     ]
    }
   ],
   "source": [
    "if torch.cuda.is_available():\n",
    "    device = torch.device(\"cuda\")\n",
    "    print(\"PyTorch is using GPU 🟢\")\n",
    "else:\n",
    "    device = torch.device(\"cpu\")\n",
    "    print(\"PyTorch is using CPU 🟡\")"
   ]
  },
  {
   "cell_type": "code",
   "execution_count": 3,
   "id": "566ce02b-a095-4ae1-b3f4-f412eac65a98",
   "metadata": {},
   "outputs": [
    {
     "data": {
      "text/plain": [
       "True"
      ]
     },
     "execution_count": 3,
     "metadata": {},
     "output_type": "execute_result"
    }
   ],
   "source": [
    "dataset_dir = r\"C:\\Users\\dave\\aiffel\\EUANGGG\\maincode\\data\\dataset\\audioonly\\labeled\\orig_resample\"\n",
    "os.path.exists(dataset_dir)"
   ]
  },
  {
   "cell_type": "code",
   "execution_count": 4,
   "id": "a94142f8-44dd-4a23-8744-1864297f4b7f",
   "metadata": {},
   "outputs": [
    {
     "data": {
      "text/plain": [
       "['bellypain', 'discomfort', 'hungry', 'tired']"
      ]
     },
     "execution_count": 4,
     "metadata": {},
     "output_type": "execute_result"
    }
   ],
   "source": [
    "class_name = os.listdir(dataset_dir)\n",
    "class_name"
   ]
  },
  {
   "cell_type": "code",
   "execution_count": 5,
   "id": "30f2f66c-747d-43db-a234-e936d3d1a5d1",
   "metadata": {},
   "outputs": [
    {
     "data": {
      "text/plain": [
       "['C:\\\\Users\\\\dave\\\\aiffel\\\\EUANGGG\\\\maincode\\\\data\\\\dataset\\\\audioonly\\\\labeled\\\\orig_resample\\\\bellypain',\n",
       " 'C:\\\\Users\\\\dave\\\\aiffel\\\\EUANGGG\\\\maincode\\\\data\\\\dataset\\\\audioonly\\\\labeled\\\\orig_resample\\\\discomfort',\n",
       " 'C:\\\\Users\\\\dave\\\\aiffel\\\\EUANGGG\\\\maincode\\\\data\\\\dataset\\\\audioonly\\\\labeled\\\\orig_resample\\\\hungry',\n",
       " 'C:\\\\Users\\\\dave\\\\aiffel\\\\EUANGGG\\\\maincode\\\\data\\\\dataset\\\\audioonly\\\\labeled\\\\orig_resample\\\\tired']"
      ]
     },
     "execution_count": 5,
     "metadata": {},
     "output_type": "execute_result"
    }
   ],
   "source": [
    "audio_dir = [os.path.join(dataset_dir, name) for name in class_name]\n",
    "audio_dir"
   ]
  },
  {
   "cell_type": "code",
   "execution_count": 6,
   "id": "033c2512-21d5-42d3-be75-8614a89f2c6b",
   "metadata": {},
   "outputs": [],
   "source": [
    "bpain_audio = glob.glob(os.path.join(audio_dir[0], '*.wav'))\n",
    "discomf_audio = glob.glob(os.path.join(audio_dir[3], '*.wav'))\n",
    "hungry_audio = glob.glob(os.path.join(audio_dir[2], '*.wav'))\n",
    "tired_audio = glob.glob(os.path.join(audio_dir[1], '*.wav'))"
   ]
  },
  {
   "cell_type": "code",
   "execution_count": 7,
   "id": "c468fe88-2666-4826-b5a1-dab4cb98a4ed",
   "metadata": {},
   "outputs": [
    {
     "data": {
      "text/plain": [
       "50"
      ]
     },
     "execution_count": 7,
     "metadata": {},
     "output_type": "execute_result"
    }
   ],
   "source": [
    "len(hungry_audio)"
   ]
  },
  {
   "cell_type": "code",
   "execution_count": 8,
   "id": "b78c18cb-1754-4bf0-ab2d-7344089befba",
   "metadata": {},
   "outputs": [],
   "source": [
    "audio_path_class = {\n",
    "    'bpain': bpain_audio,\n",
    "    'discomf': discomf_audio,\n",
    "    'hungry': hungry_audio,\n",
    "    'tired': tired_audio\n",
    "}"
   ]
  },
  {
   "cell_type": "code",
   "execution_count": 9,
   "id": "10bfc392-724f-4fae-a3fb-4429806ee729",
   "metadata": {},
   "outputs": [],
   "source": [
    "all_paths = []\n",
    "all_labels = []\n",
    "\n",
    "for (label, class_name), path_lst in zip(enumerate(audio_path_class), audio_path_class.values()):\n",
    "    for path in path_lst:\n",
    "        all_paths.append(path)\n",
    "        all_labels.append(label)"
   ]
  },
  {
   "cell_type": "code",
   "execution_count": 10,
   "id": "d427c525-1e49-4aa5-8bbb-0814bfa01971",
   "metadata": {},
   "outputs": [
    {
     "data": {
      "text/plain": [
       "Counter({1: 50, 2: 50, 0: 49, 3: 48})"
      ]
     },
     "execution_count": 10,
     "metadata": {},
     "output_type": "execute_result"
    }
   ],
   "source": [
    "from collections import Counter\n",
    "\n",
    "Counter(all_labels)"
   ]
  },
  {
   "cell_type": "markdown",
   "id": "09a78229-7e1b-4cc8-88ee-45ce263db398",
   "metadata": {},
   "source": [
    "## **훈련, 검증, 테스트 경로 쪼개기**"
   ]
  },
  {
   "cell_type": "code",
   "execution_count": 11,
   "id": "d18fab58-2be7-4b00-8ca3-6b0296052eb3",
   "metadata": {},
   "outputs": [],
   "source": [
    "train_paths, val_paths, train_labels, val_labels = train_test_split(all_paths, all_labels, test_size=0.3, random_state=42)"
   ]
  },
  {
   "cell_type": "code",
   "execution_count": 12,
   "id": "451223fb-94bf-41b2-9925-67e904b880fa",
   "metadata": {},
   "outputs": [
    {
     "name": "stdout",
     "output_type": "stream",
     "text": [
      "137\n",
      "60\n",
      "137\n",
      "60\n"
     ]
    }
   ],
   "source": [
    "# 갯수 확인\n",
    "print(len(train_paths))\n",
    "print(len(val_paths))\n",
    "print(len(train_labels))\n",
    "print(len(val_labels))"
   ]
  },
  {
   "cell_type": "code",
   "execution_count": 13,
   "id": "607d4226-5d97-454f-9503-97c9dc49b2f0",
   "metadata": {},
   "outputs": [],
   "source": [
    "val_paths, test_paths, val_labels, test_labels = train_test_split(val_paths, val_labels, test_size=0.5, random_state=42)"
   ]
  },
  {
   "cell_type": "code",
   "execution_count": 14,
   "id": "c68df5b3-885d-4951-8d28-80bbaebabfb5",
   "metadata": {},
   "outputs": [
    {
     "name": "stdout",
     "output_type": "stream",
     "text": [
      "30\n",
      "30\n",
      "30\n",
      "30\n"
     ]
    }
   ],
   "source": [
    "# 갯수 확인\n",
    "print(len(val_paths))\n",
    "print(len(test_paths))\n",
    "print(len(val_labels))\n",
    "print(len(test_labels))"
   ]
  },
  {
   "cell_type": "markdown",
   "id": "913010d0-f3fd-42a6-a15e-c383967d88ee",
   "metadata": {},
   "source": [
    "## **파이프라인 만들기**"
   ]
  },
  {
   "cell_type": "code",
   "execution_count": 15,
   "id": "762b51d8-da45-4dbb-8e5a-308cfde34bc7",
   "metadata": {},
   "outputs": [
    {
     "name": "stderr",
     "output_type": "stream",
     "text": [
      "Could not find image processor class in the image processor config or the model config. Loading based on pattern matching with the model's feature extractor configuration. Please open a PR/issue to update `preprocessor_config.json` to use `image_processor_type` instead of `feature_extractor_type`. This warning will be removed in v4.40.\n",
      "Could not find image processor class in the image processor config or the model config. Loading based on pattern matching with the model's feature extractor configuration. Please open a PR/issue to update `preprocessor_config.json` to use `image_processor_type` instead of `feature_extractor_type`. This warning will be removed in v4.40.\n",
      "Could not find image processor class in the image processor config or the model config. Loading based on pattern matching with the model's feature extractor configuration. Please open a PR/issue to update `preprocessor_config.json` to use `image_processor_type` instead of `feature_extractor_type`. This warning will be removed in v4.40.\n"
     ]
    }
   ],
   "source": [
    "augmentations = Compose([\n",
    "    BandPassFilter(min_center_freq=1500, max_center_freq=1500,\n",
    "                   max_bandwidth_fraction=0.8, min_bandwidth_fraction=0.8,\n",
    "                   max_rolloff=12, min_rolloff=12, p=1.0)\n",
    "])\n",
    "\n",
    "train_dataset = AudioPipeline(audio_paths=train_paths, audio_labels=train_labels, sr=20000, transform=augmentations)\n",
    "val_dataset = AudioPipeline(audio_paths=val_paths, audio_labels=val_labels, sr=20000)\n",
    "test_dataset = AudioPipeline(audio_paths=val_paths, audio_labels=val_labels, sr=20000)"
   ]
  },
  {
   "cell_type": "code",
   "execution_count": 16,
   "id": "02b4c70d-77e6-4cee-9e87-7deab10fcb94",
   "metadata": {},
   "outputs": [],
   "source": [
    "train_dataloader = DataLoader(train_dataset, batch_size=10, shuffle=True)\n",
    "val_dataloader = DataLoader(val_dataset, batch_size=10, shuffle=True)\n",
    "test_dataloader = DataLoader(test_dataset, batch_size=10, shuffle=True)"
   ]
  },
  {
   "cell_type": "markdown",
   "id": "55bc821a-9c27-425c-8d65-bca2a17ff04c",
   "metadata": {},
   "source": [
    "## **모델 불러오기**"
   ]
  },
  {
   "cell_type": "code",
   "execution_count": 17,
   "id": "d3cdbb84-bc71-4e98-8fae-e28baa5bef60",
   "metadata": {},
   "outputs": [],
   "source": [
    "class CustomASTClassifier(nn.Module):\n",
    "    def __init__(self, ast_model_name, num_labels):\n",
    "        super().__init__()\n",
    "        # self.astconfig = ASTConfig() # 괄호 안에 configuration 값 넣어주면 됩니다. 아마 sampling rate도 20000으로 맞춰주시면 될 것 같아요.\n",
    "        self.ast = ASTModel.from_pretrained(ast_model_name) # 요거 안되면 질문주세요\n",
    "        self.num_labels = num_labels\n",
    "        for param in self.ast.parameters():\n",
    "            param.requires_grad = False\n",
    "\n",
    "        self.classifier = nn.Linear(140, 4)\n",
    "        self.dense1 = nn.Linear(932352, 280)\n",
    "        self.dense2 = nn.Linear(280, 140)\n",
    "        self.activation = nn.GELU()\n",
    "\n",
    "    def forward(self, input_values, labels=None):\n",
    "        input_values = input_values.float()\n",
    "        outputs = self.ast(input_values)\n",
    "        embeddings = outputs.last_hidden_state\n",
    "        # embeddings = torch.transpose(embeddings, 2, 1)\n",
    "        flat_embed = embeddings.reshape(embeddings.shape[0], -1)\n",
    "        x = self.dense1(flat_embed)\n",
    "        x = self.activation(x)\n",
    "        x = self.dense2(x)\n",
    "        x = self.activation(x)\n",
    "        logits = self.classifier(x)\n",
    "        \n",
    "        # if labels is not None:\n",
    "        #     loss_fct = nn.CrossEntropyLoss()\n",
    "        #     loss = loss_fct(logits.view(-1, self.num_labels), labels.view(-1).long())\n",
    "        #     return loss, logits\n",
    "        return logits"
   ]
  },
  {
   "cell_type": "markdown",
   "id": "3204a3a3-4325-48b1-906c-2c3b08a89b52",
   "metadata": {},
   "source": [
    "## **위 코드 적용하는 법**\n",
    "```python\n",
    "class CustomASTClassifier(nn.Module):\n",
    "    def __init__(self, ast_model_name, num_labels):\n",
    "        super().__init__()\n",
    "        self.ast = ASTModel.from_pretrained(ast_model_name) \n",
    "        self.num_labels = num_labels\n",
    "        for param in self.ast.parameters():\n",
    "            param.requires_grad = False\n",
    "        \n",
    "        # 요 아래부분만 모델 구조 바꾸시면 되요 CNN이든 DNN이든 맞춰서 해주시면 됩니다.\n",
    "        # 아래는 예시입니다.\n",
    "        self.classifier = nn.Linear(140, 4)\n",
    "        self.dense1 = nn.Linear(932352, 280)\n",
    "        self.dense2 = nn.Linear(280, 140)\n",
    "        self.activation = nn.GELU()\n",
    "\n",
    "    def forward(self, input_values, labels=None):\n",
    "        input_values = input_values.float()\n",
    "        outputs = self.ast(input_values)\n",
    "        embeddings = outputs.last_hidden_state\n",
    "        # embeddings = torch.transpose(embeddings, 2, 1)\n",
    "\n",
    "        # 요 아래 Feed Forward 나 CNN Feed Forward는 맞춰서 데이터 흘려보내면 됩니다. 아래는 예시입니다.\n",
    "        flat_embed = embeddings.reshape(embeddings.shape[0], -1)\n",
    "        x = self.dense1(flat_embed)\n",
    "        x = self.activation(x)\n",
    "        x = self.dense2(x)\n",
    "        x = self.activation(x)\n",
    "        logits = self.classifier(x)\n",
    "        \n",
    "        return logits\n",
    "```"
   ]
  },
  {
   "cell_type": "code",
   "execution_count": 18,
   "id": "3fff509b-51b9-4d12-a65e-4a4b82ebc20b",
   "metadata": {},
   "outputs": [],
   "source": [
    "num_labels = 4\n",
    "ast_model_name = \"MIT/ast-finetuned-audioset-10-10-0.4593\"\n",
    "model = CustomASTClassifier(ast_model_name, num_labels).to(device)\n",
    "\n",
    "# Define your optimizer, loss function, etc.\n",
    "# optimizer = optim.Adam(model.parameters(), lr=1e-04)\n",
    "ast_loss_fn = torch.nn.CrossEntropyLoss()"
   ]
  },
  {
   "cell_type": "code",
   "execution_count": 19,
   "id": "ac8d1840-6625-484b-8d73-13c9506660be",
   "metadata": {},
   "outputs": [
    {
     "name": "stdout",
     "output_type": "stream",
     "text": [
      "embeddings.cls_token: requires_grad is False\n",
      "embeddings.distillation_token: requires_grad is False\n",
      "embeddings.position_embeddings: requires_grad is False\n",
      "embeddings.patch_embeddings.projection.weight: requires_grad is False\n",
      "embeddings.patch_embeddings.projection.bias: requires_grad is False\n",
      "encoder.layer.0.attention.attention.query.weight: requires_grad is False\n",
      "encoder.layer.0.attention.attention.query.bias: requires_grad is False\n",
      "encoder.layer.0.attention.attention.key.weight: requires_grad is False\n",
      "encoder.layer.0.attention.attention.key.bias: requires_grad is False\n",
      "encoder.layer.0.attention.attention.value.weight: requires_grad is False\n",
      "encoder.layer.0.attention.attention.value.bias: requires_grad is False\n",
      "encoder.layer.0.attention.output.dense.weight: requires_grad is False\n",
      "encoder.layer.0.attention.output.dense.bias: requires_grad is False\n",
      "encoder.layer.0.intermediate.dense.weight: requires_grad is False\n",
      "encoder.layer.0.intermediate.dense.bias: requires_grad is False\n",
      "encoder.layer.0.output.dense.weight: requires_grad is False\n",
      "encoder.layer.0.output.dense.bias: requires_grad is False\n",
      "encoder.layer.0.layernorm_before.weight: requires_grad is False\n",
      "encoder.layer.0.layernorm_before.bias: requires_grad is False\n",
      "encoder.layer.0.layernorm_after.weight: requires_grad is False\n",
      "encoder.layer.0.layernorm_after.bias: requires_grad is False\n",
      "encoder.layer.1.attention.attention.query.weight: requires_grad is False\n",
      "encoder.layer.1.attention.attention.query.bias: requires_grad is False\n",
      "encoder.layer.1.attention.attention.key.weight: requires_grad is False\n",
      "encoder.layer.1.attention.attention.key.bias: requires_grad is False\n",
      "encoder.layer.1.attention.attention.value.weight: requires_grad is False\n",
      "encoder.layer.1.attention.attention.value.bias: requires_grad is False\n",
      "encoder.layer.1.attention.output.dense.weight: requires_grad is False\n",
      "encoder.layer.1.attention.output.dense.bias: requires_grad is False\n",
      "encoder.layer.1.intermediate.dense.weight: requires_grad is False\n",
      "encoder.layer.1.intermediate.dense.bias: requires_grad is False\n",
      "encoder.layer.1.output.dense.weight: requires_grad is False\n",
      "encoder.layer.1.output.dense.bias: requires_grad is False\n",
      "encoder.layer.1.layernorm_before.weight: requires_grad is False\n",
      "encoder.layer.1.layernorm_before.bias: requires_grad is False\n",
      "encoder.layer.1.layernorm_after.weight: requires_grad is False\n",
      "encoder.layer.1.layernorm_after.bias: requires_grad is False\n",
      "encoder.layer.2.attention.attention.query.weight: requires_grad is False\n",
      "encoder.layer.2.attention.attention.query.bias: requires_grad is False\n",
      "encoder.layer.2.attention.attention.key.weight: requires_grad is False\n",
      "encoder.layer.2.attention.attention.key.bias: requires_grad is False\n",
      "encoder.layer.2.attention.attention.value.weight: requires_grad is False\n",
      "encoder.layer.2.attention.attention.value.bias: requires_grad is False\n",
      "encoder.layer.2.attention.output.dense.weight: requires_grad is False\n",
      "encoder.layer.2.attention.output.dense.bias: requires_grad is False\n",
      "encoder.layer.2.intermediate.dense.weight: requires_grad is False\n",
      "encoder.layer.2.intermediate.dense.bias: requires_grad is False\n",
      "encoder.layer.2.output.dense.weight: requires_grad is False\n",
      "encoder.layer.2.output.dense.bias: requires_grad is False\n",
      "encoder.layer.2.layernorm_before.weight: requires_grad is False\n",
      "encoder.layer.2.layernorm_before.bias: requires_grad is False\n",
      "encoder.layer.2.layernorm_after.weight: requires_grad is False\n",
      "encoder.layer.2.layernorm_after.bias: requires_grad is False\n",
      "encoder.layer.3.attention.attention.query.weight: requires_grad is False\n",
      "encoder.layer.3.attention.attention.query.bias: requires_grad is False\n",
      "encoder.layer.3.attention.attention.key.weight: requires_grad is False\n",
      "encoder.layer.3.attention.attention.key.bias: requires_grad is False\n",
      "encoder.layer.3.attention.attention.value.weight: requires_grad is False\n",
      "encoder.layer.3.attention.attention.value.bias: requires_grad is False\n",
      "encoder.layer.3.attention.output.dense.weight: requires_grad is False\n",
      "encoder.layer.3.attention.output.dense.bias: requires_grad is False\n",
      "encoder.layer.3.intermediate.dense.weight: requires_grad is False\n",
      "encoder.layer.3.intermediate.dense.bias: requires_grad is False\n",
      "encoder.layer.3.output.dense.weight: requires_grad is False\n",
      "encoder.layer.3.output.dense.bias: requires_grad is False\n",
      "encoder.layer.3.layernorm_before.weight: requires_grad is False\n",
      "encoder.layer.3.layernorm_before.bias: requires_grad is False\n",
      "encoder.layer.3.layernorm_after.weight: requires_grad is False\n",
      "encoder.layer.3.layernorm_after.bias: requires_grad is False\n",
      "encoder.layer.4.attention.attention.query.weight: requires_grad is False\n",
      "encoder.layer.4.attention.attention.query.bias: requires_grad is False\n",
      "encoder.layer.4.attention.attention.key.weight: requires_grad is False\n",
      "encoder.layer.4.attention.attention.key.bias: requires_grad is False\n",
      "encoder.layer.4.attention.attention.value.weight: requires_grad is False\n",
      "encoder.layer.4.attention.attention.value.bias: requires_grad is False\n",
      "encoder.layer.4.attention.output.dense.weight: requires_grad is False\n",
      "encoder.layer.4.attention.output.dense.bias: requires_grad is False\n",
      "encoder.layer.4.intermediate.dense.weight: requires_grad is False\n",
      "encoder.layer.4.intermediate.dense.bias: requires_grad is False\n",
      "encoder.layer.4.output.dense.weight: requires_grad is False\n",
      "encoder.layer.4.output.dense.bias: requires_grad is False\n",
      "encoder.layer.4.layernorm_before.weight: requires_grad is False\n",
      "encoder.layer.4.layernorm_before.bias: requires_grad is False\n",
      "encoder.layer.4.layernorm_after.weight: requires_grad is False\n",
      "encoder.layer.4.layernorm_after.bias: requires_grad is False\n",
      "encoder.layer.5.attention.attention.query.weight: requires_grad is False\n",
      "encoder.layer.5.attention.attention.query.bias: requires_grad is False\n",
      "encoder.layer.5.attention.attention.key.weight: requires_grad is False\n",
      "encoder.layer.5.attention.attention.key.bias: requires_grad is False\n",
      "encoder.layer.5.attention.attention.value.weight: requires_grad is False\n",
      "encoder.layer.5.attention.attention.value.bias: requires_grad is False\n",
      "encoder.layer.5.attention.output.dense.weight: requires_grad is False\n",
      "encoder.layer.5.attention.output.dense.bias: requires_grad is False\n",
      "encoder.layer.5.intermediate.dense.weight: requires_grad is False\n",
      "encoder.layer.5.intermediate.dense.bias: requires_grad is False\n",
      "encoder.layer.5.output.dense.weight: requires_grad is False\n",
      "encoder.layer.5.output.dense.bias: requires_grad is False\n",
      "encoder.layer.5.layernorm_before.weight: requires_grad is False\n",
      "encoder.layer.5.layernorm_before.bias: requires_grad is False\n",
      "encoder.layer.5.layernorm_after.weight: requires_grad is False\n",
      "encoder.layer.5.layernorm_after.bias: requires_grad is False\n",
      "encoder.layer.6.attention.attention.query.weight: requires_grad is False\n",
      "encoder.layer.6.attention.attention.query.bias: requires_grad is False\n",
      "encoder.layer.6.attention.attention.key.weight: requires_grad is False\n",
      "encoder.layer.6.attention.attention.key.bias: requires_grad is False\n",
      "encoder.layer.6.attention.attention.value.weight: requires_grad is False\n",
      "encoder.layer.6.attention.attention.value.bias: requires_grad is False\n",
      "encoder.layer.6.attention.output.dense.weight: requires_grad is False\n",
      "encoder.layer.6.attention.output.dense.bias: requires_grad is False\n",
      "encoder.layer.6.intermediate.dense.weight: requires_grad is False\n",
      "encoder.layer.6.intermediate.dense.bias: requires_grad is False\n",
      "encoder.layer.6.output.dense.weight: requires_grad is False\n",
      "encoder.layer.6.output.dense.bias: requires_grad is False\n",
      "encoder.layer.6.layernorm_before.weight: requires_grad is False\n",
      "encoder.layer.6.layernorm_before.bias: requires_grad is False\n",
      "encoder.layer.6.layernorm_after.weight: requires_grad is False\n",
      "encoder.layer.6.layernorm_after.bias: requires_grad is False\n",
      "encoder.layer.7.attention.attention.query.weight: requires_grad is False\n",
      "encoder.layer.7.attention.attention.query.bias: requires_grad is False\n",
      "encoder.layer.7.attention.attention.key.weight: requires_grad is False\n",
      "encoder.layer.7.attention.attention.key.bias: requires_grad is False\n",
      "encoder.layer.7.attention.attention.value.weight: requires_grad is False\n",
      "encoder.layer.7.attention.attention.value.bias: requires_grad is False\n",
      "encoder.layer.7.attention.output.dense.weight: requires_grad is False\n",
      "encoder.layer.7.attention.output.dense.bias: requires_grad is False\n",
      "encoder.layer.7.intermediate.dense.weight: requires_grad is False\n",
      "encoder.layer.7.intermediate.dense.bias: requires_grad is False\n",
      "encoder.layer.7.output.dense.weight: requires_grad is False\n",
      "encoder.layer.7.output.dense.bias: requires_grad is False\n",
      "encoder.layer.7.layernorm_before.weight: requires_grad is False\n",
      "encoder.layer.7.layernorm_before.bias: requires_grad is False\n",
      "encoder.layer.7.layernorm_after.weight: requires_grad is False\n",
      "encoder.layer.7.layernorm_after.bias: requires_grad is False\n",
      "encoder.layer.8.attention.attention.query.weight: requires_grad is False\n",
      "encoder.layer.8.attention.attention.query.bias: requires_grad is False\n",
      "encoder.layer.8.attention.attention.key.weight: requires_grad is False\n",
      "encoder.layer.8.attention.attention.key.bias: requires_grad is False\n",
      "encoder.layer.8.attention.attention.value.weight: requires_grad is False\n",
      "encoder.layer.8.attention.attention.value.bias: requires_grad is False\n",
      "encoder.layer.8.attention.output.dense.weight: requires_grad is False\n",
      "encoder.layer.8.attention.output.dense.bias: requires_grad is False\n",
      "encoder.layer.8.intermediate.dense.weight: requires_grad is False\n",
      "encoder.layer.8.intermediate.dense.bias: requires_grad is False\n",
      "encoder.layer.8.output.dense.weight: requires_grad is False\n",
      "encoder.layer.8.output.dense.bias: requires_grad is False\n",
      "encoder.layer.8.layernorm_before.weight: requires_grad is False\n",
      "encoder.layer.8.layernorm_before.bias: requires_grad is False\n",
      "encoder.layer.8.layernorm_after.weight: requires_grad is False\n",
      "encoder.layer.8.layernorm_after.bias: requires_grad is False\n",
      "encoder.layer.9.attention.attention.query.weight: requires_grad is False\n",
      "encoder.layer.9.attention.attention.query.bias: requires_grad is False\n",
      "encoder.layer.9.attention.attention.key.weight: requires_grad is False\n",
      "encoder.layer.9.attention.attention.key.bias: requires_grad is False\n",
      "encoder.layer.9.attention.attention.value.weight: requires_grad is False\n",
      "encoder.layer.9.attention.attention.value.bias: requires_grad is False\n",
      "encoder.layer.9.attention.output.dense.weight: requires_grad is False\n",
      "encoder.layer.9.attention.output.dense.bias: requires_grad is False\n",
      "encoder.layer.9.intermediate.dense.weight: requires_grad is False\n",
      "encoder.layer.9.intermediate.dense.bias: requires_grad is False\n",
      "encoder.layer.9.output.dense.weight: requires_grad is False\n",
      "encoder.layer.9.output.dense.bias: requires_grad is False\n",
      "encoder.layer.9.layernorm_before.weight: requires_grad is False\n",
      "encoder.layer.9.layernorm_before.bias: requires_grad is False\n",
      "encoder.layer.9.layernorm_after.weight: requires_grad is False\n",
      "encoder.layer.9.layernorm_after.bias: requires_grad is False\n",
      "encoder.layer.10.attention.attention.query.weight: requires_grad is False\n",
      "encoder.layer.10.attention.attention.query.bias: requires_grad is False\n",
      "encoder.layer.10.attention.attention.key.weight: requires_grad is False\n",
      "encoder.layer.10.attention.attention.key.bias: requires_grad is False\n",
      "encoder.layer.10.attention.attention.value.weight: requires_grad is False\n",
      "encoder.layer.10.attention.attention.value.bias: requires_grad is False\n",
      "encoder.layer.10.attention.output.dense.weight: requires_grad is False\n",
      "encoder.layer.10.attention.output.dense.bias: requires_grad is False\n",
      "encoder.layer.10.intermediate.dense.weight: requires_grad is False\n",
      "encoder.layer.10.intermediate.dense.bias: requires_grad is False\n",
      "encoder.layer.10.output.dense.weight: requires_grad is False\n",
      "encoder.layer.10.output.dense.bias: requires_grad is False\n",
      "encoder.layer.10.layernorm_before.weight: requires_grad is False\n",
      "encoder.layer.10.layernorm_before.bias: requires_grad is False\n",
      "encoder.layer.10.layernorm_after.weight: requires_grad is False\n",
      "encoder.layer.10.layernorm_after.bias: requires_grad is False\n",
      "encoder.layer.11.attention.attention.query.weight: requires_grad is False\n",
      "encoder.layer.11.attention.attention.query.bias: requires_grad is False\n",
      "encoder.layer.11.attention.attention.key.weight: requires_grad is False\n",
      "encoder.layer.11.attention.attention.key.bias: requires_grad is False\n",
      "encoder.layer.11.attention.attention.value.weight: requires_grad is False\n",
      "encoder.layer.11.attention.attention.value.bias: requires_grad is False\n",
      "encoder.layer.11.attention.output.dense.weight: requires_grad is False\n",
      "encoder.layer.11.attention.output.dense.bias: requires_grad is False\n",
      "encoder.layer.11.intermediate.dense.weight: requires_grad is False\n",
      "encoder.layer.11.intermediate.dense.bias: requires_grad is False\n",
      "encoder.layer.11.output.dense.weight: requires_grad is False\n",
      "encoder.layer.11.output.dense.bias: requires_grad is False\n",
      "encoder.layer.11.layernorm_before.weight: requires_grad is False\n",
      "encoder.layer.11.layernorm_before.bias: requires_grad is False\n",
      "encoder.layer.11.layernorm_after.weight: requires_grad is False\n",
      "encoder.layer.11.layernorm_after.bias: requires_grad is False\n",
      "layernorm.weight: requires_grad is False\n",
      "layernorm.bias: requires_grad is False\n"
     ]
    }
   ],
   "source": [
    "# 여기서 ast 모델이 다 freeze 됐는지 확인하시면 되요\n",
    "for name, param in model.ast.named_parameters():\n",
    "    if param.requires_grad:\n",
    "        print(f\"{name}: requires_grad is True\")\n",
    "    else:\n",
    "        print(f\"{name}: requires_grad is False\")"
   ]
  },
  {
   "cell_type": "code",
   "execution_count": 20,
   "id": "363d5acd-41c8-4fdc-94d0-62e697d80ecd",
   "metadata": {},
   "outputs": [],
   "source": [
    "# 요 코드는 그래로 나두고 lr_init만 바꿔서 체크하면 되요.\n",
    "def find_learning_rate(model, train_loader, loss_fn, device='cpu'):\n",
    "    optimizer = torch.optim.Adam(model.parameters(), lr=1e-4)\n",
    "\n",
    "    lr_find_loss = []\n",
    "    lr_find_lr = []\n",
    "\n",
    "    lr_init = 1e-8 # <<<< 요기만 바꾸면됨\n",
    "    lr_final = 1e-2\n",
    "    n_steps = 100\n",
    "    current_lr = lr_init\n",
    "    lr_increment = (lr_final / lr_init) ** (1/n_steps)\n",
    "\n",
    "    model.train()  # Set model to training mode\n",
    "\n",
    "    for batch_idx, batch in enumerate(train_loader):\n",
    "        inputs, targets = batch\n",
    "        inputs, targets = inputs.to(device), targets.to(device)\n",
    "        \n",
    "        optimizer.param_groups[0]['lr'] = current_lr\n",
    "        outputs = model(inputs)\n",
    "        loss = loss_fn(outputs, targets.squeeze())\n",
    "\n",
    "        optimizer.zero_grad()\n",
    "        loss.backward()\n",
    "        optimizer.step()\n",
    "\n",
    "        lr_find_loss.append(loss.item())\n",
    "        lr_find_lr.append(current_lr)\n",
    "\n",
    "        current_lr *= lr_increment\n",
    "        if current_lr > lr_final:\n",
    "            break\n",
    "\n",
    "    plt.plot(lr_find_lr, lr_find_loss)\n",
    "    plt.xscale('log')\n",
    "    plt.xlabel('Learning Rate')\n",
    "    plt.ylabel('Loss')\n",
    "    plt.show()\n",
    "    return lr_find_lr, lr_find_loss\n"
   ]
  },
  {
   "cell_type": "code",
   "execution_count": 21,
   "id": "0891244b-1694-4f5c-af1f-ab0ba9d6a980",
   "metadata": {},
   "outputs": [
    {
     "data": {
      "image/png": "[encoded data removed]",
      "text/plain": [
       "<Figure size 640x480 with 1 Axes>"
      ]
     },
     "metadata": {},
     "output_type": "display_data"
    },
    {
     "data": {
      "text/plain": [
       "([1e-08,\n",
       "  1.1481536214968828e-08,\n",
       "  1.3182567385564073e-08,\n",
       "  1.5135612484362086e-08,\n",
       "  1.737800828749376e-08,\n",
       "  1.9952623149688803e-08,\n",
       "  2.290867652767774e-08,\n",
       "  2.630267991895383e-08,\n",
       "  3.0199517204020175e-08,\n",
       "  3.467368504525318e-08,\n",
       "  3.981071705534974e-08,\n",
       "  4.5708818961487524e-08,\n",
       "  5.2480746024977285e-08,\n",
       "  6.025595860743581e-08],\n",
       " [1.3625112771987915,\n",
       "  1.4063618183135986,\n",
       "  1.4457623958587646,\n",
       "  1.3609215021133423,\n",
       "  1.3806021213531494,\n",
       "  1.3110750913619995,\n",
       "  1.3523600101470947,\n",
       "  1.4422500133514404,\n",
       "  1.3896666765213013,\n",
       "  1.3603582382202148,\n",
       "  1.3586817979812622,\n",
       "  1.381385087966919,\n",
       "  1.3902699947357178,\n",
       "  1.3779951333999634])"
      ]
     },
     "execution_count": 21,
     "metadata": {},
     "output_type": "execute_result"
    }
   ],
   "source": [
    "find_learning_rate(model, train_dataloader, ast_loss_fn, device=device)"
   ]
  },
  {
   "cell_type": "markdown",
   "id": "ebeb5a8b-e243-4942-808e-e758d9c7b448",
   "metadata": {},
   "source": [
    "## **결과 보는 법**\n",
    "\n",
    "- 우선 그래프를 먼저 보면 loss가 가장 낮은 learning rate를 눈으로 확인할 수 있음.\n",
    "- 그리고 tuple 안에 두 개의 리스트가 있는데 첫번째 리스트는 learning rate이고 두 번째 리스트는 loss 값\n",
    "- 제일 낮은 loss를 찾아서 해당되는 learning rate를 쓰면 됨"
   ]
  },
  {
   "cell_type": "code",
   "execution_count": null,
   "id": "734a6886-01f6-4201-9afb-756c6e2449c4",
   "metadata": {},
   "outputs": [],
   "source": []
  }
 ],
 "metadata": {
  "kernelspec": {
   "display_name": "haikoo",
   "language": "python",
   "name": "haikoo"
  },
  "language_info": {
   "codemirror_mode": {
    "name": "ipython",
    "version": 3
   },
   "file_extension": ".py",
   "mimetype": "text/x-python",
   "name": "python",
   "nbconvert_exporter": "python",
   "pygments_lexer": "ipython3",
   "version": "3.10.11"
  }
 },
 "nbformat": 4,
 "nbformat_minor": 5
}
