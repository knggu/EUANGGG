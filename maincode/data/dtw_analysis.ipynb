{
 "cells": [
  {
   "cell_type": "code",
   "execution_count": 1,
   "id": "0699a975-d6be-4b09-839c-d7565757efc7",
   "metadata": {},
   "outputs": [],
   "source": [
    "import os\n",
    "import glob\n",
    "import librosa\n",
    "import matplotlib.pyplot as plt\n",
    "import numpy as np\n",
    "import sys\n",
    "from tqdm import tqdm\n",
    "from scipy.spatial.distance import euclidean\n",
    "import pandas as pd\n",
    "from fastdtw import fastdtw"
   ]
  },
  {
   "cell_type": "code",
   "execution_count": 2,
   "id": "02f41a57-3c84-43c0-acce-758753413615",
   "metadata": {},
   "outputs": [
    {
     "data": {
      "text/plain": [
       "['.ipynb_checkpoints', 'audioonly', 'spectrograms']"
      ]
     },
     "execution_count": 2,
     "metadata": {},
     "output_type": "execute_result"
    }
   ],
   "source": [
    "audio_path_unlabeled = glob.glob(os.path.join('C:./dataset/audioonly/unlabeled', '*.wav'))\n",
    "dataset_maindir = os.path.join(os.getcwd(), 'dataset')\n",
    "sub_dir_name = next(os.walk(dataset_maindir))[1]\n",
    "sub_dir_name"
   ]
  },
  {
   "cell_type": "code",
   "execution_count": 3,
   "id": "20033e8c-c003-47b2-8efc-0c5e9fffed2b",
   "metadata": {},
   "outputs": [
    {
     "data": {
      "text/plain": [
       "['labeled', 'unlabeled']"
      ]
     },
     "execution_count": 3,
     "metadata": {},
     "output_type": "execute_result"
    }
   ],
   "source": [
    "sub_dir_path = os.path.join(dataset_maindir, sub_dir_name[1])\n",
    "sub_dir_subpath = next(os.walk(sub_dir_path))[1]\n",
    "sub_dir_subpath"
   ]
  },
  {
   "cell_type": "code",
   "execution_count": 4,
   "id": "1e52cc4d-32c6-4ccd-b73b-4cd0e2287a84",
   "metadata": {},
   "outputs": [
    {
     "data": {
      "text/plain": [
       "['C:\\\\Users\\\\dave\\\\aiffel\\\\EUANGGG\\\\maincode\\\\data\\\\dataset\\\\audioonly\\\\labeled\\\\belly_pain',\n",
       " 'C:\\\\Users\\\\dave\\\\aiffel\\\\EUANGGG\\\\maincode\\\\data\\\\dataset\\\\audioonly\\\\labeled\\\\burping',\n",
       " 'C:\\\\Users\\\\dave\\\\aiffel\\\\EUANGGG\\\\maincode\\\\data\\\\dataset\\\\audioonly\\\\labeled\\\\discomfort',\n",
       " 'C:\\\\Users\\\\dave\\\\aiffel\\\\EUANGGG\\\\maincode\\\\data\\\\dataset\\\\audioonly\\\\labeled\\\\hungry',\n",
       " 'C:\\\\Users\\\\dave\\\\aiffel\\\\EUANGGG\\\\maincode\\\\data\\\\dataset\\\\audioonly\\\\labeled\\\\tired']"
      ]
     },
     "execution_count": 4,
     "metadata": {},
     "output_type": "execute_result"
    }
   ],
   "source": [
    "class_folder_path = os.path.join(sub_dir_path, sub_dir_subpath[0])\n",
    "class_lst = next(os.walk(class_folder_path))[1]\n",
    "class_path = [os.path.join(class_folder_path, type) for type in class_lst]\n",
    "class_path"
   ]
  },
  {
   "cell_type": "code",
   "execution_count": 5,
   "id": "979b7021-c6da-4725-a16f-7db0eec5b16a",
   "metadata": {},
   "outputs": [],
   "source": [
    "audio_path_labeled = [glob.glob(os.path.join(folder,'*.wav')) for folder in class_path]"
   ]
  },
  {
   "cell_type": "code",
   "execution_count": 6,
   "id": "6b644693-4bf0-4ea4-bc3f-c210f7ef00db",
   "metadata": {},
   "outputs": [],
   "source": [
    "bellypain_path = audio_path_labeled[0]\n",
    "burping_path = audio_path_labeled[1]\n",
    "discomfort_path = audio_path_labeled[2]\n",
    "hungry_path = audio_path_labeled[3]\n",
    "tired_path = audio_path_labeled[4]"
   ]
  },
  {
   "cell_type": "code",
   "execution_count": 7,
   "id": "4ad0b5f2-4354-47e5-b51e-77c6a9b4d973",
   "metadata": {},
   "outputs": [],
   "source": [
    "# Bellypain audio to MFCCs\n",
    "spectro_belly = []\n",
    "\n",
    "for path in bellypain_path:\n",
    "    y, sr = librosa.load(path, sr = 44100)\n",
    "    mfccs = librosa.feature.mfcc(y=y, sr=sr)\n",
    "    spectro_belly.append(mfccs)"
   ]
  },
  {
   "cell_type": "code",
   "execution_count": 8,
   "id": "fb0ab8e8-56ce-4b9d-a4ca-4b85fa25482e",
   "metadata": {},
   "outputs": [],
   "source": [
    "# burping audio to MFCCs\n",
    "spectro_burp = []\n",
    "\n",
    "for path in burping_path:\n",
    "    y, sr = librosa.load(path, sr = 44100)\n",
    "    mfccs = librosa.feature.mfcc(y=y, sr=sr)\n",
    "    spectro_burp.append(mfccs)"
   ]
  },
  {
   "cell_type": "code",
   "execution_count": 9,
   "id": "7f4a96c1-f724-4ac5-b8f6-b3a5c3154c8f",
   "metadata": {},
   "outputs": [],
   "source": [
    "# discomfort audio to MFCCs\n",
    "spectro_discomfort = []\n",
    "\n",
    "for path in discomfort_path:\n",
    "    y, sr = librosa.load(path, sr = 44100)\n",
    "    mfccs = librosa.feature.mfcc(y=y, sr=sr)\n",
    "    spectro_discomfort.append(mfccs)"
   ]
  },
  {
   "cell_type": "code",
   "execution_count": 10,
   "id": "27172b1e-8922-4d43-a73c-5c92488bd08f",
   "metadata": {},
   "outputs": [],
   "source": [
    "# hungry audio to MFCCs\n",
    "spectro_hungry = []\n",
    "\n",
    "for path in hungry_path:\n",
    "    y, sr = librosa.load(path, sr = 44100)\n",
    "    mfccs = librosa.feature.mfcc(y=y, sr=sr)\n",
    "    spectro_hungry.append(mfccs)"
   ]
  },
  {
   "cell_type": "code",
   "execution_count": 11,
   "id": "0137942f-c190-48cf-8cb7-134118367b6e",
   "metadata": {},
   "outputs": [],
   "source": [
    "# tired audio to MFCCs\n",
    "spectro_tired = []\n",
    "\n",
    "for path in tired_path:\n",
    "    y, sr = librosa.load(path, sr = 44100)\n",
    "    mfccs = librosa.feature.mfcc(y=y, sr=sr)\n",
    "    spectro_tired.append(mfccs)"
   ]
  },
  {
   "cell_type": "code",
   "execution_count": 12,
   "id": "a6168515-ab27-4c23-9c22-bfd6fc2d98e1",
   "metadata": {},
   "outputs": [
    {
     "name": "stderr",
     "output_type": "stream",
     "text": [
      "100%|███████████████████████████████████████████████████████████████████████████| 18190/18190 [01:42<00:00, 176.90it/s]\n"
     ]
    }
   ],
   "source": [
    "# tired audio to MFCCs\n",
    "spectro_unlabeled = []\n",
    "\n",
    "for path in tqdm(audio_path_unlabeled):\n",
    "    y, sr = librosa.load(path, sr = 44100)\n",
    "    mfccs = librosa.feature.mfcc(y=y, sr=sr)\n",
    "    spectro_unlabeled.append(mfccs)"
   ]
  },
  {
   "cell_type": "code",
   "execution_count": 13,
   "id": "b9c22881-f205-4422-b37f-5e7b7bb050bd",
   "metadata": {},
   "outputs": [],
   "source": [
    "labeled_mfccs = {'bellypain': spectro_belly, \n",
    "                'burp': spectro_burp,\n",
    "                'discomfort': spectro_discomfort,\n",
    "                'hungry': spectro_hungry,\n",
    "                'tired': spectro_tired}"
   ]
  },
  {
   "cell_type": "code",
   "execution_count": 14,
   "id": "120e9cab-b4d2-43c7-8010-1257eb12bf4c",
   "metadata": {},
   "outputs": [
    {
     "name": "stderr",
     "output_type": "stream",
     "text": [
      "C:\\Users\\dave\\AppData\\Local\\Programs\\Python\\Python310\\lib\\site-packages\\sklearn\\cluster\\_kmeans.py:1416: FutureWarning: The default value of `n_init` will change from 10 to 'auto' in 1.4. Set the value of `n_init` explicitly to suppress the warning\n",
      "  super()._check_params_vs_input(X, default_n_init=10)\n",
      "C:\\Users\\dave\\AppData\\Local\\Programs\\Python\\Python310\\lib\\site-packages\\sklearn\\cluster\\_kmeans.py:1416: FutureWarning: The default value of `n_init` will change from 10 to 'auto' in 1.4. Set the value of `n_init` explicitly to suppress the warning\n",
      "  super()._check_params_vs_input(X, default_n_init=10)\n",
      "C:\\Users\\dave\\AppData\\Local\\Programs\\Python\\Python310\\lib\\site-packages\\sklearn\\cluster\\_kmeans.py:1416: FutureWarning: The default value of `n_init` will change from 10 to 'auto' in 1.4. Set the value of `n_init` explicitly to suppress the warning\n",
      "  super()._check_params_vs_input(X, default_n_init=10)\n",
      "C:\\Users\\dave\\AppData\\Local\\Programs\\Python\\Python310\\lib\\site-packages\\sklearn\\cluster\\_kmeans.py:1416: FutureWarning: The default value of `n_init` will change from 10 to 'auto' in 1.4. Set the value of `n_init` explicitly to suppress the warning\n",
      "  super()._check_params_vs_input(X, default_n_init=10)\n",
      "C:\\Users\\dave\\AppData\\Local\\Programs\\Python\\Python310\\lib\\site-packages\\sklearn\\cluster\\_kmeans.py:1416: FutureWarning: The default value of `n_init` will change from 10 to 'auto' in 1.4. Set the value of `n_init` explicitly to suppress the warning\n",
      "  super()._check_params_vs_input(X, default_n_init=10)\n"
     ]
    }
   ],
   "source": [
    "from sklearn.cluster import KMeans\n",
    "representative_mfccs = {}\n",
    "\n",
    "for label, mfccs in labeled_mfccs.items():\n",
    "    all_mfccs = np.concatenate(mfccs, axis=1)\n",
    "    kmeans = KMeans(n_clusters=1, random_state=0).fit(all_mfccs.T)\n",
    "    representative_mfccs[label] = kmeans.cluster_centers_[0]"
   ]
  },
  {
   "cell_type": "code",
   "execution_count": 16,
   "id": "2675e2e2-da84-46b7-9b5b-a32bc4ba1568",
   "metadata": {},
   "outputs": [
    {
     "name": "stderr",
     "output_type": "stream",
     "text": [
      "100%|███████████████████████████████████████████████████████████████████████████| 18190/18190 [01:13<00:00, 245.90it/s]\n"
     ]
    }
   ],
   "source": [
    "# Initialize lists to store predicted classes and distances\n",
    "predicted_classes = []\n",
    "raw_distances = []\n",
    "\n",
    "# Loop through each unlabeled data point\n",
    "for unlabeled_mfcc in tqdm(spectro_unlabeled):\n",
    "    min_distance = float('inf')\n",
    "    predicted_class = None\n",
    "    for label, rep_mfcc in representative_mfccs.items():\n",
    "        distance, _ = fastdtw(unlabeled_mfcc.T, rep_mfcc.reshape(1, -1), dist=euclidean)\n",
    "        if distance < min_distance:\n",
    "            min_distance = distance\n",
    "            predicted_class = label\n",
    "    predicted_classes.append(predicted_class)\n",
    "    raw_distances.append(min_distance)\n",
    "\n",
    "# Normalize the distances inversely\n",
    "# One simple way is to take the reciprocal of the distance\n",
    "# However, to avoid division by zero, add a small constant (e.g., 1e-5)\n",
    "# normalized_distances = [1 / (d + 1e-5) for d in raw_distances]\n",
    "\n",
    "# Convert to a DataFrame\n",
    "df_predictions = pd.DataFrame({\n",
    "    'Predicted_Class': predicted_classes,\n",
    "    'Raw_Distance': raw_distances\n",
    "})"
   ]
  },
  {
   "cell_type": "code",
   "execution_count": 17,
   "id": "1ed1c23f-539d-4109-9887-2321502bcdca",
   "metadata": {},
   "outputs": [
    {
     "data": {
      "text/html": [
       "<div>\n",
       "<style scoped>\n",
       "    .dataframe tbody tr th:only-of-type {\n",
       "        vertical-align: middle;\n",
       "    }\n",
       "\n",
       "    .dataframe tbody tr th {\n",
       "        vertical-align: top;\n",
       "    }\n",
       "\n",
       "    .dataframe thead th {\n",
       "        text-align: right;\n",
       "    }\n",
       "</style>\n",
       "<table border=\"1\" class=\"dataframe\">\n",
       "  <thead>\n",
       "    <tr style=\"text-align: right;\">\n",
       "      <th></th>\n",
       "      <th>Predicted_Class</th>\n",
       "      <th>Raw_Distance</th>\n",
       "    </tr>\n",
       "  </thead>\n",
       "  <tbody>\n",
       "    <tr>\n",
       "      <th>0</th>\n",
       "      <td>tired</td>\n",
       "      <td>18762.765544</td>\n",
       "    </tr>\n",
       "    <tr>\n",
       "      <th>1</th>\n",
       "      <td>tired</td>\n",
       "      <td>19050.995268</td>\n",
       "    </tr>\n",
       "    <tr>\n",
       "      <th>2</th>\n",
       "      <td>tired</td>\n",
       "      <td>24339.702591</td>\n",
       "    </tr>\n",
       "    <tr>\n",
       "      <th>3</th>\n",
       "      <td>tired</td>\n",
       "      <td>36375.280190</td>\n",
       "    </tr>\n",
       "    <tr>\n",
       "      <th>4</th>\n",
       "      <td>tired</td>\n",
       "      <td>19315.015702</td>\n",
       "    </tr>\n",
       "    <tr>\n",
       "      <th>...</th>\n",
       "      <td>...</td>\n",
       "      <td>...</td>\n",
       "    </tr>\n",
       "    <tr>\n",
       "      <th>18185</th>\n",
       "      <td>tired</td>\n",
       "      <td>18938.816106</td>\n",
       "    </tr>\n",
       "    <tr>\n",
       "      <th>18186</th>\n",
       "      <td>bellypain</td>\n",
       "      <td>18351.961166</td>\n",
       "    </tr>\n",
       "    <tr>\n",
       "      <th>18187</th>\n",
       "      <td>bellypain</td>\n",
       "      <td>18069.502765</td>\n",
       "    </tr>\n",
       "    <tr>\n",
       "      <th>18188</th>\n",
       "      <td>bellypain</td>\n",
       "      <td>19143.633368</td>\n",
       "    </tr>\n",
       "    <tr>\n",
       "      <th>18189</th>\n",
       "      <td>tired</td>\n",
       "      <td>12380.179494</td>\n",
       "    </tr>\n",
       "  </tbody>\n",
       "</table>\n",
       "<p>18190 rows × 2 columns</p>\n",
       "</div>"
      ],
      "text/plain": [
       "      Predicted_Class  Raw_Distance\n",
       "0               tired  18762.765544\n",
       "1               tired  19050.995268\n",
       "2               tired  24339.702591\n",
       "3               tired  36375.280190\n",
       "4               tired  19315.015702\n",
       "...               ...           ...\n",
       "18185           tired  18938.816106\n",
       "18186       bellypain  18351.961166\n",
       "18187       bellypain  18069.502765\n",
       "18188       bellypain  19143.633368\n",
       "18189           tired  12380.179494\n",
       "\n",
       "[18190 rows x 2 columns]"
      ]
     },
     "execution_count": 17,
     "metadata": {},
     "output_type": "execute_result"
    }
   ],
   "source": [
    "df_predictions"
   ]
  },
  {
   "cell_type": "code",
   "execution_count": 18,
   "id": "39d1077f-0304-4bf1-b1ea-6c7eab51f591",
   "metadata": {},
   "outputs": [
    {
     "data": {
      "text/plain": [
       "count     18190.000000\n",
       "mean      16653.571308\n",
       "std       10027.565217\n",
       "min        2133.268549\n",
       "25%       10734.060885\n",
       "50%       14406.772987\n",
       "75%       19752.209099\n",
       "max      256247.198482\n",
       "Name: Raw_Distance, dtype: float64"
      ]
     },
     "execution_count": 18,
     "metadata": {},
     "output_type": "execute_result"
    }
   ],
   "source": [
    "df_predictions['Raw_Distance'].describe()"
   ]
  },
  {
   "cell_type": "code",
   "execution_count": 31,
   "id": "10a8d4ad-a8c9-48a8-a4da-8acca0d85cf8",
   "metadata": {},
   "outputs": [],
   "source": [
    "cond = (df_predictions['Raw_Distance'] < 20000)\n",
    "outlier_excluded = df_predictions[cond]"
   ]
  },
  {
   "cell_type": "code",
   "execution_count": 35,
   "id": "71abc986-6b78-4ca6-a2ad-01e751ed839a",
   "metadata": {},
   "outputs": [
    {
     "data": {
      "text/html": [
       "<div>\n",
       "<style scoped>\n",
       "    .dataframe tbody tr th:only-of-type {\n",
       "        vertical-align: middle;\n",
       "    }\n",
       "\n",
       "    .dataframe tbody tr th {\n",
       "        vertical-align: top;\n",
       "    }\n",
       "\n",
       "    .dataframe thead th {\n",
       "        text-align: right;\n",
       "    }\n",
       "</style>\n",
       "<table border=\"1\" class=\"dataframe\">\n",
       "  <thead>\n",
       "    <tr style=\"text-align: right;\">\n",
       "      <th></th>\n",
       "      <th>Predicted_Class</th>\n",
       "      <th>Raw_Distance</th>\n",
       "    </tr>\n",
       "  </thead>\n",
       "  <tbody>\n",
       "    <tr>\n",
       "      <th>0</th>\n",
       "      <td>tired</td>\n",
       "      <td>18762.765544</td>\n",
       "    </tr>\n",
       "    <tr>\n",
       "      <th>1</th>\n",
       "      <td>tired</td>\n",
       "      <td>19050.995268</td>\n",
       "    </tr>\n",
       "    <tr>\n",
       "      <th>4</th>\n",
       "      <td>tired</td>\n",
       "      <td>19315.015702</td>\n",
       "    </tr>\n",
       "    <tr>\n",
       "      <th>6</th>\n",
       "      <td>hungry</td>\n",
       "      <td>14441.563902</td>\n",
       "    </tr>\n",
       "    <tr>\n",
       "      <th>7</th>\n",
       "      <td>tired</td>\n",
       "      <td>15945.209625</td>\n",
       "    </tr>\n",
       "    <tr>\n",
       "      <th>...</th>\n",
       "      <td>...</td>\n",
       "      <td>...</td>\n",
       "    </tr>\n",
       "    <tr>\n",
       "      <th>18185</th>\n",
       "      <td>tired</td>\n",
       "      <td>18938.816106</td>\n",
       "    </tr>\n",
       "    <tr>\n",
       "      <th>18186</th>\n",
       "      <td>bellypain</td>\n",
       "      <td>18351.961166</td>\n",
       "    </tr>\n",
       "    <tr>\n",
       "      <th>18187</th>\n",
       "      <td>bellypain</td>\n",
       "      <td>18069.502765</td>\n",
       "    </tr>\n",
       "    <tr>\n",
       "      <th>18188</th>\n",
       "      <td>bellypain</td>\n",
       "      <td>19143.633368</td>\n",
       "    </tr>\n",
       "    <tr>\n",
       "      <th>18189</th>\n",
       "      <td>tired</td>\n",
       "      <td>12380.179494</td>\n",
       "    </tr>\n",
       "  </tbody>\n",
       "</table>\n",
       "<p>13766 rows × 2 columns</p>\n",
       "</div>"
      ],
      "text/plain": [
       "      Predicted_Class  Raw_Distance\n",
       "0               tired  18762.765544\n",
       "1               tired  19050.995268\n",
       "4               tired  19315.015702\n",
       "6              hungry  14441.563902\n",
       "7               tired  15945.209625\n",
       "...               ...           ...\n",
       "18185           tired  18938.816106\n",
       "18186       bellypain  18351.961166\n",
       "18187       bellypain  18069.502765\n",
       "18188       bellypain  19143.633368\n",
       "18189           tired  12380.179494\n",
       "\n",
       "[13766 rows x 2 columns]"
      ]
     },
     "execution_count": 35,
     "metadata": {},
     "output_type": "execute_result"
    }
   ],
   "source": [
    "outlier_excluded"
   ]
  },
  {
   "cell_type": "code",
   "execution_count": 36,
   "id": "1b97ff13-ee4f-4d0a-a730-33045b73976f",
   "metadata": {},
   "outputs": [],
   "source": [
    "MIN_DISTANCE = 2133\n",
    "MAX_DISTANCE = 20000\n",
    "\n",
    "normalized_dist = [(MAX_DISTANCE - d) / (MAX_DISTANCE - MIN_DISTANCE) for d in outlier_excluded['Raw_Distance']]\n",
    "\n",
    "df_pred = pd.DataFrame({\n",
    "    'Predicted_Class': outlier_excluded['Predicted_Class'],\n",
    "    'Normalized_Distance': normalized_dist\n",
    "})"
   ]
  },
  {
   "cell_type": "code",
   "execution_count": 37,
   "id": "4a54b32c-57de-40f4-8035-54d44b5e662f",
   "metadata": {},
   "outputs": [
    {
     "data": {
      "text/html": [
       "<div>\n",
       "<style scoped>\n",
       "    .dataframe tbody tr th:only-of-type {\n",
       "        vertical-align: middle;\n",
       "    }\n",
       "\n",
       "    .dataframe tbody tr th {\n",
       "        vertical-align: top;\n",
       "    }\n",
       "\n",
       "    .dataframe thead th {\n",
       "        text-align: right;\n",
       "    }\n",
       "</style>\n",
       "<table border=\"1\" class=\"dataframe\">\n",
       "  <thead>\n",
       "    <tr style=\"text-align: right;\">\n",
       "      <th></th>\n",
       "      <th>Predicted_Class</th>\n",
       "      <th>Normalized_Distance</th>\n",
       "    </tr>\n",
       "  </thead>\n",
       "  <tbody>\n",
       "    <tr>\n",
       "      <th>0</th>\n",
       "      <td>tired</td>\n",
       "      <td>0.069247</td>\n",
       "    </tr>\n",
       "    <tr>\n",
       "      <th>1</th>\n",
       "      <td>tired</td>\n",
       "      <td>0.053115</td>\n",
       "    </tr>\n",
       "    <tr>\n",
       "      <th>4</th>\n",
       "      <td>tired</td>\n",
       "      <td>0.038338</td>\n",
       "    </tr>\n",
       "    <tr>\n",
       "      <th>6</th>\n",
       "      <td>hungry</td>\n",
       "      <td>0.311101</td>\n",
       "    </tr>\n",
       "    <tr>\n",
       "      <th>7</th>\n",
       "      <td>tired</td>\n",
       "      <td>0.226943</td>\n",
       "    </tr>\n",
       "    <tr>\n",
       "      <th>...</th>\n",
       "      <td>...</td>\n",
       "      <td>...</td>\n",
       "    </tr>\n",
       "    <tr>\n",
       "      <th>18185</th>\n",
       "      <td>tired</td>\n",
       "      <td>0.059394</td>\n",
       "    </tr>\n",
       "    <tr>\n",
       "      <th>18186</th>\n",
       "      <td>bellypain</td>\n",
       "      <td>0.092239</td>\n",
       "    </tr>\n",
       "    <tr>\n",
       "      <th>18187</th>\n",
       "      <td>bellypain</td>\n",
       "      <td>0.108048</td>\n",
       "    </tr>\n",
       "    <tr>\n",
       "      <th>18188</th>\n",
       "      <td>bellypain</td>\n",
       "      <td>0.047930</td>\n",
       "    </tr>\n",
       "    <tr>\n",
       "      <th>18189</th>\n",
       "      <td>tired</td>\n",
       "      <td>0.426475</td>\n",
       "    </tr>\n",
       "  </tbody>\n",
       "</table>\n",
       "<p>13766 rows × 2 columns</p>\n",
       "</div>"
      ],
      "text/plain": [
       "      Predicted_Class  Normalized_Distance\n",
       "0               tired             0.069247\n",
       "1               tired             0.053115\n",
       "4               tired             0.038338\n",
       "6              hungry             0.311101\n",
       "7               tired             0.226943\n",
       "...               ...                  ...\n",
       "18185           tired             0.059394\n",
       "18186       bellypain             0.092239\n",
       "18187       bellypain             0.108048\n",
       "18188       bellypain             0.047930\n",
       "18189           tired             0.426475\n",
       "\n",
       "[13766 rows x 2 columns]"
      ]
     },
     "execution_count": 37,
     "metadata": {},
     "output_type": "execute_result"
    }
   ],
   "source": [
    "df_pred"
   ]
  },
  {
   "cell_type": "code",
   "execution_count": 38,
   "id": "c694afb9-f5eb-4b1c-aaa4-2c1336f55a90",
   "metadata": {},
   "outputs": [
    {
     "data": {
      "text/html": [
       "<div>\n",
       "<style scoped>\n",
       "    .dataframe tbody tr th:only-of-type {\n",
       "        vertical-align: middle;\n",
       "    }\n",
       "\n",
       "    .dataframe tbody tr th {\n",
       "        vertical-align: top;\n",
       "    }\n",
       "\n",
       "    .dataframe thead th {\n",
       "        text-align: right;\n",
       "    }\n",
       "</style>\n",
       "<table border=\"1\" class=\"dataframe\">\n",
       "  <thead>\n",
       "    <tr style=\"text-align: right;\">\n",
       "      <th></th>\n",
       "      <th>Normalized_Distance</th>\n",
       "    </tr>\n",
       "  </thead>\n",
       "  <tbody>\n",
       "    <tr>\n",
       "      <th>count</th>\n",
       "      <td>13766.000000</td>\n",
       "    </tr>\n",
       "    <tr>\n",
       "      <th>mean</th>\n",
       "      <td>0.421116</td>\n",
       "    </tr>\n",
       "    <tr>\n",
       "      <th>std</th>\n",
       "      <td>0.227752</td>\n",
       "    </tr>\n",
       "    <tr>\n",
       "      <th>min</th>\n",
       "      <td>0.000019</td>\n",
       "    </tr>\n",
       "    <tr>\n",
       "      <th>25%</th>\n",
       "      <td>0.249966</td>\n",
       "    </tr>\n",
       "    <tr>\n",
       "      <th>50%</th>\n",
       "      <td>0.409847</td>\n",
       "    </tr>\n",
       "    <tr>\n",
       "      <th>75%</th>\n",
       "      <td>0.572330</td>\n",
       "    </tr>\n",
       "    <tr>\n",
       "      <th>max</th>\n",
       "      <td>0.999985</td>\n",
       "    </tr>\n",
       "  </tbody>\n",
       "</table>\n",
       "</div>"
      ],
      "text/plain": [
       "       Normalized_Distance\n",
       "count         13766.000000\n",
       "mean              0.421116\n",
       "std               0.227752\n",
       "min               0.000019\n",
       "25%               0.249966\n",
       "50%               0.409847\n",
       "75%               0.572330\n",
       "max               0.999985"
      ]
     },
     "execution_count": 38,
     "metadata": {},
     "output_type": "execute_result"
    }
   ],
   "source": [
    "df_pred.describe()"
   ]
  },
  {
   "cell_type": "code",
   "execution_count": 47,
   "id": "c158507c-ba00-4cde-b73f-698d4a3a4a58",
   "metadata": {},
   "outputs": [
    {
     "data": {
      "text/plain": [
       "Predicted_Class\n",
       "tired        243\n",
       "bellypain     40\n",
       "burp           1\n",
       "Name: count, dtype: int64"
      ]
     },
     "execution_count": 47,
     "metadata": {},
     "output_type": "execute_result"
    }
   ],
   "source": [
    "cond = df_pred['Normalized_Distance'] > 0.90\n",
    "df_pred[cond]['Predicted_Class'].value_counts()"
   ]
  },
  {
   "cell_type": "code",
   "execution_count": 48,
   "id": "ab19136c-9136-4239-9e8a-7913d8956827",
   "metadata": {},
   "outputs": [
    {
     "data": {
      "text/plain": [
       "Index(['Predicted_Class', 'Raw_Distance'], dtype='object')"
      ]
     },
     "execution_count": 48,
     "metadata": {},
     "output_type": "execute_result"
    }
   ],
   "source": [
    "df_predictions.columns"
   ]
  },
  {
   "cell_type": "code",
   "execution_count": 50,
   "id": "f1b63a07-b907-491b-bd35-dd83e79cf457",
   "metadata": {},
   "outputs": [
    {
     "data": {
      "text/html": [
       "<div>\n",
       "<style scoped>\n",
       "    .dataframe tbody tr th:only-of-type {\n",
       "        vertical-align: middle;\n",
       "    }\n",
       "\n",
       "    .dataframe tbody tr th {\n",
       "        vertical-align: top;\n",
       "    }\n",
       "\n",
       "    .dataframe thead th {\n",
       "        text-align: right;\n",
       "    }\n",
       "</style>\n",
       "<table border=\"1\" class=\"dataframe\">\n",
       "  <thead>\n",
       "    <tr style=\"text-align: right;\">\n",
       "      <th></th>\n",
       "      <th>pred_class_dtw</th>\n",
       "      <th>raw_dist_dtw</th>\n",
       "    </tr>\n",
       "  </thead>\n",
       "  <tbody>\n",
       "    <tr>\n",
       "      <th>0</th>\n",
       "      <td>tired</td>\n",
       "      <td>18762.765544</td>\n",
       "    </tr>\n",
       "    <tr>\n",
       "      <th>1</th>\n",
       "      <td>tired</td>\n",
       "      <td>19050.995268</td>\n",
       "    </tr>\n",
       "    <tr>\n",
       "      <th>2</th>\n",
       "      <td>tired</td>\n",
       "      <td>24339.702591</td>\n",
       "    </tr>\n",
       "    <tr>\n",
       "      <th>3</th>\n",
       "      <td>tired</td>\n",
       "      <td>36375.280190</td>\n",
       "    </tr>\n",
       "    <tr>\n",
       "      <th>4</th>\n",
       "      <td>tired</td>\n",
       "      <td>19315.015702</td>\n",
       "    </tr>\n",
       "    <tr>\n",
       "      <th>...</th>\n",
       "      <td>...</td>\n",
       "      <td>...</td>\n",
       "    </tr>\n",
       "    <tr>\n",
       "      <th>18185</th>\n",
       "      <td>tired</td>\n",
       "      <td>18938.816106</td>\n",
       "    </tr>\n",
       "    <tr>\n",
       "      <th>18186</th>\n",
       "      <td>bellypain</td>\n",
       "      <td>18351.961166</td>\n",
       "    </tr>\n",
       "    <tr>\n",
       "      <th>18187</th>\n",
       "      <td>bellypain</td>\n",
       "      <td>18069.502765</td>\n",
       "    </tr>\n",
       "    <tr>\n",
       "      <th>18188</th>\n",
       "      <td>bellypain</td>\n",
       "      <td>19143.633368</td>\n",
       "    </tr>\n",
       "    <tr>\n",
       "      <th>18189</th>\n",
       "      <td>tired</td>\n",
       "      <td>12380.179494</td>\n",
       "    </tr>\n",
       "  </tbody>\n",
       "</table>\n",
       "<p>18190 rows × 2 columns</p>\n",
       "</div>"
      ],
      "text/plain": [
       "      pred_class_dtw  raw_dist_dtw\n",
       "0              tired  18762.765544\n",
       "1              tired  19050.995268\n",
       "2              tired  24339.702591\n",
       "3              tired  36375.280190\n",
       "4              tired  19315.015702\n",
       "...              ...           ...\n",
       "18185          tired  18938.816106\n",
       "18186      bellypain  18351.961166\n",
       "18187      bellypain  18069.502765\n",
       "18188      bellypain  19143.633368\n",
       "18189          tired  12380.179494\n",
       "\n",
       "[18190 rows x 2 columns]"
      ]
     },
     "execution_count": 50,
     "metadata": {},
     "output_type": "execute_result"
    }
   ],
   "source": [
    "df_predictions.rename(columns = {'Predicted_Class': 'pred_class_dtw',\n",
    "                               'Raw_Distance': 'raw_dist_dtw'})"
   ]
  },
  {
   "cell_type": "code",
   "execution_count": 52,
   "id": "a6ffbe1b-6960-4cc1-9661-37bde0b82f4e",
   "metadata": {},
   "outputs": [],
   "source": [
    "df_predictions.to_csv(os.path.join('C:./', 'dtw_sim.csv'))"
   ]
  },
  {
   "cell_type": "code",
   "execution_count": null,
   "id": "4abd6d40-b644-4128-9f79-e17f58480f63",
   "metadata": {},
   "outputs": [],
   "source": []
  }
 ],
 "metadata": {
  "kernelspec": {
   "display_name": "Python 3 (ipykernel)",
   "language": "python",
   "name": "python3"
  },
  "language_info": {
   "codemirror_mode": {
    "name": "ipython",
    "version": 3
   },
   "file_extension": ".py",
   "mimetype": "text/x-python",
   "name": "python",
   "nbconvert_exporter": "python",
   "pygments_lexer": "ipython3",
   "version": "3.10.11"
  }
 },
 "nbformat": 4,
 "nbformat_minor": 5
}
