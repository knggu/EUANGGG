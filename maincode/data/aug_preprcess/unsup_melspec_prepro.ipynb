{
 "cells": [
  {
   "cell_type": "code",
   "execution_count": 1,
   "id": "79250788-a7ad-473f-9151-9abf2790c6fe",
   "metadata": {},
   "outputs": [],
   "source": [
    "import numpy as np\n",
    "import pandas as pd\n",
    "import glob\n",
    "import os\n",
    "import matplotlib.pyplot as plt\n",
    "import librosa"
   ]
  },
  {
   "cell_type": "code",
   "execution_count": 2,
   "id": "4532936a-b7af-471d-b49b-ab70f1837de3",
   "metadata": {},
   "outputs": [
    {
     "data": {
      "text/plain": [
       "True"
      ]
     },
     "execution_count": 2,
     "metadata": {},
     "output_type": "execute_result"
    }
   ],
   "source": [
    "data_dir = r'C:../dataset/audioonly/unsupervised'\n",
    "os.path.exists(data_dir)"
   ]
  },
  {
   "cell_type": "code",
   "execution_count": 3,
   "id": "ba6d9999-7625-4e0e-8b3e-62701c2926c5",
   "metadata": {},
   "outputs": [
    {
     "data": {
      "text/plain": [
       "1522"
      ]
     },
     "execution_count": 3,
     "metadata": {},
     "output_type": "execute_result"
    }
   ],
   "source": [
    "audio_path = glob.glob(os.path.join(data_dir, '*.wav'))\n",
    "len(audio_path)"
   ]
  },
  {
   "cell_type": "code",
   "execution_count": 4,
   "id": "ad93c8dc-2100-4e51-b37e-d444799efd5a",
   "metadata": {},
   "outputs": [],
   "source": [
    "mel_spec = []\n",
    "\n",
    "for path in audio_path:\n",
    "    audio, srate = librosa.load(path, sr=16000, duration=5.0)\n",
    "    ml_spc = librosa.feature.melspectrogram(y=audio, sr=srate)\n",
    "    mel_spec.append(ml_spc)"
   ]
  },
  {
   "cell_type": "code",
   "execution_count": 5,
   "id": "00befe2b-501c-49d1-89b6-f86c6cd7fcdf",
   "metadata": {},
   "outputs": [
    {
     "data": {
      "text/plain": [
       "Counter({(128, 157): 1341,\n",
       "         (128, 134): 7,\n",
       "         (128, 98): 6,\n",
       "         (128, 107): 5,\n",
       "         (128, 128): 5,\n",
       "         (128, 118): 5,\n",
       "         (128, 112): 5,\n",
       "         (128, 151): 5,\n",
       "         (128, 117): 4,\n",
       "         (128, 104): 4,\n",
       "         (128, 144): 4,\n",
       "         (128, 115): 4,\n",
       "         (128, 109): 4,\n",
       "         (128, 108): 4,\n",
       "         (128, 119): 3,\n",
       "         (128, 42): 3,\n",
       "         (128, 72): 3,\n",
       "         (128, 147): 3,\n",
       "         (128, 84): 3,\n",
       "         (128, 92): 3,\n",
       "         (128, 111): 3,\n",
       "         (128, 131): 3,\n",
       "         (128, 136): 3,\n",
       "         (128, 101): 3,\n",
       "         (128, 103): 3,\n",
       "         (128, 132): 2,\n",
       "         (128, 41): 2,\n",
       "         (128, 38): 2,\n",
       "         (128, 70): 2,\n",
       "         (128, 133): 2,\n",
       "         (128, 86): 2,\n",
       "         (128, 36): 2,\n",
       "         (128, 126): 2,\n",
       "         (128, 149): 2,\n",
       "         (128, 142): 2,\n",
       "         (128, 94): 2,\n",
       "         (128, 155): 2,\n",
       "         (128, 148): 2,\n",
       "         (128, 130): 2,\n",
       "         (128, 140): 2,\n",
       "         (128, 96): 2,\n",
       "         (128, 91): 2,\n",
       "         (128, 88): 2,\n",
       "         (128, 69): 2,\n",
       "         (128, 59): 2,\n",
       "         (128, 93): 2,\n",
       "         (128, 152): 2,\n",
       "         (128, 90): 2,\n",
       "         (128, 50): 1,\n",
       "         (128, 34): 1,\n",
       "         (128, 51): 1,\n",
       "         (128, 60): 1,\n",
       "         (128, 45): 1,\n",
       "         (128, 39): 1,\n",
       "         (128, 68): 1,\n",
       "         (128, 154): 1,\n",
       "         (128, 145): 1,\n",
       "         (128, 100): 1,\n",
       "         (128, 110): 1,\n",
       "         (128, 122): 1,\n",
       "         (128, 102): 1,\n",
       "         (128, 105): 1,\n",
       "         (128, 139): 1,\n",
       "         (128, 30): 1,\n",
       "         (128, 27): 1,\n",
       "         (128, 124): 1,\n",
       "         (128, 31): 1,\n",
       "         (128, 106): 1,\n",
       "         (128, 135): 1,\n",
       "         (128, 89): 1,\n",
       "         (128, 74): 1,\n",
       "         (128, 95): 1,\n",
       "         (128, 58): 1,\n",
       "         (128, 143): 1,\n",
       "         (128, 57): 1,\n",
       "         (128, 61): 1,\n",
       "         (128, 99): 1,\n",
       "         (128, 54): 1,\n",
       "         (128, 125): 1,\n",
       "         (128, 153): 1,\n",
       "         (128, 150): 1,\n",
       "         (128, 71): 1,\n",
       "         (128, 123): 1,\n",
       "         (128, 87): 1,\n",
       "         (128, 114): 1,\n",
       "         (128, 138): 1,\n",
       "         (128, 127): 1,\n",
       "         (128, 32): 1})"
      ]
     },
     "execution_count": 5,
     "metadata": {},
     "output_type": "execute_result"
    }
   ],
   "source": [
    "import collections\n",
    "\n",
    "shapes = [arr.shape for arr in mel_spec]\n",
    "shape_count = collections.Counter(shapes)\n",
    "shape_count"
   ]
  },
  {
   "cell_type": "code",
   "execution_count": 6,
   "id": "fac338ed-0baa-45e6-b362-b7ba466379b4",
   "metadata": {},
   "outputs": [
    {
     "name": "stdout",
     "output_type": "stream",
     "text": [
      "100 104.5\n"
     ]
    }
   ],
   "source": [
    "import statistics\n",
    "init_val = 0\n",
    "temp = []\n",
    "\n",
    "for key in shape_count.keys():\n",
    "    h, w = key\n",
    "    init_val += w\n",
    "    temp.append(w)\n",
    "\n",
    "avg_w = init_val // len(shape_count.keys())\n",
    "median_w = statistics.median(temp)\n",
    "\n",
    "print(avg_w, median_w)"
   ]
  },
  {
   "cell_type": "code",
   "execution_count": 7,
   "id": "00a3f72f-dca6-4089-8542-f5f4cb575703",
   "metadata": {},
   "outputs": [],
   "source": [
    "mel_spec_re = []\n",
    "\n",
    "for arr in mel_spec:\n",
    "    h, w = arr.shape\n",
    "    if w > avg_w:\n",
    "        mel_spec_re.append(arr)"
   ]
  },
  {
   "cell_type": "code",
   "execution_count": 8,
   "id": "67599d78-249c-4d00-9b5b-4b608c3fc0de",
   "metadata": {},
   "outputs": [
    {
     "data": {
      "text/plain": [
       "1456"
      ]
     },
     "execution_count": 8,
     "metadata": {},
     "output_type": "execute_result"
    }
   ],
   "source": [
    "len(mel_spec_re)"
   ]
  },
  {
   "cell_type": "code",
   "execution_count": 9,
   "id": "14496f84-5786-4771-a9e3-7b35c19260cc",
   "metadata": {},
   "outputs": [],
   "source": [
    "reshaped = []\n",
    "\n",
    "for mspc in mel_spec_re:\n",
    "    h, w = mspc.shape\n",
    "    \n",
    "    if w < h:\n",
    "        left_width = (h - w) // 2\n",
    "        pad_remainder = (h - w) % 2\n",
    "        padded = np.pad(mspc, pad_width = ((0, 0), (left_width, left_width + pad_remainder)), mode = 'constant', constant_values=0)\n",
    "        reshaped.append(padded)\n",
    "    else:\n",
    "        trunc_mspc = mspc[:, :h]\n",
    "        reshaped.append(trunc_mspc)"
   ]
  },
  {
   "cell_type": "code",
   "execution_count": 10,
   "id": "9644007e-7bd6-4a00-a486-fc6e55058581",
   "metadata": {},
   "outputs": [
    {
     "data": {
      "text/plain": [
       "Counter({(128, 128): 1456})"
      ]
     },
     "execution_count": 10,
     "metadata": {},
     "output_type": "execute_result"
    }
   ],
   "source": [
    "shapes_re = [arr.shape for arr in reshaped]\n",
    "shapes_count_re = collections.Counter(shapes_re)\n",
    "shapes_count_re"
   ]
  },
  {
   "cell_type": "code",
   "execution_count": 11,
   "id": "00d0fe80-d1f7-4161-a2a8-3c566eb71878",
   "metadata": {},
   "outputs": [
    {
     "data": {
      "text/plain": [
       "(1456, 128, 128)"
      ]
     },
     "execution_count": 11,
     "metadata": {},
     "output_type": "execute_result"
    }
   ],
   "source": [
    "train = np.array(reshaped)\n",
    "train.shape"
   ]
  },
  {
   "cell_type": "code",
   "execution_count": null,
   "id": "cc776ccb-24e8-4718-bd55-dce301202e0a",
   "metadata": {},
   "outputs": [],
   "source": []
  }
 ],
 "metadata": {
  "kernelspec": {
   "display_name": "Python 3 (ipykernel)",
   "language": "python",
   "name": "python3"
  },
  "language_info": {
   "codemirror_mode": {
    "name": "ipython",
    "version": 3
   },
   "file_extension": ".py",
   "mimetype": "text/x-python",
   "name": "python",
   "nbconvert_exporter": "python",
   "pygments_lexer": "ipython3",
   "version": "3.10.11"
  }
 },
 "nbformat": 4,
 "nbformat_minor": 5
}
