{
 "cells": [
  {
   "cell_type": "code",
   "execution_count": 1,
   "id": "95fd610c-94aa-4519-a69b-346edc13020c",
   "metadata": {},
   "outputs": [],
   "source": [
    "import numpy as np\n",
    "import pandas as pd\n",
    "import glob\n",
    "import os\n",
    "import matplotlib.pyplot as plt\n",
    "import librosa\n",
    "from IPython.display import Audio"
   ]
  },
  {
   "cell_type": "markdown",
   "id": "980ffb6b-0a08-446d-87fe-f9da8ec1c852",
   "metadata": {},
   "source": [
    "## **AudioSet 데이터 다운로드**"
   ]
  },
  {
   "cell_type": "code",
   "execution_count": 2,
   "id": "84584971-3332-421e-83eb-3f62564be1f6",
   "metadata": {},
   "outputs": [
    {
     "data": {
      "text/html": [
       "<div>\n",
       "<style scoped>\n",
       "    .dataframe tbody tr th:only-of-type {\n",
       "        vertical-align: middle;\n",
       "    }\n",
       "\n",
       "    .dataframe tbody tr th {\n",
       "        vertical-align: top;\n",
       "    }\n",
       "\n",
       "    .dataframe thead th {\n",
       "        text-align: right;\n",
       "    }\n",
       "</style>\n",
       "<table border=\"1\" class=\"dataframe\">\n",
       "  <thead>\n",
       "    <tr style=\"text-align: right;\">\n",
       "      <th></th>\n",
       "      <th>링크</th>\n",
       "    </tr>\n",
       "  </thead>\n",
       "  <tbody>\n",
       "    <tr>\n",
       "      <th>0</th>\n",
       "      <td>https://www.youtube.com/watch?v=-7uZTWVNI4s&amp;t=30s</td>\n",
       "    </tr>\n",
       "    <tr>\n",
       "      <th>1</th>\n",
       "      <td>https://www.youtube.com/watch?v=-OIY3tRRGwg&amp;t=25s</td>\n",
       "    </tr>\n",
       "    <tr>\n",
       "      <th>2</th>\n",
       "      <td>https://www.youtube.com/watch?v=-bnjqdi3nDE&amp;t=...</td>\n",
       "    </tr>\n",
       "    <tr>\n",
       "      <th>3</th>\n",
       "      <td>https://www.youtube.com/watch?v=-gk3LALyrZg&amp;t=50s</td>\n",
       "    </tr>\n",
       "    <tr>\n",
       "      <th>4</th>\n",
       "      <td>https://www.youtube.com/watch?v=-hX3Fvy1ndY&amp;t=23s</td>\n",
       "    </tr>\n",
       "    <tr>\n",
       "      <th>5</th>\n",
       "      <td>https://www.youtube.com/watch?v=03Hgkn0DIA8&amp;t=39s</td>\n",
       "    </tr>\n",
       "    <tr>\n",
       "      <th>6</th>\n",
       "      <td>https://www.youtube.com/watch?v=07m3-FOJQ-Q</td>\n",
       "    </tr>\n",
       "    <tr>\n",
       "      <th>7</th>\n",
       "      <td>https://www.youtube.com/watch?v=0lq5Oey7ChY</td>\n",
       "    </tr>\n",
       "    <tr>\n",
       "      <th>8</th>\n",
       "      <td>https://www.youtube.com/watch?v=1MMh5GpXplE</td>\n",
       "    </tr>\n",
       "    <tr>\n",
       "      <th>9</th>\n",
       "      <td>https://www.youtube.com/watch?v=1iNLeP-lOK8</td>\n",
       "    </tr>\n",
       "    <tr>\n",
       "      <th>10</th>\n",
       "      <td>https://www.youtube.com/watch?v=1ipyPEo9jus</td>\n",
       "    </tr>\n",
       "    <tr>\n",
       "      <th>11</th>\n",
       "      <td>https://www.youtube.com/watch?v=2AxAYXhrLGg</td>\n",
       "    </tr>\n",
       "    <tr>\n",
       "      <th>12</th>\n",
       "      <td>https://www.youtube.com/watch?v=2IYt8ZVZoQ8</td>\n",
       "    </tr>\n",
       "    <tr>\n",
       "      <th>13</th>\n",
       "      <td>https://www.youtube.com/watch?v=2Rq2cR19NSs</td>\n",
       "    </tr>\n",
       "    <tr>\n",
       "      <th>14</th>\n",
       "      <td>https://www.youtube.com/watch?v=2YRktz9U1EQ</td>\n",
       "    </tr>\n",
       "    <tr>\n",
       "      <th>15</th>\n",
       "      <td>https://www.youtube.com/watch?v=2YrdbClQARE</td>\n",
       "    </tr>\n",
       "    <tr>\n",
       "      <th>16</th>\n",
       "      <td>https://www.youtube.com/watch?v=2o_oXiLOXpg</td>\n",
       "    </tr>\n",
       "    <tr>\n",
       "      <th>17</th>\n",
       "      <td>https://www.youtube.com/watch?v=3AQFAFy1RCw</td>\n",
       "    </tr>\n",
       "    <tr>\n",
       "      <th>18</th>\n",
       "      <td>https://www.youtube.com/watch?v=3n7sX00cTfc</td>\n",
       "    </tr>\n",
       "    <tr>\n",
       "      <th>19</th>\n",
       "      <td>https://www.youtube.com/watch?v=3qUbjqwGIx8</td>\n",
       "    </tr>\n",
       "    <tr>\n",
       "      <th>20</th>\n",
       "      <td>https://www.youtube.com/watch?v=5IcrCOfRA9s</td>\n",
       "    </tr>\n",
       "    <tr>\n",
       "      <th>21</th>\n",
       "      <td>https://www.youtube.com/watch?v=UhXKXjckLyY</td>\n",
       "    </tr>\n",
       "    <tr>\n",
       "      <th>22</th>\n",
       "      <td>https://www.youtube.com/watch?v=XeqE7ZHdJZg</td>\n",
       "    </tr>\n",
       "    <tr>\n",
       "      <th>23</th>\n",
       "      <td>https://www.youtube.com/watch?v=YUhIbX0xn_E</td>\n",
       "    </tr>\n",
       "    <tr>\n",
       "      <th>24</th>\n",
       "      <td>https://www.youtube.com/watch?v=b0lCe7u0aD4</td>\n",
       "    </tr>\n",
       "    <tr>\n",
       "      <th>25</th>\n",
       "      <td>https://www.youtube.com/watch?v=weAnqreYaHw</td>\n",
       "    </tr>\n",
       "    <tr>\n",
       "      <th>26</th>\n",
       "      <td>https://www.youtube.com/watch?v=xyIcscTWV98</td>\n",
       "    </tr>\n",
       "    <tr>\n",
       "      <th>27</th>\n",
       "      <td>https://www.youtube.com/watch?v=6JGMw5DKD_I</td>\n",
       "    </tr>\n",
       "    <tr>\n",
       "      <th>28</th>\n",
       "      <td>https://www.youtube.com/watch?v=6JlKM9fzocE</td>\n",
       "    </tr>\n",
       "    <tr>\n",
       "      <th>29</th>\n",
       "      <td>https://www.youtube.com/watch?v=6UbLFNbvORg</td>\n",
       "    </tr>\n",
       "    <tr>\n",
       "      <th>30</th>\n",
       "      <td>https://www.youtube.com/watch?v=6oB4wa1DPXE</td>\n",
       "    </tr>\n",
       "    <tr>\n",
       "      <th>31</th>\n",
       "      <td>https://www.youtube.com/watch?v=6wHFhrAqt5Q</td>\n",
       "    </tr>\n",
       "    <tr>\n",
       "      <th>32</th>\n",
       "      <td>https://www.youtube.com/watch?v=74VQWcrpNds</td>\n",
       "    </tr>\n",
       "    <tr>\n",
       "      <th>33</th>\n",
       "      <td>https://www.youtube.com/watch?v=78yrwc9y1ik</td>\n",
       "    </tr>\n",
       "    <tr>\n",
       "      <th>34</th>\n",
       "      <td>https://www.youtube.com/watch?v=8lJhwGR7izQ</td>\n",
       "    </tr>\n",
       "    <tr>\n",
       "      <th>35</th>\n",
       "      <td>https://www.youtube.com/watch?v=912ulwC5d6M</td>\n",
       "    </tr>\n",
       "    <tr>\n",
       "      <th>36</th>\n",
       "      <td>https://www.youtube.com/watch?v=9M_vCW_i00A</td>\n",
       "    </tr>\n",
       "    <tr>\n",
       "      <th>37</th>\n",
       "      <td>https://www.youtube.com/watch?v=CzotiifbywI</td>\n",
       "    </tr>\n",
       "    <tr>\n",
       "      <th>38</th>\n",
       "      <td>https://www.youtube.com/watch?v=GP2KBVBfhmE</td>\n",
       "    </tr>\n",
       "    <tr>\n",
       "      <th>39</th>\n",
       "      <td>https://www.youtube.com/watch?v=HYRcMxRjo30</td>\n",
       "    </tr>\n",
       "    <tr>\n",
       "      <th>40</th>\n",
       "      <td>https://www.youtube.com/watch?v=IZ0T6QBzeco</td>\n",
       "    </tr>\n",
       "  </tbody>\n",
       "</table>\n",
       "</div>"
      ],
      "text/plain": [
       "                                                   링크\n",
       "0   https://www.youtube.com/watch?v=-7uZTWVNI4s&t=30s\n",
       "1   https://www.youtube.com/watch?v=-OIY3tRRGwg&t=25s\n",
       "2   https://www.youtube.com/watch?v=-bnjqdi3nDE&t=...\n",
       "3   https://www.youtube.com/watch?v=-gk3LALyrZg&t=50s\n",
       "4   https://www.youtube.com/watch?v=-hX3Fvy1ndY&t=23s\n",
       "5   https://www.youtube.com/watch?v=03Hgkn0DIA8&t=39s\n",
       "6         https://www.youtube.com/watch?v=07m3-FOJQ-Q\n",
       "7         https://www.youtube.com/watch?v=0lq5Oey7ChY\n",
       "8         https://www.youtube.com/watch?v=1MMh5GpXplE\n",
       "9         https://www.youtube.com/watch?v=1iNLeP-lOK8\n",
       "10        https://www.youtube.com/watch?v=1ipyPEo9jus\n",
       "11        https://www.youtube.com/watch?v=2AxAYXhrLGg\n",
       "12        https://www.youtube.com/watch?v=2IYt8ZVZoQ8\n",
       "13        https://www.youtube.com/watch?v=2Rq2cR19NSs\n",
       "14        https://www.youtube.com/watch?v=2YRktz9U1EQ\n",
       "15        https://www.youtube.com/watch?v=2YrdbClQARE\n",
       "16        https://www.youtube.com/watch?v=2o_oXiLOXpg\n",
       "17        https://www.youtube.com/watch?v=3AQFAFy1RCw\n",
       "18        https://www.youtube.com/watch?v=3n7sX00cTfc\n",
       "19        https://www.youtube.com/watch?v=3qUbjqwGIx8\n",
       "20        https://www.youtube.com/watch?v=5IcrCOfRA9s\n",
       "21        https://www.youtube.com/watch?v=UhXKXjckLyY\n",
       "22        https://www.youtube.com/watch?v=XeqE7ZHdJZg\n",
       "23        https://www.youtube.com/watch?v=YUhIbX0xn_E\n",
       "24        https://www.youtube.com/watch?v=b0lCe7u0aD4\n",
       "25        https://www.youtube.com/watch?v=weAnqreYaHw\n",
       "26        https://www.youtube.com/watch?v=xyIcscTWV98\n",
       "27        https://www.youtube.com/watch?v=6JGMw5DKD_I\n",
       "28        https://www.youtube.com/watch?v=6JlKM9fzocE\n",
       "29        https://www.youtube.com/watch?v=6UbLFNbvORg\n",
       "30        https://www.youtube.com/watch?v=6oB4wa1DPXE\n",
       "31        https://www.youtube.com/watch?v=6wHFhrAqt5Q\n",
       "32        https://www.youtube.com/watch?v=74VQWcrpNds\n",
       "33        https://www.youtube.com/watch?v=78yrwc9y1ik\n",
       "34        https://www.youtube.com/watch?v=8lJhwGR7izQ\n",
       "35        https://www.youtube.com/watch?v=912ulwC5d6M\n",
       "36        https://www.youtube.com/watch?v=9M_vCW_i00A\n",
       "37        https://www.youtube.com/watch?v=CzotiifbywI\n",
       "38        https://www.youtube.com/watch?v=GP2KBVBfhmE\n",
       "39        https://www.youtube.com/watch?v=HYRcMxRjo30\n",
       "40        https://www.youtube.com/watch?v=IZ0T6QBzeco"
      ]
     },
     "execution_count": 2,
     "metadata": {},
     "output_type": "execute_result"
    }
   ],
   "source": [
    "link_df = pd.read_csv('unlab_yt_links.csv')\n",
    "link_df"
   ]
  },
  {
   "cell_type": "code",
   "execution_count": 3,
   "id": "79a57c70-a979-489f-b136-e9a451ecf05d",
   "metadata": {},
   "outputs": [],
   "source": [
    "output_path = \"C:../dataset/download/unlab_audio/mp4\""
   ]
  },
  {
   "cell_type": "code",
   "execution_count": 4,
   "id": "4de73ac6-5927-4fb6-b4e7-15974c5e41ef",
   "metadata": {},
   "outputs": [],
   "source": [
    "from pytube import YouTube\n",
    "\n",
    "def download_video(url, path):\n",
    "    yt = YouTube(url)\n",
    "    stream = yt.streams.filter(only_audio=True).first()\n",
    "    stream.download(output_path=path)"
   ]
  },
  {
   "cell_type": "code",
   "execution_count": 5,
   "id": "6c53facf-d1ec-474d-83f6-7edbf6f6f30c",
   "metadata": {},
   "outputs": [],
   "source": [
    "# for path in link_df['링크']:\n",
    "#     download_video(path, output_path)"
   ]
  },
  {
   "cell_type": "markdown",
   "id": "fac48fe1-25de-4f74-aff0-d8df6db0069b",
   "metadata": {},
   "source": [
    "## **wav 5초씩 끊어내기**"
   ]
  },
  {
   "cell_type": "code",
   "execution_count": 20,
   "id": "aa24b1b9-8ed6-4c64-8bdc-22561ab90de9",
   "metadata": {},
   "outputs": [
    {
     "data": {
      "text/plain": [
       "True"
      ]
     },
     "execution_count": 20,
     "metadata": {},
     "output_type": "execute_result"
    }
   ],
   "source": [
    "convert_path = \"C:../dataset/download/unlab_audio/wav\"\n",
    "os.path.exists(convert_path)"
   ]
  },
  {
   "cell_type": "code",
   "execution_count": 21,
   "id": "491e7261-5c21-4a92-8c74-5d9f2a172a74",
   "metadata": {},
   "outputs": [
    {
     "data": {
      "text/plain": [
       "40"
      ]
     },
     "execution_count": 21,
     "metadata": {},
     "output_type": "execute_result"
    }
   ],
   "source": [
    "aud_path = glob.glob(os.path.join(convert_path, '*.wav'))\n",
    "len(aud_path)"
   ]
  },
  {
   "cell_type": "code",
   "execution_count": 16,
   "id": "1dd92f68-5cad-4fba-ba77-6afcaa36a269",
   "metadata": {},
   "outputs": [],
   "source": [
    "target_path = \"C:../dataset/download/unlab_audio/split_aud\""
   ]
  },
  {
   "cell_type": "code",
   "execution_count": 22,
   "id": "54b39cea-8a4d-4254-bb47-4e3e1d21fc57",
   "metadata": {},
   "outputs": [
    {
     "data": {
      "text/plain": [
       "40"
      ]
     },
     "execution_count": 22,
     "metadata": {},
     "output_type": "execute_result"
    }
   ],
   "source": [
    "audio_ld = [AudioSegment.from_file(path) for path in aud_path]\n",
    "len(audio_ld)"
   ]
  },
  {
   "cell_type": "code",
   "execution_count": 24,
   "id": "bae0dad6-aae1-4173-b013-94e80b90f0bf",
   "metadata": {},
   "outputs": [],
   "source": [
    "# Define the length of each segment in milliseconds\n",
    "segment_length_ms = 5000 \n",
    "\n",
    "# Iterate over each audio segment in your list\n",
    "for idx, audio in enumerate(audio_ld):\n",
    "    # Split each audio into segments\n",
    "    for i in range(0, len(audio), segment_length_ms):\n",
    "        segment = audio[i:i + segment_length_ms]\n",
    "        segment.export(os.path.join(target_path, f\"audio_{idx}_segment_{i//segment_length_ms}.wav\"), format=\"wav\")"
   ]
  },
  {
   "cell_type": "code",
   "execution_count": 26,
   "id": "597b25d6-ce56-4689-aec1-149f3c81e215",
   "metadata": {},
   "outputs": [
    {
     "data": {
      "text/plain": [
       "500"
      ]
     },
     "execution_count": 26,
     "metadata": {},
     "output_type": "execute_result"
    }
   ],
   "source": [
    "chunk_path = glob.glob(os.path.join(target_path, '*.wav'))\n",
    "len(chunk_path)"
   ]
  },
  {
   "cell_type": "code",
   "execution_count": 27,
   "id": "6ea0a3f0-8537-400b-9ef5-74c43aa99e25",
   "metadata": {},
   "outputs": [
    {
     "data": {
      "text/plain": [
       "True"
      ]
     },
     "execution_count": 27,
     "metadata": {},
     "output_type": "execute_result"
    }
   ],
   "source": [
    "unsup_path = \"C:../dataset/audioonly/unsupervised\"\n",
    "os.path.exists(unsup_path)"
   ]
  },
  {
   "cell_type": "code",
   "execution_count": 28,
   "id": "23842518-b979-45a9-aea1-9f2381cc4744",
   "metadata": {},
   "outputs": [
    {
     "data": {
      "text/plain": [
       "1222"
      ]
     },
     "execution_count": 28,
     "metadata": {},
     "output_type": "execute_result"
    }
   ],
   "source": [
    "unsub_audio = glob.glob(os.path.join(unsup_path, '*.wav'))\n",
    "len(unsub_audio)"
   ]
  },
  {
   "cell_type": "markdown",
   "id": "a3b86d81-0ade-48f2-b4a7-fe29294beebd",
   "metadata": {},
   "source": [
    "## **hugging face** 데이터 가져오기"
   ]
  },
  {
   "cell_type": "code",
   "execution_count": 29,
   "id": "617f61af-67bf-480a-b24f-64082a440834",
   "metadata": {},
   "outputs": [
    {
     "data": {
      "text/plain": [
       "True"
      ]
     },
     "execution_count": 29,
     "metadata": {},
     "output_type": "execute_result"
    }
   ],
   "source": [
    "hug_path = \"C:../dataset/audioonly/unlabeled/raw_looped\"\n",
    "os.path.exists(hug_path)"
   ]
  },
  {
   "cell_type": "code",
   "execution_count": 30,
   "id": "563d5d31-14b0-4222-b2d7-ab456b641308",
   "metadata": {},
   "outputs": [
    {
     "data": {
      "text/plain": [
       "300"
      ]
     },
     "execution_count": 30,
     "metadata": {},
     "output_type": "execute_result"
    }
   ],
   "source": [
    "hug_audio = glob.glob(os.path.join(hug_path, '*.wav'))[:300]\n",
    "len(hug_audio)"
   ]
  },
  {
   "cell_type": "code",
   "execution_count": 32,
   "id": "4bb5d6be-b937-40c5-b161-da0c2861fc2d",
   "metadata": {},
   "outputs": [],
   "source": [
    "for idx, path in enumerate(hug_audio):\n",
    "    audio = AudioSegment.from_file(path)\n",
    "    audio.export(os.path.join(unsup_path, f'rawlooped_hug_{idx}.wav'), format=\"wav\")"
   ]
  },
  {
   "cell_type": "code",
   "execution_count": 33,
   "id": "8de854d6-15bf-45ff-8b18-df864afa6904",
   "metadata": {},
   "outputs": [
    {
     "data": {
      "text/plain": [
       "1522"
      ]
     },
     "execution_count": 33,
     "metadata": {},
     "output_type": "execute_result"
    }
   ],
   "source": [
    "unsub_audio = glob.glob(os.path.join(unsup_path, '*.wav'))\n",
    "len(unsub_audio)"
   ]
  },
  {
   "cell_type": "code",
   "execution_count": null,
   "id": "400934f5-0820-4db0-ae94-64f57ad8a8bb",
   "metadata": {},
   "outputs": [],
   "source": []
  }
 ],
 "metadata": {
  "kernelspec": {
   "display_name": "Python 3 (ipykernel)",
   "language": "python",
   "name": "python3"
  },
  "language_info": {
   "codemirror_mode": {
    "name": "ipython",
    "version": 3
   },
   "file_extension": ".py",
   "mimetype": "text/x-python",
   "name": "python",
   "nbconvert_exporter": "python",
   "pygments_lexer": "ipython3",
   "version": "3.10.11"
  }
 },
 "nbformat": 4,
 "nbformat_minor": 5
}
