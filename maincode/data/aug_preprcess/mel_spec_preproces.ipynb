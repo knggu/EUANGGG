{
 "cells": [
  {
   "cell_type": "code",
   "execution_count": 1,
   "id": "f61ac6ac-529e-49ea-81cb-c3c9047e5b5e",
   "metadata": {},
   "outputs": [],
   "source": [
    "import numpy as np\n",
    "import pandas as pd\n",
    "import glob\n",
    "import os\n",
    "import matplotlib.pyplot as plt\n",
    "import librosa\n",
    "from IPython.display import Audio\n",
    "import tensorflow as tf"
   ]
  },
  {
   "cell_type": "code",
   "execution_count": 2,
   "id": "89fb1331-c99d-40d9-a089-61851a204482",
   "metadata": {},
   "outputs": [
    {
     "data": {
      "text/plain": [
       "True"
      ]
     },
     "execution_count": 2,
     "metadata": {},
     "output_type": "execute_result"
    }
   ],
   "source": [
    "data_dir = r'C:../dataset/audioonly/labeled/original_dataset'\n",
    "os.path.exists(data_dir)"
   ]
  },
  {
   "cell_type": "code",
   "execution_count": 3,
   "id": "51cc7f4e-50ee-4372-b658-7268b28a7266",
   "metadata": {},
   "outputs": [
    {
     "data": {
      "text/plain": [
       "['belly_pain', 'discomfort', 'hungry', 'tired']"
      ]
     },
     "execution_count": 3,
     "metadata": {},
     "output_type": "execute_result"
    }
   ],
   "source": [
    "class_names = next(os.walk(data_dir))[1]\n",
    "class_names"
   ]
  },
  {
   "cell_type": "code",
   "execution_count": 4,
   "id": "ae98aad3-c3a3-43e2-81f2-66f11f207693",
   "metadata": {},
   "outputs": [
    {
     "data": {
      "text/plain": [
       "['C:../dataset/audioonly/labeled/original_dataset\\\\belly_pain',\n",
       " 'C:../dataset/audioonly/labeled/original_dataset\\\\discomfort',\n",
       " 'C:../dataset/audioonly/labeled/original_dataset\\\\hungry',\n",
       " 'C:../dataset/audioonly/labeled/original_dataset\\\\tired']"
      ]
     },
     "execution_count": 4,
     "metadata": {},
     "output_type": "execute_result"
    }
   ],
   "source": [
    "audio_path = [os.path.join(data_dir, name) for name in class_names]\n",
    "audio_path"
   ]
  },
  {
   "cell_type": "code",
   "execution_count": 5,
   "id": "977befba-81eb-43a8-ba1a-13fe4ccc5e89",
   "metadata": {},
   "outputs": [],
   "source": [
    "bpain_audio = glob.glob(os.path.join(audio_path[0], '*.wav'))\n",
    "discomf_audio = glob.glob(os.path.join(audio_path[1], '*.wav'))\n",
    "hungry_audio = glob.glob(os.path.join(audio_path[2], '*.wav'))\n",
    "tired_audio = glob.glob(os.path.join(audio_path[3], '*.wav'))"
   ]
  },
  {
   "cell_type": "code",
   "execution_count": 6,
   "id": "0dfdf20f-a3f7-4f7b-a8ce-df7fb6a3e8a6",
   "metadata": {},
   "outputs": [],
   "source": [
    "audio_path_byclass = {\n",
    "    'bpain': bpain_audio,\n",
    "    'discomf': discomf_audio,\n",
    "    'hungry': hungry_audio,\n",
    "    'tired': tired_audio\n",
    "}"
   ]
  },
  {
   "cell_type": "markdown",
   "id": "7f9a3db4-1f79-417d-b3a9-584f72b63074",
   "metadata": {},
   "source": [
    "## **convert to mel spectrogram**"
   ]
  },
  {
   "cell_type": "code",
   "execution_count": 7,
   "id": "4d839edc-0d44-46c5-afe8-12a7fabffb3b",
   "metadata": {},
   "outputs": [],
   "source": [
    "mel_spec_convert = {}\n",
    "\n",
    "for name, pathlst in audio_path_byclass.items():\n",
    "    mel_spec = []\n",
    "    for path in pathlst:\n",
    "        audio, srate = librosa.load(path, sr=None, duration=5.0)\n",
    "        ml_spc = librosa.feature.melspectrogram(y=audio, sr=srate)\n",
    "        mel_spec.append(ml_spc)\n",
    "    mel_spec_convert[name] = mel_spec"
   ]
  },
  {
   "cell_type": "code",
   "execution_count": 8,
   "id": "fc39a40c-410d-47fa-9598-c89f66eccafa",
   "metadata": {},
   "outputs": [],
   "source": [
    "import collections\n",
    "\n",
    "shape = {}\n",
    "\n",
    "for class_name, lst in mel_spec_convert.items():\n",
    "    shapes = [arr.shape for arr in lst]\n",
    "    shapes_count = collections.Counter(shapes)\n",
    "    shape[f'{class_name} mel spec shape counts'] = shapes_count"
   ]
  },
  {
   "cell_type": "code",
   "execution_count": 9,
   "id": "15d5fab7-ecb6-4ebc-83c7-82efb51082ba",
   "metadata": {},
   "outputs": [
    {
     "data": {
      "text/plain": [
       "{'bpain mel spec shape counts': Counter({(128, 469): 31, (128, 79): 16}),\n",
       " 'discomf mel spec shape counts': Counter({(128, 79): 35,\n",
       "          (128, 431): 28,\n",
       "          (128, 430): 1}),\n",
       " 'hungry mel spec shape counts': Counter({(128, 79): 382,\n",
       "          (128, 431): 26,\n",
       "          (128, 430): 2}),\n",
       " 'tired mel spec shape counts': Counter({(128, 79): 24, (128, 469): 1})}"
      ]
     },
     "execution_count": 9,
     "metadata": {},
     "output_type": "execute_result"
    }
   ],
   "source": [
    "shape"
   ]
  },
  {
   "cell_type": "code",
   "execution_count": 12,
   "id": "6466c56d-4104-451c-b152-416886b89ae2",
   "metadata": {},
   "outputs": [
    {
     "name": "stdout",
     "output_type": "stream",
     "text": [
      "293\n"
     ]
    }
   ],
   "source": [
    "from statistics import mean\n",
    "\n",
    "avg_lst = []\n",
    "\n",
    "for cat, dict in shape.items():\n",
    "    temp = []\n",
    "    for shape_tuple in dict.keys():\n",
    "        h, w = shape_tuple\n",
    "        temp.append(w)\n",
    "    avg = mean(temp)\n",
    "    avg_lst.append(avg)\n",
    "\n",
    "avg_all = int(mean(avg_lst))\n",
    "print(avg_all)"
   ]
  },
  {
   "cell_type": "markdown",
   "id": "e4acc659-4b7c-46f5-80f9-33bde9d708f7",
   "metadata": {},
   "source": [
    "## **Mel Spectrogram Padding and reshape**"
   ]
  },
  {
   "cell_type": "code",
   "execution_count": 16,
   "id": "4c9e5647-fb17-454d-a392-3c21548393af",
   "metadata": {},
   "outputs": [],
   "source": [
    "reshaped = {}\n",
    "\n",
    "for class_name, lst in mel_spec_convert.items():\n",
    "    temp = []\n",
    "    for arr in lst:\n",
    "        h, w = arr.shape\n",
    "        \n",
    "        if w < avg_all:\n",
    "            pad_width = (avg_all - w) // 2\n",
    "            padded = np.pad(arr, pad_width=((0, 0), (pad_width, 293 - w - pad_width)), mode='constant', constant_values=0)\n",
    "            temp.append(padded)\n",
    "        else:\n",
    "            trunc_arr = arr[:, :293]\n",
    "            temp.append(trunc_arr)\n",
    "    \n",
    "    reshaped[f'{class_name} mel spec'] = temp"
   ]
  },
  {
   "cell_type": "code",
   "execution_count": 17,
   "id": "f5aba801-6f9a-4918-a9f5-fbc0d7acf684",
   "metadata": {},
   "outputs": [],
   "source": [
    "reshape_count = {}\n",
    "\n",
    "for class_name, lst in reshaped.items():\n",
    "    shapes = [arr.shape for arr in lst]\n",
    "    shapes_count = collections.Counter(shapes)\n",
    "    reshape_count[f'{class_name} mel spec shape counts'] = shapes_count"
   ]
  },
  {
   "cell_type": "code",
   "execution_count": 18,
   "id": "809dd7ee-20c1-4255-8c67-1782d7fd8ffe",
   "metadata": {},
   "outputs": [
    {
     "data": {
      "text/plain": [
       "{'bpain mel spec mel spec shape counts': Counter({(128, 293): 47}),\n",
       " 'discomf mel spec mel spec shape counts': Counter({(128, 293): 64}),\n",
       " 'hungry mel spec mel spec shape counts': Counter({(128, 293): 410}),\n",
       " 'tired mel spec mel spec shape counts': Counter({(128, 293): 25})}"
      ]
     },
     "execution_count": 18,
     "metadata": {},
     "output_type": "execute_result"
    }
   ],
   "source": [
    "reshape_count"
   ]
  },
  {
   "cell_type": "code",
   "execution_count": null,
   "id": "6f2ea43c-8197-40af-9deb-432c5e6874a7",
   "metadata": {},
   "outputs": [],
   "source": []
  }
 ],
 "metadata": {
  "kernelspec": {
   "display_name": "Python 3 (ipykernel)",
   "language": "python",
   "name": "python3"
  },
  "language_info": {
   "codemirror_mode": {
    "name": "ipython",
    "version": 3
   },
   "file_extension": ".py",
   "mimetype": "text/x-python",
   "name": "python",
   "nbconvert_exporter": "python",
   "pygments_lexer": "ipython3",
   "version": "3.10.11"
  }
 },
 "nbformat": 4,
 "nbformat_minor": 5
}
