{
 "cells": [
  {
   "cell_type": "code",
   "execution_count": 1,
   "id": "b69d0495-09c3-42f8-9f3d-fc2b6332dde2",
   "metadata": {},
   "outputs": [],
   "source": [
    "import numpy as np\n",
    "import pandas as pd\n",
    "import glob\n",
    "import os\n",
    "import matplotlib.pyplot as plt\n",
    "import librosa\n",
    "from IPython.display import Audio\n",
    "from sklearn.preprocessing import StandardScaler\n",
    "from sklearn.preprocessing import LabelEncoder\n",
    "from sklearn.utils import shuffle\n",
    "import tensorflow as tf"
   ]
  },
  {
   "cell_type": "code",
   "execution_count": 2,
   "id": "1fa90862-60c1-4c04-9c36-4bb83c25b16f",
   "metadata": {},
   "outputs": [],
   "source": [
    "train_folder_path = r'C:../dataset/audioonly/labeled/set 1/train'\n",
    "test_folder_path = r'C:../dataset/audioonly/labeled/set 1/test'"
   ]
  },
  {
   "cell_type": "code",
   "execution_count": 3,
   "id": "c7fdb2d4-cdd9-4e1d-9f20-2b60c41fbee2",
   "metadata": {},
   "outputs": [
    {
     "data": {
      "text/plain": [
       "True"
      ]
     },
     "execution_count": 3,
     "metadata": {},
     "output_type": "execute_result"
    }
   ],
   "source": [
    "os.path.exists(train_folder_path)"
   ]
  },
  {
   "cell_type": "code",
   "execution_count": 4,
   "id": "a1317963-5115-4e63-8abf-0f615de53709",
   "metadata": {},
   "outputs": [
    {
     "data": {
      "text/plain": [
       "['belly_pain', 'discomfort', 'hungry', 'tired']"
      ]
     },
     "execution_count": 4,
     "metadata": {},
     "output_type": "execute_result"
    }
   ],
   "source": [
    "class_names = next(os.walk(train_folder_path))[1]\n",
    "class_names"
   ]
  },
  {
   "cell_type": "code",
   "execution_count": 5,
   "id": "022fa069-5699-43a1-bf2b-1f9cff9a670b",
   "metadata": {},
   "outputs": [
    {
     "data": {
      "text/plain": [
       "['C:../dataset/audioonly/labeled/set 1/train\\\\belly_pain',\n",
       " 'C:../dataset/audioonly/labeled/set 1/train\\\\discomfort',\n",
       " 'C:../dataset/audioonly/labeled/set 1/train\\\\hungry',\n",
       " 'C:../dataset/audioonly/labeled/set 1/train\\\\tired']"
      ]
     },
     "execution_count": 5,
     "metadata": {},
     "output_type": "execute_result"
    }
   ],
   "source": [
    "audio_path = [os.path.join(train_folder_path, name) for name in class_names]\n",
    "audio_path"
   ]
  },
  {
   "cell_type": "code",
   "execution_count": 6,
   "id": "3a6acae1-1df7-4ee8-95e4-bbbcfb439a92",
   "metadata": {},
   "outputs": [],
   "source": [
    "bpain_audio = glob.glob(os.path.join(audio_path[0], '*.wav'))\n",
    "discomf_audio = glob.glob(os.path.join(audio_path[1], '*.wav'))\n",
    "hungry_audio = glob.glob(os.path.join(audio_path[2], '*.wav'))\n",
    "tired_audio = glob.glob(os.path.join(audio_path[3], '*.wav'))"
   ]
  },
  {
   "cell_type": "code",
   "execution_count": 7,
   "id": "9b4c2824-b56c-49ed-a6e4-e4550298a464",
   "metadata": {},
   "outputs": [],
   "source": [
    "audio_path_byclass = {\n",
    "    'bpain': bpain_audio,\n",
    "    'discomf': discomf_audio,\n",
    "    'hungry': hungry_audio,\n",
    "    'tired': tired_audio\n",
    "}"
   ]
  },
  {
   "cell_type": "markdown",
   "id": "e0a1378f-deee-48fb-a765-a2cf859d0450",
   "metadata": {},
   "source": [
    "## Load Audio"
   ]
  },
  {
   "cell_type": "code",
   "execution_count": 8,
   "id": "86fa5d47-1cee-44ee-b193-fab488048f6a",
   "metadata": {},
   "outputs": [],
   "source": [
    "# Replace 'your_audio_file.mp3' with the path to your audio file\n",
    "load_audio = {}\n",
    "for name, pathlst in audio_path_byclass.items():\n",
    "    loaded = []\n",
    "    for path in pathlst:\n",
    "        audio, sr = librosa.load(path, sr=16000, mono=True, duration=5.2)\n",
    "        loaded.append(audio)\n",
    "    load_audio[name] = loaded"
   ]
  },
  {
   "cell_type": "markdown",
   "id": "33071bee-fd0e-4db9-8e82-4e12b5ade3f0",
   "metadata": {},
   "source": [
    "## Load Model"
   ]
  },
  {
   "cell_type": "code",
   "execution_count": 9,
   "id": "7b52da07-7f41-44cb-bf2c-3d80a12c45f3",
   "metadata": {},
   "outputs": [],
   "source": [
    "# Load the model.\n",
    "import tensorflow_hub as hub\n",
    "model = hub.load('https://tfhub.dev/google/yamnet/1')"
   ]
  },
  {
   "cell_type": "code",
   "execution_count": 10,
   "id": "7cbaf834-0d28-4ae4-a360-de9d9691d1c7",
   "metadata": {},
   "outputs": [],
   "source": [
    "# Run the model, check the output.\n",
    "feature = {}\n",
    "for name, arr in load_audio.items():\n",
    "    # Initialize dictionaries for each class if not already existing\n",
    "    if name not in feature:\n",
    "        feature[name] = {'scores': [], 'embeddings': [], 'spectrograms': []}\n",
    "    \n",
    "    for wav in arr:\n",
    "        scores, embeddings, spectrogram = model(wav)\n",
    "        \n",
    "        # Append the results to the respective lists in the dictionary\n",
    "        feature[name]['scores'].append(np.array(scores))\n",
    "        feature[name]['embeddings'].append(np.array(embeddings))\n",
    "        feature[name]['spectrograms'].append(np.array(spectrogram))"
   ]
  },
  {
   "cell_type": "code",
   "execution_count": 11,
   "id": "46327ecf-b787-4220-802f-41a327b2abc1",
   "metadata": {},
   "outputs": [],
   "source": [
    "import collections\n",
    "\n",
    "shape = {}\n",
    "\n",
    "for class_name in feature.keys():\n",
    "    for cat, lst in feature[class_name].items():\n",
    "        shapes = [arr.shape for arr in lst]\n",
    "        shapes_count = collections.Counter(shapes)\n",
    "        shape[f'{class_name} {cat} shape counts'] = shapes_count"
   ]
  },
  {
   "cell_type": "code",
   "execution_count": 12,
   "id": "314bb6f4-4444-4f35-ba8c-5b21efcc489f",
   "metadata": {},
   "outputs": [
    {
     "data": {
      "text/plain": [
       "{'bpain scores shape counts': Counter({(10, 521): 16}),\n",
       " 'bpain embeddings shape counts': Counter({(10, 1024): 16}),\n",
       " 'bpain spectrograms shape counts': Counter({(528, 64): 16}),\n",
       " 'discomf scores shape counts': Counter({(10, 521): 64}),\n",
       " 'discomf embeddings shape counts': Counter({(10, 1024): 64}),\n",
       " 'discomf spectrograms shape counts': Counter({(528, 64): 64}),\n",
       " 'hungry scores shape counts': Counter({(10, 521): 100}),\n",
       " 'hungry embeddings shape counts': Counter({(10, 1024): 100}),\n",
       " 'hungry spectrograms shape counts': Counter({(528, 64): 100}),\n",
       " 'tired scores shape counts': Counter({(10, 521): 24}),\n",
       " 'tired embeddings shape counts': Counter({(10, 1024): 24}),\n",
       " 'tired spectrograms shape counts': Counter({(528, 64): 24})}"
      ]
     },
     "execution_count": 12,
     "metadata": {},
     "output_type": "execute_result"
    }
   ],
   "source": [
    "shape"
   ]
  },
  {
   "cell_type": "markdown",
   "id": "e5b037ab-3c4f-4db5-90c6-3f9352fe2e47",
   "metadata": {},
   "source": [
    "## nd array padding\n",
    "- 각 클래스 카테고리마다 평균 row를 구한 후 padding 해준다"
   ]
  },
  {
   "cell_type": "code",
   "execution_count": 13,
   "id": "a3d4a8a9-7bfe-4b95-a3d2-8a5c5b083cf2",
   "metadata": {},
   "outputs": [],
   "source": [
    "from statistics import mean\n",
    "\n",
    "temp = []\n",
    "\n",
    "for class_cat, counter in shape.items():\n",
    "    for shape, count in counter.items():\n",
    "        h, w = shape\n",
    "        num_elements = h * w\n",
    "        temp.append(num_elements)"
   ]
  },
  {
   "cell_type": "code",
   "execution_count": 14,
   "id": "4f2ca8a2-eac2-463c-b958-e0557ce5d308",
   "metadata": {},
   "outputs": [],
   "source": [
    "avg = mean(temp)"
   ]
  },
  {
   "cell_type": "code",
   "execution_count": 15,
   "id": "332b9ddd-caab-4483-ae04-e129e5ceefb6",
   "metadata": {},
   "outputs": [
    {
     "data": {
      "text/plain": [
       "16414"
      ]
     },
     "execution_count": 15,
     "metadata": {},
     "output_type": "execute_result"
    }
   ],
   "source": [
    "avg"
   ]
  },
  {
   "cell_type": "code",
   "execution_count": 16,
   "id": "a9bbb647-27a7-4e9f-ba23-7b2c724c97fe",
   "metadata": {},
   "outputs": [],
   "source": [
    "reshaped = {}\n",
    "\n",
    "for class_name, categories in feature.items():\n",
    "    for cat, lst in categories.items():\n",
    "        temp = []\n",
    "        for arr in lst:\n",
    "            h, w = arr.shape\n",
    "            flat_arr = arr.flatten()\n",
    "            size = h * w\n",
    "\n",
    "            if size == 5210 or size == 10240:\n",
    "                padded = np.pad(flat_arr, pad_width=(0, avg - size), mode='constant', constant_values=0)\n",
    "                temp.append(padded)\n",
    "            elif size == 33792:\n",
    "                trunc_arr = flat_arr[:avg]\n",
    "                temp.append(trunc_arr)\n",
    "        \n",
    "        reshaped[f'{class_name} {cat}'] = temp"
   ]
  },
  {
   "cell_type": "code",
   "execution_count": 17,
   "id": "5eb877c6-430b-426a-bef6-b8dbb923ce44",
   "metadata": {},
   "outputs": [],
   "source": [
    "shape_count = {}\n",
    "\n",
    "for class_name, lst in reshaped.items():\n",
    "    shapes = [arr.shape for arr in lst]\n",
    "    shapes_count = collections.Counter(shapes)\n",
    "    shape_count[f'{class_name} shape counts'] = shapes_count"
   ]
  },
  {
   "cell_type": "code",
   "execution_count": 18,
   "id": "8f69e2ad-169e-43b4-960a-bcff1d368fcb",
   "metadata": {},
   "outputs": [
    {
     "data": {
      "text/plain": [
       "{'bpain scores shape counts': Counter({(16414,): 16}),\n",
       " 'bpain embeddings shape counts': Counter({(16414,): 16}),\n",
       " 'bpain spectrograms shape counts': Counter({(16414,): 16}),\n",
       " 'discomf scores shape counts': Counter({(16414,): 64}),\n",
       " 'discomf embeddings shape counts': Counter({(16414,): 64}),\n",
       " 'discomf spectrograms shape counts': Counter({(16414,): 64}),\n",
       " 'hungry scores shape counts': Counter({(16414,): 100}),\n",
       " 'hungry embeddings shape counts': Counter({(16414,): 100}),\n",
       " 'hungry spectrograms shape counts': Counter({(16414,): 100}),\n",
       " 'tired scores shape counts': Counter({(16414,): 24}),\n",
       " 'tired embeddings shape counts': Counter({(16414,): 24}),\n",
       " 'tired spectrograms shape counts': Counter({(16414,): 24})}"
      ]
     },
     "execution_count": 18,
     "metadata": {},
     "output_type": "execute_result"
    }
   ],
   "source": [
    "shape_count"
   ]
  },
  {
   "cell_type": "code",
   "execution_count": 19,
   "id": "919ed44d-4cb8-44c3-b3fb-391ca00b15c9",
   "metadata": {},
   "outputs": [
    {
     "data": {
      "text/plain": [
       "dict_keys(['bpain scores', 'bpain embeddings', 'bpain spectrograms', 'discomf scores', 'discomf embeddings', 'discomf spectrograms', 'hungry scores', 'hungry embeddings', 'hungry spectrograms', 'tired scores', 'tired embeddings', 'tired spectrograms'])"
      ]
     },
     "execution_count": 19,
     "metadata": {},
     "output_type": "execute_result"
    }
   ],
   "source": [
    "reshaped.keys()"
   ]
  },
  {
   "cell_type": "code",
   "execution_count": 20,
   "id": "eac6f8e7-4bd0-4e08-a7a0-0e0b3a5f07c4",
   "metadata": {},
   "outputs": [],
   "source": [
    "# Define your class names\n",
    "class_names = ['bpain', 'discomf', 'hungry', 'tired']\n",
    "\n",
    "# Initialize dictionaries for each category\n",
    "score_only = {class_name: [] for class_name in class_names}\n",
    "embed_only = {class_name: [] for class_name in class_names}\n",
    "spec_only = {class_name: [] for class_name in class_names}\n",
    "\n",
    "# Loop over reshaped items only once\n",
    "for category, lists in reshaped.items():\n",
    "    for class_name in class_names:\n",
    "        if f'{class_name} scores' in category:\n",
    "            score_only[class_name].extend(lists)\n",
    "        elif f'{class_name} embeddings' in category:\n",
    "            embed_only[class_name].extend(lists)\n",
    "        elif f'{class_name} spectrograms' in category:\n",
    "            spec_only[class_name].extend(lists)"
   ]
  },
  {
   "cell_type": "code",
   "execution_count": 21,
   "id": "ae01faf4-0313-427a-948f-84f7d6c9073b",
   "metadata": {},
   "outputs": [
    {
     "data": {
      "text/plain": [
       "(24, 16414)"
      ]
     },
     "execution_count": 21,
     "metadata": {},
     "output_type": "execute_result"
    }
   ],
   "source": [
    "bpain_score_arr = np.array(score_only['bpain'])\n",
    "discomf_score_arr = np.array(score_only['discomf'])\n",
    "hungry_score_arr = np.array(score_only['hungry'])\n",
    "tired_score_arr = np.array(score_only['tired'])\n",
    "tired_score_arr.shape"
   ]
  },
  {
   "cell_type": "code",
   "execution_count": 22,
   "id": "5a26bfa2-e42e-42ff-81ad-607ab215adf4",
   "metadata": {},
   "outputs": [
    {
     "data": {
      "text/plain": [
       "(204, 16414)"
      ]
     },
     "execution_count": 22,
     "metadata": {},
     "output_type": "execute_result"
    }
   ],
   "source": [
    "score_stack = np.vstack((bpain_score_arr, discomf_score_arr, hungry_score_arr, tired_score_arr))\n",
    "score_stack.shape"
   ]
  },
  {
   "cell_type": "code",
   "execution_count": 23,
   "id": "4e87d043-242b-4d51-95a3-6e71b7f01098",
   "metadata": {},
   "outputs": [
    {
     "name": "stdout",
     "output_type": "stream",
     "text": [
      "matching true\n"
     ]
    }
   ],
   "source": [
    "if np.array_equal(score_stack[180:204, :], tired_score_arr):\n",
    "    print('matching true')\n",
    "else:\n",
    "    print('matching false')"
   ]
  },
  {
   "cell_type": "code",
   "execution_count": 24,
   "id": "304b880b-7a7a-4cbb-b5ba-6046774fc1eb",
   "metadata": {},
   "outputs": [],
   "source": [
    "bpain_embed_arr = np.array(embed_only['bpain'])\n",
    "discomf_embed_arr = np.array(embed_only['discomf'])\n",
    "hungry_embed_arr = np.array(embed_only['hungry'])\n",
    "tired_embed_arr = np.array(embed_only['tired'])"
   ]
  },
  {
   "cell_type": "code",
   "execution_count": 25,
   "id": "e1634ffc-3bab-42aa-9237-4b13f0ff0e33",
   "metadata": {},
   "outputs": [
    {
     "data": {
      "text/plain": [
       "(204, 16414)"
      ]
     },
     "execution_count": 25,
     "metadata": {},
     "output_type": "execute_result"
    }
   ],
   "source": [
    "embed_stack = np.vstack((bpain_embed_arr, discomf_embed_arr, hungry_embed_arr, tired_embed_arr))\n",
    "embed_stack.shape"
   ]
  },
  {
   "cell_type": "code",
   "execution_count": 26,
   "id": "33fd8421-b6c1-4111-8fbb-cf1756abdf44",
   "metadata": {},
   "outputs": [],
   "source": [
    "bpain_spec_arr = np.array(spec_only['bpain'])\n",
    "discomf_spec_arr = np.array(spec_only['discomf'])\n",
    "hungry_spec_arr = np.array(spec_only['hungry'])\n",
    "tired_spec_arr = np.array(spec_only['tired'])"
   ]
  },
  {
   "cell_type": "code",
   "execution_count": 27,
   "id": "d38f5559-1a8e-4a4e-acc6-7b34a3541b02",
   "metadata": {},
   "outputs": [
    {
     "data": {
      "text/plain": [
       "(204, 16414)"
      ]
     },
     "execution_count": 27,
     "metadata": {},
     "output_type": "execute_result"
    }
   ],
   "source": [
    "spec_stack = np.vstack((bpain_spec_arr, discomf_spec_arr, hungry_spec_arr, tired_spec_arr))\n",
    "spec_stack.shape"
   ]
  },
  {
   "cell_type": "code",
   "execution_count": 28,
   "id": "04d93490-48ad-448b-ad69-70e3647f1d3e",
   "metadata": {},
   "outputs": [
    {
     "data": {
      "text/plain": [
       "(204,)"
      ]
     },
     "execution_count": 28,
     "metadata": {},
     "output_type": "execute_result"
    }
   ],
   "source": [
    "# Combine data and labels\n",
    "score_labels = []\n",
    "\n",
    "score_arrlst = [\n",
    "    bpain_score_arr,\n",
    "    discomf_score_arr,\n",
    "    hungry_score_arr,\n",
    "    tired_score_arr\n",
    "]\n",
    "\n",
    "for idx, arr in enumerate(score_arrlst):\n",
    "    score_labels.extend([idx] * len(arr))\n",
    "\n",
    "y_train = np.array(score_labels)\n",
    "y_train.shape"
   ]
  },
  {
   "cell_type": "code",
   "execution_count": 29,
   "id": "edf0faeb-6803-4ea4-86a6-30509f09d029",
   "metadata": {},
   "outputs": [
    {
     "name": "stdout",
     "output_type": "stream",
     "text": [
      "16\n",
      "64\n",
      "100\n",
      "24\n"
     ]
    }
   ],
   "source": [
    "for i in range(4):\n",
    "    print(score_labels.count(i))"
   ]
  },
  {
   "cell_type": "code",
   "execution_count": 30,
   "id": "85ac9b04-e85e-48aa-a4be-0cec3ad9180b",
   "metadata": {},
   "outputs": [],
   "source": [
    "# Generate shuffled indices\n",
    "shuffled_indices = np.random.permutation(score_stack.shape[0])\n",
    "\n",
    "# Shuffle each array using the same shuffled indices\n",
    "shuffled_score = score_stack[shuffled_indices, :]\n",
    "shuffled_embed = embed_stack[shuffled_indices, :]\n",
    "shuffled_spec = spec_stack[shuffled_indices, :]\n",
    "y_train = y_train[shuffled_indices]"
   ]
  },
  {
   "cell_type": "markdown",
   "id": "c00bdc92",
   "metadata": {},
   "source": [
    "## Functional API Tried"
   ]
  },
  {
   "cell_type": "code",
   "execution_count": 4,
   "id": "fec78dda",
   "metadata": {},
   "outputs": [],
   "source": [
    "from tensorflow import keras\n",
    "from keras import layers\n",
    "from keras import models, utils"
   ]
  },
  {
   "cell_type": "code",
   "execution_count": null,
   "id": "f0f69c6b",
   "metadata": {},
   "outputs": [],
   "source": []
  }
 ],
 "metadata": {
  "kernelspec": {
   "display_name": "Python 3 (ipykernel)",
   "language": "python",
   "name": "python3"
  },
  "language_info": {
   "codemirror_mode": {
    "name": "ipython",
    "version": 3
   },
   "file_extension": ".py",
   "mimetype": "text/x-python",
   "name": "python",
   "nbconvert_exporter": "python",
   "pygments_lexer": "ipython3",
   "version": "3.10.13"
  }
 },
 "nbformat": 4,
 "nbformat_minor": 5
}
