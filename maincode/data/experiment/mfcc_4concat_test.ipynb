{
 "cells": [
  {
   "cell_type": "code",
   "execution_count": 1,
   "id": "03b87d76-7986-4316-b26c-22f6ec04e43a",
   "metadata": {},
   "outputs": [],
   "source": [
    "import numpy as np\n",
    "import pandas as pd\n",
    "import glob\n",
    "import os\n",
    "import matplotlib.pyplot as plt\n",
    "import librosa\n",
    "from IPython.display import Audio\n",
    "from sklearn.preprocessing import StandardScaler\n",
    "from sklearn.preprocessing import LabelEncoder\n",
    "from sklearn.utils import shuffle\n",
    "import tensorflow as tf"
   ]
  },
  {
   "cell_type": "code",
   "execution_count": 2,
   "id": "593b6e1d-f57d-4a9b-a8f5-15f751e355e9",
   "metadata": {},
   "outputs": [
    {
     "data": {
      "text/plain": [
       "True"
      ]
     },
     "execution_count": 2,
     "metadata": {},
     "output_type": "execute_result"
    }
   ],
   "source": [
    "train_folder_path = r'C:./dataset/audioonly/labeled/set 2/Train'\n",
    "os.path.exists(train_folder_path)"
   ]
  },
  {
   "cell_type": "code",
   "execution_count": 4,
   "id": "5c6abbe9-6901-4831-936e-b5bd3ef3dc5c",
   "metadata": {},
   "outputs": [
    {
     "data": {
      "text/plain": [
       "['belly_pain', 'discomfort', 'hungry', 'tired']"
      ]
     },
     "execution_count": 4,
     "metadata": {},
     "output_type": "execute_result"
    }
   ],
   "source": [
    "class_names = next(os.walk(train_folder_path))[1]\n",
    "class_names = class_names[1:]\n",
    "class_names"
   ]
  },
  {
   "cell_type": "code",
   "execution_count": 5,
   "id": "8cc79ad0-b8bb-4aeb-8557-b3907a6e3dd9",
   "metadata": {},
   "outputs": [
    {
     "data": {
      "text/plain": [
       "['C:./dataset/audioonly/labeled/set 2/Train\\\\belly_pain',\n",
       " 'C:./dataset/audioonly/labeled/set 2/Train\\\\discomfort',\n",
       " 'C:./dataset/audioonly/labeled/set 2/Train\\\\hungry',\n",
       " 'C:./dataset/audioonly/labeled/set 2/Train\\\\tired']"
      ]
     },
     "execution_count": 5,
     "metadata": {},
     "output_type": "execute_result"
    }
   ],
   "source": [
    "audio_path = [os.path.join(train_folder_path, name) for name in class_names]\n",
    "audio_path"
   ]
  },
  {
   "cell_type": "code",
   "execution_count": 6,
   "id": "28c1714b-1b64-48e7-ba4b-e3090f78201b",
   "metadata": {},
   "outputs": [],
   "source": [
    "bpain_audio = glob.glob(os.path.join(audio_path[0], '*.wav'))\n",
    "discomf_audio = glob.glob(os.path.join(audio_path[1], '*.wav'))\n",
    "hungry_audio = glob.glob(os.path.join(audio_path[2], '*.wav'))\n",
    "tired_audio = glob.glob(os.path.join(audio_path[3], '*.wav'))"
   ]
  },
  {
   "cell_type": "code",
   "execution_count": 7,
   "id": "6156e590-b5ab-4808-b491-16017a899028",
   "metadata": {},
   "outputs": [],
   "source": [
    "audio_path_byclass = {\n",
    "    'bpain': bpain_audio,\n",
    "    'discomf': discomf_audio,\n",
    "    'hungry': hungry_audio,\n",
    "    'tired': tired_audio\n",
    "}"
   ]
  },
  {
   "cell_type": "markdown",
   "id": "4f1cf1ea-c408-44eb-bd5b-6225f4d152b2",
   "metadata": {},
   "source": [
    "# Load Audio"
   ]
  },
  {
   "cell_type": "code",
   "execution_count": 8,
   "id": "ab3cbc53-7ac2-49f6-9022-69055da278f8",
   "metadata": {},
   "outputs": [],
   "source": [
    "# Replace 'your_audio_file.mp3' with the path to your audio file\n",
    "load_audio = {}\n",
    "for name, pathlst in audio_path_byclass.items():\n",
    "    loaded = []\n",
    "    for path in pathlst:\n",
    "        audio, sr = librosa.load(path, sr=16000, mono=True, duration=5.2)\n",
    "        loaded.append(audio)\n",
    "    load_audio[name] = loaded"
   ]
  },
  {
   "cell_type": "code",
   "execution_count": 9,
   "id": "2c22e9ca-33bc-4621-a6d0-20bf2e5e0230",
   "metadata": {},
   "outputs": [],
   "source": [
    "mfcc_audio = {}\n",
    "for name, pathlst in audio_path_byclass.items():\n",
    "    mfccs = []\n",
    "    for path in pathlst:\n",
    "        audio, sr = librosa.load(path, sr=16000, mono=True, duration=5.0)\n",
    "        mfcc = librosa.feature.mfcc(y=audio, sr=16000, n_mfcc=10)\n",
    "        mfccs.append(mfcc)\n",
    "    mfcc_audio[name] = mfccs"
   ]
  },
  {
   "cell_type": "code",
   "execution_count": 10,
   "id": "1a338dce-2735-499b-89d3-769bff3190b6",
   "metadata": {},
   "outputs": [],
   "source": [
    "import collections\n",
    "\n",
    "shape = {}\n",
    "\n",
    "for class_name, lst in mfcc_audio.items():\n",
    "    for arr in lst:\n",
    "        shapes = [arr.shape for arr in lst]\n",
    "        shapes_count = collections.Counter(shapes)\n",
    "        shape[f'{class_name} mfcc shape counts'] = shapes_count"
   ]
  },
  {
   "cell_type": "code",
   "execution_count": 11,
   "id": "2f90ac73-4bc0-4c6d-bad7-d252087ee0f4",
   "metadata": {},
   "outputs": [
    {
     "data": {
      "text/plain": [
       "{'bpain mfcc shape counts': Counter({(10, 157): 69}),\n",
       " 'discomf mfcc shape counts': Counter({(10, 157): 94}),\n",
       " 'hungry mfcc shape counts': Counter({(10, 157): 100}),\n",
       " 'tired mfcc shape counts': Counter({(10, 157): 69})}"
      ]
     },
     "execution_count": 11,
     "metadata": {},
     "output_type": "execute_result"
    }
   ],
   "source": [
    "shape"
   ]
  },
  {
   "cell_type": "markdown",
   "id": "c4b84bc6-7a98-405a-b7d0-b388a02258ca",
   "metadata": {},
   "source": [
    "## Load Model"
   ]
  },
  {
   "cell_type": "code",
   "execution_count": 12,
   "id": "009acabc-4dda-4f76-83da-6a6ffd82f092",
   "metadata": {},
   "outputs": [],
   "source": [
    "# Load the model.\n",
    "import tensorflow_hub as hub\n",
    "model = hub.load('https://tfhub.dev/google/yamnet/1')"
   ]
  },
  {
   "cell_type": "code",
   "execution_count": 13,
   "id": "3f981c1e-8712-4ec2-ae3e-d6fdcb8b7ed5",
   "metadata": {},
   "outputs": [],
   "source": [
    "# Run the model, check the output.\n",
    "feature = {}\n",
    "for name, arr in load_audio.items():\n",
    "    # Initialize dictionaries for each class if not already existing\n",
    "    if name not in feature:\n",
    "        feature[name] = {'scores': [], 'embeddings': [], 'spectrograms': []}\n",
    "    \n",
    "    for wav in arr:\n",
    "        scores, embeddings, spectrogram = model(wav)\n",
    "        \n",
    "        # Append the results to the respective lists in the dictionary\n",
    "        feature[name]['scores'].append(np.array(scores))\n",
    "        feature[name]['embeddings'].append(np.array(embeddings))\n",
    "        feature[name]['spectrograms'].append(np.array(spectrogram))"
   ]
  },
  {
   "cell_type": "code",
   "execution_count": 14,
   "id": "7657b2ca-2327-439b-828d-1bd01487e7af",
   "metadata": {},
   "outputs": [],
   "source": [
    "shape_feat = {}\n",
    "\n",
    "for class_name in feature.keys():\n",
    "    for cat, lst in feature[class_name].items():\n",
    "        shapes = [arr.shape for arr in lst]\n",
    "        shapes_count = collections.Counter(shapes)\n",
    "        shape_feat[f'{class_name} {cat} shape counts'] = shapes_count"
   ]
  },
  {
   "cell_type": "code",
   "execution_count": 15,
   "id": "453abf05-6ca5-46c4-bb33-cdd84bb296c6",
   "metadata": {},
   "outputs": [
    {
     "data": {
      "text/plain": [
       "{'bpain scores shape counts': Counter({(10, 521): 69}),\n",
       " 'bpain embeddings shape counts': Counter({(10, 1024): 69}),\n",
       " 'bpain spectrograms shape counts': Counter({(528, 64): 69}),\n",
       " 'discomf scores shape counts': Counter({(10, 521): 94}),\n",
       " 'discomf embeddings shape counts': Counter({(10, 1024): 94}),\n",
       " 'discomf spectrograms shape counts': Counter({(528, 64): 94}),\n",
       " 'hungry scores shape counts': Counter({(10, 521): 100}),\n",
       " 'hungry embeddings shape counts': Counter({(10, 1024): 100}),\n",
       " 'hungry spectrograms shape counts': Counter({(528, 64): 100}),\n",
       " 'tired scores shape counts': Counter({(10, 521): 69}),\n",
       " 'tired embeddings shape counts': Counter({(10, 1024): 69}),\n",
       " 'tired spectrograms shape counts': Counter({(528, 64): 69})}"
      ]
     },
     "execution_count": 15,
     "metadata": {},
     "output_type": "execute_result"
    }
   ],
   "source": [
    "shape_feat"
   ]
  },
  {
   "cell_type": "markdown",
   "id": "cdb34598-aa8f-4f78-9a2b-3e6633720ed1",
   "metadata": {},
   "source": [
    "## Padding"
   ]
  },
  {
   "cell_type": "code",
   "execution_count": 16,
   "id": "d756fa6f-9a84-44af-a45d-65ef6260bb3b",
   "metadata": {},
   "outputs": [],
   "source": [
    "from statistics import mean\n",
    "\n",
    "temp = []\n",
    "\n",
    "for class_cat, counter in shape_feat.items():\n",
    "    for shape, count in counter.items():\n",
    "        h, w = shape\n",
    "        num_elements = h * w\n",
    "        temp.append(num_elements)"
   ]
  },
  {
   "cell_type": "code",
   "execution_count": 17,
   "id": "2f2bb5b5-7054-4130-9b07-55b55c575057",
   "metadata": {},
   "outputs": [
    {
     "data": {
      "text/plain": [
       "16414"
      ]
     },
     "execution_count": 17,
     "metadata": {},
     "output_type": "execute_result"
    }
   ],
   "source": [
    "avg = mean(temp)\n",
    "avg"
   ]
  },
  {
   "cell_type": "code",
   "execution_count": 18,
   "id": "4f59c196-636d-4bee-a6f4-d586bead2f17",
   "metadata": {},
   "outputs": [],
   "source": [
    "for class_name, lst in mfcc_audio.items():\n",
    "    feature[class_name]['mfcc'] = lst"
   ]
  },
  {
   "cell_type": "code",
   "execution_count": 19,
   "id": "bd6601ae-8ddb-4637-b588-a963bb5c2e84",
   "metadata": {},
   "outputs": [],
   "source": [
    "shape_feat_3d = {}\n",
    "\n",
    "for class_name in feature.keys():\n",
    "    for cat, lst in feature[class_name].items():\n",
    "        shapes = [arr.shape for arr in lst]\n",
    "        shapes_count = collections.Counter(shapes)\n",
    "        shape_feat_3d[f'{class_name} {cat} shape counts'] = shapes_count"
   ]
  },
  {
   "cell_type": "code",
   "execution_count": 20,
   "id": "59975e6b-9df9-4940-b9e3-4d07039d828d",
   "metadata": {},
   "outputs": [
    {
     "data": {
      "text/plain": [
       "{'bpain scores shape counts': Counter({(10, 521): 69}),\n",
       " 'bpain embeddings shape counts': Counter({(10, 1024): 69}),\n",
       " 'bpain spectrograms shape counts': Counter({(528, 64): 69}),\n",
       " 'bpain mfcc shape counts': Counter({(10, 157): 69}),\n",
       " 'discomf scores shape counts': Counter({(10, 521): 94}),\n",
       " 'discomf embeddings shape counts': Counter({(10, 1024): 94}),\n",
       " 'discomf spectrograms shape counts': Counter({(528, 64): 94}),\n",
       " 'discomf mfcc shape counts': Counter({(10, 157): 94}),\n",
       " 'hungry scores shape counts': Counter({(10, 521): 100}),\n",
       " 'hungry embeddings shape counts': Counter({(10, 1024): 100}),\n",
       " 'hungry spectrograms shape counts': Counter({(528, 64): 100}),\n",
       " 'hungry mfcc shape counts': Counter({(10, 157): 100}),\n",
       " 'tired scores shape counts': Counter({(10, 521): 69}),\n",
       " 'tired embeddings shape counts': Counter({(10, 1024): 69}),\n",
       " 'tired spectrograms shape counts': Counter({(528, 64): 69}),\n",
       " 'tired mfcc shape counts': Counter({(10, 157): 69})}"
      ]
     },
     "execution_count": 20,
     "metadata": {},
     "output_type": "execute_result"
    }
   ],
   "source": [
    "shape_feat_3d"
   ]
  },
  {
   "cell_type": "code",
   "execution_count": 21,
   "id": "e5ac40a5-6905-4ac6-9483-c2625164ceb2",
   "metadata": {},
   "outputs": [],
   "source": [
    "reshaped = {}\n",
    "\n",
    "for class_name, categories in feature.items():\n",
    "    for cat, lst in categories.items():\n",
    "        temp = []\n",
    "        for arr in lst:\n",
    "            h, w = arr.shape\n",
    "            flat_arr = arr.flatten()\n",
    "            size = h * w\n",
    "\n",
    "            if size == 5210 or size == 1570 or size == 10240:\n",
    "                padded = np.pad(flat_arr, pad_width=(0, avg - size), mode='constant', constant_values=0)\n",
    "                temp.append(padded)\n",
    "            else:\n",
    "                trunc_arr = flat_arr[:avg]\n",
    "                temp.append(trunc_arr) \n",
    "        \n",
    "        reshaped[f'{class_name} {cat}'] = temp"
   ]
  },
  {
   "cell_type": "code",
   "execution_count": 22,
   "id": "e9daf092-f466-40ca-a96c-55ae3ec4d863",
   "metadata": {},
   "outputs": [],
   "source": [
    "shape_count = {}\n",
    "\n",
    "for class_name, lst in reshaped.items():\n",
    "    shapes = [arr.shape for arr in lst]\n",
    "    shapes_count = collections.Counter(shapes)\n",
    "    shape_count[f'{class_name} shape counts'] = shapes_count"
   ]
  },
  {
   "cell_type": "code",
   "execution_count": 23,
   "id": "64aeabb6-3cbb-46db-868e-24d47019ca2c",
   "metadata": {},
   "outputs": [
    {
     "data": {
      "text/plain": [
       "{'bpain scores shape counts': Counter({(16414,): 69}),\n",
       " 'bpain embeddings shape counts': Counter({(16414,): 69}),\n",
       " 'bpain spectrograms shape counts': Counter({(16414,): 69}),\n",
       " 'bpain mfcc shape counts': Counter({(16414,): 69}),\n",
       " 'discomf scores shape counts': Counter({(16414,): 94}),\n",
       " 'discomf embeddings shape counts': Counter({(16414,): 94}),\n",
       " 'discomf spectrograms shape counts': Counter({(16414,): 94}),\n",
       " 'discomf mfcc shape counts': Counter({(16414,): 94}),\n",
       " 'hungry scores shape counts': Counter({(16414,): 100}),\n",
       " 'hungry embeddings shape counts': Counter({(16414,): 100}),\n",
       " 'hungry spectrograms shape counts': Counter({(16414,): 100}),\n",
       " 'hungry mfcc shape counts': Counter({(16414,): 100}),\n",
       " 'tired scores shape counts': Counter({(16414,): 69}),\n",
       " 'tired embeddings shape counts': Counter({(16414,): 69}),\n",
       " 'tired spectrograms shape counts': Counter({(16414,): 69}),\n",
       " 'tired mfcc shape counts': Counter({(16414,): 69})}"
      ]
     },
     "execution_count": 23,
     "metadata": {},
     "output_type": "execute_result"
    }
   ],
   "source": [
    "shape_count"
   ]
  },
  {
   "cell_type": "code",
   "execution_count": 24,
   "id": "436ccef6-0677-4d0d-a38b-a36513ebac9a",
   "metadata": {},
   "outputs": [],
   "source": [
    "# Initialize a dictionary to store the concatenated arrays\n",
    "concatenated_arrays = {}\n",
    "\n",
    "# Iterate over each class\n",
    "for class_prefix in ['bpain', 'discomf', 'hungry', 'tired']:\n",
    "    scores = reshaped[f'{class_prefix} scores']\n",
    "    embeddings = reshaped[f'{class_prefix} embeddings']\n",
    "    spectrograms = reshaped[f'{class_prefix} spectrograms']\n",
    "    mfccs = reshaped[f'{class_prefix} mfcc']\n",
    "\n",
    "    # Ensure all lists are the same length\n",
    "    if len(scores) == len(embeddings) == len(spectrograms)== len(mfccs):\n",
    "        concatenated_arrays[class_prefix] = []\n",
    "\n",
    "        # Concatenate corresponding arrays from each category\n",
    "        for i in range(len(scores)):\n",
    "            concatenated = np.concatenate([scores[i], embeddings[i], spectrograms[i], mfccs[i]])\n",
    "            concatenated_arrays[class_prefix].append(concatenated)\n",
    "    else:\n",
    "        print(f\"Warning: Mismatch in lengths for {class_prefix} class\")"
   ]
  },
  {
   "cell_type": "code",
   "execution_count": 25,
   "id": "4e4c6d83-3682-4974-9a47-09dc9653fd4e",
   "metadata": {},
   "outputs": [],
   "source": [
    "concat_count = {}\n",
    "\n",
    "for class_name, lst in concatenated_arrays.items():\n",
    "    shapes = [arr.shape for arr in lst]\n",
    "    shapes_count = collections.Counter(shapes)\n",
    "    concat_count[f'{class_name} shape counts'] = shapes_count"
   ]
  },
  {
   "cell_type": "code",
   "execution_count": 26,
   "id": "6899dfee-6456-4e6d-a8a9-6680f0a7504b",
   "metadata": {},
   "outputs": [
    {
     "data": {
      "text/plain": [
       "{'bpain shape counts': Counter({(65656,): 69}),\n",
       " 'discomf shape counts': Counter({(65656,): 94}),\n",
       " 'hungry shape counts': Counter({(65656,): 100}),\n",
       " 'tired shape counts': Counter({(65656,): 69})}"
      ]
     },
     "execution_count": 26,
     "metadata": {},
     "output_type": "execute_result"
    }
   ],
   "source": [
    "concat_count"
   ]
  },
  {
   "cell_type": "code",
   "execution_count": 27,
   "id": "ca37572d-3115-4130-be33-e35fe753c7ea",
   "metadata": {},
   "outputs": [],
   "source": [
    "from sklearn.model_selection import train_test_split\n",
    "\n",
    "# Combine data and labels\n",
    "data = []\n",
    "labels = []\n",
    "for class_name, arrays in concatenated_arrays.items():\n",
    "    data.extend(arrays)\n",
    "    labels.extend([class_name] * len(arrays))\n",
    "\n",
    "# Convert to numpy arrays if not already\n",
    "data = np.array(data)\n",
    "labels = np.array(labels)\n",
    "\n",
    "# Shuffle and split the data into training and testing sets\n",
    "x_train, x_test, y_train, y_test = train_test_split(data, labels, test_size=0.2, random_state=42)"
   ]
  },
  {
   "cell_type": "code",
   "execution_count": 28,
   "id": "85c7320a-5c92-493c-9c29-9c6c2126c846",
   "metadata": {},
   "outputs": [],
   "source": [
    "from sklearn.preprocessing import LabelEncoder\n",
    "\n",
    "label_encoder = LabelEncoder()\n",
    "y_train = label_encoder.fit_transform(labels)\n",
    "y_test = label_encoder.transform(y_test)"
   ]
  },
  {
   "cell_type": "code",
   "execution_count": 29,
   "id": "1c186383-25d2-4209-9028-1a7a4a450c29",
   "metadata": {},
   "outputs": [
    {
     "name": "stdout",
     "output_type": "stream",
     "text": [
      "(332, 65656)\n",
      "(332,)\n",
      "(67, 65656)\n",
      "(67,)\n"
     ]
    }
   ],
   "source": [
    "print(data.shape)\n",
    "print(y_train.shape)\n",
    "print(x_test.shape)\n",
    "print(y_test.shape)"
   ]
  },
  {
   "cell_type": "markdown",
   "id": "e54469ba-7e92-45a7-a117-a1e0ef368177",
   "metadata": {},
   "source": [
    "## **Test Data**"
   ]
  },
  {
   "cell_type": "code",
   "execution_count": 30,
   "id": "17b13e97-0766-4df0-9144-9248fb550b86",
   "metadata": {},
   "outputs": [],
   "source": [
    "# test_folder_path = r'C:./dataset/audioonly/labeled/set 1/Test'"
   ]
  },
  {
   "cell_type": "code",
   "execution_count": 31,
   "id": "54c7567d-2071-4490-ba6b-53ee65c5d4e7",
   "metadata": {},
   "outputs": [],
   "source": [
    "# class_names_test = next(os.walk(test_folder_path))[1]\n",
    "# class_names_test = class_names_test\n",
    "# class_names_test"
   ]
  },
  {
   "cell_type": "code",
   "execution_count": 32,
   "id": "8abcd181-9680-4382-95c9-d1f284b1b0f0",
   "metadata": {},
   "outputs": [],
   "source": [
    "# audio_path_test = [os.path.join(test_folder_path, name) for name in class_names_test]\n",
    "# audio_path_test"
   ]
  },
  {
   "cell_type": "code",
   "execution_count": 33,
   "id": "1f8f7f36-b896-4519-8f5a-8ed5d9f8b351",
   "metadata": {},
   "outputs": [],
   "source": [
    "# bpain_audio_test = glob.glob(os.path.join(audio_path_test[0], '*.wav'))\n",
    "# discomf_audio_test = glob.glob(os.path.join(audio_path_test[1], '*.wav'))\n",
    "# hungry_audio_test = glob.glob(os.path.join(audio_path_test[2], '*.wav'))\n",
    "# tired_audio_test = glob.glob(os.path.join(audio_path_test[3], '*.wav'))"
   ]
  },
  {
   "cell_type": "code",
   "execution_count": 34,
   "id": "6068eb15-ec62-405a-9964-2d1ea818b347",
   "metadata": {},
   "outputs": [],
   "source": [
    "# audio_testnum_byclass = {\n",
    "#     'bpain': bpain_audio_test,\n",
    "#     'discomf': discomf_audio_test,\n",
    "#     'hungry': hungry_audio_test,\n",
    "#     'tired': tired_audio_test\n",
    "# }"
   ]
  },
  {
   "cell_type": "code",
   "execution_count": 35,
   "id": "c1546fe9-e17d-4b53-bc22-396e3522d8c7",
   "metadata": {},
   "outputs": [],
   "source": [
    "# # Replace 'your_audio_file.mp3' with the path to your audio file\n",
    "# load_audio_test = {}\n",
    "# for name, pathlst in audio_testnum_byclass.items():\n",
    "#     loaded = []\n",
    "#     for path in pathlst:\n",
    "#         audio, sr = librosa.load(path, sr=16000, mono=True, duration=5.2)\n",
    "#         loaded.append(audio)\n",
    "#     load_audio_test[name] = loaded"
   ]
  },
  {
   "cell_type": "code",
   "execution_count": 36,
   "id": "545dc6ce-aa61-42d4-ab51-6ba22d456e7d",
   "metadata": {},
   "outputs": [],
   "source": [
    "# mfcc_audio_test = {}\n",
    "# for name, pathlst in audio_testnum_byclass.items():\n",
    "#     mfccs = []\n",
    "#     for path in pathlst:\n",
    "#         audio, sr = librosa.load(path, sr=16000, mono=True, duration=5.0)\n",
    "#         mfcc = librosa.feature.mfcc(y=audio, sr=16000, n_mfcc=10)\n",
    "#         mfccs.append(mfcc)\n",
    "#     mfcc_audio_test[name] = mfccs"
   ]
  },
  {
   "cell_type": "code",
   "execution_count": 37,
   "id": "32b2576a-c1f5-4e7b-b0ac-0416b241d813",
   "metadata": {},
   "outputs": [],
   "source": [
    "# import collections\n",
    "\n",
    "# shape_test = {}\n",
    "\n",
    "# for class_name, lst in mfcc_audio_test.items():\n",
    "#     for arr in lst:\n",
    "#         shapes = [arr.shape for arr in lst]\n",
    "#         shapes_count = collections.Counter(shapes)\n",
    "#         shape_test[f'{class_name} mfcc shape counts'] = shapes_count"
   ]
  },
  {
   "cell_type": "code",
   "execution_count": 38,
   "id": "c3a3d5c1-5fe6-448d-86d0-396a3f789dad",
   "metadata": {},
   "outputs": [],
   "source": [
    "# shape_test"
   ]
  },
  {
   "cell_type": "code",
   "execution_count": 39,
   "id": "6a58ced3-3dbb-4736-84f5-be483396b658",
   "metadata": {},
   "outputs": [],
   "source": [
    "# # Run the model, check the output.\n",
    "# feature_test = {}\n",
    "# for name, arr in load_audio_test.items():\n",
    "#     # Initialize dictionaries for each class if not already existing\n",
    "#     if name not in feature_test:\n",
    "#         feature_test[name] = {'scores': [], 'embeddings': [], 'spectrograms': []}\n",
    "    \n",
    "#     for wav in arr:\n",
    "#         scores, embeddings, spectrogram = model(wav)\n",
    "        \n",
    "#         # Append the results to the respective lists in the dictionary\n",
    "#         feature_test[name]['scores'].append(np.array(scores))\n",
    "#         feature_test[name]['embeddings'].append(np.array(embeddings))\n",
    "#         feature_test[name]['spectrograms'].append(np.array(spectrogram))"
   ]
  },
  {
   "cell_type": "code",
   "execution_count": 40,
   "id": "0b17b3b2-f721-4c4c-ba6a-a7d633a94d4f",
   "metadata": {},
   "outputs": [],
   "source": [
    "# shape_feat_test = {}\n",
    "\n",
    "# for class_name in feature_test.keys():\n",
    "#     for cat, lst in feature_test[class_name].items():\n",
    "#         shapes = [arr.shape for arr in lst]\n",
    "#         shapes_count = collections.Counter(shapes)\n",
    "#         shape_feat_test[f'{class_name} {cat} shape counts'] = shapes_count"
   ]
  },
  {
   "cell_type": "code",
   "execution_count": 41,
   "id": "1bcfaf13-1425-4931-968f-e8a7a030e6a7",
   "metadata": {},
   "outputs": [],
   "source": [
    "# shape_feat_test"
   ]
  },
  {
   "cell_type": "code",
   "execution_count": 42,
   "id": "d665c7cf-5898-4eb4-930d-a1985e581752",
   "metadata": {},
   "outputs": [],
   "source": [
    "# for class_name, lst in mfcc_audio_test.items():\n",
    "#     feature_test[class_name]['mfcc'] = lst"
   ]
  },
  {
   "cell_type": "code",
   "execution_count": 43,
   "id": "c102a5f6-d91f-434a-917e-343475a37621",
   "metadata": {},
   "outputs": [],
   "source": [
    "# reshaped_test = {}\n",
    "\n",
    "# for class_name, categories in feature_test.items():\n",
    "#     for cat, lst in categories.items():\n",
    "#         temp = []\n",
    "#         for arr in lst:\n",
    "#             h, w = arr.shape\n",
    "#             flat_arr = arr.flatten()\n",
    "#             size = h * w\n",
    "\n",
    "#             if size == 5210 or size == 1570 or size == 10240:\n",
    "#                 padded = np.pad(flat_arr, pad_width=(0, avg - size), mode='constant', constant_values=0)\n",
    "#                 temp.append(padded)\n",
    "#             else:\n",
    "#                 trunc_arr = flat_arr[:avg]\n",
    "#                 temp.append(trunc_arr) \n",
    "        \n",
    "#         reshaped_test[f'{class_name} {cat}'] = temp"
   ]
  },
  {
   "cell_type": "code",
   "execution_count": 44,
   "id": "281ae866-5361-4647-933b-f1336d0eed30",
   "metadata": {},
   "outputs": [],
   "source": [
    "# shape_count_test = {}\n",
    "\n",
    "# for class_name, lst in reshaped_test.items():\n",
    "#     shapes = [arr.shape for arr in lst]\n",
    "#     shapes_count = collections.Counter(shapes)\n",
    "#     shape_count_test[f'{class_name} shape counts'] = shapes_count"
   ]
  },
  {
   "cell_type": "code",
   "execution_count": 45,
   "id": "89282226-84f6-49ab-a7c4-5ff0ba509d87",
   "metadata": {},
   "outputs": [],
   "source": [
    "# shape_count_test"
   ]
  },
  {
   "cell_type": "code",
   "execution_count": 46,
   "id": "70385a59-7c63-43ed-84aa-e6c83ff0e428",
   "metadata": {},
   "outputs": [],
   "source": [
    "# # Initialize a dictionary to store the concatenated arrays\n",
    "# concat_arr_test = {}\n",
    "\n",
    "# # Iterate over each class\n",
    "# for class_prefix in ['bpain', 'discomf', 'hungry', 'tired']:\n",
    "#     scores = reshaped_test[f'{class_prefix} scores']\n",
    "#     embeddings = reshaped_test[f'{class_prefix} embeddings']\n",
    "#     spectrograms = reshaped_test[f'{class_prefix} spectrograms']\n",
    "#     mfccs = reshaped_test[f'{class_prefix} mfcc']\n",
    "\n",
    "#     # Ensure all lists are the same length\n",
    "#     if len(scores) == len(embeddings) == len(spectrograms)== len(mfccs):\n",
    "#         concat_arr_test[class_prefix] = []\n",
    "\n",
    "#         # Concatenate corresponding arrays from each category\n",
    "#         for i in range(len(scores)):\n",
    "#             concatenated = np.concatenate([scores[i], embeddings[i], spectrograms[i], mfccs[i]])\n",
    "#             concat_arr_test[class_prefix].append(concatenated)\n",
    "#     else:\n",
    "#         print(f\"Warning: Mismatch in lengths for {class_prefix} class\")"
   ]
  },
  {
   "cell_type": "code",
   "execution_count": 47,
   "id": "92e4f213-4370-4719-93d2-ff71c86a0657",
   "metadata": {},
   "outputs": [],
   "source": [
    "# concat_count_test = {}\n",
    "\n",
    "# for class_name, lst in concat_arr_test.items():\n",
    "#     shapes = [arr.shape for arr in lst]\n",
    "#     shapes_count = collections.Counter(shapes)\n",
    "#     concat_count_test[f'{class_name} shape counts'] = shapes_count"
   ]
  },
  {
   "cell_type": "code",
   "execution_count": 48,
   "id": "20529dc2-c16b-4f31-9354-e2233ab0eda5",
   "metadata": {},
   "outputs": [],
   "source": [
    "# concat_count_test"
   ]
  },
  {
   "cell_type": "code",
   "execution_count": 49,
   "id": "665da706-9df2-43fa-9d7b-e737ac37c4fe",
   "metadata": {},
   "outputs": [],
   "source": [
    "# # Combine data and labels\n",
    "# x_test = []\n",
    "# y_test = []\n",
    "# for class_name, arrays in concat_arr_test.items():\n",
    "#     x_test.extend(arrays)\n",
    "#     y_test.extend([class_name] * len(arrays))\n",
    "\n",
    "# # Convert to numpy arrays if not already\n",
    "# x_test = np.array(x_test)\n",
    "# y_test = np.array(y_test)"
   ]
  },
  {
   "cell_type": "code",
   "execution_count": 50,
   "id": "4d152cf3-8519-47d7-ac52-f4338f5d45db",
   "metadata": {},
   "outputs": [],
   "source": [
    "# label_encoder = LabelEncoder()\n",
    "# y_test = label_encoder.fit_transform(y_test)"
   ]
  },
  {
   "cell_type": "code",
   "execution_count": 51,
   "id": "d051977c-c03a-4f7b-a527-dfeba321e6a5",
   "metadata": {},
   "outputs": [],
   "source": [
    "# print(x_test.shape)\n",
    "# print(y_test.shape)"
   ]
  },
  {
   "cell_type": "markdown",
   "id": "9f708a52-d961-462e-88c0-b1a8af531ff3",
   "metadata": {},
   "source": [
    "## Model Training"
   ]
  },
  {
   "cell_type": "code",
   "execution_count": 52,
   "id": "f68508c8-ee1d-4a2f-8206-e3feea7fc4fe",
   "metadata": {
    "scrolled": true
   },
   "outputs": [
    {
     "name": "stdout",
     "output_type": "stream",
     "text": [
      "Model: \"sequential\"\n",
      "_________________________________________________________________\n",
      " Layer (type)                Output Shape              Param #   \n",
      "=================================================================\n",
      " dense (Dense)               (None, 128)               8404096   \n",
      "                                                                 \n",
      " batch_normalization (BatchN  (None, 128)              512       \n",
      " ormalization)                                                   \n",
      "                                                                 \n",
      " activation (Activation)     (None, 128)               0         \n",
      "                                                                 \n",
      " dense_1 (Dense)             (None, 64)                8256      \n",
      "                                                                 \n",
      " batch_normalization_1 (Batc  (None, 64)               256       \n",
      " hNormalization)                                                 \n",
      "                                                                 \n",
      " activation_1 (Activation)   (None, 64)                0         \n",
      "                                                                 \n",
      " dense_2 (Dense)             (None, 32)                2080      \n",
      "                                                                 \n",
      " batch_normalization_2 (Batc  (None, 32)               128       \n",
      " hNormalization)                                                 \n",
      "                                                                 \n",
      " activation_2 (Activation)   (None, 32)                0         \n",
      "                                                                 \n",
      " dense_3 (Dense)             (None, 16)                528       \n",
      "                                                                 \n",
      " batch_normalization_3 (Batc  (None, 16)               64        \n",
      " hNormalization)                                                 \n",
      "                                                                 \n",
      " activation_3 (Activation)   (None, 16)                0         \n",
      "                                                                 \n",
      " dense_4 (Dense)             (None, 4)                 68        \n",
      "                                                                 \n",
      "=================================================================\n",
      "Total params: 8,415,988\n",
      "Trainable params: 8,415,508\n",
      "Non-trainable params: 480\n",
      "_________________________________________________________________\n"
     ]
    }
   ],
   "source": [
    "from tensorflow.keras.models import Sequential\n",
    "from tensorflow.keras.layers import Dense, BatchNormalization, Activation\n",
    "\n",
    "model = Sequential([\n",
    "    Dense(128, input_shape=(65656,)),  # First hidden layer\n",
    "    BatchNormalization(),              # Batch normalization for the first hidden layer\n",
    "    Activation('sigmoid'),                # Activation for the first hidden layer\n",
    "\n",
    "    Dense(64),                        # Second hidden layer\n",
    "    BatchNormalization(),              # Batch normalization for the second hidden layer\n",
    "    Activation('sigmoid'),                # Activation for the second hidden layer\n",
    "\n",
    "    Dense(32),                         # Third hidden layer\n",
    "    BatchNormalization(),              # Batch normalization for the third hidden layer\n",
    "    Activation('sigmoid'),             # Activation for the third hidden layer\n",
    "\n",
    "    Dense(16),                         # Fourth hidden layer\n",
    "    BatchNormalization(),              # Batch normalization for the fourth hidden layer\n",
    "    Activation('sigmoid'),\n",
    "\n",
    "    Dense(4, activation='softmax')     # Output layer\n",
    "])\n",
    "\n",
    "# Compile the model\n",
    "model.compile(optimizer='adam', \n",
    "              loss='sparse_categorical_crossentropy', \n",
    "              metrics=['accuracy'])\n",
    "\n",
    "# Summary of the model\n",
    "model.summary()"
   ]
  },
  {
   "cell_type": "code",
   "execution_count": 53,
   "id": "ab2f5ad3-bb34-43ab-bbb3-3650db505276",
   "metadata": {},
   "outputs": [
    {
     "name": "stdout",
     "output_type": "stream",
     "text": [
      "Epoch 1/30\n",
      "83/83 [==============================] - 2s 11ms/step - loss: 1.4494 - accuracy: 0.3855 - val_loss: 1.3913 - val_accuracy: 0.3731\n",
      "Epoch 2/30\n",
      "83/83 [==============================] - 1s 7ms/step - loss: 1.2773 - accuracy: 0.4127 - val_loss: 1.3217 - val_accuracy: 0.3731\n",
      "Epoch 3/30\n",
      "83/83 [==============================] - 1s 7ms/step - loss: 1.2226 - accuracy: 0.4880 - val_loss: 1.2094 - val_accuracy: 0.4627\n",
      "Epoch 4/30\n",
      "83/83 [==============================] - 1s 7ms/step - loss: 1.1629 - accuracy: 0.5060 - val_loss: 1.1376 - val_accuracy: 0.4776\n",
      "Epoch 5/30\n",
      "83/83 [==============================] - 1s 7ms/step - loss: 1.1783 - accuracy: 0.5151 - val_loss: 1.0503 - val_accuracy: 0.5224\n",
      "Epoch 6/30\n",
      "83/83 [==============================] - 1s 7ms/step - loss: 1.1460 - accuracy: 0.5030 - val_loss: 1.1537 - val_accuracy: 0.5373\n",
      "Epoch 7/30\n",
      "83/83 [==============================] - 1s 7ms/step - loss: 1.1108 - accuracy: 0.5181 - val_loss: 1.0049 - val_accuracy: 0.6119\n",
      "Epoch 8/30\n",
      "83/83 [==============================] - 1s 7ms/step - loss: 1.0667 - accuracy: 0.5813 - val_loss: 0.9836 - val_accuracy: 0.6418\n",
      "Epoch 9/30\n",
      "83/83 [==============================] - 1s 8ms/step - loss: 1.0890 - accuracy: 0.5512 - val_loss: 0.9665 - val_accuracy: 0.7164\n",
      "Epoch 10/30\n",
      "83/83 [==============================] - 1s 8ms/step - loss: 1.0010 - accuracy: 0.6355 - val_loss: 0.9290 - val_accuracy: 0.5970\n",
      "Epoch 11/30\n",
      "83/83 [==============================] - 1s 7ms/step - loss: 0.9531 - accuracy: 0.6596 - val_loss: 0.8888 - val_accuracy: 0.6716\n",
      "Epoch 12/30\n",
      "83/83 [==============================] - 1s 7ms/step - loss: 0.9506 - accuracy: 0.6295 - val_loss: 0.7871 - val_accuracy: 0.7761\n",
      "Epoch 13/30\n",
      "83/83 [==============================] - 1s 7ms/step - loss: 0.9412 - accuracy: 0.6596 - val_loss: 0.9229 - val_accuracy: 0.6119\n",
      "Epoch 14/30\n",
      "83/83 [==============================] - 1s 7ms/step - loss: 0.8898 - accuracy: 0.6898 - val_loss: 1.2007 - val_accuracy: 0.4328\n",
      "Epoch 15/30\n",
      "83/83 [==============================] - 1s 7ms/step - loss: 0.9043 - accuracy: 0.6596 - val_loss: 0.8253 - val_accuracy: 0.6567\n",
      "Epoch 16/30\n",
      "83/83 [==============================] - 1s 7ms/step - loss: 0.9372 - accuracy: 0.6355 - val_loss: 0.8960 - val_accuracy: 0.5821\n",
      "Epoch 17/30\n",
      "83/83 [==============================] - 1s 7ms/step - loss: 0.8571 - accuracy: 0.6928 - val_loss: 0.9361 - val_accuracy: 0.5522\n",
      "Epoch 18/30\n",
      "83/83 [==============================] - 1s 8ms/step - loss: 0.8140 - accuracy: 0.7319 - val_loss: 0.7465 - val_accuracy: 0.6567\n",
      "Epoch 19/30\n",
      "83/83 [==============================] - 1s 7ms/step - loss: 0.8264 - accuracy: 0.7139 - val_loss: 0.7909 - val_accuracy: 0.7313\n",
      "Epoch 20/30\n",
      "83/83 [==============================] - 1s 8ms/step - loss: 0.8167 - accuracy: 0.6898 - val_loss: 0.9653 - val_accuracy: 0.6716\n",
      "Epoch 21/30\n",
      "83/83 [==============================] - 1s 8ms/step - loss: 0.7225 - accuracy: 0.7771 - val_loss: 0.7386 - val_accuracy: 0.6866\n",
      "Epoch 22/30\n",
      "83/83 [==============================] - 1s 7ms/step - loss: 0.7520 - accuracy: 0.7349 - val_loss: 0.4704 - val_accuracy: 0.8955\n",
      "Epoch 23/30\n",
      "83/83 [==============================] - 1s 7ms/step - loss: 0.7491 - accuracy: 0.7470 - val_loss: 0.5114 - val_accuracy: 0.8806\n",
      "Epoch 24/30\n",
      "83/83 [==============================] - 1s 7ms/step - loss: 0.7246 - accuracy: 0.7380 - val_loss: 1.0145 - val_accuracy: 0.6866\n",
      "Epoch 25/30\n",
      "83/83 [==============================] - 1s 7ms/step - loss: 0.7536 - accuracy: 0.7349 - val_loss: 0.6184 - val_accuracy: 0.8507\n",
      "Epoch 26/30\n",
      "83/83 [==============================] - 1s 7ms/step - loss: 0.7295 - accuracy: 0.7470 - val_loss: 0.3940 - val_accuracy: 0.9701\n",
      "Epoch 27/30\n",
      "83/83 [==============================] - 1s 7ms/step - loss: 0.7159 - accuracy: 0.7741 - val_loss: 0.5687 - val_accuracy: 0.8209\n",
      "Epoch 28/30\n",
      "83/83 [==============================] - 1s 7ms/step - loss: 0.6419 - accuracy: 0.7952 - val_loss: 0.4316 - val_accuracy: 0.8955\n",
      "Epoch 29/30\n",
      "83/83 [==============================] - 1s 7ms/step - loss: 0.6561 - accuracy: 0.7801 - val_loss: 0.3942 - val_accuracy: 0.9104\n",
      "Epoch 30/30\n",
      "83/83 [==============================] - 1s 8ms/step - loss: 0.7162 - accuracy: 0.7500 - val_loss: 0.3845 - val_accuracy: 0.9254\n"
     ]
    }
   ],
   "source": [
    "history = model.fit(data,\n",
    "                    y_train,\n",
    "                    validation_data=(x_test, y_test),\n",
    "                    epochs=30,\n",
    "                    batch_size=4)"
   ]
  },
  {
   "cell_type": "code",
   "execution_count": 54,
   "id": "64476185-aa0a-41d8-8821-014ab37dcb06",
   "metadata": {},
   "outputs": [
    {
     "name": "stdout",
     "output_type": "stream",
     "text": [
      "3/3 [==============================] - 0s 4ms/step - loss: 0.3845 - accuracy: 0.9254\n"
     ]
    },
    {
     "data": {
      "text/plain": [
       "[0.38445761799812317, 0.9253731369972229]"
      ]
     },
     "execution_count": 54,
     "metadata": {},
     "output_type": "execute_result"
    }
   ],
   "source": [
    "model.evaluate(x_test, y_test)"
   ]
  },
  {
   "cell_type": "code",
   "execution_count": 55,
   "id": "651948f4-ac1d-466d-bd73-14118a0ed502",
   "metadata": {},
   "outputs": [],
   "source": [
    "acc = history.history['accuracy']\n",
    "val_acc = history.history['val_accuracy']\n",
    "loss = history.history['loss']\n",
    "val_loss = history.history['val_loss']"
   ]
  },
  {
   "cell_type": "code",
   "execution_count": 56,
   "id": "419ba398-9356-4ed4-a68d-b0cd576e2d11",
   "metadata": {},
   "outputs": [
    {
     "data": {
      "image/png": "[encoded data removed]",
      "text/plain": [
       "<Figure size 800x600 with 1 Axes>"
      ]
     },
     "metadata": {},
     "output_type": "display_data"
    },
    {
     "data": {
      "image/png": "[encoded data removed]",
      "text/plain": [
       "<Figure size 800x600 with 1 Axes>"
      ]
     },
     "metadata": {},
     "output_type": "display_data"
    }
   ],
   "source": [
    "# Plot accuracy\n",
    "plt.figure(figsize=(8, 6))\n",
    "plt.plot(acc, label='Training Accuracy')\n",
    "plt.plot(val_acc, label='Validation Accuracy')\n",
    "plt.xlabel('Epoch')\n",
    "plt.ylabel('Accuracy')\n",
    "plt.legend()\n",
    "plt.show()\n",
    "\n",
    "# Plot loss\n",
    "plt.figure(figsize=(8, 6))\n",
    "plt.plot(loss, label='Training Loss')\n",
    "plt.plot(val_loss, label='Validation Loss')\n",
    "plt.xlabel('Epoch')\n",
    "plt.ylabel('Loss')\n",
    "plt.legend()\n",
    "plt.show()"
   ]
  },
  {
   "cell_type": "markdown",
   "id": "79b739b1-2ca2-4818-a1fc-50aacc086968",
   "metadata": {},
   "source": [
    "## XGBoost"
   ]
  },
  {
   "cell_type": "code",
   "execution_count": 57,
   "id": "bb3702ba-6230-4599-9012-c221d93b7336",
   "metadata": {},
   "outputs": [],
   "source": [
    "# train = np.load(r\"C:\\Users\\dave\\aiffel\\EUANGGG\\maincode\\data\\dataset\\audioonly\\labeled\\set 2\\xtrain.npy\")\n",
    "# label = np.load(r\"C:\\Users\\dave\\aiffel\\EUANGGG\\maincode\\data\\dataset\\audioonly\\labeled\\set 2\\ytrain.npy\")\n",
    "# test = np.load(r\"C:\\Users\\dave\\aiffel\\EUANGGG\\maincode\\data\\dataset\\audioonly\\labeled\\set 2\\xtest.npy\")\n",
    "# test_label = np.load(r\"C:\\Users\\dave\\aiffel\\EUANGGG\\maincode\\data\\dataset\\audioonly\\labeled\\set 2\\ytest.npy\")"
   ]
  },
  {
   "cell_type": "code",
   "execution_count": 58,
   "id": "dfa31633-e412-43bd-8c49-3cf114688315",
   "metadata": {},
   "outputs": [
    {
     "name": "stdout",
     "output_type": "stream",
     "text": [
      "Accuracy: 100.00%\n"
     ]
    }
   ],
   "source": [
    "import xgboost as xgb\n",
    "from sklearn.model_selection import train_test_split\n",
    "from sklearn.metrics import accuracy_score\n",
    "\n",
    "model = xgb.XGBClassifier(objective='multi:softmax', num_class=4)\n",
    "model.fit(data, y_train)\n",
    "y_pred = model.predict(x_test)\n",
    "accuracy = accuracy_score(y_test, y_pred)\n",
    "print(\"Accuracy: %.2f%%\" % (accuracy * 100.0))"
   ]
  },
  {
   "cell_type": "markdown",
   "id": "cc655895-5692-4ecc-b556-f595767a3a01",
   "metadata": {},
   "source": [
    "## random forest"
   ]
  },
  {
   "cell_type": "code",
   "execution_count": 59,
   "id": "b5a6fb1c-c9aa-4af6-a1cc-2832dbeeb41c",
   "metadata": {},
   "outputs": [
    {
     "name": "stdout",
     "output_type": "stream",
     "text": [
      "Accuracy: 100.00%\n"
     ]
    }
   ],
   "source": [
    "from sklearn.ensemble import RandomForestClassifier\n",
    "\n",
    "# Create a Random Forest classifier model\n",
    "model = RandomForestClassifier(n_estimators=300, random_state=42)\n",
    "\n",
    "# Train the model\n",
    "model.fit(data, y_train)\n",
    "\n",
    "# Predict the labels for the test set\n",
    "y_pred = model.predict(x_test)\n",
    "\n",
    "# Evaluate the accuracy of the model\n",
    "accuracy = accuracy_score(y_test, y_pred)\n",
    "print(\"Accuracy: %.2f%%\" % (accuracy * 100.0))"
   ]
  },
  {
   "cell_type": "code",
   "execution_count": null,
   "id": "6f93e222-d32d-43d8-b4e2-3d02fef9d60d",
   "metadata": {},
   "outputs": [],
   "source": []
  }
 ],
 "metadata": {
  "kernelspec": {
   "display_name": "Python 3 (ipykernel)",
   "language": "python",
   "name": "python3"
  },
  "language_info": {
   "codemirror_mode": {
    "name": "ipython",
    "version": 3
   },
   "file_extension": ".py",
   "mimetype": "text/x-python",
   "name": "python",
   "nbconvert_exporter": "python",
   "pygments_lexer": "ipython3",
   "version": "3.10.11"
  }
 },
 "nbformat": 4,
 "nbformat_minor": 5
}
