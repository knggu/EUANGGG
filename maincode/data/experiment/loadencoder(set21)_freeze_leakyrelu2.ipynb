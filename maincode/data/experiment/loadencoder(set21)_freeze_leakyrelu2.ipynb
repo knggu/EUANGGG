{
 "cells": [
  {
   "cell_type": "code",
   "execution_count": 1,
   "metadata": {},
   "outputs": [],
   "source": [
    "import matplotlib.pyplot as plt\n",
    "import os\n",
    "from scipy.io import wavfile\n",
    "from collections import defaultdict, Counter\n",
    "from scipy import signal\n",
    "import numpy as np\n",
    "import librosa\n",
    "import random\n",
    "import tensorflow as tf\n",
    "from keras import models, layers"
   ]
  },
  {
   "cell_type": "code",
   "execution_count": 2,
   "metadata": {},
   "outputs": [],
   "source": [
    "train_audio_path = r'C:./set21/train'\n",
    "test_audio_path = r'C:./set21/test'"
   ]
  },
  {
   "cell_type": "code",
   "execution_count": 3,
   "metadata": {},
   "outputs": [],
   "source": [
    "#파라미터 설정\n",
    "sr = 16000\n",
    "n_mels = 128\n",
    "# n_ttf = \n",
    "# hop_length\n",
    "# 224 222 220 110 108 106 54  "
   ]
  },
  {
   "cell_type": "code",
   "execution_count": 4,
   "metadata": {},
   "outputs": [],
   "source": [
    "trainset = []\n",
    "testset = []"
   ]
  },
  {
   "cell_type": "code",
   "execution_count": 5,
   "metadata": {},
   "outputs": [],
   "source": [
    "label_mapping = {'belly_pain': 0, 'discomfort': 1, 'hungry': 2, 'tired': 3}"
   ]
  },
  {
   "cell_type": "code",
   "execution_count": 6,
   "metadata": {},
   "outputs": [],
   "source": [
    "# 목표로 하는 패딩 크기\n",
    "target_size = (n_mels, n_mels)\n",
    "\n",
    "# 폴더 내의 파일을 반복하여 데이터셋에 추가\n",
    "for class_name in label_mapping.keys():\n",
    "    class_path = os.path.join(train_audio_path, class_name)\n",
    "    \n",
    "    # 클래스 폴더 내의 WAV 파일에 대해 루프 수행\n",
    "    for filename in os.listdir(class_path):\n",
    "        if filename.endswith(\".wav\"):\n",
    "            try:\n",
    "                # WAV 파일 읽기\n",
    "                wav_path = os.path.join(class_path, filename)\n",
    "                \n",
    "                wav, sr = librosa.load(wav_path, sr=None, mono=True, duration=5.0)\n",
    "\n",
    "                # Mel-spectrogram\n",
    "                mels_spec = librosa.feature.melspectrogram(y=wav, sr= sr, n_mels= n_mels)\n",
    "                \n",
    "                # 패딩 또는 자르기 작업\n",
    "                if mels_spec.shape[1] > target_size[1]:\n",
    "                    # 자르기\n",
    "                    padded_mels = mels_spec[:, :target_size[1]]\n",
    "                else:\n",
    "                    # 패딩\n",
    "                    pad_width = target_size[1] - mels_spec.shape[1]\n",
    "                    padded_mels = np.pad(mels_spec, ((0, 0), (0, pad_width)), mode='constant')\n",
    "                \n",
    "                # 라벨 할당\n",
    "                label = label_mapping[class_name]\n",
    "                \n",
    "                # 데이터와 라벨을 trainset에 추가\n",
    "                trainset.append((padded_mels, label))\n",
    "                \n",
    "            except Exception as e:\n",
    "                print(f'Error processing {filename}: {e}')"
   ]
  },
  {
   "cell_type": "code",
   "execution_count": 7,
   "metadata": {},
   "outputs": [
    {
     "name": "stdout",
     "output_type": "stream",
     "text": [
      "Mel_spec 크기: (128, 128), 라벨: 0\n",
      "Mel_spec 크기: (128, 128), 라벨: 0\n",
      "Mel_spec 크기: (128, 128), 라벨: 0\n",
      "Mel_spec 크기: (128, 128), 라벨: 0\n",
      "Mel_spec 크기: (128, 128), 라벨: 0\n",
      "Mel_spec 크기: (128, 128), 라벨: 0\n",
      "Mel_spec 크기: (128, 128), 라벨: 0\n",
      "Mel_spec 크기: (128, 128), 라벨: 0\n",
      "Mel_spec 크기: (128, 128), 라벨: 0\n",
      "Mel_spec 크기: (128, 128), 라벨: 0\n",
      "Mel_spec 크기: (128, 128), 라벨: 0\n",
      "Mel_spec 크기: (128, 128), 라벨: 0\n",
      "Mel_spec 크기: (128, 128), 라벨: 0\n",
      "Mel_spec 크기: (128, 128), 라벨: 0\n",
      "Mel_spec 크기: (128, 128), 라벨: 0\n",
      "Mel_spec 크기: (128, 128), 라벨: 0\n",
      "Mel_spec 크기: (128, 128), 라벨: 0\n",
      "Mel_spec 크기: (128, 128), 라벨: 0\n",
      "Mel_spec 크기: (128, 128), 라벨: 0\n",
      "Mel_spec 크기: (128, 128), 라벨: 0\n",
      "Mel_spec 크기: (128, 128), 라벨: 0\n",
      "Mel_spec 크기: (128, 128), 라벨: 0\n",
      "Mel_spec 크기: (128, 128), 라벨: 0\n",
      "Mel_spec 크기: (128, 128), 라벨: 0\n",
      "Mel_spec 크기: (128, 128), 라벨: 0\n",
      "Mel_spec 크기: (128, 128), 라벨: 0\n",
      "Mel_spec 크기: (128, 128), 라벨: 0\n",
      "Mel_spec 크기: (128, 128), 라벨: 0\n",
      "Mel_spec 크기: (128, 128), 라벨: 0\n",
      "Mel_spec 크기: (128, 128), 라벨: 0\n",
      "Mel_spec 크기: (128, 128), 라벨: 0\n",
      "Mel_spec 크기: (128, 128), 라벨: 0\n",
      "Mel_spec 크기: (128, 128), 라벨: 0\n",
      "Mel_spec 크기: (128, 128), 라벨: 0\n",
      "Mel_spec 크기: (128, 128), 라벨: 0\n",
      "Mel_spec 크기: (128, 128), 라벨: 0\n",
      "Mel_spec 크기: (128, 128), 라벨: 0\n",
      "Mel_spec 크기: (128, 128), 라벨: 0\n",
      "Mel_spec 크기: (128, 128), 라벨: 0\n",
      "Mel_spec 크기: (128, 128), 라벨: 0\n",
      "Mel_spec 크기: (128, 128), 라벨: 0\n",
      "Mel_spec 크기: (128, 128), 라벨: 0\n",
      "Mel_spec 크기: (128, 128), 라벨: 0\n",
      "Mel_spec 크기: (128, 128), 라벨: 0\n",
      "Mel_spec 크기: (128, 128), 라벨: 0\n",
      "Mel_spec 크기: (128, 128), 라벨: 0\n",
      "Mel_spec 크기: (128, 128), 라벨: 0\n",
      "Mel_spec 크기: (128, 128), 라벨: 0\n",
      "Mel_spec 크기: (128, 128), 라벨: 0\n",
      "Mel_spec 크기: (128, 128), 라벨: 0\n",
      "Mel_spec 크기: (128, 128), 라벨: 0\n",
      "Mel_spec 크기: (128, 128), 라벨: 0\n",
      "Mel_spec 크기: (128, 128), 라벨: 0\n",
      "Mel_spec 크기: (128, 128), 라벨: 0\n",
      "Mel_spec 크기: (128, 128), 라벨: 0\n",
      "Mel_spec 크기: (128, 128), 라벨: 0\n",
      "Mel_spec 크기: (128, 128), 라벨: 0\n",
      "Mel_spec 크기: (128, 128), 라벨: 0\n",
      "Mel_spec 크기: (128, 128), 라벨: 0\n",
      "Mel_spec 크기: (128, 128), 라벨: 0\n",
      "Mel_spec 크기: (128, 128), 라벨: 0\n",
      "Mel_spec 크기: (128, 128), 라벨: 0\n",
      "Mel_spec 크기: (128, 128), 라벨: 0\n",
      "Mel_spec 크기: (128, 128), 라벨: 0\n",
      "Mel_spec 크기: (128, 128), 라벨: 0\n",
      "Mel_spec 크기: (128, 128), 라벨: 0\n",
      "Mel_spec 크기: (128, 128), 라벨: 0\n",
      "Mel_spec 크기: (128, 128), 라벨: 0\n",
      "Mel_spec 크기: (128, 128), 라벨: 0\n",
      "Mel_spec 크기: (128, 128), 라벨: 1\n",
      "Mel_spec 크기: (128, 128), 라벨: 1\n",
      "Mel_spec 크기: (128, 128), 라벨: 1\n",
      "Mel_spec 크기: (128, 128), 라벨: 1\n",
      "Mel_spec 크기: (128, 128), 라벨: 1\n",
      "Mel_spec 크기: (128, 128), 라벨: 1\n",
      "Mel_spec 크기: (128, 128), 라벨: 1\n",
      "Mel_spec 크기: (128, 128), 라벨: 1\n",
      "Mel_spec 크기: (128, 128), 라벨: 1\n",
      "Mel_spec 크기: (128, 128), 라벨: 1\n",
      "Mel_spec 크기: (128, 128), 라벨: 1\n",
      "Mel_spec 크기: (128, 128), 라벨: 1\n",
      "Mel_spec 크기: (128, 128), 라벨: 1\n",
      "Mel_spec 크기: (128, 128), 라벨: 1\n",
      "Mel_spec 크기: (128, 128), 라벨: 1\n",
      "Mel_spec 크기: (128, 128), 라벨: 1\n",
      "Mel_spec 크기: (128, 128), 라벨: 1\n",
      "Mel_spec 크기: (128, 128), 라벨: 1\n",
      "Mel_spec 크기: (128, 128), 라벨: 1\n",
      "Mel_spec 크기: (128, 128), 라벨: 1\n",
      "Mel_spec 크기: (128, 128), 라벨: 1\n",
      "Mel_spec 크기: (128, 128), 라벨: 1\n",
      "Mel_spec 크기: (128, 128), 라벨: 1\n",
      "Mel_spec 크기: (128, 128), 라벨: 1\n",
      "Mel_spec 크기: (128, 128), 라벨: 1\n",
      "Mel_spec 크기: (128, 128), 라벨: 1\n",
      "Mel_spec 크기: (128, 128), 라벨: 1\n",
      "Mel_spec 크기: (128, 128), 라벨: 1\n",
      "Mel_spec 크기: (128, 128), 라벨: 1\n",
      "Mel_spec 크기: (128, 128), 라벨: 1\n",
      "Mel_spec 크기: (128, 128), 라벨: 1\n",
      "Mel_spec 크기: (128, 128), 라벨: 1\n",
      "Mel_spec 크기: (128, 128), 라벨: 1\n",
      "Mel_spec 크기: (128, 128), 라벨: 1\n",
      "Mel_spec 크기: (128, 128), 라벨: 1\n",
      "Mel_spec 크기: (128, 128), 라벨: 1\n",
      "Mel_spec 크기: (128, 128), 라벨: 1\n",
      "Mel_spec 크기: (128, 128), 라벨: 1\n",
      "Mel_spec 크기: (128, 128), 라벨: 1\n",
      "Mel_spec 크기: (128, 128), 라벨: 1\n",
      "Mel_spec 크기: (128, 128), 라벨: 1\n",
      "Mel_spec 크기: (128, 128), 라벨: 1\n",
      "Mel_spec 크기: (128, 128), 라벨: 1\n",
      "Mel_spec 크기: (128, 128), 라벨: 1\n",
      "Mel_spec 크기: (128, 128), 라벨: 1\n",
      "Mel_spec 크기: (128, 128), 라벨: 1\n",
      "Mel_spec 크기: (128, 128), 라벨: 1\n",
      "Mel_spec 크기: (128, 128), 라벨: 1\n",
      "Mel_spec 크기: (128, 128), 라벨: 1\n",
      "Mel_spec 크기: (128, 128), 라벨: 1\n",
      "Mel_spec 크기: (128, 128), 라벨: 1\n",
      "Mel_spec 크기: (128, 128), 라벨: 1\n",
      "Mel_spec 크기: (128, 128), 라벨: 1\n",
      "Mel_spec 크기: (128, 128), 라벨: 1\n",
      "Mel_spec 크기: (128, 128), 라벨: 1\n",
      "Mel_spec 크기: (128, 128), 라벨: 1\n",
      "Mel_spec 크기: (128, 128), 라벨: 1\n",
      "Mel_spec 크기: (128, 128), 라벨: 1\n",
      "Mel_spec 크기: (128, 128), 라벨: 1\n",
      "Mel_spec 크기: (128, 128), 라벨: 1\n",
      "Mel_spec 크기: (128, 128), 라벨: 1\n",
      "Mel_spec 크기: (128, 128), 라벨: 1\n",
      "Mel_spec 크기: (128, 128), 라벨: 1\n",
      "Mel_spec 크기: (128, 128), 라벨: 1\n",
      "Mel_spec 크기: (128, 128), 라벨: 1\n",
      "Mel_spec 크기: (128, 128), 라벨: 1\n",
      "Mel_spec 크기: (128, 128), 라벨: 1\n",
      "Mel_spec 크기: (128, 128), 라벨: 1\n",
      "Mel_spec 크기: (128, 128), 라벨: 1\n",
      "Mel_spec 크기: (128, 128), 라벨: 1\n",
      "Mel_spec 크기: (128, 128), 라벨: 1\n",
      "Mel_spec 크기: (128, 128), 라벨: 1\n",
      "Mel_spec 크기: (128, 128), 라벨: 1\n",
      "Mel_spec 크기: (128, 128), 라벨: 1\n",
      "Mel_spec 크기: (128, 128), 라벨: 1\n",
      "Mel_spec 크기: (128, 128), 라벨: 1\n",
      "Mel_spec 크기: (128, 128), 라벨: 1\n",
      "Mel_spec 크기: (128, 128), 라벨: 1\n",
      "Mel_spec 크기: (128, 128), 라벨: 1\n",
      "Mel_spec 크기: (128, 128), 라벨: 1\n",
      "Mel_spec 크기: (128, 128), 라벨: 1\n",
      "Mel_spec 크기: (128, 128), 라벨: 1\n",
      "Mel_spec 크기: (128, 128), 라벨: 1\n",
      "Mel_spec 크기: (128, 128), 라벨: 1\n",
      "Mel_spec 크기: (128, 128), 라벨: 1\n",
      "Mel_spec 크기: (128, 128), 라벨: 1\n",
      "Mel_spec 크기: (128, 128), 라벨: 1\n",
      "Mel_spec 크기: (128, 128), 라벨: 1\n",
      "Mel_spec 크기: (128, 128), 라벨: 1\n",
      "Mel_spec 크기: (128, 128), 라벨: 1\n",
      "Mel_spec 크기: (128, 128), 라벨: 1\n",
      "Mel_spec 크기: (128, 128), 라벨: 1\n",
      "Mel_spec 크기: (128, 128), 라벨: 1\n",
      "Mel_spec 크기: (128, 128), 라벨: 1\n",
      "Mel_spec 크기: (128, 128), 라벨: 2\n",
      "Mel_spec 크기: (128, 128), 라벨: 2\n",
      "Mel_spec 크기: (128, 128), 라벨: 2\n",
      "Mel_spec 크기: (128, 128), 라벨: 2\n",
      "Mel_spec 크기: (128, 128), 라벨: 2\n",
      "Mel_spec 크기: (128, 128), 라벨: 2\n",
      "Mel_spec 크기: (128, 128), 라벨: 2\n",
      "Mel_spec 크기: (128, 128), 라벨: 2\n",
      "Mel_spec 크기: (128, 128), 라벨: 2\n",
      "Mel_spec 크기: (128, 128), 라벨: 2\n",
      "Mel_spec 크기: (128, 128), 라벨: 2\n",
      "Mel_spec 크기: (128, 128), 라벨: 2\n",
      "Mel_spec 크기: (128, 128), 라벨: 2\n",
      "Mel_spec 크기: (128, 128), 라벨: 2\n",
      "Mel_spec 크기: (128, 128), 라벨: 2\n",
      "Mel_spec 크기: (128, 128), 라벨: 2\n",
      "Mel_spec 크기: (128, 128), 라벨: 2\n",
      "Mel_spec 크기: (128, 128), 라벨: 2\n",
      "Mel_spec 크기: (128, 128), 라벨: 2\n",
      "Mel_spec 크기: (128, 128), 라벨: 2\n",
      "Mel_spec 크기: (128, 128), 라벨: 2\n",
      "Mel_spec 크기: (128, 128), 라벨: 2\n",
      "Mel_spec 크기: (128, 128), 라벨: 2\n",
      "Mel_spec 크기: (128, 128), 라벨: 2\n",
      "Mel_spec 크기: (128, 128), 라벨: 2\n",
      "Mel_spec 크기: (128, 128), 라벨: 2\n",
      "Mel_spec 크기: (128, 128), 라벨: 2\n",
      "Mel_spec 크기: (128, 128), 라벨: 2\n",
      "Mel_spec 크기: (128, 128), 라벨: 2\n",
      "Mel_spec 크기: (128, 128), 라벨: 2\n",
      "Mel_spec 크기: (128, 128), 라벨: 2\n",
      "Mel_spec 크기: (128, 128), 라벨: 2\n",
      "Mel_spec 크기: (128, 128), 라벨: 2\n",
      "Mel_spec 크기: (128, 128), 라벨: 2\n",
      "Mel_spec 크기: (128, 128), 라벨: 2\n",
      "Mel_spec 크기: (128, 128), 라벨: 2\n",
      "Mel_spec 크기: (128, 128), 라벨: 2\n",
      "Mel_spec 크기: (128, 128), 라벨: 2\n",
      "Mel_spec 크기: (128, 128), 라벨: 2\n",
      "Mel_spec 크기: (128, 128), 라벨: 2\n",
      "Mel_spec 크기: (128, 128), 라벨: 2\n",
      "Mel_spec 크기: (128, 128), 라벨: 2\n",
      "Mel_spec 크기: (128, 128), 라벨: 2\n",
      "Mel_spec 크기: (128, 128), 라벨: 2\n",
      "Mel_spec 크기: (128, 128), 라벨: 2\n",
      "Mel_spec 크기: (128, 128), 라벨: 2\n",
      "Mel_spec 크기: (128, 128), 라벨: 2\n",
      "Mel_spec 크기: (128, 128), 라벨: 2\n",
      "Mel_spec 크기: (128, 128), 라벨: 2\n",
      "Mel_spec 크기: (128, 128), 라벨: 2\n",
      "Mel_spec 크기: (128, 128), 라벨: 2\n",
      "Mel_spec 크기: (128, 128), 라벨: 2\n",
      "Mel_spec 크기: (128, 128), 라벨: 2\n",
      "Mel_spec 크기: (128, 128), 라벨: 2\n",
      "Mel_spec 크기: (128, 128), 라벨: 2\n",
      "Mel_spec 크기: (128, 128), 라벨: 2\n",
      "Mel_spec 크기: (128, 128), 라벨: 2\n",
      "Mel_spec 크기: (128, 128), 라벨: 2\n",
      "Mel_spec 크기: (128, 128), 라벨: 2\n",
      "Mel_spec 크기: (128, 128), 라벨: 2\n",
      "Mel_spec 크기: (128, 128), 라벨: 2\n",
      "Mel_spec 크기: (128, 128), 라벨: 2\n",
      "Mel_spec 크기: (128, 128), 라벨: 2\n",
      "Mel_spec 크기: (128, 128), 라벨: 2\n",
      "Mel_spec 크기: (128, 128), 라벨: 2\n",
      "Mel_spec 크기: (128, 128), 라벨: 2\n",
      "Mel_spec 크기: (128, 128), 라벨: 2\n",
      "Mel_spec 크기: (128, 128), 라벨: 2\n",
      "Mel_spec 크기: (128, 128), 라벨: 2\n",
      "Mel_spec 크기: (128, 128), 라벨: 2\n",
      "Mel_spec 크기: (128, 128), 라벨: 2\n",
      "Mel_spec 크기: (128, 128), 라벨: 2\n",
      "Mel_spec 크기: (128, 128), 라벨: 2\n",
      "Mel_spec 크기: (128, 128), 라벨: 2\n",
      "Mel_spec 크기: (128, 128), 라벨: 2\n",
      "Mel_spec 크기: (128, 128), 라벨: 2\n",
      "Mel_spec 크기: (128, 128), 라벨: 2\n",
      "Mel_spec 크기: (128, 128), 라벨: 2\n",
      "Mel_spec 크기: (128, 128), 라벨: 2\n",
      "Mel_spec 크기: (128, 128), 라벨: 2\n",
      "Mel_spec 크기: (128, 128), 라벨: 2\n",
      "Mel_spec 크기: (128, 128), 라벨: 2\n",
      "Mel_spec 크기: (128, 128), 라벨: 2\n",
      "Mel_spec 크기: (128, 128), 라벨: 2\n",
      "Mel_spec 크기: (128, 128), 라벨: 2\n",
      "Mel_spec 크기: (128, 128), 라벨: 2\n",
      "Mel_spec 크기: (128, 128), 라벨: 2\n",
      "Mel_spec 크기: (128, 128), 라벨: 2\n",
      "Mel_spec 크기: (128, 128), 라벨: 2\n",
      "Mel_spec 크기: (128, 128), 라벨: 2\n",
      "Mel_spec 크기: (128, 128), 라벨: 2\n",
      "Mel_spec 크기: (128, 128), 라벨: 2\n",
      "Mel_spec 크기: (128, 128), 라벨: 2\n",
      "Mel_spec 크기: (128, 128), 라벨: 2\n",
      "Mel_spec 크기: (128, 128), 라벨: 2\n",
      "Mel_spec 크기: (128, 128), 라벨: 2\n",
      "Mel_spec 크기: (128, 128), 라벨: 2\n",
      "Mel_spec 크기: (128, 128), 라벨: 2\n",
      "Mel_spec 크기: (128, 128), 라벨: 2\n",
      "Mel_spec 크기: (128, 128), 라벨: 2\n",
      "Mel_spec 크기: (128, 128), 라벨: 3\n",
      "Mel_spec 크기: (128, 128), 라벨: 3\n",
      "Mel_spec 크기: (128, 128), 라벨: 3\n",
      "Mel_spec 크기: (128, 128), 라벨: 3\n",
      "Mel_spec 크기: (128, 128), 라벨: 3\n",
      "Mel_spec 크기: (128, 128), 라벨: 3\n",
      "Mel_spec 크기: (128, 128), 라벨: 3\n",
      "Mel_spec 크기: (128, 128), 라벨: 3\n",
      "Mel_spec 크기: (128, 128), 라벨: 3\n",
      "Mel_spec 크기: (128, 128), 라벨: 3\n",
      "Mel_spec 크기: (128, 128), 라벨: 3\n",
      "Mel_spec 크기: (128, 128), 라벨: 3\n",
      "Mel_spec 크기: (128, 128), 라벨: 3\n",
      "Mel_spec 크기: (128, 128), 라벨: 3\n",
      "Mel_spec 크기: (128, 128), 라벨: 3\n",
      "Mel_spec 크기: (128, 128), 라벨: 3\n",
      "Mel_spec 크기: (128, 128), 라벨: 3\n",
      "Mel_spec 크기: (128, 128), 라벨: 3\n",
      "Mel_spec 크기: (128, 128), 라벨: 3\n",
      "Mel_spec 크기: (128, 128), 라벨: 3\n",
      "Mel_spec 크기: (128, 128), 라벨: 3\n",
      "Mel_spec 크기: (128, 128), 라벨: 3\n",
      "Mel_spec 크기: (128, 128), 라벨: 3\n",
      "Mel_spec 크기: (128, 128), 라벨: 3\n",
      "Mel_spec 크기: (128, 128), 라벨: 3\n",
      "Mel_spec 크기: (128, 128), 라벨: 3\n",
      "Mel_spec 크기: (128, 128), 라벨: 3\n",
      "Mel_spec 크기: (128, 128), 라벨: 3\n",
      "Mel_spec 크기: (128, 128), 라벨: 3\n",
      "Mel_spec 크기: (128, 128), 라벨: 3\n",
      "Mel_spec 크기: (128, 128), 라벨: 3\n",
      "Mel_spec 크기: (128, 128), 라벨: 3\n",
      "Mel_spec 크기: (128, 128), 라벨: 3\n",
      "Mel_spec 크기: (128, 128), 라벨: 3\n",
      "Mel_spec 크기: (128, 128), 라벨: 3\n",
      "Mel_spec 크기: (128, 128), 라벨: 3\n",
      "Mel_spec 크기: (128, 128), 라벨: 3\n",
      "Mel_spec 크기: (128, 128), 라벨: 3\n",
      "Mel_spec 크기: (128, 128), 라벨: 3\n",
      "Mel_spec 크기: (128, 128), 라벨: 3\n",
      "Mel_spec 크기: (128, 128), 라벨: 3\n",
      "Mel_spec 크기: (128, 128), 라벨: 3\n",
      "Mel_spec 크기: (128, 128), 라벨: 3\n",
      "Mel_spec 크기: (128, 128), 라벨: 3\n",
      "Mel_spec 크기: (128, 128), 라벨: 3\n",
      "Mel_spec 크기: (128, 128), 라벨: 3\n",
      "Mel_spec 크기: (128, 128), 라벨: 3\n",
      "Mel_spec 크기: (128, 128), 라벨: 3\n",
      "Mel_spec 크기: (128, 128), 라벨: 3\n",
      "Mel_spec 크기: (128, 128), 라벨: 3\n",
      "Mel_spec 크기: (128, 128), 라벨: 3\n",
      "Mel_spec 크기: (128, 128), 라벨: 3\n",
      "Mel_spec 크기: (128, 128), 라벨: 3\n",
      "Mel_spec 크기: (128, 128), 라벨: 3\n",
      "Mel_spec 크기: (128, 128), 라벨: 3\n",
      "Mel_spec 크기: (128, 128), 라벨: 3\n",
      "Mel_spec 크기: (128, 128), 라벨: 3\n",
      "Mel_spec 크기: (128, 128), 라벨: 3\n",
      "Mel_spec 크기: (128, 128), 라벨: 3\n",
      "Mel_spec 크기: (128, 128), 라벨: 3\n",
      "Mel_spec 크기: (128, 128), 라벨: 3\n",
      "Mel_spec 크기: (128, 128), 라벨: 3\n",
      "Mel_spec 크기: (128, 128), 라벨: 3\n",
      "Mel_spec 크기: (128, 128), 라벨: 3\n",
      "Mel_spec 크기: (128, 128), 라벨: 3\n",
      "Mel_spec 크기: (128, 128), 라벨: 3\n",
      "Mel_spec 크기: (128, 128), 라벨: 3\n",
      "Mel_spec 크기: (128, 128), 라벨: 3\n",
      "Mel_spec 크기: (128, 128), 라벨: 3\n"
     ]
    }
   ],
   "source": [
    "# 패딩된 MFCC 배열 확인\n",
    "for padded_mels, label in trainset:\n",
    "    print(f'Mel_spec 크기: {padded_mels.shape}, 라벨: {label}')"
   ]
  },
  {
   "cell_type": "code",
   "execution_count": 8,
   "metadata": {},
   "outputs": [
    {
     "data": {
      "text/plain": [
       "332"
      ]
     },
     "execution_count": 8,
     "metadata": {},
     "output_type": "execute_result"
    }
   ],
   "source": [
    "len(trainset)"
   ]
  },
  {
   "cell_type": "code",
   "execution_count": 9,
   "metadata": {},
   "outputs": [],
   "source": [
    "# 목표로 하는 패딩 크기\n",
    "target_size = (n_mels, n_mels)\n",
    "\n",
    "# 폴더 내의 파일을 반복하여 데이터셋에 추가\n",
    "for class_name in label_mapping.keys():\n",
    "    class_path = os.path.join(test_audio_path, class_name)\n",
    "    \n",
    "    # 클래스 폴더 내의 WAV 파일에 대해 루프 수행\n",
    "    for filename in os.listdir(class_path):\n",
    "        if filename.endswith(\".wav\"):\n",
    "            try:\n",
    "                # WAV 파일 읽기\n",
    "                wav_path = os.path.join(class_path, filename)\n",
    "                \n",
    "                wav, sr = librosa.load(wav_path, sr=None, mono=True, duration=5.0)\n",
    "\n",
    "                # Mel-spectrogram\n",
    "                mels_spec = librosa.feature.melspectrogram(y=wav, sr= sr, n_mels= n_mels)\n",
    "                \n",
    "                # 패딩 또는 자르기 작업\n",
    "                if mels_spec.shape[1] > target_size[1]:\n",
    "                    # 자르기\n",
    "                    padded_mels = mels_spec[:, :target_size[1]]\n",
    "                else:\n",
    "                    # 패딩\n",
    "                    pad_width = target_size[1] - mels_spec.shape[1]\n",
    "                    padded_mels = np.pad(mels_spec, ((0, 0), (0, pad_width)), mode='constant')\n",
    "                \n",
    "                # 라벨 할당\n",
    "                label = label_mapping[class_name]\n",
    "                \n",
    "                # 데이터와 라벨을 trainset에 추가\n",
    "                testset.append((padded_mels, label))\n",
    "                \n",
    "            except Exception as e:\n",
    "                print(f'Error processing {filename}: {e}')"
   ]
  },
  {
   "cell_type": "code",
   "execution_count": 10,
   "metadata": {},
   "outputs": [
    {
     "name": "stdout",
     "output_type": "stream",
     "text": [
      "Mel_spec 크기: (128, 128), 라벨: 0\n",
      "Mel_spec 크기: (128, 128), 라벨: 0\n",
      "Mel_spec 크기: (128, 128), 라벨: 0\n",
      "Mel_spec 크기: (128, 128), 라벨: 0\n",
      "Mel_spec 크기: (128, 128), 라벨: 0\n",
      "Mel_spec 크기: (128, 128), 라벨: 0\n",
      "Mel_spec 크기: (128, 128), 라벨: 0\n",
      "Mel_spec 크기: (128, 128), 라벨: 0\n",
      "Mel_spec 크기: (128, 128), 라벨: 1\n",
      "Mel_spec 크기: (128, 128), 라벨: 1\n",
      "Mel_spec 크기: (128, 128), 라벨: 1\n",
      "Mel_spec 크기: (128, 128), 라벨: 1\n",
      "Mel_spec 크기: (128, 128), 라벨: 1\n",
      "Mel_spec 크기: (128, 128), 라벨: 1\n",
      "Mel_spec 크기: (128, 128), 라벨: 1\n",
      "Mel_spec 크기: (128, 128), 라벨: 1\n",
      "Mel_spec 크기: (128, 128), 라벨: 1\n",
      "Mel_spec 크기: (128, 128), 라벨: 1\n",
      "Mel_spec 크기: (128, 128), 라벨: 2\n",
      "Mel_spec 크기: (128, 128), 라벨: 2\n",
      "Mel_spec 크기: (128, 128), 라벨: 2\n",
      "Mel_spec 크기: (128, 128), 라벨: 2\n",
      "Mel_spec 크기: (128, 128), 라벨: 2\n",
      "Mel_spec 크기: (128, 128), 라벨: 2\n",
      "Mel_spec 크기: (128, 128), 라벨: 2\n",
      "Mel_spec 크기: (128, 128), 라벨: 2\n",
      "Mel_spec 크기: (128, 128), 라벨: 2\n",
      "Mel_spec 크기: (128, 128), 라벨: 2\n",
      "Mel_spec 크기: (128, 128), 라벨: 2\n",
      "Mel_spec 크기: (128, 128), 라벨: 2\n",
      "Mel_spec 크기: (128, 128), 라벨: 2\n",
      "Mel_spec 크기: (128, 128), 라벨: 2\n",
      "Mel_spec 크기: (128, 128), 라벨: 2\n",
      "Mel_spec 크기: (128, 128), 라벨: 2\n",
      "Mel_spec 크기: (128, 128), 라벨: 3\n",
      "Mel_spec 크기: (128, 128), 라벨: 3\n",
      "Mel_spec 크기: (128, 128), 라벨: 3\n",
      "Mel_spec 크기: (128, 128), 라벨: 3\n",
      "Mel_spec 크기: (128, 128), 라벨: 3\n",
      "Mel_spec 크기: (128, 128), 라벨: 3\n"
     ]
    }
   ],
   "source": [
    "# 패딩된 MFCC 배열 확인\n",
    "for padded_mels, label in testset:\n",
    "    print(f'Mel_spec 크기: {padded_mels.shape}, 라벨: {label}')"
   ]
  },
  {
   "cell_type": "code",
   "execution_count": 11,
   "metadata": {},
   "outputs": [
    {
     "data": {
      "text/plain": [
       "40"
      ]
     },
     "execution_count": 11,
     "metadata": {},
     "output_type": "execute_result"
    }
   ],
   "source": [
    "len(testset)"
   ]
  },
  {
   "cell_type": "code",
   "execution_count": 12,
   "metadata": {},
   "outputs": [],
   "source": [
    "trainset_np = np.array(trainset, dtype=object)\n",
    "testset_np = np.array(testset, dtype=object)"
   ]
  },
  {
   "cell_type": "code",
   "execution_count": 13,
   "metadata": {},
   "outputs": [
    {
     "name": "stdout",
     "output_type": "stream",
     "text": [
      "훈련 세트 크기: (332, 128, 128), 라벨 크기: (332,)\n",
      "테스트 세트 크기: (40, 128, 128), 라벨 크기: (40,)\n"
     ]
    }
   ],
   "source": [
    "from sklearn.model_selection import train_test_split\n",
    "\n",
    "# trainset을 데이터와 라벨로 나누기\n",
    "X_train = np.array([item[0] for item in trainset])\n",
    "y_train = np.array([item[1] for item in trainset])\n",
    "\n",
    "\n",
    "# trainset을 데이터와 라벨로 나누기\n",
    "X_test = np.array([item[0] for item in testset])\n",
    "y_test = np.array([item[1] for item in testset])\n",
    "\n",
    "# 결과 확인\n",
    "print(f\"훈련 세트 크기: {X_train.shape}, 라벨 크기: {y_train.shape}\")\n",
    "print(f\"테스트 세트 크기: {X_test.shape}, 라벨 크기: {y_test.shape}\")\n"
   ]
  },
  {
   "cell_type": "code",
   "execution_count": 14,
   "metadata": {},
   "outputs": [],
   "source": [
    "# X_train의 차원을 (샘플 수, 98, 98, 1)로 조정\n",
    "X_train_dim = X_train.reshape(X_train.shape + (1,))\n",
    "X_test_dim = X_test.reshape(X_test.shape + (1,))"
   ]
  },
  {
   "cell_type": "code",
   "execution_count": 15,
   "metadata": {},
   "outputs": [
    {
     "data": {
      "text/plain": [
       "(128, 128, 1)"
      ]
     },
     "execution_count": 15,
     "metadata": {},
     "output_type": "execute_result"
    }
   ],
   "source": [
    "X_train_dim[0].shape"
   ]
  },
  {
   "cell_type": "code",
   "execution_count": 16,
   "metadata": {},
   "outputs": [
    {
     "name": "stdout",
     "output_type": "stream",
     "text": [
      "WARNING:tensorflow:No training configuration found in the save file, so the model was *not* compiled. Compile it manually.\n",
      "Model: \"model_1\"\n",
      "_________________________________________________________________\n",
      " Layer (type)                Output Shape              Param #   \n",
      "=================================================================\n",
      " input_1 (InputLayer)        [(None, 128, 128, 1)]     0         \n",
      "                                                                 \n",
      " conv2d (Conv2D)             (None, 128, 128, 16)      160       \n",
      "                                                                 \n",
      " conv2d_1 (Conv2D)           (None, 128, 128, 16)      2320      \n",
      "                                                                 \n",
      " max_pooling2d (MaxPooling2D  (None, 64, 64, 16)       0         \n",
      " )                                                               \n",
      "                                                                 \n",
      " conv2d_2 (Conv2D)           (None, 64, 64, 32)        4640      \n",
      "                                                                 \n",
      " conv2d_3 (Conv2D)           (None, 64, 64, 32)        9248      \n",
      "                                                                 \n",
      " max_pooling2d_1 (MaxPooling  (None, 32, 32, 32)       0         \n",
      " 2D)                                                             \n",
      "                                                                 \n",
      " conv2d_4 (Conv2D)           (None, 32, 32, 64)        18496     \n",
      "                                                                 \n",
      " conv2d_5 (Conv2D)           (None, 32, 32, 64)        36928     \n",
      "                                                                 \n",
      " max_pooling2d_2 (MaxPooling  (None, 16, 16, 64)       0         \n",
      " 2D)                                                             \n",
      "                                                                 \n",
      " conv2d_6 (Conv2D)           (None, 16, 16, 128)       73856     \n",
      "                                                                 \n",
      " conv2d_7 (Conv2D)           (None, 16, 16, 128)       147584    \n",
      "                                                                 \n",
      "=================================================================\n",
      "Total params: 293,232\n",
      "Trainable params: 293,232\n",
      "Non-trainable params: 0\n",
      "_________________________________________________________________\n"
     ]
    }
   ],
   "source": [
    "\n",
    "load_encoder = tf.keras.models.load_model('autoencoder_leakyrelu2.h5')\n",
    "\n",
    "load_encoder.summary()"
   ]
  },
  {
   "cell_type": "code",
   "execution_count": 17,
   "metadata": {},
   "outputs": [],
   "source": [
    "freeze_layer = 11"
   ]
  },
  {
   "cell_type": "code",
   "execution_count": 18,
   "metadata": {},
   "outputs": [],
   "source": [
    "for layer in load_encoder.layers[:freeze_layer]:\n",
    "    layer.trainable = False"
   ]
  },
  {
   "cell_type": "code",
   "execution_count": 19,
   "metadata": {},
   "outputs": [
    {
     "name": "stdout",
     "output_type": "stream",
     "text": [
      "Model: \"model_1\"\n",
      "_________________________________________________________________\n",
      " Layer (type)                Output Shape              Param #   \n",
      "=================================================================\n",
      " input_1 (InputLayer)        [(None, 128, 128, 1)]     0         \n",
      "                                                                 \n",
      " conv2d (Conv2D)             (None, 128, 128, 16)      160       \n",
      "                                                                 \n",
      " conv2d_1 (Conv2D)           (None, 128, 128, 16)      2320      \n",
      "                                                                 \n",
      " max_pooling2d (MaxPooling2D  (None, 64, 64, 16)       0         \n",
      " )                                                               \n",
      "                                                                 \n",
      " conv2d_2 (Conv2D)           (None, 64, 64, 32)        4640      \n",
      "                                                                 \n",
      " conv2d_3 (Conv2D)           (None, 64, 64, 32)        9248      \n",
      "                                                                 \n",
      " max_pooling2d_1 (MaxPooling  (None, 32, 32, 32)       0         \n",
      " 2D)                                                             \n",
      "                                                                 \n",
      " conv2d_4 (Conv2D)           (None, 32, 32, 64)        18496     \n",
      "                                                                 \n",
      " conv2d_5 (Conv2D)           (None, 32, 32, 64)        36928     \n",
      "                                                                 \n",
      " max_pooling2d_2 (MaxPooling  (None, 16, 16, 64)       0         \n",
      " 2D)                                                             \n",
      "                                                                 \n",
      " conv2d_6 (Conv2D)           (None, 16, 16, 128)       73856     \n",
      "                                                                 \n",
      " conv2d_7 (Conv2D)           (None, 16, 16, 128)       147584    \n",
      "                                                                 \n",
      "=================================================================\n",
      "Total params: 293,232\n",
      "Trainable params: 147,584\n",
      "Non-trainable params: 145,648\n",
      "_________________________________________________________________\n"
     ]
    }
   ],
   "source": [
    "load_encoder.summary()"
   ]
  },
  {
   "cell_type": "code",
   "execution_count": 20,
   "metadata": {},
   "outputs": [
    {
     "name": "stdout",
     "output_type": "stream",
     "text": [
      "Model: \"model\"\n",
      "_________________________________________________________________\n",
      " Layer (type)                Output Shape              Param #   \n",
      "=================================================================\n",
      " input_1 (InputLayer)        [(None, 128, 128, 1)]     0         \n",
      "                                                                 \n",
      " model_1 (Functional)        (None, 16, 16, 128)       293232    \n",
      "                                                                 \n",
      " flatten (Flatten)           (None, 32768)             0         \n",
      "                                                                 \n",
      " dense (Dense)               (None, 1024)              33555456  \n",
      "                                                                 \n",
      " batch_normalization (BatchN  (None, 1024)             4096      \n",
      " ormalization)                                                   \n",
      "                                                                 \n",
      " dropout (Dropout)           (None, 1024)              0         \n",
      "                                                                 \n",
      " dense_1 (Dense)             (None, 512)               524800    \n",
      "                                                                 \n",
      " dense_3 (Dense)             (None, 4)                 2052      \n",
      "                                                                 \n",
      "=================================================================\n",
      "Total params: 34,379,636\n",
      "Trainable params: 34,231,940\n",
      "Non-trainable params: 147,696\n",
      "_________________________________________________________________\n"
     ]
    }
   ],
   "source": [
    "inputs = layers.Input(shape= X_train_dim[0].shape)\n",
    "\n",
    "input_layer = load_encoder(inputs)\n",
    "\n",
    "# MSE -> input & output 비교\n",
    "full01 = layers.Flatten()(input_layer)\n",
    "dense01 = layers.Dense(1024, activation='relu')(full01)\n",
    "batch01 = layers.BatchNormalization()(dense01)\n",
    "drop01 = layers.Dropout(0.25)(batch01)\n",
    "\n",
    "dense02 = layers.Dense(512, activation='relu')(drop01)\n",
    "batch02 = layers.BatchNormalization()(dense02)\n",
    "drop02 = layers.Dropout(0.25)(dense02)\n",
    "\n",
    "dense03 = layers.Dense(128, activation='relu')(drop02)\n",
    "batch03 = layers.BatchNormalization()(dense03)\n",
    "drop03 = layers.Dropout(0.25)(dense03)\n",
    "\n",
    "\n",
    "\n",
    "out_layer = layers.Dense(4, activation='softmax')(dense02)\n",
    "\n",
    "\n",
    "\n",
    "model = tf.keras.Model(inputs=inputs, outputs=out_layer)\n",
    "\n",
    "\n",
    "\n",
    "model.summary()"
   ]
  },
  {
   "cell_type": "code",
   "execution_count": 21,
   "metadata": {},
   "outputs": [
    {
     "name": "stdout",
     "output_type": "stream",
     "text": [
      "Epoch 1/45\n",
      "11/11 [==============================] - 9s 80ms/step - loss: 2.1940 - accuracy: 0.3223 - val_loss: 1.4050 - val_accuracy: 0.4250\n",
      "Epoch 2/45\n",
      "11/11 [==============================] - 0s 23ms/step - loss: 1.2976 - accuracy: 0.4910 - val_loss: 1.3291 - val_accuracy: 0.2750\n",
      "Epoch 3/45\n",
      "11/11 [==============================] - 0s 24ms/step - loss: 0.9983 - accuracy: 0.6084 - val_loss: 1.2068 - val_accuracy: 0.3500\n",
      "Epoch 4/45\n",
      "11/11 [==============================] - 0s 23ms/step - loss: 0.9279 - accuracy: 0.6325 - val_loss: 1.1188 - val_accuracy: 0.3250\n",
      "Epoch 5/45\n",
      "11/11 [==============================] - 0s 23ms/step - loss: 0.8081 - accuracy: 0.6777 - val_loss: 1.1504 - val_accuracy: 0.3750\n",
      "Epoch 6/45\n",
      "11/11 [==============================] - 0s 22ms/step - loss: 0.7122 - accuracy: 0.7380 - val_loss: 1.1012 - val_accuracy: 0.4750\n",
      "Epoch 7/45\n",
      "11/11 [==============================] - 0s 24ms/step - loss: 0.6472 - accuracy: 0.7711 - val_loss: 1.2253 - val_accuracy: 0.3000\n",
      "Epoch 8/45\n",
      "11/11 [==============================] - 0s 23ms/step - loss: 0.5271 - accuracy: 0.7892 - val_loss: 1.2539 - val_accuracy: 0.3500\n",
      "Epoch 9/45\n",
      "11/11 [==============================] - 0s 25ms/step - loss: 0.4383 - accuracy: 0.8253 - val_loss: 1.2776 - val_accuracy: 0.3000\n",
      "Epoch 10/45\n",
      "11/11 [==============================] - 0s 22ms/step - loss: 0.3925 - accuracy: 0.8614 - val_loss: 1.2226 - val_accuracy: 0.3000\n",
      "Epoch 11/45\n",
      "11/11 [==============================] - 0s 24ms/step - loss: 0.2999 - accuracy: 0.9066 - val_loss: 1.2522 - val_accuracy: 0.2500\n",
      "Epoch 12/45\n",
      "11/11 [==============================] - 0s 23ms/step - loss: 0.3232 - accuracy: 0.8825 - val_loss: 1.2860 - val_accuracy: 0.3250\n",
      "Epoch 13/45\n",
      "11/11 [==============================] - 0s 23ms/step - loss: 0.2989 - accuracy: 0.9066 - val_loss: 1.2041 - val_accuracy: 0.3750\n",
      "Epoch 14/45\n",
      "11/11 [==============================] - 0s 24ms/step - loss: 0.2262 - accuracy: 0.9187 - val_loss: 1.3011 - val_accuracy: 0.3250\n",
      "Epoch 15/45\n",
      "11/11 [==============================] - 0s 23ms/step - loss: 0.2730 - accuracy: 0.9187 - val_loss: 1.2226 - val_accuracy: 0.4500\n",
      "Epoch 16/45\n",
      "11/11 [==============================] - 0s 23ms/step - loss: 0.2272 - accuracy: 0.9187 - val_loss: 1.4632 - val_accuracy: 0.3000\n",
      "Epoch 17/45\n",
      "11/11 [==============================] - 0s 23ms/step - loss: 0.2947 - accuracy: 0.9127 - val_loss: 1.2681 - val_accuracy: 0.3750\n",
      "Epoch 18/45\n",
      "11/11 [==============================] - 0s 23ms/step - loss: 0.1855 - accuracy: 0.9337 - val_loss: 1.2591 - val_accuracy: 0.2750\n",
      "Epoch 19/45\n",
      "11/11 [==============================] - 0s 24ms/step - loss: 0.1564 - accuracy: 0.9518 - val_loss: 1.1382 - val_accuracy: 0.4750\n",
      "Epoch 20/45\n",
      "11/11 [==============================] - 0s 23ms/step - loss: 0.2844 - accuracy: 0.9187 - val_loss: 1.2000 - val_accuracy: 0.5000\n",
      "Epoch 21/45\n",
      "11/11 [==============================] - 0s 23ms/step - loss: 0.1544 - accuracy: 0.9458 - val_loss: 1.3089 - val_accuracy: 0.3750\n",
      "Epoch 22/45\n",
      "11/11 [==============================] - 0s 23ms/step - loss: 0.1326 - accuracy: 0.9578 - val_loss: 1.3378 - val_accuracy: 0.4000\n",
      "Epoch 23/45\n",
      "11/11 [==============================] - 0s 24ms/step - loss: 0.0810 - accuracy: 0.9789 - val_loss: 1.2499 - val_accuracy: 0.4000\n",
      "Epoch 24/45\n",
      "11/11 [==============================] - 0s 23ms/step - loss: 0.1308 - accuracy: 0.9578 - val_loss: 1.2213 - val_accuracy: 0.4000\n",
      "Epoch 25/45\n",
      "11/11 [==============================] - 0s 22ms/step - loss: 0.1018 - accuracy: 0.9699 - val_loss: 1.4379 - val_accuracy: 0.3500\n",
      "Epoch 26/45\n",
      "11/11 [==============================] - 0s 23ms/step - loss: 0.1159 - accuracy: 0.9608 - val_loss: 1.3319 - val_accuracy: 0.3750\n",
      "Epoch 27/45\n",
      "11/11 [==============================] - 0s 25ms/step - loss: 0.0843 - accuracy: 0.9759 - val_loss: 1.2539 - val_accuracy: 0.3250\n",
      "Epoch 28/45\n",
      "11/11 [==============================] - 0s 23ms/step - loss: 0.0775 - accuracy: 0.9729 - val_loss: 1.3236 - val_accuracy: 0.4000\n",
      "Epoch 29/45\n",
      "11/11 [==============================] - 0s 23ms/step - loss: 0.1112 - accuracy: 0.9699 - val_loss: 1.2268 - val_accuracy: 0.4500\n",
      "Epoch 30/45\n",
      "11/11 [==============================] - 0s 22ms/step - loss: 0.1192 - accuracy: 0.9729 - val_loss: 1.1698 - val_accuracy: 0.4750\n",
      "Epoch 31/45\n",
      "11/11 [==============================] - 0s 25ms/step - loss: 0.0479 - accuracy: 0.9819 - val_loss: 1.3742 - val_accuracy: 0.3750\n",
      "Epoch 32/45\n",
      "11/11 [==============================] - 0s 22ms/step - loss: 0.0725 - accuracy: 0.9819 - val_loss: 1.2142 - val_accuracy: 0.4000\n",
      "Epoch 33/45\n",
      "11/11 [==============================] - 0s 23ms/step - loss: 0.0461 - accuracy: 0.9759 - val_loss: 1.3739 - val_accuracy: 0.4250\n",
      "Epoch 34/45\n",
      "11/11 [==============================] - 0s 23ms/step - loss: 0.0622 - accuracy: 0.9789 - val_loss: 1.1495 - val_accuracy: 0.4000\n",
      "Epoch 35/45\n",
      "11/11 [==============================] - 0s 23ms/step - loss: 0.0600 - accuracy: 0.9789 - val_loss: 1.1767 - val_accuracy: 0.3500\n",
      "Epoch 36/45\n",
      "11/11 [==============================] - 0s 23ms/step - loss: 0.0922 - accuracy: 0.9699 - val_loss: 1.2781 - val_accuracy: 0.4500\n",
      "Epoch 37/45\n",
      "11/11 [==============================] - 0s 24ms/step - loss: 0.0819 - accuracy: 0.9819 - val_loss: 1.3260 - val_accuracy: 0.4250\n",
      "Epoch 38/45\n",
      "11/11 [==============================] - 0s 24ms/step - loss: 0.1515 - accuracy: 0.9488 - val_loss: 1.2107 - val_accuracy: 0.4000\n",
      "Epoch 39/45\n",
      "11/11 [==============================] - 0s 24ms/step - loss: 0.0779 - accuracy: 0.9669 - val_loss: 1.2008 - val_accuracy: 0.4250\n",
      "Epoch 40/45\n",
      "11/11 [==============================] - 0s 23ms/step - loss: 0.1409 - accuracy: 0.9518 - val_loss: 1.1749 - val_accuracy: 0.4000\n",
      "Epoch 41/45\n",
      "11/11 [==============================] - 0s 23ms/step - loss: 0.0981 - accuracy: 0.9669 - val_loss: 1.3878 - val_accuracy: 0.3250\n",
      "Epoch 42/45\n",
      "11/11 [==============================] - 0s 22ms/step - loss: 0.0669 - accuracy: 0.9789 - val_loss: 1.5563 - val_accuracy: 0.3250\n",
      "Epoch 43/45\n",
      "11/11 [==============================] - 0s 23ms/step - loss: 0.1571 - accuracy: 0.9488 - val_loss: 1.4428 - val_accuracy: 0.3750\n",
      "Epoch 44/45\n",
      "11/11 [==============================] - 0s 22ms/step - loss: 0.2359 - accuracy: 0.9277 - val_loss: 1.2326 - val_accuracy: 0.4250\n",
      "Epoch 45/45\n",
      "11/11 [==============================] - 0s 23ms/step - loss: 0.1012 - accuracy: 0.9608 - val_loss: 1.3916 - val_accuracy: 0.3750\n"
     ]
    }
   ],
   "source": [
    "# Compile and train your model\n",
    "model.compile(optimizer='adam', loss='sparse_categorical_crossentropy', metrics=['accuracy'])\n",
    "history = model.fit(X_train_dim, y_train, epochs=45,  validation_data = (X_test_dim, y_test))"
   ]
  },
  {
   "cell_type": "code",
   "execution_count": 22,
   "metadata": {},
   "outputs": [
    {
     "name": "stderr",
     "output_type": "stream",
     "text": [
      "C:\\Users\\Desk_Kang\\AppData\\Local\\Temp\\ipykernel_19004\\237002889.py:1: MatplotlibDeprecationWarning: The seaborn styles shipped by Matplotlib are deprecated since 3.6, as they no longer correspond to the styles shipped by seaborn. However, they will remain available as 'seaborn-v0_8-<style>'. Alternatively, directly use the seaborn API instead.\n",
      "  plt.style.use('seaborn-white')\n"
     ]
    },
    {
     "data": {
      "image/png": "[encoded data removed]",
      "text/plain": [
       "<Figure size 1200x500 with 2 Axes>"
      ]
     },
     "metadata": {},
     "output_type": "display_data"
    }
   ],
   "source": [
    "plt.style.use('seaborn-white')\n",
    "\n",
    "history_dict = history.history\n",
    "\n",
    "loss = history_dict['loss']\n",
    "val_loss = history_dict['val_loss']\n",
    "\n",
    "epochs = range(1, len(loss) + 1)\n",
    "fig = plt.figure(figsize=(12, 5))\n",
    "\n",
    "ax1 = fig.add_subplot(1, 2, 1)\n",
    "ax1.plot(epochs, loss, 'b-', label='train_loss')\n",
    "ax1.plot(epochs, val_loss, 'r-', label='val_loss')\n",
    "ax1.set_title('Train and Validation Loss')\n",
    "ax1.set_xlabel('Epochs')\n",
    "ax1.set_ylabel('Loss')\n",
    "ax1.grid()\n",
    "ax1.legend()\n",
    "\n",
    "accuracy = history_dict['accuracy']\n",
    "val_accuracy = history_dict['val_accuracy']\n",
    "\n",
    "ax2 = fig.add_subplot(1, 2, 2)\n",
    "ax2.plot(epochs, accuracy, 'b-', label='train_accuracy')\n",
    "ax2.plot(epochs, val_accuracy, 'r-', label='val_accuracy')\n",
    "ax2.set_title('Train and Validation Accuracy')\n",
    "ax2.set_xlabel('Epochs')\n",
    "ax2.set_ylabel('Accuracy')\n",
    "ax2.grid()\n",
    "ax2.legend()\n",
    "\n",
    "plt.show()"
   ]
  },
  {
   "cell_type": "code",
   "execution_count": 23,
   "metadata": {},
   "outputs": [
    {
     "name": "stdout",
     "output_type": "stream",
     "text": [
      "2/2 [==============================] - 0s 8ms/step\n"
     ]
    }
   ],
   "source": [
    "predictions = model.predict(X_test_dim)"
   ]
  },
  {
   "cell_type": "code",
   "execution_count": 24,
   "metadata": {},
   "outputs": [],
   "source": [
    "pred_label = np.argmax(predictions, axis=1)"
   ]
  },
  {
   "cell_type": "code",
   "execution_count": 25,
   "metadata": {},
   "outputs": [
    {
     "data": {
      "text/plain": [
       "array([1, 0, 1, 0, 1, 0, 1, 0, 1, 0, 0, 0, 0, 1, 1, 1, 1, 1, 0, 3, 1, 0,\n",
       "       2, 0, 0, 0, 0, 0, 2, 2, 2, 3, 2, 1, 1, 0, 0, 0, 0, 0], dtype=int64)"
      ]
     },
     "execution_count": 25,
     "metadata": {},
     "output_type": "execute_result"
    }
   ],
   "source": [
    "pred_label"
   ]
  },
  {
   "cell_type": "code",
   "execution_count": 26,
   "metadata": {},
   "outputs": [
    {
     "data": {
      "text/plain": [
       "array([0, 0, 0, 0, 0, 0, 0, 0, 1, 1, 1, 1, 1, 1, 1, 1, 1, 1, 2, 2, 2, 2,\n",
       "       2, 2, 2, 2, 2, 2, 2, 2, 2, 2, 2, 2, 3, 3, 3, 3, 3, 3])"
      ]
     },
     "execution_count": 26,
     "metadata": {},
     "output_type": "execute_result"
    }
   ],
   "source": [
    "y_test"
   ]
  },
  {
   "cell_type": "code",
   "execution_count": 27,
   "metadata": {},
   "outputs": [
    {
     "name": "stdout",
     "output_type": "stream",
     "text": [
      "[[4 4 0 0]\n",
      " [4 6 0 0]\n",
      " [7 2 5 2]\n",
      " [5 1 0 0]]\n"
     ]
    }
   ],
   "source": [
    "from sklearn.metrics import confusion_matrix\n",
    "import seaborn as sns\n",
    "from sklearn.metrics import ConfusionMatrixDisplay\n",
    "\n",
    "conf_matrix = confusion_matrix(y_test, pred_label)\n",
    "\n",
    "\n",
    "print(conf_matrix)"
   ]
  },
  {
   "cell_type": "code",
   "execution_count": 28,
   "metadata": {},
   "outputs": [
    {
     "data": {
      "image/png": "[encoded data removed]",
      "text/plain": [
       "<Figure size 1000x800 with 2 Axes>"
      ]
     },
     "metadata": {},
     "output_type": "display_data"
    }
   ],
   "source": [
    "plt.figure(figsize=(10, 8))\n",
    "sns.set(font_scale=1.2)  # 폰트 크기 조절\n",
    "sns.heatmap(conf_matrix, annot=True, fmt='d', cmap='Blues', xticklabels=['belly_pain', 'discomf', 'hungry', 'tired'], yticklabels=['belly_pain', 'discomf', 'hungry', 'tired'])\n",
    "plt.xlabel('Predicted')\n",
    "plt.ylabel('True')\n",
    "plt.title('Confusion Matrix')\n",
    "plt.show()"
   ]
  },
  {
   "cell_type": "code",
   "execution_count": null,
   "metadata": {},
   "outputs": [],
   "source": []
  }
 ],
 "metadata": {
  "kernelspec": {
   "display_name": "pyenv",
   "language": "python",
   "name": "python3"
  },
  "language_info": {
   "codemirror_mode": {
    "name": "ipython",
    "version": 3
   },
   "file_extension": ".py",
   "mimetype": "text/x-python",
   "name": "python",
   "nbconvert_exporter": "python",
   "pygments_lexer": "ipython3",
   "version": "3.10.13"
  }
 },
 "nbformat": 4,
 "nbformat_minor": 2
}
