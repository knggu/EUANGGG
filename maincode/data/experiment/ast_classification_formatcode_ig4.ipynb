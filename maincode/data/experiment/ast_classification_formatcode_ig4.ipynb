{
 "cells": [
  {
   "cell_type": "code",
   "execution_count": 1,
   "id": "edd8bc87-2931-4078-bd2d-2932375c524a",
   "metadata": {},
   "outputs": [],
   "source": [
    "import torch\n",
    "import torch.nn as nn\n",
    "from transformers import ASTConfig, ASTModel, ASTFeatureExtractor\n",
    "import numpy as np\n",
    "import librosa\n",
    "import os\n",
    "import glob\n",
    "from torch.utils.data import TensorDataset, DataLoader, random_split\n",
    "from tqdm import tqdm\n",
    "import torch.optim as optim\n",
    "import matplotlib.pyplot as plt"
   ]
  },
  {
   "cell_type": "code",
   "execution_count": 2,
   "id": "abbb5726-9c6b-4110-a041-40c88925edd8",
   "metadata": {},
   "outputs": [
    {
     "name": "stdout",
     "output_type": "stream",
     "text": [
      "PyTorch is using GPU 🟢\n"
     ]
    }
   ],
   "source": [
    "if torch.cuda.is_available():\n",
    "    device = torch.device(\"cuda\")\n",
    "    print(\"PyTorch is using GPU 🟢\")\n",
    "else:\n",
    "    device = torch.device(\"cpu\")\n",
    "    print(\"PyTorch is using CPU 🟡\")"
   ]
  },
  {
   "cell_type": "code",
   "execution_count": 3,
   "id": "decf6249-5a11-4390-a99e-62ab622235ef",
   "metadata": {},
   "outputs": [
    {
     "data": {
      "text/plain": [
       "'c:/Users/Desk_Kang/Desktop/Aiffel/workplace/lib/Aiffelthon/orig_resample'"
      ]
     },
     "execution_count": 3,
     "metadata": {},
     "output_type": "execute_result"
    }
   ],
   "source": [
    "dir_path = r'c:/Users/Desk_Kang/Desktop/Aiffel/workplace/lib/Aiffelthon/orig_resample'\n",
    "dir_path"
   ]
  },
  {
   "cell_type": "code",
   "execution_count": 4,
   "id": "2673ebb4",
   "metadata": {},
   "outputs": [
    {
     "data": {
      "text/plain": [
       "True"
      ]
     },
     "execution_count": 4,
     "metadata": {},
     "output_type": "execute_result"
    }
   ],
   "source": [
    "os.path.exists(dir_path)"
   ]
  },
  {
   "cell_type": "code",
   "execution_count": 5,
   "id": "1b9c0367-9ec0-4c6d-a34b-cd94b47e17e7",
   "metadata": {},
   "outputs": [
    {
     "data": {
      "text/plain": [
       "['bellypain', 'discomfort', 'hungry', 'tired']"
      ]
     },
     "execution_count": 5,
     "metadata": {},
     "output_type": "execute_result"
    }
   ],
   "source": [
    "class_name = next(os.walk(dir_path))[1]\n",
    "# class_name.remove('.ipynb_checkpoints')\n",
    "class_name"
   ]
  },
  {
   "cell_type": "code",
   "execution_count": 6,
   "id": "23ad608e-4f13-4218-90ff-44e44e0b15b1",
   "metadata": {},
   "outputs": [
    {
     "data": {
      "text/plain": [
       "['c:/Users/Desk_Kang/Desktop/Aiffel/workplace/lib/Aiffelthon/orig_resample\\\\bellypain',\n",
       " 'c:/Users/Desk_Kang/Desktop/Aiffel/workplace/lib/Aiffelthon/orig_resample\\\\discomfort',\n",
       " 'c:/Users/Desk_Kang/Desktop/Aiffel/workplace/lib/Aiffelthon/orig_resample\\\\hungry',\n",
       " 'c:/Users/Desk_Kang/Desktop/Aiffel/workplace/lib/Aiffelthon/orig_resample\\\\tired']"
      ]
     },
     "execution_count": 6,
     "metadata": {},
     "output_type": "execute_result"
    }
   ],
   "source": [
    "audio_dir = [os.path.join(dir_path, name) for name in class_name]\n",
    "audio_dir"
   ]
  },
  {
   "cell_type": "code",
   "execution_count": 7,
   "id": "033c2512-21d5-42d3-be75-8614a89f2c6b",
   "metadata": {},
   "outputs": [],
   "source": [
    "bpain_audio = glob.glob(os.path.join(audio_dir[0], '*.wav'))\n",
    "discomf_audio = glob.glob(os.path.join(audio_dir[1], '*.wav'))\n",
    "hungry_audio = glob.glob(os.path.join(audio_dir[2], '*.wav'))\n",
    "tired_audio = glob.glob(os.path.join(audio_dir[3], '*.wav'))"
   ]
  },
  {
   "cell_type": "code",
   "execution_count": 8,
   "id": "c468fe88-2666-4826-b5a1-dab4cb98a4ed",
   "metadata": {},
   "outputs": [
    {
     "data": {
      "text/plain": [
       "50"
      ]
     },
     "execution_count": 8,
     "metadata": {},
     "output_type": "execute_result"
    }
   ],
   "source": [
    "len(hungry_audio)"
   ]
  },
  {
   "cell_type": "code",
   "execution_count": 9,
   "id": "b78c18cb-1754-4bf0-ab2d-7344089befba",
   "metadata": {},
   "outputs": [],
   "source": [
    "audio_path_class = {\n",
    "    'bpain': bpain_audio,\n",
    "    'discomf': discomf_audio,\n",
    "    'hungry': hungry_audio,\n",
    "    'tired': tired_audio\n",
    "}"
   ]
  },
  {
   "cell_type": "markdown",
   "id": "09a78229-7e1b-4cc8-88ee-45ce263db398",
   "metadata": {},
   "source": [
    "## **전처리 하기**"
   ]
  },
  {
   "cell_type": "code",
   "execution_count": 10,
   "id": "d18fab58-2be7-4b00-8ca3-6b0296052eb3",
   "metadata": {},
   "outputs": [],
   "source": [
    "def convert_audio(pathdict):\n",
    "    audio_load = {}\n",
    "\n",
    "    for class_name, path in tqdm(pathdict.items()):\n",
    "        temp = []\n",
    "        for file in path:\n",
    "            audio, sr = librosa.load(file, sr = 20000)\n",
    "            temp.append(audio)\n",
    "        audio_load[class_name] = temp\n",
    "    return audio_load"
   ]
  },
  {
   "cell_type": "code",
   "execution_count": 11,
   "id": "451223fb-94bf-41b2-9925-67e904b880fa",
   "metadata": {},
   "outputs": [
    {
     "name": "stderr",
     "output_type": "stream",
     "text": [
      "100%|██████████| 4/4 [00:03<00:00,  1.07it/s]\n"
     ]
    }
   ],
   "source": [
    "loaded_audio = convert_audio(audio_path_class)"
   ]
  },
  {
   "cell_type": "code",
   "execution_count": 12,
   "id": "607d4226-5d97-454f-9503-97c9dc49b2f0",
   "metadata": {},
   "outputs": [
    {
     "name": "stderr",
     "output_type": "stream",
     "text": [
      "Could not find image processor class in the image processor config or the model config. Loading based on pattern matching with the model's feature extractor configuration.\n"
     ]
    }
   ],
   "source": [
    "from transformers import AutoProcessor\n",
    "\n",
    "processor = AutoProcessor.from_pretrained(\"MIT/ast-finetuned-audioset-10-10-0.4593\", sampling_rate=20000)"
   ]
  },
  {
   "cell_type": "markdown",
   "id": "913010d0-f3fd-42a6-a15e-c383967d88ee",
   "metadata": {},
   "source": [
    "## **훈련데이터 및 테스트셋 만들기**"
   ]
  },
  {
   "cell_type": "code",
   "execution_count": 13,
   "id": "762b51d8-da45-4dbb-8e5a-308cfde34bc7",
   "metadata": {},
   "outputs": [],
   "source": [
    "input_byclass = {}\n",
    "for class_name, audio_load in loaded_audio.items():\n",
    "    temp = []\n",
    "    for audio in audio_load:\n",
    "        input = processor(audio, sampling_rate = 20000, return_tensor = 'np')\n",
    "        temp.append(input['input_values'])\n",
    "    input_byclass[class_name] = np.array(temp)"
   ]
  },
  {
   "cell_type": "code",
   "execution_count": 14,
   "id": "02b4c70d-77e6-4cee-9e87-7deab10fcb94",
   "metadata": {},
   "outputs": [],
   "source": [
    "all_data = []\n",
    "all_labels = []\n",
    "\n",
    "for label, class_data in enumerate(input_byclass):\n",
    "    all_data.append(input_byclass[class_data])\n",
    "    all_labels.append(np.full(len(input_byclass[class_data]), label))"
   ]
  },
  {
   "cell_type": "code",
   "execution_count": 15,
   "id": "7ff9e18d-0f14-46fb-8dce-59cd7a9cf5a2",
   "metadata": {},
   "outputs": [],
   "source": [
    "all_data = np.concatenate(all_data, axis=0)\n",
    "all_labels = np.concatenate(all_labels, axis=0)"
   ]
  },
  {
   "cell_type": "code",
   "execution_count": 16,
   "id": "d2a471c4-123d-4f35-bc79-e03c77dcec6e",
   "metadata": {},
   "outputs": [
    {
     "data": {
      "text/plain": [
       "(197, 1, 1024, 128)"
      ]
     },
     "execution_count": 16,
     "metadata": {},
     "output_type": "execute_result"
    }
   ],
   "source": [
    "all_data.shape"
   ]
  },
  {
   "cell_type": "code",
   "execution_count": 17,
   "id": "925405c4-d74b-4b11-b433-7980e1f4e7d4",
   "metadata": {},
   "outputs": [
    {
     "data": {
      "text/plain": [
       "(197, 1024, 128)"
      ]
     },
     "execution_count": 17,
     "metadata": {},
     "output_type": "execute_result"
    }
   ],
   "source": [
    "squeezed_data_np = np.squeeze(all_data, axis = 1)\n",
    "squeezed_data_np.shape"
   ]
  },
  {
   "cell_type": "code",
   "execution_count": 18,
   "id": "48b0f605-e75e-476d-a701-ccbb43b69b0b",
   "metadata": {},
   "outputs": [],
   "source": [
    "from sklearn.model_selection import train_test_split\n",
    "\n",
    "x_train, x_val, y_train, y_val = train_test_split(squeezed_data_np, all_labels, test_size = 0.2, random_state = 33)"
   ]
  },
  {
   "cell_type": "code",
   "execution_count": 19,
   "id": "0f57e418-9358-4c4e-a29c-41fc900a2744",
   "metadata": {},
   "outputs": [],
   "source": [
    "x_train, x_test, y_train, y_test = train_test_split(x_train, y_train, test_size = 0.2, random_state = 33)"
   ]
  },
  {
   "cell_type": "code",
   "execution_count": 20,
   "id": "e73748ad-1068-4ce3-8d86-83ce08ed8a39",
   "metadata": {},
   "outputs": [],
   "source": [
    "# Convert to PyTorch tensors\n",
    "xtrain_tensor = torch.tensor(x_train, dtype=torch.float32)\n",
    "xval_tensor = torch.tensor(x_val, dtype=torch.float32)\n",
    "\n",
    "ytrain_tensor = torch.tensor(y_train, dtype=torch.long)\n",
    "yval_tensor = torch.tensor(y_val, dtype=torch.long)\n",
    "\n",
    "xtest_tensor = torch.tensor(x_test, dtype=torch.float32)\n",
    "ytest_tensor = torch.tensor(y_test, dtype=torch.long)"
   ]
  },
  {
   "cell_type": "code",
   "execution_count": 21,
   "id": "426d75e5-62fa-4d92-99ef-e0d42b08ce6e",
   "metadata": {},
   "outputs": [
    {
     "name": "stdout",
     "output_type": "stream",
     "text": [
      "torch.Size([125, 1024, 128])\n",
      "torch.Size([40, 1024, 128])\n",
      "torch.Size([125])\n",
      "torch.Size([40])\n",
      "torch.Size([32, 1024, 128])\n",
      "torch.Size([32])\n"
     ]
    }
   ],
   "source": [
    "print(xtrain_tensor.shape)\n",
    "print(xval_tensor.shape)\n",
    "print(ytrain_tensor.shape)\n",
    "print(yval_tensor.shape)\n",
    "print(xtest_tensor.shape)\n",
    "print(ytest_tensor.shape)"
   ]
  },
  {
   "cell_type": "code",
   "execution_count": 22,
   "id": "4f1d7dce-08cb-4be4-91c1-520257f2661b",
   "metadata": {},
   "outputs": [],
   "source": [
    "train_dataset = TensorDataset(xtrain_tensor, ytrain_tensor)\n",
    "val_dataset = TensorDataset(xval_tensor, yval_tensor)\n",
    "test_dataset = TensorDataset(xtest_tensor, ytest_tensor)\n",
    "\n",
    "train_loader = DataLoader(train_dataset, batch_size=8, shuffle=True)\n",
    "val_loader = DataLoader(val_dataset, batch_size=8, shuffle=True)\n",
    "test_loader = DataLoader(test_dataset, batch_size=8, shuffle=True)"
   ]
  },
  {
   "cell_type": "markdown",
   "id": "6a473408-ea00-46bc-8ef2-8a3780da0c5f",
   "metadata": {},
   "source": [
    "## **모델 불러오기**"
   ]
  },
  {
   "cell_type": "code",
   "execution_count": 23,
   "id": "d3cdbb84-bc71-4e98-8fae-e28baa5bef60",
   "metadata": {},
   "outputs": [],
   "source": [
    "import torch.nn.functional as F\n",
    "class CustomASTClassifier(nn.Module):\n",
    "    def __init__(self, ast_model_name, num_labels):\n",
    "        super().__init__()\n",
    "        self.astconfig = ASTConfig() # 괄호 안에 configuration 값 넣어주면 됩니다. 아마 sampling rate도 20000으로 맞춰주시면 될 것 같아요.\n",
    "        self.ast = ASTModel.from_pretrained(ast_model_name) # 요거 안되면 질문주세요 self.astconfig\n",
    "        self.num_labels = num_labels\n",
    "        for param in self.ast.parameters():\n",
    "            param.requires_grad = False\n",
    "\n",
    "        # 요 아래코드에 Convolution 과 classifier 설정해주시면 됩니다..\n",
    "\n",
    "        # 예시\n",
    "        \n",
    "        self.conv1d1 = nn.Sequential(\n",
    "            nn.Conv1d(in_channels=1214,\n",
    "                      out_channels = 512,\n",
    "                      kernel_size = 1,\n",
    "                      stride = 1),\n",
    "            nn.BatchNorm1d(512),\n",
    "            nn.ReLU())\n",
    "        \n",
    "        self.conv1d2 = nn.Sequential(\n",
    "            nn.Conv1d(in_channels=512,\n",
    "                      out_channels = 256,\n",
    "                      kernel_size = 1,\n",
    "                      stride = 1),\n",
    "            nn.BatchNorm1d(256),\n",
    "            nn.ReLU())\n",
    "        \n",
    "        self.conv1d3 = nn.Sequential(\n",
    "            nn.Conv1d(in_channels=256,\n",
    "                      out_channels = 128,\n",
    "                      kernel_size = 1,\n",
    "                      stride = 1),\n",
    "            nn.BatchNorm1d(128),\n",
    "            nn.ReLU())\n",
    "        \n",
    "        # self.conv1d4 = nn.Sequential(\n",
    "        #     nn.Conv1d(in_channels=128,\n",
    "        #               out_channels = 64,\n",
    "        #               kernel_size = 1,\n",
    "        #               stride = 1),\n",
    "        #     nn.BatchNorm1d(64),\n",
    "        #     nn.ReLU())        \n",
    "\n",
    "        # self.conv1d5 = nn.Sequential(\n",
    "        #     nn.Conv1d(in_channels=64,\n",
    "        #               out_channels = 32,\n",
    "        #               kernel_size = 1,\n",
    "        #               stride = 1),\n",
    "        #     nn.BatchNorm1d(32),\n",
    "        #     nn.ReLU())\n",
    "\n",
    "        # self.conv1d6 = nn.Sequential(\n",
    "        #     nn.Conv1d(in_channels=32,\n",
    "        #               out_channels = 16,\n",
    "        #               kernel_size = 1,\n",
    "        #               stride = 1),\n",
    "        #     nn.BatchNorm1d(16),\n",
    "        #     nn.ReLU())\n",
    "\n",
    "        self.adapted = nn.AdaptiveAvgPool2d((1, 128))\n",
    "\n",
    "        self.classifier = nn.Linear(128, 32)\n",
    "        \n",
    "        self.add_layer_01 = nn.Linear(32, num_labels)\n",
    "        self.num_labels = num_labels\n",
    "        \n",
    "\n",
    "    def forward(self, input_values, labels=None):\n",
    "        input_values = input_values.float()\n",
    "        outputs = self.ast(input_values)\n",
    "        embeddings = outputs.last_hidden_state\n",
    "\n",
    "        # 요 아래 부분부터 Feed Forward 부분이니 위에서 설정한 Convolution과 classifier를 넣어주시면 됩니다.\n",
    "        # 예시)\n",
    "        \n",
    "        # embeddings = embeddings.unsqueeze(1)\n",
    "        \n",
    "        # Convolution block\n",
    "        conv_output1 = self.conv1d1(embeddings)\n",
    "        conv_output2 = self.conv1d2(conv_output1)\n",
    "        conv_output3 = self.conv1d3(conv_output2)\n",
    "\n",
    "        adap_out = self.adapted(conv_output3)\n",
    "\n",
    "        output_sq = torch.squeeze(adap_out, dim=1)\n",
    "\n",
    "        flattened_output = adap_out.view(output_sq.size(0), -1)\n",
    "\n",
    "        logits = self.classifier(flattened_output)\n",
    "        logits = torch.sigmoid(logits)\n",
    "        logits = self.add_layer_01(logits)\n",
    "        \n",
    "\n",
    "        if labels is not None:\n",
    "            loss_fct = nn.CrossEntropyLoss()\n",
    "            loss = loss_fct(logits.view(-1, self.num_labels), labels.view(-1).long())\n",
    "            return loss, logits\n",
    "        return logits"
   ]
  },
  {
   "cell_type": "code",
   "execution_count": 24,
   "id": "3fff509b-51b9-4d12-a65e-4a4b82ebc20b",
   "metadata": {},
   "outputs": [],
   "source": [
    "import torch.optim as optim\n",
    "import matplotlib.pyplot as plt\n",
    "\n",
    "num_labels = 4\n",
    "ast_model_name = \"MIT/ast-finetuned-audioset-10-10-0.4593\"\n",
    "model = CustomASTClassifier(ast_model_name, num_labels).to(device)\n",
    "\n",
    "# Define your optimizer, loss function, etc.\n",
    "optimizer = optim.Adam(model.parameters(), lr=0.001)\n",
    "\n",
    "# Initialize metric lists\n",
    "train_losses, train_accuracies, val_losses, val_accuracies = [], [], [], []"
   ]
  },
  {
   "cell_type": "code",
   "execution_count": 25,
   "id": "ac8d1840-6625-484b-8d73-13c9506660be",
   "metadata": {},
   "outputs": [
    {
     "name": "stdout",
     "output_type": "stream",
     "text": [
      "embeddings.cls_token: requires_grad is False\n",
      "embeddings.distillation_token: requires_grad is False\n",
      "embeddings.position_embeddings: requires_grad is False\n",
      "embeddings.patch_embeddings.projection.weight: requires_grad is False\n",
      "embeddings.patch_embeddings.projection.bias: requires_grad is False\n",
      "encoder.layer.0.attention.attention.query.weight: requires_grad is False\n",
      "encoder.layer.0.attention.attention.query.bias: requires_grad is False\n",
      "encoder.layer.0.attention.attention.key.weight: requires_grad is False\n",
      "encoder.layer.0.attention.attention.key.bias: requires_grad is False\n",
      "encoder.layer.0.attention.attention.value.weight: requires_grad is False\n",
      "encoder.layer.0.attention.attention.value.bias: requires_grad is False\n",
      "encoder.layer.0.attention.output.dense.weight: requires_grad is False\n",
      "encoder.layer.0.attention.output.dense.bias: requires_grad is False\n",
      "encoder.layer.0.intermediate.dense.weight: requires_grad is False\n",
      "encoder.layer.0.intermediate.dense.bias: requires_grad is False\n",
      "encoder.layer.0.output.dense.weight: requires_grad is False\n",
      "encoder.layer.0.output.dense.bias: requires_grad is False\n",
      "encoder.layer.0.layernorm_before.weight: requires_grad is False\n",
      "encoder.layer.0.layernorm_before.bias: requires_grad is False\n",
      "encoder.layer.0.layernorm_after.weight: requires_grad is False\n",
      "encoder.layer.0.layernorm_after.bias: requires_grad is False\n",
      "encoder.layer.1.attention.attention.query.weight: requires_grad is False\n",
      "encoder.layer.1.attention.attention.query.bias: requires_grad is False\n",
      "encoder.layer.1.attention.attention.key.weight: requires_grad is False\n",
      "encoder.layer.1.attention.attention.key.bias: requires_grad is False\n",
      "encoder.layer.1.attention.attention.value.weight: requires_grad is False\n",
      "encoder.layer.1.attention.attention.value.bias: requires_grad is False\n",
      "encoder.layer.1.attention.output.dense.weight: requires_grad is False\n",
      "encoder.layer.1.attention.output.dense.bias: requires_grad is False\n",
      "encoder.layer.1.intermediate.dense.weight: requires_grad is False\n",
      "encoder.layer.1.intermediate.dense.bias: requires_grad is False\n",
      "encoder.layer.1.output.dense.weight: requires_grad is False\n",
      "encoder.layer.1.output.dense.bias: requires_grad is False\n",
      "encoder.layer.1.layernorm_before.weight: requires_grad is False\n",
      "encoder.layer.1.layernorm_before.bias: requires_grad is False\n",
      "encoder.layer.1.layernorm_after.weight: requires_grad is False\n",
      "encoder.layer.1.layernorm_after.bias: requires_grad is False\n",
      "encoder.layer.2.attention.attention.query.weight: requires_grad is False\n",
      "encoder.layer.2.attention.attention.query.bias: requires_grad is False\n",
      "encoder.layer.2.attention.attention.key.weight: requires_grad is False\n",
      "encoder.layer.2.attention.attention.key.bias: requires_grad is False\n",
      "encoder.layer.2.attention.attention.value.weight: requires_grad is False\n",
      "encoder.layer.2.attention.attention.value.bias: requires_grad is False\n",
      "encoder.layer.2.attention.output.dense.weight: requires_grad is False\n",
      "encoder.layer.2.attention.output.dense.bias: requires_grad is False\n",
      "encoder.layer.2.intermediate.dense.weight: requires_grad is False\n",
      "encoder.layer.2.intermediate.dense.bias: requires_grad is False\n",
      "encoder.layer.2.output.dense.weight: requires_grad is False\n",
      "encoder.layer.2.output.dense.bias: requires_grad is False\n",
      "encoder.layer.2.layernorm_before.weight: requires_grad is False\n",
      "encoder.layer.2.layernorm_before.bias: requires_grad is False\n",
      "encoder.layer.2.layernorm_after.weight: requires_grad is False\n",
      "encoder.layer.2.layernorm_after.bias: requires_grad is False\n",
      "encoder.layer.3.attention.attention.query.weight: requires_grad is False\n",
      "encoder.layer.3.attention.attention.query.bias: requires_grad is False\n",
      "encoder.layer.3.attention.attention.key.weight: requires_grad is False\n",
      "encoder.layer.3.attention.attention.key.bias: requires_grad is False\n",
      "encoder.layer.3.attention.attention.value.weight: requires_grad is False\n",
      "encoder.layer.3.attention.attention.value.bias: requires_grad is False\n",
      "encoder.layer.3.attention.output.dense.weight: requires_grad is False\n",
      "encoder.layer.3.attention.output.dense.bias: requires_grad is False\n",
      "encoder.layer.3.intermediate.dense.weight: requires_grad is False\n",
      "encoder.layer.3.intermediate.dense.bias: requires_grad is False\n",
      "encoder.layer.3.output.dense.weight: requires_grad is False\n",
      "encoder.layer.3.output.dense.bias: requires_grad is False\n",
      "encoder.layer.3.layernorm_before.weight: requires_grad is False\n",
      "encoder.layer.3.layernorm_before.bias: requires_grad is False\n",
      "encoder.layer.3.layernorm_after.weight: requires_grad is False\n",
      "encoder.layer.3.layernorm_after.bias: requires_grad is False\n",
      "encoder.layer.4.attention.attention.query.weight: requires_grad is False\n",
      "encoder.layer.4.attention.attention.query.bias: requires_grad is False\n",
      "encoder.layer.4.attention.attention.key.weight: requires_grad is False\n",
      "encoder.layer.4.attention.attention.key.bias: requires_grad is False\n",
      "encoder.layer.4.attention.attention.value.weight: requires_grad is False\n",
      "encoder.layer.4.attention.attention.value.bias: requires_grad is False\n",
      "encoder.layer.4.attention.output.dense.weight: requires_grad is False\n",
      "encoder.layer.4.attention.output.dense.bias: requires_grad is False\n",
      "encoder.layer.4.intermediate.dense.weight: requires_grad is False\n",
      "encoder.layer.4.intermediate.dense.bias: requires_grad is False\n",
      "encoder.layer.4.output.dense.weight: requires_grad is False\n",
      "encoder.layer.4.output.dense.bias: requires_grad is False\n",
      "encoder.layer.4.layernorm_before.weight: requires_grad is False\n",
      "encoder.layer.4.layernorm_before.bias: requires_grad is False\n",
      "encoder.layer.4.layernorm_after.weight: requires_grad is False\n",
      "encoder.layer.4.layernorm_after.bias: requires_grad is False\n",
      "encoder.layer.5.attention.attention.query.weight: requires_grad is False\n",
      "encoder.layer.5.attention.attention.query.bias: requires_grad is False\n",
      "encoder.layer.5.attention.attention.key.weight: requires_grad is False\n",
      "encoder.layer.5.attention.attention.key.bias: requires_grad is False\n",
      "encoder.layer.5.attention.attention.value.weight: requires_grad is False\n",
      "encoder.layer.5.attention.attention.value.bias: requires_grad is False\n",
      "encoder.layer.5.attention.output.dense.weight: requires_grad is False\n",
      "encoder.layer.5.attention.output.dense.bias: requires_grad is False\n",
      "encoder.layer.5.intermediate.dense.weight: requires_grad is False\n",
      "encoder.layer.5.intermediate.dense.bias: requires_grad is False\n",
      "encoder.layer.5.output.dense.weight: requires_grad is False\n",
      "encoder.layer.5.output.dense.bias: requires_grad is False\n",
      "encoder.layer.5.layernorm_before.weight: requires_grad is False\n",
      "encoder.layer.5.layernorm_before.bias: requires_grad is False\n",
      "encoder.layer.5.layernorm_after.weight: requires_grad is False\n",
      "encoder.layer.5.layernorm_after.bias: requires_grad is False\n",
      "encoder.layer.6.attention.attention.query.weight: requires_grad is False\n",
      "encoder.layer.6.attention.attention.query.bias: requires_grad is False\n",
      "encoder.layer.6.attention.attention.key.weight: requires_grad is False\n",
      "encoder.layer.6.attention.attention.key.bias: requires_grad is False\n",
      "encoder.layer.6.attention.attention.value.weight: requires_grad is False\n",
      "encoder.layer.6.attention.attention.value.bias: requires_grad is False\n",
      "encoder.layer.6.attention.output.dense.weight: requires_grad is False\n",
      "encoder.layer.6.attention.output.dense.bias: requires_grad is False\n",
      "encoder.layer.6.intermediate.dense.weight: requires_grad is False\n",
      "encoder.layer.6.intermediate.dense.bias: requires_grad is False\n",
      "encoder.layer.6.output.dense.weight: requires_grad is False\n",
      "encoder.layer.6.output.dense.bias: requires_grad is False\n",
      "encoder.layer.6.layernorm_before.weight: requires_grad is False\n",
      "encoder.layer.6.layernorm_before.bias: requires_grad is False\n",
      "encoder.layer.6.layernorm_after.weight: requires_grad is False\n",
      "encoder.layer.6.layernorm_after.bias: requires_grad is False\n",
      "encoder.layer.7.attention.attention.query.weight: requires_grad is False\n",
      "encoder.layer.7.attention.attention.query.bias: requires_grad is False\n",
      "encoder.layer.7.attention.attention.key.weight: requires_grad is False\n",
      "encoder.layer.7.attention.attention.key.bias: requires_grad is False\n",
      "encoder.layer.7.attention.attention.value.weight: requires_grad is False\n",
      "encoder.layer.7.attention.attention.value.bias: requires_grad is False\n",
      "encoder.layer.7.attention.output.dense.weight: requires_grad is False\n",
      "encoder.layer.7.attention.output.dense.bias: requires_grad is False\n",
      "encoder.layer.7.intermediate.dense.weight: requires_grad is False\n",
      "encoder.layer.7.intermediate.dense.bias: requires_grad is False\n",
      "encoder.layer.7.output.dense.weight: requires_grad is False\n",
      "encoder.layer.7.output.dense.bias: requires_grad is False\n",
      "encoder.layer.7.layernorm_before.weight: requires_grad is False\n",
      "encoder.layer.7.layernorm_before.bias: requires_grad is False\n",
      "encoder.layer.7.layernorm_after.weight: requires_grad is False\n",
      "encoder.layer.7.layernorm_after.bias: requires_grad is False\n",
      "encoder.layer.8.attention.attention.query.weight: requires_grad is False\n",
      "encoder.layer.8.attention.attention.query.bias: requires_grad is False\n",
      "encoder.layer.8.attention.attention.key.weight: requires_grad is False\n",
      "encoder.layer.8.attention.attention.key.bias: requires_grad is False\n",
      "encoder.layer.8.attention.attention.value.weight: requires_grad is False\n",
      "encoder.layer.8.attention.attention.value.bias: requires_grad is False\n",
      "encoder.layer.8.attention.output.dense.weight: requires_grad is False\n",
      "encoder.layer.8.attention.output.dense.bias: requires_grad is False\n",
      "encoder.layer.8.intermediate.dense.weight: requires_grad is False\n",
      "encoder.layer.8.intermediate.dense.bias: requires_grad is False\n",
      "encoder.layer.8.output.dense.weight: requires_grad is False\n",
      "encoder.layer.8.output.dense.bias: requires_grad is False\n",
      "encoder.layer.8.layernorm_before.weight: requires_grad is False\n",
      "encoder.layer.8.layernorm_before.bias: requires_grad is False\n",
      "encoder.layer.8.layernorm_after.weight: requires_grad is False\n",
      "encoder.layer.8.layernorm_after.bias: requires_grad is False\n",
      "encoder.layer.9.attention.attention.query.weight: requires_grad is False\n",
      "encoder.layer.9.attention.attention.query.bias: requires_grad is False\n",
      "encoder.layer.9.attention.attention.key.weight: requires_grad is False\n",
      "encoder.layer.9.attention.attention.key.bias: requires_grad is False\n",
      "encoder.layer.9.attention.attention.value.weight: requires_grad is False\n",
      "encoder.layer.9.attention.attention.value.bias: requires_grad is False\n",
      "encoder.layer.9.attention.output.dense.weight: requires_grad is False\n",
      "encoder.layer.9.attention.output.dense.bias: requires_grad is False\n",
      "encoder.layer.9.intermediate.dense.weight: requires_grad is False\n",
      "encoder.layer.9.intermediate.dense.bias: requires_grad is False\n",
      "encoder.layer.9.output.dense.weight: requires_grad is False\n",
      "encoder.layer.9.output.dense.bias: requires_grad is False\n",
      "encoder.layer.9.layernorm_before.weight: requires_grad is False\n",
      "encoder.layer.9.layernorm_before.bias: requires_grad is False\n",
      "encoder.layer.9.layernorm_after.weight: requires_grad is False\n",
      "encoder.layer.9.layernorm_after.bias: requires_grad is False\n",
      "encoder.layer.10.attention.attention.query.weight: requires_grad is False\n",
      "encoder.layer.10.attention.attention.query.bias: requires_grad is False\n",
      "encoder.layer.10.attention.attention.key.weight: requires_grad is False\n",
      "encoder.layer.10.attention.attention.key.bias: requires_grad is False\n",
      "encoder.layer.10.attention.attention.value.weight: requires_grad is False\n",
      "encoder.layer.10.attention.attention.value.bias: requires_grad is False\n",
      "encoder.layer.10.attention.output.dense.weight: requires_grad is False\n",
      "encoder.layer.10.attention.output.dense.bias: requires_grad is False\n",
      "encoder.layer.10.intermediate.dense.weight: requires_grad is False\n",
      "encoder.layer.10.intermediate.dense.bias: requires_grad is False\n",
      "encoder.layer.10.output.dense.weight: requires_grad is False\n",
      "encoder.layer.10.output.dense.bias: requires_grad is False\n",
      "encoder.layer.10.layernorm_before.weight: requires_grad is False\n",
      "encoder.layer.10.layernorm_before.bias: requires_grad is False\n",
      "encoder.layer.10.layernorm_after.weight: requires_grad is False\n",
      "encoder.layer.10.layernorm_after.bias: requires_grad is False\n",
      "encoder.layer.11.attention.attention.query.weight: requires_grad is False\n",
      "encoder.layer.11.attention.attention.query.bias: requires_grad is False\n",
      "encoder.layer.11.attention.attention.key.weight: requires_grad is False\n",
      "encoder.layer.11.attention.attention.key.bias: requires_grad is False\n",
      "encoder.layer.11.attention.attention.value.weight: requires_grad is False\n",
      "encoder.layer.11.attention.attention.value.bias: requires_grad is False\n",
      "encoder.layer.11.attention.output.dense.weight: requires_grad is False\n",
      "encoder.layer.11.attention.output.dense.bias: requires_grad is False\n",
      "encoder.layer.11.intermediate.dense.weight: requires_grad is False\n",
      "encoder.layer.11.intermediate.dense.bias: requires_grad is False\n",
      "encoder.layer.11.output.dense.weight: requires_grad is False\n",
      "encoder.layer.11.output.dense.bias: requires_grad is False\n",
      "encoder.layer.11.layernorm_before.weight: requires_grad is False\n",
      "encoder.layer.11.layernorm_before.bias: requires_grad is False\n",
      "encoder.layer.11.layernorm_after.weight: requires_grad is False\n",
      "encoder.layer.11.layernorm_after.bias: requires_grad is False\n",
      "layernorm.weight: requires_grad is False\n",
      "layernorm.bias: requires_grad is False\n"
     ]
    }
   ],
   "source": [
    "# 여기서 ast 모델이 다 freeze 됐는지 확인하시면 되요\n",
    "for name, param in model.ast.named_parameters():\n",
    "    if param.requires_grad:\n",
    "        print(f\"{name}: requires_grad is True\")\n",
    "    else:\n",
    "        print(f\"{name}: requires_grad is False\")"
   ]
  },
  {
   "cell_type": "code",
   "execution_count": 26,
   "id": "34eb3bd3",
   "metadata": {},
   "outputs": [],
   "source": [
    "# from torchsummary import summary\n",
    "# summary(model, input_size=(1, 1024, 128))"
   ]
  },
  {
   "cell_type": "code",
   "execution_count": 27,
   "id": "16cbc9b5-0e89-4a15-aeb0-8b3d1e88fc3a",
   "metadata": {},
   "outputs": [
    {
     "name": "stderr",
     "output_type": "stream",
     "text": [
      "Epoch 1:   0%|          | 0/16 [00:13<?, ?it/s, loss=1.44]\n",
      "Epoch 2:   0%|          | 0/16 [00:13<?, ?it/s, loss=1.31]\n",
      "Epoch 3:   0%|          | 0/16 [00:13<?, ?it/s, loss=1.32]\n",
      "Epoch 4:   0%|          | 0/16 [00:14<?, ?it/s, loss=1.2]\n",
      "Epoch 5:   0%|          | 0/16 [00:15<?, ?it/s, loss=1.16]\n",
      "Epoch 6:   0%|          | 0/16 [00:14<?, ?it/s, loss=1.15]\n",
      "Epoch 7:   0%|          | 0/16 [00:14<?, ?it/s, loss=1.14]\n",
      "Epoch 8:   0%|          | 0/16 [00:15<?, ?it/s, loss=1.02]\n",
      "Epoch 9:   0%|          | 0/16 [00:15<?, ?it/s, loss=0.926]\n",
      "Epoch 10:   0%|          | 0/16 [00:14<?, ?it/s, loss=0.888]\n",
      "Epoch 11:   0%|          | 0/16 [00:14<?, ?it/s, loss=0.712]\n",
      "Epoch 12:   0%|          | 0/16 [00:14<?, ?it/s, loss=0.632]\n",
      "Epoch 13:   0%|          | 0/16 [00:14<?, ?it/s, loss=0.536]\n",
      "Epoch 14:   0%|          | 0/16 [00:14<?, ?it/s, loss=0.703]\n",
      "Epoch 15:   0%|          | 0/16 [00:14<?, ?it/s, loss=0.659]\n",
      "Epoch 16:   0%|          | 0/16 [00:14<?, ?it/s, loss=0.492]\n",
      "Epoch 17:   0%|          | 0/16 [00:13<?, ?it/s, loss=0.393]\n",
      "Epoch 18:   0%|          | 0/16 [00:15<?, ?it/s, loss=0.459]\n",
      "Epoch 19:   0%|          | 0/16 [00:15<?, ?it/s, loss=0.377]\n",
      "Epoch 20:   0%|          | 0/16 [00:14<?, ?it/s, loss=0.318]\n",
      "Epoch 21:   0%|          | 0/16 [00:14<?, ?it/s, loss=0.252]\n",
      "Epoch 22:   0%|          | 0/16 [00:14<?, ?it/s, loss=0.209]\n",
      "Epoch 23:   0%|          | 0/16 [00:15<?, ?it/s, loss=0.19] \n",
      "Epoch 24:   0%|          | 0/16 [00:15<?, ?it/s, loss=0.177]\n",
      "Epoch 25:   0%|          | 0/16 [00:14<?, ?it/s, loss=0.149]\n",
      "Epoch 26:   0%|          | 0/16 [00:14<?, ?it/s, loss=0.165]\n",
      "Epoch 27:   0%|          | 0/16 [00:14<?, ?it/s, loss=0.112]\n",
      "Epoch 28:   0%|          | 0/16 [00:14<?, ?it/s, loss=0.102]\n",
      "Epoch 29:   0%|          | 0/16 [00:14<?, ?it/s, loss=0.0878]\n",
      "Epoch 30:   0%|          | 0/16 [00:13<?, ?it/s, loss=0.0907]\n",
      "Epoch 31:   0%|          | 0/16 [00:14<?, ?it/s, loss=0.0743]\n",
      "Epoch 32:   0%|          | 0/16 [00:14<?, ?it/s, loss=0.07]\n",
      "Epoch 33:   0%|          | 0/16 [00:14<?, ?it/s, loss=0.055] \n",
      "Epoch 34:   0%|          | 0/16 [00:14<?, ?it/s, loss=0.0569]\n",
      "Epoch 35:   0%|          | 0/16 [00:14<?, ?it/s, loss=0.0598]\n",
      "Epoch 36:   0%|          | 0/16 [00:14<?, ?it/s, loss=0.0538]\n",
      "Epoch 37:   0%|          | 0/16 [00:15<?, ?it/s, loss=0.0529]\n",
      "Epoch 38:   0%|          | 0/16 [00:15<?, ?it/s, loss=0.0429]\n",
      "Epoch 39:   0%|          | 0/16 [00:15<?, ?it/s, loss=0.042] \n",
      "Epoch 40:   0%|          | 0/16 [00:15<?, ?it/s, loss=0.0384]\n",
      "Epoch 41:   0%|          | 0/16 [00:14<?, ?it/s, loss=0.0407]\n",
      "Epoch 42:   0%|          | 0/16 [00:14<?, ?it/s, loss=0.0388]\n",
      "Epoch 43:   0%|          | 0/16 [00:14<?, ?it/s, loss=0.0347]\n",
      "Epoch 44:   0%|          | 0/16 [00:14<?, ?it/s, loss=0.0324]\n",
      "Epoch 45:   0%|          | 0/16 [00:16<?, ?it/s, loss=0.0317]\n",
      "Epoch 46:   0%|          | 0/16 [00:17<?, ?it/s, loss=0.0296]\n",
      "Epoch 47:   0%|          | 0/16 [00:14<?, ?it/s, loss=0.0296]\n",
      "Epoch 48:   0%|          | 0/16 [00:14<?, ?it/s, loss=0.031]\n",
      "Epoch 49:   0%|          | 0/16 [00:14<?, ?it/s, loss=0.0283]\n"
     ]
    }
   ],
   "source": [
    "# Training loop\n",
    "for epoch in range(50):  # 에폭은 임구님이 원하시는 값을 넣어주시면 됩니다.\n",
    "    total_loss, correct, total = 0, 0, 0\n",
    "    progress_bar = tqdm(train_loader, desc=f\"Epoch {epoch+1}\")\n",
    "\n",
    "    # Training phase\n",
    "    for batch in train_loader:\n",
    "        optimizer.zero_grad()\n",
    "        input_values, labels = batch\n",
    "        input_values, labels = input_values.to(device), labels.to(device)\n",
    "\n",
    "        loss, logits = model(input_values, labels)\n",
    "        total_loss += loss.item()\n",
    "\n",
    "        # Calculate accuracy\n",
    "        preds = logits.argmax(dim=1)\n",
    "        correct += (preds == labels).sum().item()\n",
    "        total += labels.size(0)\n",
    "\n",
    "        loss.backward()\n",
    "        optimizer.step()\n",
    "\n",
    "        progress_bar.set_postfix(loss=loss.item())\n",
    "\n",
    "    train_accuracy = correct / total\n",
    "    train_losses.append(total_loss / len(train_loader))\n",
    "    train_accuracies.append(train_accuracy)\n",
    "\n",
    "    # Validation phase\n",
    "    if val_loader is not None:\n",
    "        model.eval()\n",
    "        with torch.no_grad():\n",
    "            val_loss, correct, total = 0, 0, 0\n",
    "            for batch in val_loader:\n",
    "                input_values, labels = batch\n",
    "                input_values, labels = input_values.to(device), labels.to(device)\n",
    "\n",
    "                loss, logits = model(input_values, labels)\n",
    "                val_loss += loss.item()\n",
    "                preds = logits.argmax(dim=1)\n",
    "                correct += (preds == labels).sum().item()\n",
    "                total += labels.size(0)\n",
    "\n",
    "            val_accuracy = correct / total\n",
    "            val_losses.append(val_loss / len(val_loader))\n",
    "            val_accuracies.append(val_accuracy)\n",
    "\n",
    "        model.train()"
   ]
  },
  {
   "cell_type": "code",
   "execution_count": 28,
   "id": "984ae39b-b380-4131-b999-d183dd99bbb2",
   "metadata": {},
   "outputs": [
    {
     "data": {
      "image/png": "[encoded data removed]",
      "text/plain": [
       "<Figure size 1200x500 with 2 Axes>"
      ]
     },
     "metadata": {},
     "output_type": "display_data"
    }
   ],
   "source": [
    "# Plotting\n",
    "plt.figure(figsize=(12, 5))\n",
    "plt.subplot(1, 2, 1)\n",
    "plt.plot(train_losses, label='Training Loss')\n",
    "if val_loader is not None:\n",
    "    plt.plot(val_losses, label='Validation Loss')\n",
    "plt.title(\"Loss Over Epochs\")\n",
    "plt.xlabel(\"Epochs\")\n",
    "plt.ylabel(\"Loss\")\n",
    "plt.legend()\n",
    "\n",
    "plt.subplot(1, 2, 2)\n",
    "plt.plot(train_accuracies, label='Training Accuracy')\n",
    "if val_loader is not None:\n",
    "    plt.plot(val_accuracies, label='Validation Accuracy')\n",
    "plt.title(\"Accuracy Over Epochs\")\n",
    "plt.xlabel(\"Epochs\")\n",
    "plt.ylabel(\"Accuracy\")\n",
    "plt.legend()\n",
    "# plt.savefig(\"win500_set2.2_test_epc200_flattened.png\") # 그래프 사진은 주석풀어서 사진이름만 설정해주시면 됩니다.\n",
    "\n",
    "plt.show()"
   ]
  },
  {
   "cell_type": "code",
   "execution_count": 29,
   "id": "0115140e-0176-44ee-90e9-8c5e09e305f3",
   "metadata": {},
   "outputs": [
    {
     "name": "stdout",
     "output_type": "stream",
     "text": [
      "Accuracy: 50.00%\n"
     ]
    }
   ],
   "source": [
    "model.eval()  # Set the model to evaluation mode\n",
    "\n",
    "correct = 0\n",
    "total = 0\n",
    "with torch.no_grad():  # Disable gradient computation\n",
    "    for data in test_loader:  # dataloader is your DataLoader for the dataset\n",
    "        inputs, labels = data\n",
    "        inputs, labels = inputs.to(device), labels.to(device)\n",
    "        outputs = model(inputs)\n",
    "        _, predicted = torch.max(outputs.data, 1)\n",
    "        total += labels.size(0)\n",
    "        correct += (predicted == labels).sum().item()\n",
    "\n",
    "accuracy = correct / total\n",
    "print(f'Accuracy: {accuracy * 100:.2f}%')"
   ]
  },
  {
   "cell_type": "code",
   "execution_count": null,
   "id": "7d83cf60-0b21-422d-bdcb-74b513da6c89",
   "metadata": {},
   "outputs": [],
   "source": []
  }
 ],
 "metadata": {
  "kernelspec": {
   "display_name": "pyenv",
   "language": "python",
   "name": "python3"
  },
  "language_info": {
   "codemirror_mode": {
    "name": "ipython",
    "version": 3
   },
   "file_extension": ".py",
   "mimetype": "text/x-python",
   "name": "python",
   "nbconvert_exporter": "python",
   "pygments_lexer": "ipython3",
   "version": "3.10.13"
  }
 },
 "nbformat": 4,
 "nbformat_minor": 5
}
