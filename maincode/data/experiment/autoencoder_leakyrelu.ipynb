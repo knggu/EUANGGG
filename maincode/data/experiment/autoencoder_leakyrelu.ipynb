{
 "cells": [
  {
   "cell_type": "code",
   "execution_count": 1,
   "metadata": {},
   "outputs": [],
   "source": [
    "import matplotlib.pyplot as plt\n",
    "import glob\n",
    "import os\n",
    "from scipy.io import wavfile\n",
    "from collections import defaultdict, Counter\n",
    "from scipy import signal\n",
    "import numpy as np\n",
    "import librosa\n",
    "import random\n",
    "import tensorflow as tf\n",
    "from keras import models, layers"
   ]
  },
  {
   "cell_type": "code",
   "execution_count": 2,
   "metadata": {},
   "outputs": [],
   "source": [
    "audio_data_path = r'C:./set3'"
   ]
  },
  {
   "cell_type": "code",
   "execution_count": 3,
   "metadata": {},
   "outputs": [],
   "source": [
    "#파라미터 설정\n",
    "sr = 16000\n",
    "n_mfcc = 116\n",
    "n_mels = 104\n",
    "# n_ttf = \n",
    "# hop_length\n",
    "# 224 222 220 110 108 106 54  "
   ]
  },
  {
   "cell_type": "code",
   "execution_count": 4,
   "metadata": {},
   "outputs": [],
   "source": [
    "trainset = []"
   ]
  },
  {
   "cell_type": "code",
   "execution_count": 5,
   "metadata": {},
   "outputs": [],
   "source": [
    "label_mapping = {'belly_pain': 0, 'discomfort': 1, 'hungry': 2, 'tired': 3}"
   ]
  },
  {
   "cell_type": "code",
   "execution_count": 6,
   "metadata": {},
   "outputs": [
    {
     "data": {
      "text/plain": [
       "1522"
      ]
     },
     "execution_count": 6,
     "metadata": {},
     "output_type": "execute_result"
    }
   ],
   "source": [
    "audio_path = glob.glob(os.path.join(audio_data_path, '*.wav'))\n",
    "len(audio_path)"
   ]
  },
  {
   "cell_type": "code",
   "execution_count": 7,
   "metadata": {},
   "outputs": [],
   "source": [
    "mel_spec = []\n",
    "\n",
    "for path in audio_path:\n",
    "    audio, srate = librosa.load(path, sr=16000, duration=5.0)\n",
    "    ml_spc = librosa.feature.melspectrogram(y=audio, sr=srate)\n",
    "    mel_spec.append(ml_spc)"
   ]
  },
  {
   "cell_type": "code",
   "execution_count": 8,
   "metadata": {},
   "outputs": [
    {
     "data": {
      "text/plain": [
       "Counter({(128, 157): 1341,\n",
       "         (128, 134): 7,\n",
       "         (128, 98): 6,\n",
       "         (128, 107): 5,\n",
       "         (128, 128): 5,\n",
       "         (128, 151): 5,\n",
       "         (128, 112): 5,\n",
       "         (128, 118): 5,\n",
       "         (128, 115): 4,\n",
       "         (128, 117): 4,\n",
       "         (128, 104): 4,\n",
       "         (128, 109): 4,\n",
       "         (128, 108): 4,\n",
       "         (128, 144): 4,\n",
       "         (128, 111): 3,\n",
       "         (128, 119): 3,\n",
       "         (128, 92): 3,\n",
       "         (128, 101): 3,\n",
       "         (128, 136): 3,\n",
       "         (128, 103): 3,\n",
       "         (128, 147): 3,\n",
       "         (128, 42): 3,\n",
       "         (128, 72): 3,\n",
       "         (128, 84): 3,\n",
       "         (128, 131): 3,\n",
       "         (128, 93): 2,\n",
       "         (128, 88): 2,\n",
       "         (128, 140): 2,\n",
       "         (128, 86): 2,\n",
       "         (128, 155): 2,\n",
       "         (128, 152): 2,\n",
       "         (128, 132): 2,\n",
       "         (128, 142): 2,\n",
       "         (128, 130): 2,\n",
       "         (128, 148): 2,\n",
       "         (128, 126): 2,\n",
       "         (128, 90): 2,\n",
       "         (128, 91): 2,\n",
       "         (128, 70): 2,\n",
       "         (128, 41): 2,\n",
       "         (128, 38): 2,\n",
       "         (128, 133): 2,\n",
       "         (128, 36): 2,\n",
       "         (128, 149): 2,\n",
       "         (128, 94): 2,\n",
       "         (128, 96): 2,\n",
       "         (128, 69): 2,\n",
       "         (128, 59): 2,\n",
       "         (128, 150): 1,\n",
       "         (128, 100): 1,\n",
       "         (128, 58): 1,\n",
       "         (128, 99): 1,\n",
       "         (128, 71): 1,\n",
       "         (128, 123): 1,\n",
       "         (128, 87): 1,\n",
       "         (128, 114): 1,\n",
       "         (128, 138): 1,\n",
       "         (128, 127): 1,\n",
       "         (128, 32): 1,\n",
       "         (128, 50): 1,\n",
       "         (128, 34): 1,\n",
       "         (128, 51): 1,\n",
       "         (128, 60): 1,\n",
       "         (128, 45): 1,\n",
       "         (128, 39): 1,\n",
       "         (128, 68): 1,\n",
       "         (128, 154): 1,\n",
       "         (128, 145): 1,\n",
       "         (128, 110): 1,\n",
       "         (128, 122): 1,\n",
       "         (128, 102): 1,\n",
       "         (128, 105): 1,\n",
       "         (128, 139): 1,\n",
       "         (128, 30): 1,\n",
       "         (128, 27): 1,\n",
       "         (128, 124): 1,\n",
       "         (128, 31): 1,\n",
       "         (128, 106): 1,\n",
       "         (128, 135): 1,\n",
       "         (128, 89): 1,\n",
       "         (128, 74): 1,\n",
       "         (128, 95): 1,\n",
       "         (128, 143): 1,\n",
       "         (128, 57): 1,\n",
       "         (128, 61): 1,\n",
       "         (128, 54): 1,\n",
       "         (128, 125): 1,\n",
       "         (128, 153): 1})"
      ]
     },
     "execution_count": 8,
     "metadata": {},
     "output_type": "execute_result"
    }
   ],
   "source": [
    "import collections\n",
    "\n",
    "shapes = [arr.shape for arr in mel_spec]\n",
    "shape_count = collections.Counter(shapes)\n",
    "shape_count"
   ]
  },
  {
   "cell_type": "code",
   "execution_count": 9,
   "metadata": {},
   "outputs": [
    {
     "name": "stdout",
     "output_type": "stream",
     "text": [
      "100 104.5\n"
     ]
    }
   ],
   "source": [
    "import statistics\n",
    "init_val = 0\n",
    "temp = []\n",
    "\n",
    "for key in shape_count.keys():\n",
    "    h, w = key\n",
    "    init_val += w\n",
    "    temp.append(w)\n",
    "\n",
    "avg_w = init_val // len(shape_count.keys())\n",
    "median_w = statistics.median(temp)\n",
    "\n",
    "print(avg_w, median_w)"
   ]
  },
  {
   "cell_type": "code",
   "execution_count": 10,
   "metadata": {},
   "outputs": [],
   "source": [
    "mel_spec_re = []\n",
    "\n",
    "for arr in mel_spec:\n",
    "    h, w = arr.shape\n",
    "    if w > avg_w:\n",
    "        mel_spec_re.append(arr)"
   ]
  },
  {
   "cell_type": "code",
   "execution_count": 11,
   "metadata": {},
   "outputs": [],
   "source": [
    "reshaped = []\n",
    "\n",
    "for mspc in mel_spec_re:\n",
    "    h, w = mspc.shape\n",
    "    \n",
    "    if w < h:\n",
    "        left_width = (h - w) // 2\n",
    "        pad_remainder = (h - w) % 2\n",
    "        padded = np.pad(mspc, pad_width = ((0, 0), (left_width, left_width + pad_remainder)), mode = 'constant', constant_values=0)\n",
    "        reshaped.append(padded)\n",
    "    else:\n",
    "        trunc_mspc = mspc[:, :h]\n",
    "        reshaped.append(trunc_mspc)"
   ]
  },
  {
   "cell_type": "code",
   "execution_count": 12,
   "metadata": {},
   "outputs": [
    {
     "data": {
      "text/plain": [
       "Counter({(128, 128): 1456})"
      ]
     },
     "execution_count": 12,
     "metadata": {},
     "output_type": "execute_result"
    }
   ],
   "source": [
    "shapes_re = [arr.shape for arr in reshaped]\n",
    "shapes_count_re = collections.Counter(shapes_re)\n",
    "shapes_count_re"
   ]
  },
  {
   "cell_type": "code",
   "execution_count": 13,
   "metadata": {},
   "outputs": [
    {
     "data": {
      "text/plain": [
       "(1456, 128, 128)"
      ]
     },
     "execution_count": 13,
     "metadata": {},
     "output_type": "execute_result"
    }
   ],
   "source": [
    "train = np.array(reshaped)\n",
    "train.shape"
   ]
  },
  {
   "cell_type": "code",
   "execution_count": 14,
   "metadata": {},
   "outputs": [],
   "source": [
    "train_dim = train.reshape(train.shape + (1,))"
   ]
  },
  {
   "cell_type": "code",
   "execution_count": 15,
   "metadata": {},
   "outputs": [],
   "source": [
    "# from sklearn.model_selection import train_test_split\n",
    "\n",
    "\n",
    "\n",
    "# # 훈련 세트와 테스트 세트로 나누기 (예: 훈련 세트 80%, 테스트 세트 20%)\n",
    "# X_train, X_test = train_test_split(train, test_size=0.2) #, random_state=1024\n",
    "\n",
    "# # 결과 확인\n",
    "# print(f\"훈련 세트 크기: {X_train.shape}\")\n",
    "# print(f\"테스트 세트 크기: {X_test.shape}\")\n"
   ]
  },
  {
   "cell_type": "code",
   "execution_count": 16,
   "metadata": {},
   "outputs": [],
   "source": [
    "# # X_train의 차원을 (샘플 수, 98, 98, 1)로 조정\n",
    "# X_train_dim = X_train.reshape(X_train.shape + (1,))\n",
    "# X_test_dim = X_test.reshape(X_test.shape + (1,))"
   ]
  },
  {
   "cell_type": "code",
   "execution_count": 17,
   "metadata": {},
   "outputs": [],
   "source": [
    "# X_train_dim[0].shape"
   ]
  },
  {
   "cell_type": "code",
   "execution_count": 18,
   "metadata": {},
   "outputs": [],
   "source": [
    "from tensorflow.keras.layers import LeakyReLU\n",
    "\n",
    "def build_unet(input_shape):\n",
    "    # Define the input layer\n",
    "    inputs = tf.keras.Input(shape=input_shape)\n",
    "\n",
    "    # 인코더 Functional API 시작\n",
    "    # [1]\n",
    "    conv0 = layers.Conv2D(16, activation=LeakyReLU(alpha=0.01), kernel_size = 3, padding='same')(inputs) # 104  52 26\n",
    "    conv1 = layers.Conv2D(16, activation=LeakyReLU(alpha=0.01), kernel_size = 3, padding='same')(conv0)  # Skip connection으로 Expanding path로 이어질 예정, 112\n",
    "    conv2 = layers.MaxPooling2D(pool_size=(2, 2), strides=(2, 2))(conv1) # 52\n",
    "\n",
    "# 104 52 26 13 26 52 1\n",
    "\n",
    "    # [2]\n",
    "    conv3 = layers.Conv2D(32, activation=LeakyReLU(alpha=0.01), kernel_size = 3, padding='same')(conv2) # 52\n",
    "    conv4 = layers.Conv2D(32, activation=LeakyReLU(alpha=0.01), kernel_size = 3, padding='same')(conv3) # \n",
    "    conv5 = layers.MaxPooling2D(pool_size=(2, 2), strides=(2, 2))(conv4) #26\n",
    "\n",
    "\n",
    "    # [3]\n",
    "    conv6 = layers.Conv2D(64, activation=LeakyReLU(alpha=0.01), kernel_size=3, padding='same')(conv5) # 26 \n",
    "    conv7 = layers.Conv2D(64, activation=LeakyReLU(alpha=0.01), kernel_size=3, padding='same')(conv6) # \n",
    "    conv8 = layers.MaxPooling2D(pool_size=(2, 2), strides=(2, 2))(conv7) #13\n",
    "\n",
    "\n",
    "    # [4]\n",
    "    conv9 = layers.Conv2D(128, activation=LeakyReLU(alpha=0.01), kernel_size=3, padding='same')(conv8) # 13\n",
    "    conv10 = layers.Conv2D(128, activation=LeakyReLU(alpha=0.01), kernel_size=3, padding='same')(conv9) # \n",
    "\n",
    "    # Contracting path 끝\n",
    "\n",
    "    # The output of the last encoder layer\n",
    "    encoder_output = conv10\n",
    "\n",
    "\n",
    "    # 디코더 functional api 시작\n",
    "    # [6]\n",
    "    trans01 = layers.Conv2DTranspose(64, kernel_size=2, strides=(2, 2), activation='relu')(conv10) # 26\n",
    "    # crop01 = layers.Cropping2D(cropping=(4, 4))(conv4) \n",
    "    concat01 = layers.concatenate([trans01, conv7], axis=-1) # 44 & 52\n",
    "\n",
    "\n",
    "    # [6]\n",
    "    conv11 = layers.Conv2D(64, activation=LeakyReLU(alpha=0.01), kernel_size=3, padding='same')(concat01) # 44 - 42\n",
    "    conv12 = layers.Conv2D(64, activation=LeakyReLU(alpha=0.01), kernel_size=3, padding='same')(conv11)  # 40\n",
    "\n",
    "\n",
    "    trans02 = layers.Conv2DTranspose(32, kernel_size=2, strides=(2, 2), activation='relu')(conv12)\n",
    "    # crop02 = layers.Cropping2D(cropping=(16, 16))(conv1) # 80 & 112\n",
    "    concat02 = layers.concatenate([trans02, conv4], axis=-1)\n",
    "\n",
    "\n",
    "    # [6]\n",
    "    conv13 = layers.Conv2D(32, activation=LeakyReLU(alpha=0.01), kernel_size=3, padding='same')(concat02) # 44 - 42\n",
    "    conv14 = layers.Conv2D(32, activation=LeakyReLU(alpha=0.01), kernel_size=3, padding='same')(conv13)  # 40\n",
    "\n",
    "\n",
    "    trans03 = layers.Conv2DTranspose(16, kernel_size=2, strides=(2, 2), activation='relu')(conv14)\n",
    "    # crop02 = layers.Cropping2D(cropping=(16, 16))(conv1) # 80 & 112\n",
    "    concat03 = layers.concatenate([trans03, conv1], axis=-1)\n",
    "\n",
    "    # [13]\n",
    "    conv15 = layers.Conv2D(16, activation=LeakyReLU(alpha=0.01), kernel_size=3, padding='same')(concat03) # 80 - 78 - 76\n",
    "    conv16 = layers.Conv2D(16, activation=LeakyReLU(alpha=0.01), kernel_size=3, padding='same')(conv15)\n",
    "    # Expanding path 끝\n",
    "\n",
    "\n",
    "    # Define the output layer for the U-Net\n",
    "    outputs = layers.Conv2D(1, kernel_size=1)(conv16)\n",
    "\n",
    "\n",
    "    # Full U-Net model\n",
    "    unet_model = tf.keras.Model(inputs=inputs, outputs=outputs)\n",
    "\n",
    "\n",
    "    # Return the full model and the encoder part\n",
    "    encoder_model = tf.keras.Model(inputs=inputs, outputs=encoder_output)\n",
    "    return unet_model, encoder_model\n",
    "\n",
    "# Define your input shape based on your mel-spectrogram dimensions\n",
    "input_shape = (128, 128, 1)  # Example shape\n",
    "unet, encoder = build_unet(input_shape)"
   ]
  },
  {
   "cell_type": "code",
   "execution_count": 19,
   "metadata": {},
   "outputs": [],
   "source": [
    "# input_shape = unet.layers[0].input_shape\n",
    "# print(\"모델 입력층의 형태:\", input_shape)"
   ]
  },
  {
   "cell_type": "code",
   "execution_count": 20,
   "metadata": {},
   "outputs": [],
   "source": [
    "# print(\"X_train의 형태:\", X_train_dim.shape)\n",
    "# print(\"X_test의 형태:\", X_test_dim.shape)"
   ]
  },
  {
   "cell_type": "code",
   "execution_count": 21,
   "metadata": {},
   "outputs": [],
   "source": [
    "# X_test_dim[0].shape"
   ]
  },
  {
   "cell_type": "code",
   "execution_count": 22,
   "metadata": {},
   "outputs": [
    {
     "name": "stdout",
     "output_type": "stream",
     "text": [
      "Epoch 1/25\n",
      "91/91 [==============================] - 7s 31ms/step - loss: 722.4673\n",
      "Epoch 2/25\n",
      "91/91 [==============================] - 3s 31ms/step - loss: 55.1857\n",
      "Epoch 3/25\n",
      "91/91 [==============================] - 3s 30ms/step - loss: 52.9980\n",
      "Epoch 4/25\n",
      "91/91 [==============================] - 3s 29ms/step - loss: 25.5925\n",
      "Epoch 5/25\n",
      "91/91 [==============================] - 3s 29ms/step - loss: 26.9721\n",
      "Epoch 6/25\n",
      "91/91 [==============================] - 3s 29ms/step - loss: 18.2393\n",
      "Epoch 7/25\n",
      "91/91 [==============================] - 3s 29ms/step - loss: 10.7115\n",
      "Epoch 8/25\n",
      "91/91 [==============================] - 3s 29ms/step - loss: 8.9318\n",
      "Epoch 9/25\n",
      "91/91 [==============================] - 3s 30ms/step - loss: 7.9315\n",
      "Epoch 10/25\n",
      "91/91 [==============================] - 3s 29ms/step - loss: 6.5988\n",
      "Epoch 11/25\n",
      "91/91 [==============================] - 3s 29ms/step - loss: 9.3599\n",
      "Epoch 12/25\n",
      "91/91 [==============================] - 3s 30ms/step - loss: 7.1383\n",
      "Epoch 13/25\n",
      "91/91 [==============================] - 3s 29ms/step - loss: 4.5745\n",
      "Epoch 14/25\n",
      "91/91 [==============================] - 3s 29ms/step - loss: 28.0199\n",
      "Epoch 15/25\n",
      "91/91 [==============================] - 3s 29ms/step - loss: 6.6574\n",
      "Epoch 16/25\n",
      "91/91 [==============================] - 3s 29ms/step - loss: 4.2776\n",
      "Epoch 17/25\n",
      "91/91 [==============================] - 3s 29ms/step - loss: 3.9719\n",
      "Epoch 18/25\n",
      "91/91 [==============================] - 3s 30ms/step - loss: 4.0029\n",
      "Epoch 19/25\n",
      "91/91 [==============================] - 3s 29ms/step - loss: 3.7360\n",
      "Epoch 20/25\n",
      "91/91 [==============================] - 3s 29ms/step - loss: 3.8052\n",
      "Epoch 21/25\n",
      "91/91 [==============================] - 3s 30ms/step - loss: 7.5086\n",
      "Epoch 22/25\n",
      "91/91 [==============================] - 3s 29ms/step - loss: 3.4413\n",
      "Epoch 23/25\n",
      "91/91 [==============================] - 3s 29ms/step - loss: 56.9356\n",
      "Epoch 24/25\n",
      "91/91 [==============================] - 3s 29ms/step - loss: 5.7455\n",
      "Epoch 25/25\n",
      "91/91 [==============================] - 3s 29ms/step - loss: 3.4416\n"
     ]
    }
   ],
   "source": [
    "# Compile and train your model\n",
    "unet.compile(optimizer='adam', loss='mse')\n",
    "history = unet.fit(train_dim, train_dim, batch_size=16, epochs=25)"
   ]
  },
  {
   "cell_type": "code",
   "execution_count": 23,
   "metadata": {},
   "outputs": [
    {
     "name": "stdout",
     "output_type": "stream",
     "text": [
      "WARNING:tensorflow:Compiled the loaded model, but the compiled metrics have yet to be built. `model.compile_metrics` will be empty until you train or evaluate the model.\n"
     ]
    }
   ],
   "source": [
    "# After training, save only the encoder model\n",
    "# encoder.save('auto_encoder_model.h5')\n"
   ]
  },
  {
   "cell_type": "code",
   "execution_count": 24,
   "metadata": {},
   "outputs": [
    {
     "name": "stderr",
     "output_type": "stream",
     "text": [
      "C:\\Users\\Desk_Kang\\AppData\\Local\\Temp\\ipykernel_14456\\3091234247.py:1: MatplotlibDeprecationWarning: The seaborn styles shipped by Matplotlib are deprecated since 3.6, as they no longer correspond to the styles shipped by seaborn. However, they will remain available as 'seaborn-v0_8-<style>'. Alternatively, directly use the seaborn API instead.\n",
      "  plt.style.use('seaborn-white')\n"
     ]
    },
    {
     "data": {
      "image/png": "[encoded data removed]",
      "text/plain": [
       "<Figure size 1200x500 with 1 Axes>"
      ]
     },
     "metadata": {},
     "output_type": "display_data"
    }
   ],
   "source": [
    "plt.style.use('seaborn-white')\n",
    "\n",
    "history_dict = history.history\n",
    "\n",
    "loss = history_dict['loss']\n",
    "\n",
    "epochs = range(1, len(loss) + 1)\n",
    "fig = plt.figure(figsize=(12, 5))\n",
    "\n",
    "ax1 = fig.add_subplot(1, 2, 1)\n",
    "ax1.plot(epochs, loss, 'b-', label='train_loss')\n",
    "ax1.set_title('Train and Validation Loss')\n",
    "ax1.set_xlabel('Epochs')\n",
    "ax1.set_ylabel('Loss')\n",
    "ax1.grid()\n",
    "ax1.legend()\n",
    "\n",
    "\n",
    "plt.show()"
   ]
  },
  {
   "cell_type": "code",
   "execution_count": null,
   "metadata": {},
   "outputs": [],
   "source": []
  }
 ],
 "metadata": {
  "kernelspec": {
   "display_name": "pyenv",
   "language": "python",
   "name": "python3"
  },
  "language_info": {
   "codemirror_mode": {
    "name": "ipython",
    "version": 3
   },
   "file_extension": ".py",
   "mimetype": "text/x-python",
   "name": "python",
   "nbconvert_exporter": "python",
   "pygments_lexer": "ipython3",
   "version": "3.10.13"
  }
 },
 "nbformat": 4,
 "nbformat_minor": 2
}
