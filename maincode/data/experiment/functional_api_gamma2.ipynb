{
 "cells": [
  {
   "cell_type": "code",
   "execution_count": 2,
   "id": "b69d0495-09c3-42f8-9f3d-fc2b6332dde2",
   "metadata": {},
   "outputs": [],
   "source": [
    "import numpy as np\n",
    "import pandas as pd\n",
    "import glob\n",
    "import os\n",
    "import matplotlib.pyplot as plt\n",
    "import librosa\n",
    "from IPython.display import Audio\n",
    "from sklearn.preprocessing import StandardScaler\n",
    "from sklearn.preprocessing import LabelEncoder\n",
    "from sklearn.utils import shuffle\n",
    "import tensorflow as tf"
   ]
  },
  {
   "cell_type": "code",
   "execution_count": 3,
   "id": "1fa90862-60c1-4c04-9c36-4bb83c25b16f",
   "metadata": {},
   "outputs": [],
   "source": [
    "train_folder_path = r'C:./set1/train'\n",
    "test_folder_path = r'C:./set2/test'"
   ]
  },
  {
   "cell_type": "code",
   "execution_count": 4,
   "id": "c7fdb2d4-cdd9-4e1d-9f20-2b60c41fbee2",
   "metadata": {},
   "outputs": [
    {
     "data": {
      "text/plain": [
       "True"
      ]
     },
     "execution_count": 4,
     "metadata": {},
     "output_type": "execute_result"
    }
   ],
   "source": [
    "os.path.exists(train_folder_path)"
   ]
  },
  {
   "cell_type": "code",
   "execution_count": 5,
   "id": "a1317963-5115-4e63-8abf-0f615de53709",
   "metadata": {},
   "outputs": [
    {
     "data": {
      "text/plain": [
       "['belly_pain', 'discomfort', 'hungry', 'tired']"
      ]
     },
     "execution_count": 5,
     "metadata": {},
     "output_type": "execute_result"
    }
   ],
   "source": [
    "class_names = next(os.walk(train_folder_path))[1]\n",
    "class_names = class_names[0:]\n",
    "class_names"
   ]
  },
  {
   "cell_type": "code",
   "execution_count": 6,
   "id": "022fa069-5699-43a1-bf2b-1f9cff9a670b",
   "metadata": {},
   "outputs": [
    {
     "data": {
      "text/plain": [
       "['C:./set1/train\\\\belly_pain',\n",
       " 'C:./set1/train\\\\discomfort',\n",
       " 'C:./set1/train\\\\hungry',\n",
       " 'C:./set1/train\\\\tired']"
      ]
     },
     "execution_count": 6,
     "metadata": {},
     "output_type": "execute_result"
    }
   ],
   "source": [
    "audio_path = [os.path.join(train_folder_path, name) for name in class_names]\n",
    "audio_path"
   ]
  },
  {
   "cell_type": "code",
   "execution_count": 7,
   "id": "3a6acae1-1df7-4ee8-95e4-bbbcfb439a92",
   "metadata": {},
   "outputs": [],
   "source": [
    "bpain_audio = glob.glob(os.path.join(audio_path[0], '*.wav'))\n",
    "discomf_audio = glob.glob(os.path.join(audio_path[1], '*.wav'))\n",
    "hungry_audio = glob.glob(os.path.join(audio_path[2], '*.wav'))\n",
    "tired_audio = glob.glob(os.path.join(audio_path[3], '*.wav'))"
   ]
  },
  {
   "cell_type": "code",
   "execution_count": 8,
   "id": "9b4c2824-b56c-49ed-a6e4-e4550298a464",
   "metadata": {},
   "outputs": [],
   "source": [
    "audio_path_byclass = {\n",
    "    'bpain': bpain_audio,\n",
    "    'discomf': discomf_audio,\n",
    "    'hungry': hungry_audio,\n",
    "    'tired': tired_audio\n",
    "}"
   ]
  },
  {
   "cell_type": "markdown",
   "id": "e0a1378f-deee-48fb-a765-a2cf859d0450",
   "metadata": {},
   "source": [
    "## Load Audio"
   ]
  },
  {
   "cell_type": "code",
   "execution_count": 9,
   "id": "86fa5d47-1cee-44ee-b193-fab488048f6a",
   "metadata": {},
   "outputs": [],
   "source": [
    "# Replace 'your_audio_file.mp3' with the path to your audio file\n",
    "load_audio = {}\n",
    "for name, pathlst in audio_path_byclass.items():\n",
    "    loaded = []\n",
    "    for path in pathlst:\n",
    "        audio, sr = librosa.load(path, sr=16000, mono=True, duration=5.2)\n",
    "        loaded.append(audio)\n",
    "    load_audio[name] = loaded"
   ]
  },
  {
   "cell_type": "code",
   "execution_count": 10,
   "id": "85cd69ed",
   "metadata": {},
   "outputs": [],
   "source": [
    "mfcc_audio = {}\n",
    "for name, pathlst in audio_path_byclass.items():\n",
    "    mfccs = []\n",
    "    for path in pathlst:\n",
    "        audio, sr = librosa.load(path, sr=16000, mono=True, duration=5.0)\n",
    "        mfcc = librosa.feature.mfcc(y=audio, sr=16000, n_mfcc=10)\n",
    "        mfccs.append(mfcc)\n",
    "    mfcc_audio[name] = mfccs"
   ]
  },
  {
   "cell_type": "code",
   "execution_count": 11,
   "id": "a5e311e9",
   "metadata": {},
   "outputs": [],
   "source": [
    "import collections\n",
    "\n",
    "shape = {}\n",
    "\n",
    "for class_name, lst in mfcc_audio.items():\n",
    "    for arr in lst:\n",
    "        shapes = [arr.shape for arr in lst]\n",
    "        shapes_count = collections.Counter(shapes)\n",
    "        shape[f'{class_name} mfcc shape counts'] = shapes_count"
   ]
  },
  {
   "cell_type": "markdown",
   "id": "33071bee-fd0e-4db9-8e82-4e12b5ade3f0",
   "metadata": {},
   "source": [
    "## Load Model"
   ]
  },
  {
   "cell_type": "code",
   "execution_count": 12,
   "id": "7b52da07-7f41-44cb-bf2c-3d80a12c45f3",
   "metadata": {},
   "outputs": [],
   "source": [
    "# Load the model.\n",
    "import tensorflow_hub as hub\n",
    "model = hub.load('https://tfhub.dev/google/yamnet/1')"
   ]
  },
  {
   "cell_type": "code",
   "execution_count": 13,
   "id": "7cbaf834-0d28-4ae4-a360-de9d9691d1c7",
   "metadata": {},
   "outputs": [],
   "source": [
    "# Run the model, check the output.\n",
    "feature = {}\n",
    "for name, arr in load_audio.items():\n",
    "    # Initialize dictionaries for each class if not already existing\n",
    "    if name not in feature:\n",
    "        feature[name] = {'scores': [], 'embeddings': [], 'spectrograms': []}\n",
    "    \n",
    "    for wav in arr:\n",
    "        scores, embeddings, spectrogram = model(wav)\n",
    "        \n",
    "        # Append the results to the respective lists in the dictionary\n",
    "        feature[name]['scores'].append(np.array(scores))\n",
    "        feature[name]['embeddings'].append(np.array(embeddings))\n",
    "        feature[name]['spectrograms'].append(np.array(spectrogram))"
   ]
  },
  {
   "cell_type": "code",
   "execution_count": 14,
   "id": "46327ecf-b787-4220-802f-41a327b2abc1",
   "metadata": {},
   "outputs": [],
   "source": [
    "shape_feat = {}\n",
    "\n",
    "for class_name in feature.keys():\n",
    "    for cat, lst in feature[class_name].items():\n",
    "        shapes = [arr.shape for arr in lst]\n",
    "        shapes_count = collections.Counter(shapes)\n",
    "        shape_feat[f'{class_name} {cat} shape counts'] = shapes_count"
   ]
  },
  {
   "cell_type": "code",
   "execution_count": 15,
   "id": "314bb6f4-4444-4f35-ba8c-5b21efcc489f",
   "metadata": {},
   "outputs": [
    {
     "data": {
      "text/plain": [
       "{'bpain scores shape counts': Counter({(10, 521): 69}),\n",
       " 'bpain embeddings shape counts': Counter({(10, 1024): 69}),\n",
       " 'bpain spectrograms shape counts': Counter({(528, 64): 69}),\n",
       " 'discomf scores shape counts': Counter({(10, 521): 94}),\n",
       " 'discomf embeddings shape counts': Counter({(10, 1024): 94}),\n",
       " 'discomf spectrograms shape counts': Counter({(528, 64): 94}),\n",
       " 'hungry scores shape counts': Counter({(10, 521): 100}),\n",
       " 'hungry embeddings shape counts': Counter({(10, 1024): 100}),\n",
       " 'hungry spectrograms shape counts': Counter({(528, 64): 100}),\n",
       " 'tired scores shape counts': Counter({(10, 521): 69}),\n",
       " 'tired embeddings shape counts': Counter({(10, 1024): 69}),\n",
       " 'tired spectrograms shape counts': Counter({(528, 64): 69})}"
      ]
     },
     "execution_count": 15,
     "metadata": {},
     "output_type": "execute_result"
    }
   ],
   "source": [
    "shape_feat"
   ]
  },
  {
   "cell_type": "markdown",
   "id": "e5b037ab-3c4f-4db5-90c6-3f9352fe2e47",
   "metadata": {},
   "source": [
    "## Padding\n",
    "- 각 클래스 카테고리마다 평균 row를 구한 후 padding 해준다"
   ]
  },
  {
   "cell_type": "code",
   "execution_count": 16,
   "id": "a3d4a8a9-7bfe-4b95-a3d2-8a5c5b083cf2",
   "metadata": {},
   "outputs": [],
   "source": [
    "from statistics import mean\n",
    "\n",
    "temp = []\n",
    "\n",
    "for class_cat, counter in shape_feat.items():\n",
    "    for shape, count in counter.items():\n",
    "        h, w = shape\n",
    "        num_elements = h * w\n",
    "        temp.append(num_elements)"
   ]
  },
  {
   "cell_type": "code",
   "execution_count": 17,
   "id": "4f2ca8a2-eac2-463c-b958-e0557ce5d308",
   "metadata": {},
   "outputs": [
    {
     "data": {
      "text/plain": [
       "16414"
      ]
     },
     "execution_count": 17,
     "metadata": {},
     "output_type": "execute_result"
    }
   ],
   "source": [
    "avg = mean(temp)\n",
    "avg"
   ]
  },
  {
   "cell_type": "code",
   "execution_count": 18,
   "id": "e2d34ae7",
   "metadata": {},
   "outputs": [],
   "source": [
    "for class_name, lst in mfcc_audio.items():\n",
    "    feature[class_name]['mfcc'] = lst"
   ]
  },
  {
   "cell_type": "code",
   "execution_count": 19,
   "id": "bbfbb459",
   "metadata": {},
   "outputs": [],
   "source": [
    "shape_feat_3d = {}\n",
    "\n",
    "for class_name in feature.keys():\n",
    "    for cat, lst in feature[class_name].items():\n",
    "        shapes = [arr.shape for arr in lst]\n",
    "        shapes_count = collections.Counter(shapes)\n",
    "        shape_feat_3d[f'{class_name} {cat} shape counts'] = shapes_count"
   ]
  },
  {
   "cell_type": "code",
   "execution_count": 20,
   "id": "822b63f2",
   "metadata": {},
   "outputs": [
    {
     "data": {
      "text/plain": [
       "{'bpain scores shape counts': Counter({(10, 521): 69}),\n",
       " 'bpain embeddings shape counts': Counter({(10, 1024): 69}),\n",
       " 'bpain spectrograms shape counts': Counter({(528, 64): 69}),\n",
       " 'bpain mfcc shape counts': Counter({(10, 157): 69}),\n",
       " 'discomf scores shape counts': Counter({(10, 521): 94}),\n",
       " 'discomf embeddings shape counts': Counter({(10, 1024): 94}),\n",
       " 'discomf spectrograms shape counts': Counter({(528, 64): 94}),\n",
       " 'discomf mfcc shape counts': Counter({(10, 157): 94}),\n",
       " 'hungry scores shape counts': Counter({(10, 521): 100}),\n",
       " 'hungry embeddings shape counts': Counter({(10, 1024): 100}),\n",
       " 'hungry spectrograms shape counts': Counter({(528, 64): 100}),\n",
       " 'hungry mfcc shape counts': Counter({(10, 157): 100}),\n",
       " 'tired scores shape counts': Counter({(10, 521): 69}),\n",
       " 'tired embeddings shape counts': Counter({(10, 1024): 69}),\n",
       " 'tired spectrograms shape counts': Counter({(528, 64): 69}),\n",
       " 'tired mfcc shape counts': Counter({(10, 157): 69})}"
      ]
     },
     "execution_count": 20,
     "metadata": {},
     "output_type": "execute_result"
    }
   ],
   "source": [
    "shape_feat_3d"
   ]
  },
  {
   "cell_type": "code",
   "execution_count": 21,
   "id": "a9bbb647-27a7-4e9f-ba23-7b2c724c97fe",
   "metadata": {},
   "outputs": [],
   "source": [
    "reshaped = {}\n",
    "\n",
    "for class_name, categories in feature.items():\n",
    "    for cat, lst in categories.items():\n",
    "        temp = []\n",
    "        for arr in lst:\n",
    "            h, w = arr.shape\n",
    "            flat_arr = arr.flatten()\n",
    "            size = h * w\n",
    "\n",
    "            if size == 5210 or size == 1570 or size == 10240:\n",
    "                padded = np.pad(flat_arr, pad_width=(0, avg - size), mode='constant', constant_values=0)\n",
    "                temp.append(padded)\n",
    "            else:\n",
    "                trunc_arr = flat_arr[:avg]\n",
    "                temp.append(trunc_arr) \n",
    "        \n",
    "        reshaped[f'{class_name} {cat}'] = temp"
   ]
  },
  {
   "cell_type": "code",
   "execution_count": 22,
   "id": "5eb877c6-430b-426a-bef6-b8dbb923ce44",
   "metadata": {},
   "outputs": [],
   "source": [
    "shape_count = {}\n",
    "\n",
    "for class_name, lst in reshaped.items():\n",
    "    shapes = [arr.shape for arr in lst]\n",
    "    shapes_count = collections.Counter(shapes)\n",
    "    shape_count[f'{class_name} shape counts'] = shapes_count"
   ]
  },
  {
   "cell_type": "code",
   "execution_count": 23,
   "id": "8f69e2ad-169e-43b4-960a-bcff1d368fcb",
   "metadata": {},
   "outputs": [
    {
     "data": {
      "text/plain": [
       "{'bpain scores shape counts': Counter({(16414,): 69}),\n",
       " 'bpain embeddings shape counts': Counter({(16414,): 69}),\n",
       " 'bpain spectrograms shape counts': Counter({(16414,): 69}),\n",
       " 'bpain mfcc shape counts': Counter({(16414,): 69}),\n",
       " 'discomf scores shape counts': Counter({(16414,): 94}),\n",
       " 'discomf embeddings shape counts': Counter({(16414,): 94}),\n",
       " 'discomf spectrograms shape counts': Counter({(16414,): 94}),\n",
       " 'discomf mfcc shape counts': Counter({(16414,): 94}),\n",
       " 'hungry scores shape counts': Counter({(16414,): 100}),\n",
       " 'hungry embeddings shape counts': Counter({(16414,): 100}),\n",
       " 'hungry spectrograms shape counts': Counter({(16414,): 100}),\n",
       " 'hungry mfcc shape counts': Counter({(16414,): 100}),\n",
       " 'tired scores shape counts': Counter({(16414,): 69}),\n",
       " 'tired embeddings shape counts': Counter({(16414,): 69}),\n",
       " 'tired spectrograms shape counts': Counter({(16414,): 69}),\n",
       " 'tired mfcc shape counts': Counter({(16414,): 69})}"
      ]
     },
     "execution_count": 23,
     "metadata": {},
     "output_type": "execute_result"
    }
   ],
   "source": [
    "shape_count"
   ]
  },
  {
   "cell_type": "code",
   "execution_count": 24,
   "id": "919ed44d-4cb8-44c3-b3fb-391ca00b15c9",
   "metadata": {},
   "outputs": [
    {
     "data": {
      "text/plain": [
       "dict_keys(['bpain scores', 'bpain embeddings', 'bpain spectrograms', 'bpain mfcc', 'discomf scores', 'discomf embeddings', 'discomf spectrograms', 'discomf mfcc', 'hungry scores', 'hungry embeddings', 'hungry spectrograms', 'hungry mfcc', 'tired scores', 'tired embeddings', 'tired spectrograms', 'tired mfcc'])"
      ]
     },
     "execution_count": 24,
     "metadata": {},
     "output_type": "execute_result"
    }
   ],
   "source": [
    "reshaped.keys()"
   ]
  },
  {
   "cell_type": "code",
   "execution_count": 25,
   "id": "eac6f8e7-4bd0-4e08-a7a0-0e0b3a5f07c4",
   "metadata": {},
   "outputs": [],
   "source": [
    "# Define your class names\n",
    "class_names = ['bpain', 'discomf', 'hungry', 'tired']\n",
    "\n",
    "# Initialize dictionaries for each category\n",
    "score_only = {class_name: [] for class_name in class_names}\n",
    "embed_only = {class_name: [] for class_name in class_names}\n",
    "spec_only = {class_name: [] for class_name in class_names}\n",
    "mfcc_only = {class_name: [] for class_name in class_names}\n",
    "\n",
    "# Loop over reshaped items only once\n",
    "for category, lists in reshaped.items():\n",
    "    for class_name in class_names:\n",
    "        if f'{class_name} scores' in category:\n",
    "            score_only[class_name].extend(lists)\n",
    "        elif f'{class_name} embeddings' in category:\n",
    "            embed_only[class_name].extend(lists)\n",
    "        elif f'{class_name} spectrograms' in category:\n",
    "            spec_only[class_name].extend(lists)\n",
    "        elif f'{class_name} mfcc' in category:\n",
    "            mfcc_only[class_name].extend(lists)"
   ]
  },
  {
   "cell_type": "code",
   "execution_count": 26,
   "id": "ae01faf4-0313-427a-948f-84f7d6c9073b",
   "metadata": {},
   "outputs": [
    {
     "data": {
      "text/plain": [
       "(69, 16414)"
      ]
     },
     "execution_count": 26,
     "metadata": {},
     "output_type": "execute_result"
    }
   ],
   "source": [
    "bpain_score_arr = np.array(score_only['bpain'])\n",
    "discomf_score_arr = np.array(score_only['discomf'])\n",
    "hungry_score_arr = np.array(score_only['hungry'])\n",
    "tired_score_arr = np.array(score_only['tired'])\n",
    "tired_score_arr.shape"
   ]
  },
  {
   "cell_type": "code",
   "execution_count": 27,
   "id": "5a26bfa2-e42e-42ff-81ad-607ab215adf4",
   "metadata": {},
   "outputs": [
    {
     "data": {
      "text/plain": [
       "(332, 16414)"
      ]
     },
     "execution_count": 27,
     "metadata": {},
     "output_type": "execute_result"
    }
   ],
   "source": [
    "score_stack = np.vstack((bpain_score_arr, discomf_score_arr, hungry_score_arr, tired_score_arr))\n",
    "score_stack.shape"
   ]
  },
  {
   "cell_type": "code",
   "execution_count": 28,
   "id": "4e87d043-242b-4d51-95a3-6e71b7f01098",
   "metadata": {},
   "outputs": [
    {
     "name": "stdout",
     "output_type": "stream",
     "text": [
      "matching true\n"
     ]
    }
   ],
   "source": [
    "if np.array_equal(score_stack[263:332, :], tired_score_arr):\n",
    "    print('matching true')\n",
    "else:\n",
    "    print('matching false')"
   ]
  },
  {
   "cell_type": "code",
   "execution_count": 29,
   "id": "304b880b-7a7a-4cbb-b5ba-6046774fc1eb",
   "metadata": {},
   "outputs": [],
   "source": [
    "bpain_embed_arr = np.array(embed_only['bpain'])\n",
    "discomf_embed_arr = np.array(embed_only['discomf'])\n",
    "hungry_embed_arr = np.array(embed_only['hungry'])\n",
    "tired_embed_arr = np.array(embed_only['tired'])"
   ]
  },
  {
   "cell_type": "code",
   "execution_count": 30,
   "id": "e1634ffc-3bab-42aa-9237-4b13f0ff0e33",
   "metadata": {},
   "outputs": [
    {
     "data": {
      "text/plain": [
       "(332, 16414)"
      ]
     },
     "execution_count": 30,
     "metadata": {},
     "output_type": "execute_result"
    }
   ],
   "source": [
    "embed_stack = np.vstack((bpain_embed_arr, discomf_embed_arr, hungry_embed_arr, tired_embed_arr))\n",
    "embed_stack.shape"
   ]
  },
  {
   "cell_type": "code",
   "execution_count": 31,
   "id": "33fd8421-b6c1-4111-8fbb-cf1756abdf44",
   "metadata": {},
   "outputs": [],
   "source": [
    "bpain_spec_arr = np.array(spec_only['bpain'])\n",
    "discomf_spec_arr = np.array(spec_only['discomf'])\n",
    "hungry_spec_arr = np.array(spec_only['hungry'])\n",
    "tired_spec_arr = np.array(spec_only['tired'])"
   ]
  },
  {
   "cell_type": "code",
   "execution_count": 32,
   "id": "d38f5559-1a8e-4a4e-acc6-7b34a3541b02",
   "metadata": {},
   "outputs": [
    {
     "data": {
      "text/plain": [
       "(332, 16414)"
      ]
     },
     "execution_count": 32,
     "metadata": {},
     "output_type": "execute_result"
    }
   ],
   "source": [
    "spec_stack = np.vstack((bpain_spec_arr, discomf_spec_arr, hungry_spec_arr, tired_spec_arr))\n",
    "spec_stack.shape"
   ]
  },
  {
   "cell_type": "code",
   "execution_count": 33,
   "id": "17812d98",
   "metadata": {},
   "outputs": [],
   "source": [
    "bpain_mfcc_arr = np.array(mfcc_only['bpain'])\n",
    "discomf_mfcc_arr = np.array(mfcc_only['discomf'])\n",
    "hungry_mfcc_arr = np.array(mfcc_only['hungry'])\n",
    "tired_mfcc_arr = np.array(mfcc_only['tired'])"
   ]
  },
  {
   "cell_type": "code",
   "execution_count": 34,
   "id": "7ba15264",
   "metadata": {},
   "outputs": [
    {
     "data": {
      "text/plain": [
       "(332, 16414)"
      ]
     },
     "execution_count": 34,
     "metadata": {},
     "output_type": "execute_result"
    }
   ],
   "source": [
    "mfcc_stack = np.vstack((bpain_mfcc_arr, discomf_mfcc_arr, hungry_mfcc_arr, tired_mfcc_arr))\n",
    "mfcc_stack.shape"
   ]
  },
  {
   "cell_type": "code",
   "execution_count": 35,
   "id": "04d93490-48ad-448b-ad69-70e3647f1d3e",
   "metadata": {},
   "outputs": [
    {
     "data": {
      "text/plain": [
       "(332,)"
      ]
     },
     "execution_count": 35,
     "metadata": {},
     "output_type": "execute_result"
    }
   ],
   "source": [
    "# Combine data and labels\n",
    "score_labels = []\n",
    "\n",
    "score_arrlst = [\n",
    "    bpain_score_arr,\n",
    "    discomf_score_arr,\n",
    "    hungry_score_arr,\n",
    "    tired_score_arr\n",
    "]\n",
    "\n",
    "for idx, arr in enumerate(score_arrlst):\n",
    "    score_labels.extend([idx] * len(arr))\n",
    "\n",
    "y_train = np.array(score_labels)\n",
    "y_train.shape"
   ]
  },
  {
   "cell_type": "code",
   "execution_count": 36,
   "id": "edf0faeb-6803-4ea4-86a6-30509f09d029",
   "metadata": {},
   "outputs": [
    {
     "name": "stdout",
     "output_type": "stream",
     "text": [
      "69\n",
      "94\n",
      "100\n",
      "69\n"
     ]
    }
   ],
   "source": [
    "for i in range(4):\n",
    "    print(score_labels.count(i))"
   ]
  },
  {
   "cell_type": "code",
   "execution_count": 37,
   "id": "85ac9b04-e85e-48aa-a4be-0cec3ad9180b",
   "metadata": {},
   "outputs": [],
   "source": [
    "# Generate shuffled indices\n",
    "shuffled_indices = np.random.permutation(score_stack.shape[0])\n",
    "\n",
    "# Shuffle each array using the same shuffled indices\n",
    "shuffled_score = score_stack[shuffled_indices, :]\n",
    "shuffled_embed = embed_stack[shuffled_indices, :]\n",
    "shuffled_spec = spec_stack[shuffled_indices, :]\n",
    "shuffled_mfcc = mfcc_stack[shuffled_indices, :]\n",
    "\n",
    "\n",
    "y_train = y_train[shuffled_indices]"
   ]
  },
  {
   "cell_type": "code",
   "execution_count": 38,
   "id": "17326bd7",
   "metadata": {},
   "outputs": [],
   "source": [
    "train_ratio = 0.8\n",
    "\n",
    "num_train = int(len(shuffled_indices) * train_ratio)\n",
    "\n",
    "train_indices, test_indices = shuffled_indices[:num_train], shuffled_indices[num_train:]\n",
    "\n",
    "# 나눈 인덱스를 사용하여 데이터를 나눔\n",
    "shuffled_score_train, shuffled_score_test = shuffled_score[train_indices, :], shuffled_score[test_indices, :]\n",
    "shuffled_embed_train, shuffled_embed_test = shuffled_embed[train_indices, :], shuffled_embed[test_indices, :]\n",
    "shuffled_spec_train, shuffled_spec_test = shuffled_spec[train_indices, :], shuffled_spec[test_indices, :]\n",
    "shuffled_mfcc_train, shuffled_mfcc_test = shuffled_mfcc[train_indices, :], shuffled_mfcc[test_indices, :]\n",
    "y_train_train, y_train_test = y_train[train_indices], y_train[test_indices]"
   ]
  },
  {
   "cell_type": "markdown",
   "id": "c00bdc92",
   "metadata": {},
   "source": [
    "## Functional API Tried"
   ]
  },
  {
   "cell_type": "code",
   "execution_count": 39,
   "id": "fec78dda",
   "metadata": {},
   "outputs": [],
   "source": [
    "from tensorflow.keras import layers, models, utils, Input"
   ]
  },
  {
   "cell_type": "code",
   "execution_count": 94,
   "id": "f0f69c6b",
   "metadata": {},
   "outputs": [
    {
     "name": "stdout",
     "output_type": "stream",
     "text": [
      "Model: \"model_7\"\n",
      "__________________________________________________________________________________________________\n",
      " Layer (type)                   Output Shape         Param #     Connected to                     \n",
      "==================================================================================================\n",
      " Input_1 (InputLayer)           [(None, 16414)]      0           []                               \n",
      "                                                                                                  \n",
      " Input_2 (InputLayer)           [(None, 16414)]      0           []                               \n",
      "                                                                                                  \n",
      " Input_3 (InputLayer)           [(None, 16414)]      0           []                               \n",
      "                                                                                                  \n",
      " dense_86 (Dense)               (None, 1024)         16808960    ['Input_1[0][0]']                \n",
      "                                                                                                  \n",
      " dense_87 (Dense)               (None, 1024)         16808960    ['Input_2[0][0]']                \n",
      "                                                                                                  \n",
      " dense_88 (Dense)               (None, 1024)         16808960    ['Input_3[0][0]']                \n",
      "                                                                                                  \n",
      " batch_normalization_83 (BatchN  (None, 1024)        4096        ['dense_86[0][0]']               \n",
      " ormalization)                                                                                    \n",
      "                                                                                                  \n",
      " batch_normalization_84 (BatchN  (None, 1024)        4096        ['dense_87[0][0]']               \n",
      " ormalization)                                                                                    \n",
      "                                                                                                  \n",
      " batch_normalization_85 (BatchN  (None, 1024)        4096        ['dense_88[0][0]']               \n",
      " ormalization)                                                                                    \n",
      "                                                                                                  \n",
      " dense_89 (Dense)               (None, 128)          131200      ['batch_normalization_83[0][0]'] \n",
      "                                                                                                  \n",
      " dense_90 (Dense)               (None, 128)          131200      ['batch_normalization_84[0][0]'] \n",
      "                                                                                                  \n",
      " dense_91 (Dense)               (None, 128)          131200      ['batch_normalization_85[0][0]'] \n",
      "                                                                                                  \n",
      " batch_normalization_86 (BatchN  (None, 128)         512         ['dense_89[0][0]']               \n",
      " ormalization)                                                                                    \n",
      "                                                                                                  \n",
      " batch_normalization_87 (BatchN  (None, 128)         512         ['dense_90[0][0]']               \n",
      " ormalization)                                                                                    \n",
      "                                                                                                  \n",
      " batch_normalization_88 (BatchN  (None, 128)         512         ['dense_91[0][0]']               \n",
      " ormalization)                                                                                    \n",
      "                                                                                                  \n",
      " dropout_46 (Dropout)           (None, 128)          0           ['batch_normalization_86[0][0]'] \n",
      "                                                                                                  \n",
      " dropout_47 (Dropout)           (None, 128)          0           ['batch_normalization_87[0][0]'] \n",
      "                                                                                                  \n",
      " dropout_48 (Dropout)           (None, 128)          0           ['batch_normalization_88[0][0]'] \n",
      "                                                                                                  \n",
      " concatenate_8 (Concatenate)    (None, 384)          0           ['dropout_46[0][0]',             \n",
      "                                                                  'dropout_47[0][0]',             \n",
      "                                                                  'dropout_48[0][0]']             \n",
      "                                                                                                  \n",
      " dense_92 (Dense)               (None, 256)          98560       ['concatenate_8[0][0]']          \n",
      "                                                                                                  \n",
      " batch_normalization_89 (BatchN  (None, 256)         1024        ['dense_92[0][0]']               \n",
      " ormalization)                                                                                    \n",
      "                                                                                                  \n",
      " dropout_49 (Dropout)           (None, 256)          0           ['batch_normalization_89[0][0]'] \n",
      "                                                                                                  \n",
      " dense_93 (Dense)               (None, 128)          32896       ['dropout_49[0][0]']             \n",
      "                                                                                                  \n",
      " batch_normalization_90 (BatchN  (None, 128)         512         ['dense_93[0][0]']               \n",
      " ormalization)                                                                                    \n",
      "                                                                                                  \n",
      " dropout_50 (Dropout)           (None, 128)          0           ['batch_normalization_90[0][0]'] \n",
      "                                                                                                  \n",
      " output (Dense)                 (None, 4)            516         ['dropout_50[0][0]']             \n",
      "                                                                                                  \n",
      "==================================================================================================\n",
      "Total params: 50,967,812\n",
      "Trainable params: 50,960,132\n",
      "Non-trainable params: 7,680\n",
      "__________________________________________________________________________________________________\n"
     ]
    }
   ],
   "source": [
    "# Input layer\n",
    "input_1 = Input(shape=(shuffled_score_train[0].shape), name='Input_1')\n",
    "input_2 = Input(shape=(shuffled_embed_train[0].shape), name='Input_2')\n",
    "input_3 = Input(shape=(shuffled_mfcc_train[0].shape), name='Input_3')\n",
    "\n",
    "# First hidden layer\n",
    "hidden_spec1 = layers.Dense(1024, activation='relu')(input_1)\n",
    "hidden_spec2 = layers.BatchNormalization()(hidden_spec1)\n",
    "\n",
    "hidden_embed1 = layers.Dense(1024, activation='relu')(input_2)\n",
    "hidden_embed2 = layers.BatchNormalization()(hidden_embed1)\n",
    "\n",
    "hidden_score1 = layers.Dense(1024, activation='relu')(input_3)\n",
    "hidden_score2 = layers.BatchNormalization()(hidden_score1)\n",
    "\n",
    "\n",
    "# # Second hidden layer\n",
    "# hidden_spec3 = layers.Dense(256, activation='sigmoid')(hidden_spec2)\n",
    "# hidden_spec4 = layers.BatchNormalization()(hidden_spec3)\n",
    "# hidden_spec5 = layers.Dropout(0.35)(hidden_spec4)\n",
    "\n",
    "\n",
    "# hidden_embed3 = layers.Dense(256, activation='sigmoid')(hidden_embed2)\n",
    "# hidden_embed4 = layers.BatchNormalization()(hidden_embed3)\n",
    "# hidden_embed5 = layers.Dropout(0.35)(hidden_embed4)\n",
    "\n",
    "\n",
    "# hidden_score3 = layers.Dense(256, activation='sigmoid')(hidden_score2)\n",
    "# hidden_score4 = layers.BatchNormalization()(hidden_score3)\n",
    "# hidden_score5 = layers.Dropout(0.35)(hidden_score4)\n",
    "\n",
    "\n",
    "# # Third hidden layer\n",
    "# hidden_spec6 = layers.Dense(64, activation='sigmoid')(hidden_spec5)\n",
    "# hidden_spec7 = layers.BatchNormalization()(hidden_spec6)\n",
    "\n",
    "\n",
    "# hidden_embed6 = layers.Dense(64, activation='sigmoid')(hidden_embed5)\n",
    "# hidden_embed7 = layers.BatchNormalization()(hidden_embed6)\n",
    "\n",
    "\n",
    "# hidden_score6 = layers.Dense(64, activation='sigmoid')(hidden_score5)\n",
    "# hidden_score7 = layers.BatchNormalization()(hidden_score6)\n",
    "\n",
    "\n",
    "# Fourth hidden layer\n",
    "hidden_spec8 = layers.Dense(128, activation='relu')(hidden_spec2)\n",
    "hidden_spec9 = layers.BatchNormalization()(hidden_spec8)\n",
    "hidden_spec10 = layers.Dropout(0.35)(hidden_spec9)\n",
    "\n",
    "\n",
    "hidden_embed8 = layers.Dense(128, activation='relu')(hidden_embed2)\n",
    "hidden_embed9 = layers.BatchNormalization()(hidden_embed8)\n",
    "hidden_embed10 = layers.Dropout(0.35)(hidden_embed9)\n",
    "\n",
    "\n",
    "hidden_score8 = layers.Dense(128, activation='relu')(hidden_score2)\n",
    "hidden_score9 = layers.BatchNormalization()(hidden_score8)\n",
    "hidden_score10 = layers.Dropout(0.35)(hidden_score9)\n",
    "\n",
    "\n",
    "# Concatenate layer\n",
    "concat = layers.Concatenate()([hidden_spec10, hidden_embed10, hidden_score10])\n",
    "\n",
    "connected1 = layers.Dense(256, activation='relu')(concat)\n",
    "connected2 = layers.BatchNormalization()(connected1)\n",
    "connected3 = layers.Dropout(0.25)(connected2)\n",
    "\n",
    "connected4 = layers.Dense(128, activation='relu')(connected3)\n",
    "connected5 = layers.BatchNormalization()(connected4)\n",
    "connected6 = layers.Dropout(0.25)(connected5)\n",
    "\n",
    "output = layers.Dense(4, activation='softmax', name='output')(connected6)\n",
    "\n",
    "model = models.Model(inputs=[input_1, input_2, input_3], outputs=[output])\n",
    "model.summary()"
   ]
  },
  {
   "cell_type": "code",
   "execution_count": 95,
   "id": "b4680400",
   "metadata": {},
   "outputs": [
    {
     "name": "stdout",
     "output_type": "stream",
     "text": [
      "You must install pydot (`pip install pydot`) and install graphviz (see instructions at https://graphviz.gitlab.io/download/) for plot_model to work.\n"
     ]
    }
   ],
   "source": [
    "utils.plot_model(model, show_shapes=True)"
   ]
  },
  {
   "cell_type": "code",
   "execution_count": 96,
   "id": "13dee0cb",
   "metadata": {},
   "outputs": [],
   "source": [
    "# Compile the model\n",
    "model.compile(optimizer='adam', \n",
    "              loss='sparse_categorical_crossentropy', \n",
    "              metrics=['accuracy'])\n"
   ]
  },
  {
   "cell_type": "code",
   "execution_count": 97,
   "id": "6583d276",
   "metadata": {},
   "outputs": [
    {
     "name": "stdout",
     "output_type": "stream",
     "text": [
      "Epoch 1/35\n"
     ]
    },
    {
     "name": "stdout",
     "output_type": "stream",
     "text": [
      "67/67 [==============================] - 4s 28ms/step - loss: 2.0515 - accuracy: 0.2868 - val_loss: 5.4600 - val_accuracy: 0.2239\n",
      "Epoch 2/35\n",
      "67/67 [==============================] - 2s 23ms/step - loss: 1.7858 - accuracy: 0.3019 - val_loss: 2.0428 - val_accuracy: 0.3582\n",
      "Epoch 3/35\n",
      "67/67 [==============================] - 2s 23ms/step - loss: 1.6089 - accuracy: 0.3321 - val_loss: 1.2841 - val_accuracy: 0.3731\n",
      "Epoch 4/35\n",
      "67/67 [==============================] - 2s 23ms/step - loss: 1.5117 - accuracy: 0.3623 - val_loss: 1.1274 - val_accuracy: 0.4925\n",
      "Epoch 5/35\n",
      "67/67 [==============================] - 2s 23ms/step - loss: 1.5054 - accuracy: 0.3472 - val_loss: 1.1217 - val_accuracy: 0.5224\n",
      "Epoch 6/35\n",
      "67/67 [==============================] - 2s 23ms/step - loss: 1.5330 - accuracy: 0.3698 - val_loss: 1.1665 - val_accuracy: 0.5075\n",
      "Epoch 7/35\n",
      "67/67 [==============================] - 2s 23ms/step - loss: 1.4060 - accuracy: 0.4264 - val_loss: 1.1388 - val_accuracy: 0.5075\n",
      "Epoch 8/35\n",
      "67/67 [==============================] - 1s 22ms/step - loss: 1.2970 - accuracy: 0.4566 - val_loss: 1.1781 - val_accuracy: 0.4925\n",
      "Epoch 9/35\n",
      "67/67 [==============================] - 1s 22ms/step - loss: 1.2609 - accuracy: 0.4377 - val_loss: 1.2077 - val_accuracy: 0.4627\n",
      "Epoch 10/35\n",
      "67/67 [==============================] - 1s 22ms/step - loss: 1.3422 - accuracy: 0.4453 - val_loss: 1.1151 - val_accuracy: 0.5075\n",
      "Epoch 11/35\n",
      "67/67 [==============================] - 2s 23ms/step - loss: 1.3076 - accuracy: 0.3962 - val_loss: 1.0865 - val_accuracy: 0.5821\n",
      "Epoch 12/35\n",
      "67/67 [==============================] - 1s 22ms/step - loss: 1.2228 - accuracy: 0.5019 - val_loss: 1.1280 - val_accuracy: 0.5672\n",
      "Epoch 13/35\n",
      "67/67 [==============================] - 1s 22ms/step - loss: 1.3188 - accuracy: 0.4000 - val_loss: 1.1321 - val_accuracy: 0.5672\n",
      "Epoch 14/35\n",
      "67/67 [==============================] - 2s 23ms/step - loss: 1.2132 - accuracy: 0.4792 - val_loss: 1.1951 - val_accuracy: 0.5672\n",
      "Epoch 15/35\n",
      "67/67 [==============================] - 2s 23ms/step - loss: 1.2124 - accuracy: 0.5019 - val_loss: 1.1854 - val_accuracy: 0.5075\n",
      "Epoch 16/35\n",
      "67/67 [==============================] - 2s 23ms/step - loss: 1.1277 - accuracy: 0.4981 - val_loss: 1.1991 - val_accuracy: 0.5373\n",
      "Epoch 17/35\n",
      "67/67 [==============================] - 2s 23ms/step - loss: 1.1846 - accuracy: 0.4943 - val_loss: 1.1720 - val_accuracy: 0.5672\n",
      "Epoch 18/35\n",
      "67/67 [==============================] - 2s 23ms/step - loss: 0.9845 - accuracy: 0.6000 - val_loss: 1.2520 - val_accuracy: 0.5373\n",
      "Epoch 19/35\n",
      "67/67 [==============================] - 2s 23ms/step - loss: 0.9780 - accuracy: 0.5774 - val_loss: 1.0917 - val_accuracy: 0.5522\n",
      "Epoch 20/35\n",
      "67/67 [==============================] - 2s 23ms/step - loss: 1.0171 - accuracy: 0.5774 - val_loss: 1.1959 - val_accuracy: 0.4925\n",
      "Epoch 21/35\n",
      "67/67 [==============================] - 2s 23ms/step - loss: 1.1176 - accuracy: 0.5358 - val_loss: 1.1235 - val_accuracy: 0.5970\n",
      "Epoch 22/35\n",
      "67/67 [==============================] - 2s 23ms/step - loss: 0.9532 - accuracy: 0.6264 - val_loss: 1.1265 - val_accuracy: 0.5970\n",
      "Epoch 23/35\n",
      "67/67 [==============================] - 2s 23ms/step - loss: 1.0010 - accuracy: 0.6113 - val_loss: 1.2110 - val_accuracy: 0.5522\n",
      "Epoch 24/35\n",
      "67/67 [==============================] - 2s 23ms/step - loss: 0.9972 - accuracy: 0.5887 - val_loss: 1.1709 - val_accuracy: 0.5224\n",
      "Epoch 25/35\n",
      "67/67 [==============================] - 2s 23ms/step - loss: 0.8676 - accuracy: 0.6377 - val_loss: 1.2163 - val_accuracy: 0.5522\n",
      "Epoch 26/35\n",
      "67/67 [==============================] - 2s 23ms/step - loss: 0.9240 - accuracy: 0.6566 - val_loss: 1.1665 - val_accuracy: 0.5373\n",
      "Epoch 27/35\n",
      "67/67 [==============================] - 2s 23ms/step - loss: 0.8584 - accuracy: 0.6566 - val_loss: 1.2002 - val_accuracy: 0.5821\n",
      "Epoch 28/35\n",
      "67/67 [==============================] - 2s 23ms/step - loss: 0.8654 - accuracy: 0.6566 - val_loss: 1.2008 - val_accuracy: 0.5821\n",
      "Epoch 29/35\n",
      "67/67 [==============================] - 2s 23ms/step - loss: 0.8205 - accuracy: 0.6679 - val_loss: 1.1570 - val_accuracy: 0.5970\n",
      "Epoch 30/35\n",
      "67/67 [==============================] - 2s 23ms/step - loss: 0.8450 - accuracy: 0.6755 - val_loss: 1.1140 - val_accuracy: 0.5522\n",
      "Epoch 31/35\n",
      "67/67 [==============================] - 2s 23ms/step - loss: 0.8581 - accuracy: 0.6943 - val_loss: 1.2155 - val_accuracy: 0.5970\n",
      "Epoch 32/35\n",
      "67/67 [==============================] - 2s 23ms/step - loss: 0.7585 - accuracy: 0.6906 - val_loss: 1.2507 - val_accuracy: 0.6119\n",
      "Epoch 33/35\n",
      "67/67 [==============================] - 2s 23ms/step - loss: 0.7308 - accuracy: 0.7283 - val_loss: 1.2911 - val_accuracy: 0.5373\n",
      "Epoch 34/35\n",
      "67/67 [==============================] - 2s 23ms/step - loss: 0.7311 - accuracy: 0.7245 - val_loss: 1.5027 - val_accuracy: 0.5970\n",
      "Epoch 35/35\n",
      "67/67 [==============================] - 2s 23ms/step - loss: 0.7086 - accuracy: 0.7396 - val_loss: 1.4583 - val_accuracy: 0.6716\n"
     ]
    }
   ],
   "source": [
    "history = model.fit(\n",
    "    \n",
    "    x=(shuffled_score_train, shuffled_embed_train, shuffled_mfcc_train),\n",
    "    y=y_train_train,\n",
    "    batch_size=4,\n",
    "    epochs=35,\n",
    "    validation_data=((shuffled_score_test, shuffled_embed_test, shuffled_mfcc_test), y_train_test)\n",
    "    )\n"
   ]
  },
  {
   "cell_type": "code",
   "execution_count": 98,
   "id": "a14d5b96",
   "metadata": {},
   "outputs": [
    {
     "name": "stderr",
     "output_type": "stream",
     "text": [
      "C:\\Users\\Desk_Kang\\AppData\\Local\\Temp\\ipykernel_20488\\1424018204.py:3: MatplotlibDeprecationWarning: The seaborn styles shipped by Matplotlib are deprecated since 3.6, as they no longer correspond to the styles shipped by seaborn. However, they will remain available as 'seaborn-v0_8-<style>'. Alternatively, directly use the seaborn API instead.\n",
      "  plt.style.use('seaborn-white')\n"
     ]
    },
    {
     "data": {
      "image/png": "[encoded data removed]",
      "text/plain": [
       "<Figure size 1200x500 with 2 Axes>"
      ]
     },
     "metadata": {},
     "output_type": "display_data"
    }
   ],
   "source": [
    "import matplotlib.pyplot as plt\n",
    "\n",
    "plt.style.use('seaborn-white')\n",
    "\n",
    "history_dict = history.history\n",
    "\n",
    "loss = history_dict['loss']\n",
    "val_loss = history_dict['val_loss']\n",
    "\n",
    "epochs = range(1, len(loss) + 1)\n",
    "fig = plt.figure(figsize=(12, 5))\n",
    "\n",
    "ax1 = fig.add_subplot(1, 2, 1)\n",
    "ax1.plot(epochs, loss, 'b-', label='train_loss')\n",
    "ax1.plot(epochs, val_loss, 'r-', label='val_loss')\n",
    "ax1.set_title('Train and Validation Loss')\n",
    "ax1.set_xlabel('Epochs')\n",
    "ax1.set_ylabel('Loss')\n",
    "ax1.grid()\n",
    "ax1.legend()\n",
    "\n",
    "accuracy = history_dict['accuracy']\n",
    "val_accuracy = history_dict['val_accuracy']\n",
    "\n",
    "ax2 = fig.add_subplot(1, 2, 2)\n",
    "ax2.plot(epochs, accuracy, 'b-', label='train_accuracy')\n",
    "ax2.plot(epochs, val_accuracy, 'r-', label='val_accuracy')\n",
    "ax2.set_title('Train and Validation Accuracy')\n",
    "ax2.set_xlabel('Epochs')\n",
    "ax2.set_ylabel('Accuracy')\n",
    "ax2.grid()\n",
    "ax2.legend()\n",
    "\n",
    "plt.show()"
   ]
  },
  {
   "cell_type": "code",
   "execution_count": 100,
   "id": "0cdf7876",
   "metadata": {},
   "outputs": [
    {
     "name": "stdout",
     "output_type": "stream",
     "text": [
      "3/3 [==============================] - 0s 36ms/step - loss: 1.4583 - accuracy: 0.6716\n"
     ]
    },
    {
     "data": {
      "text/plain": [
       "[1.4583064317703247, 0.6716417670249939]"
      ]
     },
     "execution_count": 100,
     "metadata": {},
     "output_type": "execute_result"
    }
   ],
   "source": [
    "model.evaluate(x=(shuffled_score_test, shuffled_embed_test, shuffled_mfcc_test), y=y_train_test)"
   ]
  },
  {
   "cell_type": "code",
   "execution_count": null,
   "id": "c8771af8",
   "metadata": {},
   "outputs": [],
   "source": []
  }
 ],
 "metadata": {
  "kernelspec": {
   "display_name": "Python 3 (ipykernel)",
   "language": "python",
   "name": "python3"
  },
  "language_info": {
   "codemirror_mode": {
    "name": "ipython",
    "version": 3
   },
   "file_extension": ".py",
   "mimetype": "text/x-python",
   "name": "python",
   "nbconvert_exporter": "python",
   "pygments_lexer": "ipython3",
   "version": "3.10.13"
  }
 },
 "nbformat": 4,
 "nbformat_minor": 5
}
