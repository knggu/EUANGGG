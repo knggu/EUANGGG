{
 "cells": [
  {
   "cell_type": "code",
   "execution_count": 1,
   "id": "08f4b638-81a0-40a8-9af6-6a25f4e69851",
   "metadata": {},
   "outputs": [],
   "source": [
    "import ast_preprocess_dataloader\n",
    "from ast_preprocess_dataloader import AudioPipeline\n",
    "import torchaudio\n",
    "import torch\n",
    "import os\n",
    "import glob\n",
    "from torch.utils.data import Dataset, DataLoader\n",
    "from audiomentations import Compose, TimeStretch, PitchShift, HighPassFilter, LowPassFilter, BandPassFilter\n",
    "import numpy as np\n",
    "from transformers import AutoProcessor\n",
    "from sklearn.model_selection import train_test_split"
   ]
  },
  {
   "cell_type": "code",
   "execution_count": 2,
   "id": "a3fe3e93",
   "metadata": {},
   "outputs": [
    {
     "name": "stdout",
     "output_type": "stream",
     "text": [
      "PyTorch is using GPU 🟢\n"
     ]
    }
   ],
   "source": [
    "if torch.cuda.is_available():\n",
    "    device = torch.device(\"cuda\")\n",
    "    print(\"PyTorch is using GPU 🟢\")\n",
    "else:\n",
    "    device = torch.device(\"cpu\")\n",
    "    print(\"PyTorch is using CPU 🟡\")"
   ]
  },
  {
   "cell_type": "markdown",
   "id": "99f2710c-5152-41f6-b75c-802ce2076174",
   "metadata": {},
   "source": [
    "## **오디오 경로 불러오기**"
   ]
  },
  {
   "cell_type": "code",
   "execution_count": 3,
   "id": "f04c4eca-7be0-4b8a-83f7-9b8378b15727",
   "metadata": {},
   "outputs": [
    {
     "data": {
      "text/plain": [
       "True"
      ]
     },
     "execution_count": 3,
     "metadata": {},
     "output_type": "execute_result"
    }
   ],
   "source": [
    "dir_path = r'c:/Users/Desk_Kang/Desktop/Aiffel/workplace/lib/Aiffelthon/orig_resample'\n",
    "dir_path\n",
    "os.path.exists(dir_path)"
   ]
  },
  {
   "cell_type": "code",
   "execution_count": 4,
   "id": "2dc0cd84-0b11-4c47-a355-380c07ccd331",
   "metadata": {},
   "outputs": [
    {
     "data": {
      "text/plain": [
       "['bellypain', 'discomfort', 'hungry', 'tired']"
      ]
     },
     "execution_count": 4,
     "metadata": {},
     "output_type": "execute_result"
    }
   ],
   "source": [
    "class_name = os.listdir(dir_path)\n",
    "class_name"
   ]
  },
  {
   "cell_type": "code",
   "execution_count": 5,
   "id": "f4d8f3ea-2fc3-48fc-baa5-e91d2064d17c",
   "metadata": {},
   "outputs": [
    {
     "data": {
      "text/plain": [
       "['c:/Users/Desk_Kang/Desktop/Aiffel/workplace/lib/Aiffelthon/orig_resample\\\\bellypain',\n",
       " 'c:/Users/Desk_Kang/Desktop/Aiffel/workplace/lib/Aiffelthon/orig_resample\\\\discomfort',\n",
       " 'c:/Users/Desk_Kang/Desktop/Aiffel/workplace/lib/Aiffelthon/orig_resample\\\\hungry',\n",
       " 'c:/Users/Desk_Kang/Desktop/Aiffel/workplace/lib/Aiffelthon/orig_resample\\\\tired']"
      ]
     },
     "execution_count": 5,
     "metadata": {},
     "output_type": "execute_result"
    }
   ],
   "source": [
    "audio_dir = [os.path.join(dir_path, name) for name in class_name]\n",
    "audio_dir"
   ]
  },
  {
   "cell_type": "code",
   "execution_count": 6,
   "id": "dd98d13f-2790-449f-9173-63f2cac9e6c5",
   "metadata": {},
   "outputs": [],
   "source": [
    "bpain_audio = glob.glob(os.path.join(audio_dir[0], '*.wav'))\n",
    "discomf_audio = glob.glob(os.path.join(audio_dir[1], '*.wav'))\n",
    "hungry_audio = glob.glob(os.path.join(audio_dir[2], '*.wav'))\n",
    "tired_audio = glob.glob(os.path.join(audio_dir[3], '*.wav'))"
   ]
  },
  {
   "cell_type": "code",
   "execution_count": 7,
   "id": "fa67272f-edc1-4fc3-8b2f-e6edb6aff47b",
   "metadata": {},
   "outputs": [],
   "source": [
    "audio_path_class = {\n",
    "    'bpain': bpain_audio,\n",
    "    'discomf': discomf_audio,\n",
    "    'hungry': hungry_audio,\n",
    "    'tired': tired_audio\n",
    "}"
   ]
  },
  {
   "cell_type": "code",
   "execution_count": 8,
   "id": "38691359-8501-42ab-9adf-a99136489ab4",
   "metadata": {},
   "outputs": [],
   "source": [
    "all_paths = []\n",
    "all_labels = []\n",
    "\n",
    "for (label, class_name), path_lst in zip(enumerate(audio_path_class), audio_path_class.values()):\n",
    "    for path in path_lst:\n",
    "        all_paths.append(path)\n",
    "        all_labels.append(label)"
   ]
  },
  {
   "cell_type": "markdown",
   "id": "4bdb0657-2dab-4836-9004-bbdccb6ca035",
   "metadata": {},
   "source": [
    "## **훈련, 검증, 테스트 경로 쪼개기**"
   ]
  },
  {
   "cell_type": "code",
   "execution_count": 9,
   "id": "6bf4d86d-8a44-4319-b859-e64813cc113b",
   "metadata": {},
   "outputs": [],
   "source": [
    "train_paths, val_paths, train_labels, val_labels = train_test_split(all_paths, all_labels, test_size=0.4, random_state=42)"
   ]
  },
  {
   "cell_type": "code",
   "execution_count": 10,
   "id": "d86723fb-ef24-45a7-a992-a893462045a0",
   "metadata": {},
   "outputs": [
    {
     "name": "stdout",
     "output_type": "stream",
     "text": [
      "117\n",
      "78\n",
      "117\n",
      "78\n"
     ]
    }
   ],
   "source": [
    "# 갯수 확인\n",
    "print(len(train_paths))\n",
    "print(len(val_paths))\n",
    "print(len(train_labels))\n",
    "print(len(val_labels))"
   ]
  },
  {
   "cell_type": "code",
   "execution_count": 11,
   "id": "c858ab9e-2b47-4407-af25-7ba358e69bce",
   "metadata": {},
   "outputs": [],
   "source": [
    "val_paths, test_paths, val_labels, test_labels = train_test_split(val_paths, val_labels, test_size=0.5, random_state=42)"
   ]
  },
  {
   "cell_type": "code",
   "execution_count": 12,
   "id": "78b0d471-a0cd-4968-98b2-b84b7b026e40",
   "metadata": {},
   "outputs": [
    {
     "name": "stdout",
     "output_type": "stream",
     "text": [
      "39\n",
      "39\n",
      "39\n",
      "39\n"
     ]
    }
   ],
   "source": [
    "# 갯수 확인\n",
    "print(len(val_paths))\n",
    "print(len(test_paths))\n",
    "print(len(val_labels))\n",
    "print(len(test_labels))"
   ]
  },
  {
   "cell_type": "markdown",
   "id": "0336d9eb-b0ee-4351-871d-1991759ab6f5",
   "metadata": {},
   "source": [
    "## **파이프라인 만들기**"
   ]
  },
  {
   "cell_type": "code",
   "execution_count": 13,
   "id": "9026d259-af93-41aa-bd48-e38eacf42cca",
   "metadata": {},
   "outputs": [
    {
     "name": "stderr",
     "output_type": "stream",
     "text": [
      "Could not find image processor class in the image processor config or the model config. Loading based on pattern matching with the model's feature extractor configuration.\n",
      "Could not find image processor class in the image processor config or the model config. Loading based on pattern matching with the model's feature extractor configuration.\n",
      "Could not find image processor class in the image processor config or the model config. Loading based on pattern matching with the model's feature extractor configuration.\n"
     ]
    }
   ],
   "source": [
    "augmentations = Compose([\n",
    "    BandPassFilter(min_center_freq=1500, max_center_freq=1500,\n",
    "                   max_bandwidth_fraction=0.8, min_bandwidth_fraction=0.8,\n",
    "                   max_rolloff=12, min_rolloff=12, p=1.0)\n",
    "])\n",
    "\n",
    "train_dataset = AudioPipeline(audio_paths=train_paths, audio_labels=train_labels, sr=20000, transform=augmentations)\n",
    "val_dataset = AudioPipeline(audio_paths=val_paths, audio_labels=val_labels, sr=20000)\n",
    "test_dataset = AudioPipeline(audio_paths=val_paths, audio_labels=val_labels, sr=20000)"
   ]
  },
  {
   "cell_type": "code",
   "execution_count": 14,
   "id": "1b4102c4-c55e-4f7e-9172-9e5efc4cd9e3",
   "metadata": {},
   "outputs": [],
   "source": [
    "train_dataloader = DataLoader(train_dataset, batch_size=10, shuffle=True)\n",
    "val_dataloader = DataLoader(val_dataset, batch_size=10, shuffle=True)\n",
    "test_dataloader = DataLoader(test_dataset, batch_size=10, shuffle=True)"
   ]
  },
  {
   "cell_type": "markdown",
   "id": "e67fbe9c-721a-4108-95de-6494ffb30d35",
   "metadata": {},
   "source": [
    "## **훈련, 검증, 테스트 batch 불러오기**"
   ]
  },
  {
   "cell_type": "code",
   "execution_count": 15,
   "id": "e9ce7c70-679e-4155-aa94-8669b783b707",
   "metadata": {},
   "outputs": [
    {
     "name": "stdout",
     "output_type": "stream",
     "text": [
      "torch.Size([10, 1024, 128]) torch.Size([10])\n",
      "torch.Size([10, 1024, 128]) torch.Size([10])\n",
      "torch.Size([10, 1024, 128]) torch.Size([10])\n",
      "torch.Size([10, 1024, 128]) torch.Size([10])\n",
      "torch.Size([10, 1024, 128]) torch.Size([10])\n",
      "torch.Size([10, 1024, 128]) torch.Size([10])\n",
      "torch.Size([10, 1024, 128]) torch.Size([10])\n",
      "torch.Size([10, 1024, 128]) torch.Size([10])\n",
      "torch.Size([10, 1024, 128]) torch.Size([10])\n",
      "torch.Size([10, 1024, 128]) torch.Size([10])\n",
      "torch.Size([10, 1024, 128]) torch.Size([10])\n",
      "torch.Size([7, 1024, 128]) torch.Size([7])\n"
     ]
    }
   ],
   "source": [
    "# 훈련 데이터 배치 불러오기\n",
    "for batch in train_dataloader:\n",
    "    input_values, labels = batch\n",
    "    print(input_values.shape, labels.shape)"
   ]
  },
  {
   "cell_type": "code",
   "execution_count": 16,
   "id": "2f21bb22-ca4f-462c-a28b-d222593f96c5",
   "metadata": {},
   "outputs": [
    {
     "name": "stdout",
     "output_type": "stream",
     "text": [
      "torch.Size([10, 1024, 128]) torch.Size([10])\n",
      "torch.Size([10, 1024, 128]) torch.Size([10])\n",
      "torch.Size([10, 1024, 128]) torch.Size([10])\n",
      "torch.Size([9, 1024, 128]) torch.Size([9])\n"
     ]
    }
   ],
   "source": [
    "# 검증 데이터 배치 불러오기\n",
    "for batch in val_dataloader:\n",
    "    input_values, labels = batch\n",
    "    print(input_values.shape, labels.shape)"
   ]
  },
  {
   "cell_type": "code",
   "execution_count": 17,
   "id": "3be8117c-1e28-4df1-8fb4-3e87a1777915",
   "metadata": {},
   "outputs": [
    {
     "name": "stdout",
     "output_type": "stream",
     "text": [
      "torch.Size([10, 1024, 128]) torch.Size([10])\n",
      "torch.Size([10, 1024, 128]) torch.Size([10])\n",
      "torch.Size([10, 1024, 128]) torch.Size([10])\n",
      "torch.Size([9, 1024, 128]) torch.Size([9])\n"
     ]
    }
   ],
   "source": [
    "# 테스트 데이터 배치 불러오기\n",
    "for batch in test_dataloader:\n",
    "    input_values, labels = batch\n",
    "    print(input_values.shape, labels.shape)"
   ]
  },
  {
   "cell_type": "markdown",
   "id": "2579cae7",
   "metadata": {},
   "source": [
    "## 모델 불러오기"
   ]
  },
  {
   "cell_type": "code",
   "execution_count": 18,
   "id": "1a520a6e",
   "metadata": {},
   "outputs": [],
   "source": [
    "import torch.nn.functional as F\n",
    "import torch.nn as nn\n",
    "from transformers import ASTConfig, ASTModel, ASTFeatureExtractor\n",
    "\n",
    "class CustomASTClassifier(nn.Module):\n",
    "    def __init__(self, ast_model_name, num_labels):\n",
    "        super().__init__()\n",
    "        self.astconfig = ASTConfig() # 괄호 안에 configuration 값 넣어주면 됩니다. 아마 sampling rate도 20000으로 맞춰주시면 될 것 같아요.\n",
    "        self.ast = ASTModel.from_pretrained(ast_model_name) # 요거 안되면 질문주세요 self.astconfig\n",
    "        self.num_labels = num_labels\n",
    "        for param in self.ast.parameters():\n",
    "            param.requires_grad = False\n",
    "\n",
    "        # 요 아래코드에 Convolution 과 classifier 설정해주시면 됩니다..\n",
    "\n",
    "        # 예시\n",
    "        \n",
    "        self.conv1d1 = nn.Sequential(\n",
    "            nn.Conv1d(in_channels=768,\n",
    "                      out_channels = 384,\n",
    "                      kernel_size = 2,\n",
    "                      stride = 1),\n",
    "            nn.BatchNorm1d(384),\n",
    "            nn.ReLU())\n",
    "        \n",
    "        self.conv1d2 = nn.Sequential(\n",
    "            nn.Conv1d(in_channels=384,\n",
    "                      out_channels = 192,\n",
    "                      kernel_size = 2,\n",
    "                      stride = 1),\n",
    "            nn.BatchNorm1d(192),\n",
    "            nn.ReLU())\n",
    "        \n",
    "        self.conv1d3 = nn.Sequential(\n",
    "            nn.Conv1d(in_channels=192,\n",
    "                      out_channels = 90,\n",
    "                      kernel_size = 2,\n",
    "                      stride = 1),\n",
    "            nn.BatchNorm1d(90),\n",
    "            nn.ReLU())\n",
    "        \n",
    "        # self.conv1d4 = nn.Sequential(\n",
    "        #     nn.Conv1d(in_channels=128,\n",
    "        #               out_channels = 64,\n",
    "        #               kernel_size = 1,\n",
    "        #               stride = 1),\n",
    "        #     nn.BatchNorm1d(64),\n",
    "        #     nn.ReLU())        \n",
    "\n",
    "        # self.conv1d5 = nn.Sequential(\n",
    "        #     nn.Conv1d(in_channels=64,\n",
    "        #               out_channels = 32,\n",
    "        #               kernel_size = 1,\n",
    "        #               stride = 1),\n",
    "        #     nn.BatchNorm1d(32),\n",
    "        #     nn.ReLU())\n",
    "\n",
    "        # self.conv1d6 = nn.Sequential(\n",
    "        #     nn.Conv1d(in_channels=32,\n",
    "        #               out_channels = 16,\n",
    "        #               kernel_size = 1,\n",
    "        #               stride = 1),\n",
    "        #     nn.BatchNorm1d(16),\n",
    "        #     nn.ReLU())\n",
    "\n",
    "        self.adapted = nn.AdaptiveAvgPool1d(1)\n",
    "\n",
    "        # self.classifier = nn.Linear(1214, 512)\n",
    "        self.layer_fc1 = nn.Sequential(\n",
    "            nn.Linear(90,32),\n",
    "            nn.BatchNorm1d(32),\n",
    "            nn.ReLU(),\n",
    "            nn.Dropout(0.3))\n",
    "        \n",
    "        self.layer_fc2 = nn.Sequential(\n",
    "            nn.Linear(32,16),\n",
    "            nn.BatchNorm1d(16),\n",
    "            nn.ReLU(),\n",
    "            nn.Dropout(0.3))\n",
    "        \n",
    "        self.layer_fc3 = nn.Sequential(\n",
    "            nn.Linear(16,8),\n",
    "            nn.BatchNorm1d(8),\n",
    "            nn.ReLU(),\n",
    "            nn.Dropout(0.3))\n",
    "        \n",
    "        \n",
    "        self.add_layer_01 = nn.Linear(8, num_labels)\n",
    "        self.num_labels = num_labels\n",
    "        \n",
    "\n",
    "    def forward(self, input_values, labels=None):\n",
    "        input_values = input_values.float()\n",
    "        outputs = self.ast(input_values)\n",
    "        embeddings = outputs.last_hidden_state\n",
    "\n",
    "\n",
    "        embeddings_t = embeddings.transpose(1,2)\n",
    "        # 요 아래 부분부터 Feed Forward 부분이니 위에서 설정한 Convolution과 classifier를 넣어주시면 됩니다.\n",
    "        # 예시)\n",
    "        \n",
    "        # embeddings = embeddings.unsqueeze(1)\n",
    "        \n",
    "        # Convolution block\n",
    "        conv_output1 = self.conv1d1(embeddings_t)\n",
    "        conv_output2 = self.conv1d2(conv_output1)\n",
    "        conv_output3 = self.conv1d3(conv_output2)\n",
    "\n",
    "        adap_out = self.adapted(conv_output3)\n",
    "\n",
    "        output_sq = torch.squeeze(adap_out, dim=1)\n",
    "\n",
    "        flattened_output = adap_out.view(output_sq.size(0), -1)\n",
    "\n",
    "        logits = self.layer_fc1(flattened_output)\n",
    "        logits = self.layer_fc2(logits)\n",
    "        logits = self.layer_fc3(logits)\n",
    "        logits = torch.relu(logits)\n",
    "        logits = self.add_layer_01(logits)\n",
    "        \n",
    "\n",
    "        if labels is not None:\n",
    "            loss_fct = nn.CrossEntropyLoss()\n",
    "            loss = loss_fct(logits.view(-1, self.num_labels), labels.view(-1).long())\n",
    "            return loss, logits\n",
    "        return logits"
   ]
  },
  {
   "cell_type": "code",
   "execution_count": 19,
   "id": "a3f397bb",
   "metadata": {},
   "outputs": [],
   "source": [
    "import torch.optim as optim\n",
    "import matplotlib.pyplot as plt\n",
    "\n",
    "num_labels = 4\n",
    "ast_model_name = \"MIT/ast-finetuned-audioset-10-10-0.4593\"\n",
    "model = CustomASTClassifier(ast_model_name, num_labels).to(device)\n",
    "\n",
    "\n",
    "# Initialize metric lists\n",
    "train_losses, train_accuracies, val_losses, val_accuracies = [], [], [], []"
   ]
  },
  {
   "cell_type": "code",
   "execution_count": 20,
   "id": "08a9051d",
   "metadata": {},
   "outputs": [],
   "source": [
    "ast_loss_fn = torch.nn.CrossEntropyLoss()"
   ]
  },
  {
   "cell_type": "code",
   "execution_count": 26,
   "id": "70802d2a",
   "metadata": {},
   "outputs": [],
   "source": [
    "def find_learning_rate(model, train_loader, loss_fn, device='cpu'):\n",
    "    optimizer = torch.optim.Adam(model.parameters(), lr=1e-5)\n",
    "\n",
    "    lr_find_loss = []\n",
    "    lr_find_lr = []\n",
    "\n",
    "    lr_init = 5.0e-5# <<<< 요기만 바꾸면됨\n",
    "    lr_final = 1e-2\n",
    "    n_steps = 100\n",
    "    current_lr = lr_init\n",
    "    lr_increment = (lr_final / lr_init) ** (1/n_steps)\n",
    "\n",
    "    model.train()  # Set model to training mode\n",
    "\n",
    "    for batch_idx, batch in enumerate(train_loader):\n",
    "        inputs, targets = batch\n",
    "        inputs, targets = inputs.to(device), targets.to(device)\n",
    "        \n",
    "        optimizer.param_groups[0]['lr'] = current_lr\n",
    "        outputs = model(inputs)\n",
    "        loss = loss_fn(outputs, targets.squeeze())\n",
    "\n",
    "        optimizer.zero_grad()\n",
    "        loss.backward()\n",
    "        optimizer.step()\n",
    "\n",
    "        lr_find_loss.append(loss.item())\n",
    "        lr_find_lr.append(current_lr)\n",
    "\n",
    "        current_lr *= lr_increment\n",
    "        if current_lr > lr_final:\n",
    "            break\n",
    "\n",
    "    plt.plot(lr_find_lr, lr_find_loss)\n",
    "    plt.xscale('log')\n",
    "    plt.xlabel('Learning Rate')\n",
    "    plt.ylabel('Loss')\n",
    "    plt.show()\n",
    "    return lr_find_lr, lr_find_loss"
   ]
  },
  {
   "cell_type": "code",
   "execution_count": 27,
   "id": "52c54f13",
   "metadata": {},
   "outputs": [
    {
     "data": {
      "image/png": "[encoded data removed]",
      "text/plain": [
       "<Figure size 640x480 with 1 Axes>"
      ]
     },
     "metadata": {},
     "output_type": "display_data"
    },
    {
     "data": {
      "text/plain": [
       "([5e-05,\n",
       "  5.2720595154134346e-05,\n",
       "  5.5589223068122675e-05,\n",
       "  5.861393848614722e-05,\n",
       "  6.180323442635004e-05,\n",
       "  6.516606602815318e-05,\n",
       "  6.871187569715703e-05,\n",
       "  7.245061961822037e-05,\n",
       "  7.639279571116758e-05,\n",
       "  8.054947310761913e-05,\n",
       "  8.493232323171238e-05,\n",
       "  8.955365257198376e-05],\n",
       " [1.667894721031189,\n",
       "  1.5369869470596313,\n",
       "  1.2621150016784668,\n",
       "  1.5107272863388062,\n",
       "  1.3051714897155762,\n",
       "  1.5214033126831055,\n",
       "  1.534812569618225,\n",
       "  1.4946601390838623,\n",
       "  1.1419241428375244,\n",
       "  1.3058552742004395,\n",
       "  1.274044394493103,\n",
       "  1.3324121236801147])"
      ]
     },
     "execution_count": 27,
     "metadata": {},
     "output_type": "execute_result"
    }
   ],
   "source": [
    "find_learning_rate(model, train_dataloader, ast_loss_fn, device=device)"
   ]
  },
  {
   "cell_type": "code",
   "execution_count": 28,
   "id": "4815b4a7",
   "metadata": {},
   "outputs": [],
   "source": [
    "# Define your optimizer, loss function, etc.\n",
    "optimizer = optim.Adam(model.parameters(), lr=7.64e-05)  #1.23e-05, 2.754e-06"
   ]
  },
  {
   "cell_type": "markdown",
   "id": "58fc7228-3cd2-4498-b708-332089152547",
   "metadata": {},
   "source": [
    "## **훈련, 검증 에폭적용시**\n",
    "\n",
    "**아래와 같이 맞춰주시면 됩니다.**\n",
    "\n",
    "```python\n",
    "\n",
    "```"
   ]
  },
  {
   "cell_type": "code",
   "execution_count": 29,
   "id": "60a287be",
   "metadata": {},
   "outputs": [
    {
     "name": "stderr",
     "output_type": "stream",
     "text": [
      "Epoch 1:   0%|          | 0/12 [00:14<?, ?it/s, loss=1.51]\n",
      "Epoch 2:   0%|          | 0/12 [00:14<?, ?it/s, loss=1.33]\n",
      "Epoch 3:   0%|          | 0/12 [00:15<?, ?it/s, loss=1.32]\n",
      "Epoch 4:   0%|          | 0/12 [00:16<?, ?it/s, loss=1.38]\n",
      "Epoch 5:   0%|          | 0/12 [00:15<?, ?it/s, loss=1.14] \n",
      "Epoch 6:   0%|          | 0/12 [00:14<?, ?it/s, loss=1.3]\n",
      "Epoch 7:   0%|          | 0/12 [00:14<?, ?it/s, loss=1.32] \n",
      "Epoch 8:   0%|          | 0/12 [00:15<?, ?it/s, loss=1.3]\n",
      "Epoch 9:   0%|          | 0/12 [00:14<?, ?it/s, loss=1.1] \n",
      "Epoch 10:   0%|          | 0/12 [00:14<?, ?it/s, loss=1.36]\n",
      "Epoch 11:   0%|          | 0/12 [00:14<?, ?it/s, loss=1.18]\n",
      "Epoch 12:   0%|          | 0/12 [00:16<?, ?it/s, loss=1.54]\n",
      "Epoch 13:   0%|          | 0/12 [00:15<?, ?it/s, loss=1.4] \n",
      "Epoch 14:   0%|          | 0/12 [00:13<?, ?it/s, loss=1.19]\n",
      "Epoch 15:   0%|          | 0/12 [00:17<?, ?it/s, loss=1.23]\n",
      "Epoch 16:   0%|          | 0/12 [00:14<?, ?it/s, loss=1.08]\n",
      "Epoch 17:   0%|          | 0/12 [00:14<?, ?it/s, loss=1.28]\n",
      "Epoch 18:   0%|          | 0/12 [00:14<?, ?it/s, loss=1.27]\n",
      "Epoch 19:   0%|          | 0/12 [00:15<?, ?it/s, loss=1.33]\n",
      "Epoch 20:   0%|          | 0/12 [00:14<?, ?it/s, loss=1.27]\n",
      "Epoch 21:   0%|          | 0/12 [00:18<?, ?it/s, loss=1.31]\n",
      "Epoch 22:   0%|          | 0/12 [00:18<?, ?it/s, loss=1.34]\n",
      "Epoch 23:   0%|          | 0/12 [00:16<?, ?it/s, loss=1.33]\n",
      "Epoch 24:   0%|          | 0/12 [00:14<?, ?it/s, loss=1.31]\n",
      "Epoch 25:   0%|          | 0/12 [00:14<?, ?it/s, loss=1.46] \n",
      "Epoch 26:   0%|          | 0/12 [00:14<?, ?it/s, loss=0.956]\n",
      "Epoch 27:   0%|          | 0/12 [00:16<?, ?it/s, loss=1.34]\n",
      "Epoch 28:   0%|          | 0/12 [00:15<?, ?it/s, loss=1.47]\n",
      "Epoch 29:   0%|          | 0/12 [00:13<?, ?it/s, loss=1.12]\n",
      "Epoch 30:   0%|          | 0/12 [00:16<?, ?it/s, loss=1.77]\n",
      "Epoch 31:   0%|          | 0/12 [00:16<?, ?it/s, loss=1.48]\n",
      "Epoch 32:   0%|          | 0/12 [00:15<?, ?it/s, loss=0.997]\n",
      "Epoch 33:   0%|          | 0/12 [00:15<?, ?it/s, loss=1.08]\n",
      "Epoch 34:   0%|          | 0/12 [00:16<?, ?it/s, loss=1.04]\n",
      "Epoch 35:   0%|          | 0/12 [00:14<?, ?it/s, loss=1.23] \n",
      "Epoch 36:   0%|          | 0/12 [00:14<?, ?it/s, loss=1.17]\n",
      "Epoch 37:   0%|          | 0/12 [00:14<?, ?it/s, loss=1.1] \n",
      "Epoch 38:   0%|          | 0/12 [00:14<?, ?it/s, loss=1.19]\n",
      "Epoch 39:   0%|          | 0/12 [00:14<?, ?it/s, loss=1.06] \n",
      "Epoch 40:   0%|          | 0/12 [00:14<?, ?it/s, loss=1.27]\n",
      "Epoch 41:   0%|          | 0/12 [00:12<?, ?it/s, loss=1.14]\n",
      "Epoch 42:   0%|          | 0/12 [00:14<?, ?it/s, loss=1.13]\n",
      "Epoch 43:   0%|          | 0/12 [00:17<?, ?it/s, loss=1.13]\n",
      "Epoch 44:   0%|          | 0/12 [00:16<?, ?it/s, loss=1.12]\n",
      "Epoch 45:   0%|          | 0/12 [00:16<?, ?it/s, loss=1.25] \n",
      "Epoch 46:   0%|          | 0/12 [00:16<?, ?it/s, loss=1.49]\n",
      "Epoch 47:   0%|          | 0/12 [00:16<?, ?it/s, loss=1]   \n",
      "Epoch 48:   0%|          | 0/12 [00:16<?, ?it/s, loss=1.57]\n",
      "Epoch 49:   0%|          | 0/12 [00:15<?, ?it/s, loss=1.05] \n",
      "Epoch 50:   0%|          | 0/12 [00:16<?, ?it/s, loss=0.99]\n",
      "Epoch 51:   0%|          | 0/12 [00:16<?, ?it/s, loss=1.13] \n",
      "Epoch 52:   0%|          | 0/12 [00:15<?, ?it/s, loss=1.04]\n",
      "Epoch 53:   0%|          | 0/12 [00:15<?, ?it/s, loss=1.09] \n",
      "Epoch 54:   0%|          | 0/12 [00:15<?, ?it/s, loss=1.38]\n",
      "Epoch 55:   0%|          | 0/12 [00:15<?, ?it/s, loss=1.23] \n",
      "Epoch 56:   0%|          | 0/12 [00:16<?, ?it/s, loss=1.1]\n",
      "Epoch 57:   0%|          | 0/12 [00:16<?, ?it/s, loss=1.23] \n",
      "Epoch 58:   0%|          | 0/12 [00:14<?, ?it/s, loss=1.12]\n",
      "Epoch 59:   0%|          | 0/12 [00:13<?, ?it/s, loss=1.04] \n",
      "Epoch 60:   0%|          | 0/12 [00:13<?, ?it/s, loss=1.16]\n",
      "Epoch 61:   0%|          | 0/12 [00:16<?, ?it/s, loss=1.05] \n",
      "Epoch 62:   0%|          | 0/12 [00:15<?, ?it/s, loss=0.978]\n",
      "Epoch 63:   0%|          | 0/12 [00:16<?, ?it/s, loss=1.03] \n",
      "Epoch 64:   0%|          | 0/12 [00:18<?, ?it/s, loss=0.886]\n",
      "Epoch 65:   0%|          | 0/12 [00:16<?, ?it/s, loss=0.859]\n",
      "Epoch 66:   0%|          | 0/12 [00:16<?, ?it/s, loss=1.16]\n",
      "Epoch 67:   0%|          | 0/12 [00:16<?, ?it/s, loss=1.04] \n",
      "Epoch 68:   0%|          | 0/12 [00:18<?, ?it/s, loss=1.05]\n",
      "Epoch 69:   0%|          | 0/12 [00:17<?, ?it/s, loss=0.817]\n",
      "Epoch 70:   0%|          | 0/12 [00:18<?, ?it/s, loss=1.38]\n",
      "Epoch 71:   0%|          | 0/12 [00:17<?, ?it/s, loss=1.18] \n",
      "Epoch 72:   0%|          | 0/12 [00:16<?, ?it/s, loss=1.14]\n",
      "Epoch 73:   0%|          | 0/12 [00:16<?, ?it/s, loss=1.25] \n",
      "Epoch 74:   0%|          | 0/12 [00:15<?, ?it/s, loss=1.1]\n",
      "Epoch 75:   0%|          | 0/12 [00:15<?, ?it/s, loss=0.988]\n",
      "Epoch 76:   0%|          | 0/12 [00:16<?, ?it/s, loss=1.28]\n",
      "Epoch 77:   0%|          | 0/12 [00:15<?, ?it/s, loss=1.25] \n",
      "Epoch 78:   0%|          | 0/12 [00:15<?, ?it/s, loss=0.952]\n",
      "Epoch 79:   0%|          | 0/12 [00:15<?, ?it/s, loss=1.14] \n",
      "Epoch 80:   0%|          | 0/12 [00:15<?, ?it/s, loss=1.18]\n",
      "Epoch 81:   0%|          | 0/12 [00:15<?, ?it/s, loss=1.12] \n",
      "Epoch 82:   0%|          | 0/12 [00:16<?, ?it/s, loss=1.17]\n",
      "Epoch 83:   0%|          | 0/12 [00:16<?, ?it/s, loss=1.25] \n",
      "Epoch 84:   0%|          | 0/12 [00:16<?, ?it/s, loss=0.891]\n",
      "Epoch 85:   0%|          | 0/12 [00:15<?, ?it/s, loss=0.867]\n",
      "Epoch 86:   0%|          | 0/12 [00:16<?, ?it/s, loss=1.12]\n",
      "Epoch 87:   0%|          | 0/12 [00:14<?, ?it/s, loss=1.16] \n",
      "Epoch 88:   0%|          | 0/12 [00:14<?, ?it/s, loss=0.885]\n",
      "Epoch 89:   0%|          | 0/12 [00:14<?, ?it/s, loss=0.947]\n",
      "Epoch 90:   0%|          | 0/12 [00:14<?, ?it/s, loss=0.898]\n",
      "Epoch 91:   0%|          | 0/12 [00:14<?, ?it/s, loss=1.04] \n",
      "Epoch 92:   0%|          | 0/12 [00:14<?, ?it/s, loss=0.957]\n",
      "Epoch 93:   0%|          | 0/12 [00:14<?, ?it/s, loss=1.08] \n",
      "Epoch 94:   0%|          | 0/12 [00:14<?, ?it/s, loss=1.01]\n",
      "Epoch 95:   0%|          | 0/12 [00:14<?, ?it/s, loss=0.789]\n",
      "Epoch 96:   0%|          | 0/12 [00:14<?, ?it/s, loss=1.3]\n",
      "Epoch 97:   0%|          | 0/12 [00:13<?, ?it/s, loss=1.1]  \n",
      "Epoch 98:   0%|          | 0/12 [00:14<?, ?it/s, loss=1.11]\n",
      "Epoch 99:   0%|          | 0/12 [00:14<?, ?it/s, loss=1.42] \n",
      "Epoch 100:   0%|          | 0/12 [00:14<?, ?it/s, loss=0.991]\n",
      "Epoch 101:   0%|          | 0/12 [00:14<?, ?it/s, loss=1.13] \n",
      "Epoch 102:   0%|          | 0/12 [00:14<?, ?it/s, loss=0.999]\n",
      "Epoch 103:   0%|          | 0/12 [00:14<?, ?it/s, loss=1.04] \n",
      "Epoch 104:   0%|          | 0/12 [00:14<?, ?it/s, loss=1.14]\n",
      "Epoch 105:   0%|          | 0/12 [00:13<?, ?it/s, loss=1.28] \n",
      "Epoch 106:   0%|          | 0/12 [00:14<?, ?it/s, loss=1.29]\n",
      "Epoch 107:   0%|          | 0/12 [00:14<?, ?it/s, loss=1.05] \n",
      "Epoch 108:   0%|          | 0/12 [00:14<?, ?it/s, loss=0.999]\n",
      "Epoch 109:   0%|          | 0/12 [00:14<?, ?it/s, loss=0.818]\n",
      "Epoch 110:   0%|          | 0/12 [00:14<?, ?it/s, loss=1.2]\n",
      "Epoch 111:   0%|          | 0/12 [00:13<?, ?it/s, loss=1.04] \n",
      "Epoch 112:   0%|          | 0/12 [00:13<?, ?it/s, loss=0.989]\n",
      "Epoch 113:   0%|          | 0/12 [00:15<?, ?it/s, loss=1.09] \n",
      "Epoch 114:   0%|          | 0/12 [00:16<?, ?it/s, loss=1.01]\n",
      "Epoch 115:   0%|          | 0/12 [00:15<?, ?it/s, loss=0.915]\n",
      "Epoch 116:   0%|          | 0/12 [00:16<?, ?it/s, loss=0.883]\n",
      "Epoch 117:   0%|          | 0/12 [00:16<?, ?it/s, loss=1.31] \n",
      "Epoch 118:   0%|          | 0/12 [00:15<?, ?it/s, loss=0.921]\n",
      "Epoch 119:   0%|          | 0/12 [00:16<?, ?it/s, loss=0.986]\n",
      "Epoch 120:   0%|          | 0/12 [00:16<?, ?it/s, loss=1.09]\n",
      "Epoch 121:   0%|          | 0/12 [00:16<?, ?it/s, loss=0.884]\n",
      "Epoch 122:   0%|          | 0/12 [00:16<?, ?it/s, loss=0.913]\n",
      "Epoch 123:   0%|          | 0/12 [00:15<?, ?it/s, loss=0.842]\n",
      "Epoch 124:   0%|          | 0/12 [00:16<?, ?it/s, loss=0.777]\n",
      "Epoch 125:   0%|          | 0/12 [00:16<?, ?it/s, loss=1.15] \n",
      "Epoch 126:   0%|          | 0/12 [00:21<?, ?it/s, loss=1.31]\n",
      "Epoch 127:   0%|          | 0/12 [00:19<?, ?it/s, loss=0.778]\n",
      "Epoch 128:   0%|          | 0/12 [00:16<?, ?it/s, loss=0.989]\n",
      "Epoch 129:   0%|          | 0/12 [00:16<?, ?it/s, loss=0.857]\n",
      "Epoch 130:   0%|          | 0/12 [00:15<?, ?it/s, loss=1.05]\n",
      "Epoch 131:   0%|          | 0/12 [00:16<?, ?it/s, loss=0.918]\n",
      "Epoch 132:   0%|          | 0/12 [00:15<?, ?it/s, loss=0.943]\n",
      "Epoch 133:   0%|          | 0/12 [00:15<?, ?it/s, loss=1.08] \n",
      "Epoch 134:   0%|          | 0/12 [00:16<?, ?it/s, loss=0.854]\n",
      "Epoch 135:   0%|          | 0/12 [00:15<?, ?it/s, loss=1.11] \n",
      "Epoch 136:   0%|          | 0/12 [00:15<?, ?it/s, loss=0.97]\n",
      "Epoch 137:   0%|          | 0/12 [00:16<?, ?it/s, loss=0.919]\n",
      "Epoch 138:   0%|          | 0/12 [00:15<?, ?it/s, loss=0.94]\n",
      "Epoch 139:   0%|          | 0/12 [00:16<?, ?it/s, loss=0.862]\n",
      "Epoch 140:   0%|          | 0/12 [00:15<?, ?it/s, loss=1.03]\n",
      "Epoch 141:   0%|          | 0/12 [00:15<?, ?it/s, loss=1.05] \n",
      "Epoch 142:   0%|          | 0/12 [00:15<?, ?it/s, loss=1.1]\n",
      "Epoch 143:   0%|          | 0/12 [00:16<?, ?it/s, loss=0.809]\n",
      "Epoch 144:   0%|          | 0/12 [00:16<?, ?it/s, loss=1.26]\n",
      "Epoch 145:   0%|          | 0/12 [00:15<?, ?it/s, loss=1.41] \n",
      "Epoch 146:   0%|          | 0/12 [00:15<?, ?it/s, loss=0.881]\n",
      "Epoch 147:   0%|          | 0/12 [00:16<?, ?it/s, loss=1.19] \n",
      "Epoch 148:   0%|          | 0/12 [00:16<?, ?it/s, loss=0.858]\n",
      "Epoch 149:   0%|          | 0/12 [00:17<?, ?it/s, loss=1.07] \n"
     ]
    }
   ],
   "source": [
    "from tqdm import tqdm\n",
    "\n",
    "# 검증 데이터 배치 불러오기\n",
    "for epoch in range(150):\n",
    "    total_loss, correct, total = 0, 0, 0\n",
    "    progress_bar = tqdm(train_dataloader, desc=f\"Epoch {epoch+1}\")\n",
    "\n",
    "    # Training phase\n",
    "    for batch in train_dataloader:\n",
    "        optimizer.zero_grad()\n",
    "        input_values, labels = batch\n",
    "        input_values, labels = input_values.to(device), labels.to(device)\n",
    "\n",
    "        loss, logits = model(input_values, labels)\n",
    "        total_loss += loss.item()\n",
    "\n",
    "        # Calculate accuracy\n",
    "        preds = logits.argmax(dim=1)\n",
    "        correct += (preds == labels).sum().item()\n",
    "        total += labels.size(0)\n",
    "\n",
    "        loss.backward()\n",
    "        optimizer.step()\n",
    "\n",
    "        progress_bar.set_postfix(loss=loss.item())\n",
    "\n",
    "    train_accuracy = correct / total\n",
    "    train_losses.append(total_loss / len(train_dataloader))\n",
    "    train_accuracies.append(train_accuracy)\n",
    "\n",
    "    # Validation phase\n",
    "    if val_dataloader is not None:\n",
    "        model.eval()\n",
    "        with torch.no_grad():\n",
    "            val_loss, correct, total = 0, 0, 0\n",
    "            for batch in val_dataloader:\n",
    "                input_values, labels = batch\n",
    "                input_values, labels = input_values.to(device), labels.to(device)\n",
    "\n",
    "                loss, logits = model(input_values, labels)\n",
    "                val_loss += loss.item()\n",
    "                preds = logits.argmax(dim=1)\n",
    "                correct += (preds == labels).sum().item()\n",
    "                total += labels.size(0)\n",
    "\n",
    "            val_accuracy = correct / total\n",
    "            val_losses.append(val_loss / len(val_dataloader))\n",
    "            val_accuracies.append(val_accuracy)\n",
    "\n",
    "        model.train()"
   ]
  },
  {
   "cell_type": "markdown",
   "id": "e4a783c1-d366-4b39-9ff4-c1d6b51ba8c5",
   "metadata": {},
   "source": [
    "## **테스트 적용시**\n",
    "\n",
    "```python\n",
    "\n",
    "```"
   ]
  },
  {
   "cell_type": "code",
   "execution_count": 30,
   "id": "4523dc21",
   "metadata": {},
   "outputs": [
    {
     "name": "stdout",
     "output_type": "stream",
     "text": [
      "Accuracy: 46.15%\n"
     ]
    }
   ],
   "source": [
    "model.eval()  \n",
    "\n",
    "correct = 0\n",
    "total = 0\n",
    "with torch.no_grad():  \n",
    "    for data in test_dataloader:  \n",
    "        inputs, labels = data\n",
    "        inputs, labels = inputs.to(device), labels.to(device)\n",
    "        outputs = model(inputs)\n",
    "        _, predicted = torch.max(outputs.data, 1)\n",
    "        total += labels.size(0)\n",
    "        correct += (predicted == labels).sum().item()\n",
    "\n",
    "accuracy = correct / total\n",
    "print(f'Accuracy: {accuracy * 100:.2f}%')"
   ]
  },
  {
   "cell_type": "code",
   "execution_count": 31,
   "id": "ef6ab891",
   "metadata": {},
   "outputs": [
    {
     "data": {
      "image/png": "[encoded data removed]",
      "text/plain": [
       "<Figure size 1200x500 with 2 Axes>"
      ]
     },
     "metadata": {},
     "output_type": "display_data"
    }
   ],
   "source": [
    "# Plotting\n",
    "plt.figure(figsize=(12, 5))\n",
    "plt.subplot(1, 2, 1)\n",
    "plt.plot(train_losses, label='Training Loss')\n",
    "if val_dataloader is not None:\n",
    "    plt.plot(val_losses, label='Validation Loss')\n",
    "plt.title(\"Loss Over Epochs\")\n",
    "plt.xlabel(\"Epochs\")\n",
    "plt.ylabel(\"Loss\")\n",
    "plt.legend()\n",
    "\n",
    "plt.subplot(1, 2, 2)\n",
    "plt.plot(train_accuracies, label='Training Accuracy')\n",
    "if val_dataloader is not None:\n",
    "    plt.plot(val_accuracies, label='Validation Accuracy')\n",
    "plt.title(\"Accuracy Over Epochs\")\n",
    "plt.xlabel(\"Epochs\")\n",
    "plt.ylabel(\"Accuracy\")\n",
    "plt.legend()\n",
    "# plt.savefig(\"win500_set2.2_test_epc200_flattened.png\") # 그래프 사진은 주석풀어서 사진이름만 설정해주시면 됩니다.\n",
    "\n",
    "plt.show()"
   ]
  },
  {
   "cell_type": "code",
   "execution_count": null,
   "id": "027208b1",
   "metadata": {},
   "outputs": [],
   "source": []
  }
 ],
 "metadata": {
  "kernelspec": {
   "display_name": "pyenv",
   "language": "python",
   "name": "python3"
  },
  "language_info": {
   "codemirror_mode": {
    "name": "ipython",
    "version": 3
   },
   "file_extension": ".py",
   "mimetype": "text/x-python",
   "name": "python",
   "nbconvert_exporter": "python",
   "pygments_lexer": "ipython3",
   "version": "3.10.13"
  }
 },
 "nbformat": 4,
 "nbformat_minor": 5
}
