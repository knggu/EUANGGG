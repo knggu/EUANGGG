{
 "cells": [
  {
   "cell_type": "code",
   "execution_count": 1,
   "id": "61d6a4e3-93b4-4998-b999-56adc65deaa2",
   "metadata": {},
   "outputs": [],
   "source": [
    "import ast_preprocess_dataloader\n",
    "from ast_preprocess_dataloader import AudioPipeline\n",
    "import torchaudio\n",
    "import torch\n",
    "import os\n",
    "import glob\n",
    "from torch.utils.data import Dataset, DataLoader\n",
    "from audiomentations import Compose, TimeStretch, PitchShift, BandPassFilter, Normalize, AddBackgroundNoise\n",
    "import numpy as np\n",
    "from transformers import AutoProcessor\n",
    "from sklearn.model_selection import train_test_split"
   ]
  },
  {
   "cell_type": "code",
   "execution_count": 2,
   "id": "b977c91e",
   "metadata": {},
   "outputs": [
    {
     "name": "stdout",
     "output_type": "stream",
     "text": [
      "PyTorch is using GPU 🟢\n"
     ]
    }
   ],
   "source": [
    "if torch.cuda.is_available():\n",
    "    device = torch.device(\"cuda\")\n",
    "    print(\"PyTorch is using GPU 🟢\")\n",
    "else:\n",
    "    device = torch.device(\"cpu\")\n",
    "    print(\"PyTorch is using CPU 🟡\")"
   ]
  },
  {
   "cell_type": "code",
   "execution_count": 3,
   "id": "bb6d1a8d-34d2-415f-95e5-f82d50944f89",
   "metadata": {},
   "outputs": [
    {
     "data": {
      "text/plain": [
       "True"
      ]
     },
     "execution_count": 3,
     "metadata": {},
     "output_type": "execute_result"
    }
   ],
   "source": [
    "dir_path = r'c:/Users/Desk_Kang/Desktop/Aiffel/workplace/lib/Aiffelthon/orig_resample'\n",
    "os.path.exists(dir_path)"
   ]
  },
  {
   "cell_type": "code",
   "execution_count": 4,
   "id": "a955c2b7-6b4e-42f0-af04-b2e6a47035a7",
   "metadata": {},
   "outputs": [
    {
     "data": {
      "text/plain": [
       "['bellypain', 'discomfort', 'hungry', 'tired']"
      ]
     },
     "execution_count": 4,
     "metadata": {},
     "output_type": "execute_result"
    }
   ],
   "source": [
    "class_name = os.listdir(dir_path)\n",
    "class_name"
   ]
  },
  {
   "cell_type": "code",
   "execution_count": 5,
   "id": "ecd1863c-9020-42d2-abfc-b8a7353fa65b",
   "metadata": {},
   "outputs": [
    {
     "data": {
      "text/plain": [
       "['c:/Users/Desk_Kang/Desktop/Aiffel/workplace/lib/Aiffelthon/orig_resample\\\\bellypain',\n",
       " 'c:/Users/Desk_Kang/Desktop/Aiffel/workplace/lib/Aiffelthon/orig_resample\\\\discomfort',\n",
       " 'c:/Users/Desk_Kang/Desktop/Aiffel/workplace/lib/Aiffelthon/orig_resample\\\\hungry',\n",
       " 'c:/Users/Desk_Kang/Desktop/Aiffel/workplace/lib/Aiffelthon/orig_resample\\\\tired']"
      ]
     },
     "execution_count": 5,
     "metadata": {},
     "output_type": "execute_result"
    }
   ],
   "source": [
    "audio_dir = [os.path.join(dir_path, name) for name in class_name]\n",
    "audio_dir"
   ]
  },
  {
   "cell_type": "code",
   "execution_count": 6,
   "id": "75235835-686d-46af-af76-8fa8911414ab",
   "metadata": {},
   "outputs": [],
   "source": [
    "bpain_audio = glob.glob(os.path.join(audio_dir[0], '*.wav'))\n",
    "discomf_audio = glob.glob(os.path.join(audio_dir[1], '*.wav'))\n",
    "hungry_audio = glob.glob(os.path.join(audio_dir[2], '*.wav'))\n",
    "tired_audio = glob.glob(os.path.join(audio_dir[3], '*.wav'))"
   ]
  },
  {
   "cell_type": "code",
   "execution_count": 7,
   "id": "d1cfbec4-5971-47b6-83bd-2fe77616c2f9",
   "metadata": {},
   "outputs": [],
   "source": [
    "audio_path_class = {\n",
    "    'bpain': bpain_audio,\n",
    "    'discomf': discomf_audio,\n",
    "    'hungry': hungry_audio,\n",
    "    'tired': tired_audio\n",
    "}"
   ]
  },
  {
   "cell_type": "code",
   "execution_count": 8,
   "id": "21fb22f0-b97c-4c7c-9205-cc184be30da6",
   "metadata": {},
   "outputs": [
    {
     "data": {
      "text/plain": [
       "True"
      ]
     },
     "execution_count": 8,
     "metadata": {},
     "output_type": "execute_result"
    }
   ],
   "source": [
    "noise_dir = 'C:./noise'\n",
    "os.path.exists(noise_dir)"
   ]
  },
  {
   "cell_type": "code",
   "execution_count": 9,
   "id": "f4f6d5ad-c8c6-44c5-9fd6-41a21ee4214e",
   "metadata": {},
   "outputs": [],
   "source": [
    "noise_path = glob.glob(os.path.join(noise_dir, '*.wav'))"
   ]
  },
  {
   "cell_type": "code",
   "execution_count": 10,
   "id": "e98d6eec-2925-4443-ad2e-792b5044dbf5",
   "metadata": {},
   "outputs": [
    {
     "data": {
      "text/plain": [
       "20"
      ]
     },
     "execution_count": 10,
     "metadata": {},
     "output_type": "execute_result"
    }
   ],
   "source": [
    "len(noise_path)"
   ]
  },
  {
   "cell_type": "code",
   "execution_count": 11,
   "id": "e24f8244-ea5b-4a0d-9cf4-f5ad912c8337",
   "metadata": {},
   "outputs": [],
   "source": [
    "from random import shuffle\n",
    "\n",
    "shuffled_noise = shuffle(noise_path)"
   ]
  },
  {
   "cell_type": "code",
   "execution_count": 12,
   "id": "a075d567-deff-438d-87f0-27c41e1e8bc0",
   "metadata": {},
   "outputs": [
    {
     "data": {
      "text/plain": [
       "['C:./noise\\\\N-10_220916_A_3_e_12757.wav',\n",
       " 'C:./noise\\\\N-10_220924_A_3_b_08705.wav',\n",
       " 'C:./noise\\\\N-10_220923_A_1_a_00311.wav',\n",
       " 'C:./noise\\\\N-10_221010_A_3_f_13659.wav',\n",
       " 'C:./noise\\\\N-10_220916_A_3_e_12761.wav',\n",
       " 'C:./noise\\\\N-10_220923_A_1_a_00305.wav',\n",
       " 'C:./noise\\\\N-10_220916_A_3_e_12771.wav',\n",
       " 'C:./noise\\\\N-10_220916_A_3_e_12762.wav',\n",
       " 'C:./noise\\\\N-10_220923_A_1_a_00314.wav',\n",
       " 'C:./noise\\\\N-10_221010_A_3_f_13662.wav',\n",
       " 'C:./noise\\\\N-10_220924_A_3_b_08704.wav',\n",
       " 'C:./noise\\\\N-10_221010_A_3_f_13663.wav',\n",
       " 'C:./noise\\\\N-10_220923_A_1_a_00308.wav',\n",
       " 'C:./noise\\\\N-10_220923_A_1_a_00310.wav',\n",
       " 'C:./noise\\\\N-10_221010_A_3_f_13666.wav',\n",
       " 'C:./noise\\\\N-10_220923_A_3_b_09136.wav',\n",
       " 'C:./noise\\\\N-10_220916_A_3_e_12764.wav',\n",
       " 'C:./noise\\\\N-10_221010_A_3_f_13661.wav',\n",
       " 'C:./noise\\\\N-10_220926_A_3_b_09028.wav',\n",
       " 'C:./noise\\\\N-10_220926_A_3_b_09033.wav']"
      ]
     },
     "execution_count": 12,
     "metadata": {},
     "output_type": "execute_result"
    }
   ],
   "source": [
    "noise_path"
   ]
  },
  {
   "cell_type": "code",
   "execution_count": 13,
   "id": "929251cf-bfd6-484f-bf51-b9ad499cb2cd",
   "metadata": {},
   "outputs": [],
   "source": [
    "all_paths = []\n",
    "all_labels = []\n",
    "\n",
    "for (label, class_name), path_lst in zip(enumerate(audio_path_class), audio_path_class.values()):\n",
    "    for path in path_lst:\n",
    "        all_paths.append(path)\n",
    "        all_labels.append(label)"
   ]
  },
  {
   "cell_type": "markdown",
   "id": "2060c5e8-c8c4-42c0-a3f3-c31b12b261fa",
   "metadata": {},
   "source": [
    "## **훈련, 검증, 테스트 경로 쪼개기**"
   ]
  },
  {
   "cell_type": "code",
   "execution_count": 14,
   "id": "dd30405b-1b41-4385-b292-8ca4f01131e8",
   "metadata": {},
   "outputs": [],
   "source": [
    "train_paths, val_paths, train_labels, val_labels = train_test_split(all_paths, all_labels, test_size=0.4, random_state=42)"
   ]
  },
  {
   "cell_type": "code",
   "execution_count": 15,
   "id": "af80d961-9cab-4e1a-85a3-cdf99aba7b99",
   "metadata": {},
   "outputs": [
    {
     "name": "stdout",
     "output_type": "stream",
     "text": [
      "117\n",
      "78\n",
      "117\n",
      "78\n"
     ]
    }
   ],
   "source": [
    "# 갯수 확인\n",
    "print(len(train_paths))\n",
    "print(len(val_paths))\n",
    "print(len(train_labels))\n",
    "print(len(val_labels))"
   ]
  },
  {
   "cell_type": "code",
   "execution_count": 16,
   "id": "2ad9c694-6c1d-48c9-9601-f8d4dd365b87",
   "metadata": {},
   "outputs": [],
   "source": [
    "val_paths, test_paths, val_labels, test_labels = train_test_split(val_paths, val_labels, test_size=0.5, random_state=42)"
   ]
  },
  {
   "cell_type": "code",
   "execution_count": 17,
   "id": "2b5d45be-47cf-4f05-9a92-77bc94ce0e12",
   "metadata": {},
   "outputs": [
    {
     "name": "stdout",
     "output_type": "stream",
     "text": [
      "39\n",
      "39\n",
      "39\n",
      "39\n"
     ]
    }
   ],
   "source": [
    "# 갯수 확인\n",
    "print(len(val_paths))\n",
    "print(len(test_paths))\n",
    "print(len(val_labels))\n",
    "print(len(test_labels))"
   ]
  },
  {
   "cell_type": "markdown",
   "id": "ae8a7b52-c829-4b97-9c98-2f3621476346",
   "metadata": {},
   "source": [
    "## **파이프라인 만들기**"
   ]
  },
  {
   "cell_type": "code",
   "execution_count": 18,
   "id": "a27c43f6-d158-43aa-a39d-dd92173b0613",
   "metadata": {},
   "outputs": [
    {
     "name": "stderr",
     "output_type": "stream",
     "text": [
      "Could not find image processor class in the image processor config or the model config. Loading based on pattern matching with the model's feature extractor configuration.\n",
      "Could not find image processor class in the image processor config or the model config. Loading based on pattern matching with the model's feature extractor configuration.\n",
      "Could not find image processor class in the image processor config or the model config. Loading based on pattern matching with the model's feature extractor configuration.\n"
     ]
    }
   ],
   "source": [
    "augmentations = Compose([\n",
    "    AddBackgroundNoise(sounds_path = noise_path,\n",
    "                       min_snr_db=17,\n",
    "                       max_snr_db=17,\n",
    "                       p=0.3),\n",
    "    TimeStretch(min_rate=0.9, max_rate=1.1, p=0.5),\n",
    "    PitchShift(min_semitones=-1.1, max_semitones=1.1, p=0.5),\n",
    "    BandPassFilter(min_center_freq=1500, max_center_freq=1500,\n",
    "                   max_bandwidth_fraction=1.33, min_bandwidth_fraction=1.33,\n",
    "                   max_rolloff=12, min_rolloff=12, p=1.0),\n",
    "    Normalize(p=1.0)\n",
    "])\n",
    "\n",
    "train_dataset = AudioPipeline(audio_paths=train_paths, audio_labels=train_labels, sr=20000, transform=augmentations)\n",
    "val_dataset = AudioPipeline(audio_paths=val_paths, audio_labels=val_labels, sr=20000)\n",
    "test_dataset = AudioPipeline(audio_paths=test_paths, audio_labels=test_labels, sr=20000)"
   ]
  },
  {
   "cell_type": "code",
   "execution_count": 19,
   "id": "fe13b561-31cf-4ef6-8f28-c04ffaccb687",
   "metadata": {},
   "outputs": [],
   "source": [
    "train_dataloader = DataLoader(train_dataset, batch_size=10, shuffle=True)\n",
    "val_dataloader = DataLoader(val_dataset, batch_size=10, shuffle=True)\n",
    "test_dataloader = DataLoader(test_dataset, batch_size=10, shuffle=True)"
   ]
  },
  {
   "cell_type": "markdown",
   "id": "90e08977-c037-4c67-8e95-01505e47609c",
   "metadata": {},
   "source": [
    "## **훈련, 검증, 테스트 batch 불러오기**"
   ]
  },
  {
   "cell_type": "code",
   "execution_count": 20,
   "id": "a18ccffb-d49d-4f7b-9e86-5fcdad2e6ceb",
   "metadata": {},
   "outputs": [
    {
     "name": "stderr",
     "output_type": "stream",
     "text": [
      "c:\\Users\\Desk_Kang\\anaconda3\\envs\\pyenv\\lib\\site-packages\\audiomentations\\core\\audio_loading_utils.py:37: UserWarning: c:\\Users\\Desk_Kang\\Desktop\\Aiffel\\workplace\\lib\\Aiffelthon\\noise\\N-10_221010_A_3_f_13663.wav had to be resampled from 48000 Hz to 20000 Hz. This hurt execution time.\n",
      "  warnings.warn(\n",
      "c:\\Users\\Desk_Kang\\anaconda3\\envs\\pyenv\\lib\\site-packages\\audiomentations\\core\\audio_loading_utils.py:37: UserWarning: c:\\Users\\Desk_Kang\\Desktop\\Aiffel\\workplace\\lib\\Aiffelthon\\noise\\N-10_221010_A_3_f_13666.wav had to be resampled from 48000 Hz to 20000 Hz. This hurt execution time.\n",
      "  warnings.warn(\n",
      "c:\\Users\\Desk_Kang\\anaconda3\\envs\\pyenv\\lib\\site-packages\\audiomentations\\core\\audio_loading_utils.py:37: UserWarning: c:\\Users\\Desk_Kang\\Desktop\\Aiffel\\workplace\\lib\\Aiffelthon\\noise\\N-10_220916_A_3_e_12762.wav had to be resampled from 48000 Hz to 20000 Hz. This hurt execution time.\n",
      "  warnings.warn(\n",
      "c:\\Users\\Desk_Kang\\anaconda3\\envs\\pyenv\\lib\\site-packages\\audiomentations\\core\\audio_loading_utils.py:37: UserWarning: c:\\Users\\Desk_Kang\\Desktop\\Aiffel\\workplace\\lib\\Aiffelthon\\noise\\N-10_220923_A_1_a_00314.wav had to be resampled from 48000 Hz to 20000 Hz. This hurt execution time.\n",
      "  warnings.warn(\n"
     ]
    },
    {
     "name": "stdout",
     "output_type": "stream",
     "text": [
      "torch.Size([10, 1024, 128]) torch.Size([10])\n"
     ]
    },
    {
     "name": "stderr",
     "output_type": "stream",
     "text": [
      "c:\\Users\\Desk_Kang\\anaconda3\\envs\\pyenv\\lib\\site-packages\\audiomentations\\core\\audio_loading_utils.py:37: UserWarning: c:\\Users\\Desk_Kang\\Desktop\\Aiffel\\workplace\\lib\\Aiffelthon\\noise\\N-10_220916_A_3_e_12757.wav had to be resampled from 48000 Hz to 20000 Hz. This hurt execution time.\n",
      "  warnings.warn(\n"
     ]
    },
    {
     "name": "stdout",
     "output_type": "stream",
     "text": [
      "torch.Size([10, 1024, 128]) torch.Size([10])\n"
     ]
    },
    {
     "name": "stderr",
     "output_type": "stream",
     "text": [
      "c:\\Users\\Desk_Kang\\anaconda3\\envs\\pyenv\\lib\\site-packages\\audiomentations\\core\\audio_loading_utils.py:37: UserWarning: c:\\Users\\Desk_Kang\\Desktop\\Aiffel\\workplace\\lib\\Aiffelthon\\noise\\N-10_221010_A_3_f_13659.wav had to be resampled from 48000 Hz to 20000 Hz. This hurt execution time.\n",
      "  warnings.warn(\n",
      "c:\\Users\\Desk_Kang\\anaconda3\\envs\\pyenv\\lib\\site-packages\\audiomentations\\core\\audio_loading_utils.py:37: UserWarning: c:\\Users\\Desk_Kang\\Desktop\\Aiffel\\workplace\\lib\\Aiffelthon\\noise\\N-10_220924_A_3_b_08704.wav had to be resampled from 48000 Hz to 20000 Hz. This hurt execution time.\n",
      "  warnings.warn(\n"
     ]
    },
    {
     "name": "stdout",
     "output_type": "stream",
     "text": [
      "torch.Size([10, 1024, 128]) torch.Size([10])\n",
      "torch.Size([10, 1024, 128]) torch.Size([10])\n"
     ]
    },
    {
     "name": "stderr",
     "output_type": "stream",
     "text": [
      "c:\\Users\\Desk_Kang\\anaconda3\\envs\\pyenv\\lib\\site-packages\\audiomentations\\core\\audio_loading_utils.py:37: UserWarning: c:\\Users\\Desk_Kang\\Desktop\\Aiffel\\workplace\\lib\\Aiffelthon\\noise\\N-10_220923_A_1_a_00308.wav had to be resampled from 48000 Hz to 20000 Hz. This hurt execution time.\n",
      "  warnings.warn(\n",
      "c:\\Users\\Desk_Kang\\anaconda3\\envs\\pyenv\\lib\\site-packages\\audiomentations\\core\\audio_loading_utils.py:37: UserWarning: c:\\Users\\Desk_Kang\\Desktop\\Aiffel\\workplace\\lib\\Aiffelthon\\noise\\N-10_220923_A_1_a_00305.wav had to be resampled from 48000 Hz to 20000 Hz. This hurt execution time.\n",
      "  warnings.warn(\n",
      "c:\\Users\\Desk_Kang\\anaconda3\\envs\\pyenv\\lib\\site-packages\\audiomentations\\core\\audio_loading_utils.py:37: UserWarning: c:\\Users\\Desk_Kang\\Desktop\\Aiffel\\workplace\\lib\\Aiffelthon\\noise\\N-10_220923_A_3_b_09136.wav had to be resampled from 48000 Hz to 20000 Hz. This hurt execution time.\n",
      "  warnings.warn(\n"
     ]
    },
    {
     "name": "stdout",
     "output_type": "stream",
     "text": [
      "torch.Size([10, 1024, 128]) torch.Size([10])\n",
      "torch.Size([10, 1024, 128]) torch.Size([10])\n"
     ]
    },
    {
     "name": "stderr",
     "output_type": "stream",
     "text": [
      "c:\\Users\\Desk_Kang\\anaconda3\\envs\\pyenv\\lib\\site-packages\\audiomentations\\core\\audio_loading_utils.py:37: UserWarning: c:\\Users\\Desk_Kang\\Desktop\\Aiffel\\workplace\\lib\\Aiffelthon\\noise\\N-10_220916_A_3_e_12764.wav had to be resampled from 48000 Hz to 20000 Hz. This hurt execution time.\n",
      "  warnings.warn(\n"
     ]
    },
    {
     "name": "stdout",
     "output_type": "stream",
     "text": [
      "torch.Size([10, 1024, 128]) torch.Size([10])\n",
      "torch.Size([10, 1024, 128]) torch.Size([10])\n"
     ]
    },
    {
     "name": "stderr",
     "output_type": "stream",
     "text": [
      "c:\\Users\\Desk_Kang\\anaconda3\\envs\\pyenv\\lib\\site-packages\\audiomentations\\core\\audio_loading_utils.py:37: UserWarning: c:\\Users\\Desk_Kang\\Desktop\\Aiffel\\workplace\\lib\\Aiffelthon\\noise\\N-10_221010_A_3_f_13661.wav had to be resampled from 48000 Hz to 20000 Hz. This hurt execution time.\n",
      "  warnings.warn(\n",
      "c:\\Users\\Desk_Kang\\anaconda3\\envs\\pyenv\\lib\\site-packages\\audiomentations\\core\\audio_loading_utils.py:37: UserWarning: c:\\Users\\Desk_Kang\\Desktop\\Aiffel\\workplace\\lib\\Aiffelthon\\noise\\N-10_221010_A_3_f_13662.wav had to be resampled from 48000 Hz to 20000 Hz. This hurt execution time.\n",
      "  warnings.warn(\n"
     ]
    },
    {
     "name": "stdout",
     "output_type": "stream",
     "text": [
      "torch.Size([10, 1024, 128]) torch.Size([10])\n"
     ]
    },
    {
     "name": "stderr",
     "output_type": "stream",
     "text": [
      "c:\\Users\\Desk_Kang\\anaconda3\\envs\\pyenv\\lib\\site-packages\\audiomentations\\core\\audio_loading_utils.py:37: UserWarning: c:\\Users\\Desk_Kang\\Desktop\\Aiffel\\workplace\\lib\\Aiffelthon\\noise\\N-10_220926_A_3_b_09033.wav had to be resampled from 48000 Hz to 20000 Hz. This hurt execution time.\n",
      "  warnings.warn(\n"
     ]
    },
    {
     "name": "stdout",
     "output_type": "stream",
     "text": [
      "torch.Size([10, 1024, 128]) torch.Size([10])\n",
      "torch.Size([10, 1024, 128]) torch.Size([10])\n",
      "torch.Size([7, 1024, 128]) torch.Size([7])\n"
     ]
    }
   ],
   "source": [
    "# 훈련 데이터 배치 불러오기\n",
    "for batch in train_dataloader:\n",
    "    input_values, labels = batch\n",
    "    print(input_values.shape, labels.shape)"
   ]
  },
  {
   "cell_type": "code",
   "execution_count": 21,
   "id": "da9649a3-0c24-4c3e-93fa-78d67cddb4ed",
   "metadata": {},
   "outputs": [
    {
     "name": "stdout",
     "output_type": "stream",
     "text": [
      "torch.Size([10, 1024, 128]) torch.Size([10])\n",
      "torch.Size([10, 1024, 128]) torch.Size([10])\n",
      "torch.Size([10, 1024, 128]) torch.Size([10])\n",
      "torch.Size([9, 1024, 128]) torch.Size([9])\n"
     ]
    }
   ],
   "source": [
    "# 검증 데이터 배치 불러오기\n",
    "for batch in val_dataloader:\n",
    "    input_values, labels = batch\n",
    "    print(input_values.shape, labels.shape)"
   ]
  },
  {
   "cell_type": "code",
   "execution_count": 22,
   "id": "bc3fb672-7fd5-48ed-bd08-18567040b60b",
   "metadata": {},
   "outputs": [
    {
     "name": "stdout",
     "output_type": "stream",
     "text": [
      "torch.Size([10, 1024, 128]) torch.Size([10])\n",
      "torch.Size([10, 1024, 128]) torch.Size([10])\n",
      "torch.Size([10, 1024, 128]) torch.Size([10])\n",
      "torch.Size([9, 1024, 128]) torch.Size([9])\n"
     ]
    }
   ],
   "source": [
    "# 테스트 데이터 배치 불러오기\n",
    "for batch in test_dataloader:\n",
    "    input_values, labels = batch\n",
    "    print(input_values.shape, labels.shape)"
   ]
  },
  {
   "cell_type": "markdown",
   "id": "58f76707",
   "metadata": {},
   "source": [
    "## 모델 불러오기"
   ]
  },
  {
   "cell_type": "code",
   "execution_count": 23,
   "id": "de96e072",
   "metadata": {},
   "outputs": [],
   "source": [
    "import torch.nn.functional as F\n",
    "import torch.nn as nn\n",
    "from transformers import ASTConfig, ASTModel, ASTFeatureExtractor\n",
    "\n",
    "class CustomASTClassifier(nn.Module):\n",
    "    def __init__(self, ast_model_name, num_labels):\n",
    "        super().__init__()\n",
    "        self.astconfig = ASTConfig() # 괄호 안에 configuration 값 넣어주면 됩니다. 아마 sampling rate도 20000으로 맞춰주시면 될 것 같아요.\n",
    "        self.ast = ASTModel.from_pretrained(ast_model_name) # 요거 안되면 질문주세요 self.astconfig\n",
    "        self.num_labels = num_labels\n",
    "        for param in self.ast.parameters():\n",
    "            param.requires_grad = False\n",
    "\n",
    "        # 요 아래코드에 Convolution 과 classifier 설정해주시면 됩니다..\n",
    "\n",
    "        # 예시\n",
    "        \n",
    "        self.conv1d1 = nn.Sequential(\n",
    "            nn.Conv1d(in_channels=768,\n",
    "                      out_channels = 512,\n",
    "                      kernel_size = 4,\n",
    "                      stride = 1),\n",
    "            nn.BatchNorm1d(512),\n",
    "            nn.ReLU())\n",
    "        \n",
    "        # self.conv1d2 = nn.Sequential(\n",
    "        #     nn.Conv1d(in_channels=512,\n",
    "        #               out_channels = 256,\n",
    "        #               kernel_size = 2,\n",
    "        #               stride = 1),\n",
    "        #     nn.BatchNorm1d(256),\n",
    "        #     nn.ReLU())\n",
    "        \n",
    "        # self.conv1d3 = nn.Sequential(\n",
    "        #     nn.Conv1d(in_channels=256,\n",
    "        #               out_channels = 128,\n",
    "        #               kernel_size = 2,\n",
    "        #               stride = 1),\n",
    "        #     nn.BatchNorm1d(128),\n",
    "        #     nn.ReLU())\n",
    "        # gelu -> BERT, GPT\n",
    "        # kernel_size -> 늘려도 괜찮아 보임\n",
    "\n",
    "        # self.conv1d4 = nn.Sequential(\n",
    "        #     nn.Conv1d(in_channels=128,\n",
    "        #               out_channels = 64,\n",
    "        #               kernel_size = 1,\n",
    "        #               stride = 1),\n",
    "        #     nn.BatchNorm1d(64),\n",
    "        #     nn.ReLU())        \n",
    "\n",
    "        # self.conv1d5 = nn.Sequential(\n",
    "        #     nn.Conv1d(in_channels=64,\n",
    "        #               out_channels = 32,\n",
    "        #               kernel_size = 1,\n",
    "        #               stride = 1),\n",
    "        #     nn.BatchNorm1d(32),\n",
    "        #     nn.ReLU())\n",
    "\n",
    "        # self.conv1d6 = nn.Sequential(\n",
    "        #     nn.Conv1d(in_channels=32,\n",
    "        #               out_channels = 16,\n",
    "        #               kernel_size = 1,\n",
    "        #               stride = 1),\n",
    "        #     nn.BatchNorm1d(16),\n",
    "        #     nn.ReLU())\n",
    "\n",
    "        self.adapted = nn.AdaptiveAvgPool1d(1)\n",
    "        \n",
    "\n",
    "        # self.classifier = nn.Linear(1214, 512)\n",
    "        # self.layer_fc1 = nn.Sequential(\n",
    "        #     nn.Linear(128,64),\n",
    "        #     nn.BatchNorm1d(64),\n",
    "        #     nn.ReLU(),\n",
    "        #     nn.Dropout(0.3))\n",
    "        \n",
    "        # self.layer_fc2 = nn.Sequential(\n",
    "        #     nn.Linear(64,32),\n",
    "        #     nn.BatchNorm1d(32),\n",
    "        #     nn.ReLU(),\n",
    "        #     nn.Dropout(0.3))\n",
    "        \n",
    "        self.layer_fc3 = nn.Sequential(\n",
    "            nn.Linear(512,128),\n",
    "            nn.BatchNorm1d(128),\n",
    "            nn.GELU(),\n",
    "            nn.Dropout(0.3))\n",
    "        \n",
    "        \n",
    "        self.add_layer_01 = nn.Linear(128, num_labels)\n",
    "        self.num_labels = num_labels\n",
    "        \n",
    "\n",
    "    def forward(self, input_values, labels=None):\n",
    "        input_values = input_values.float()\n",
    "        outputs = self.ast(input_values)\n",
    "        embeddings = outputs.last_hidden_state\n",
    "\n",
    "\n",
    "        embeddings_t = embeddings.transpose(1,2)\n",
    "        # 요 아래 부분부터 Feed Forward 부분이니 위에서 설정한 Convolution과 classifier를 넣어주시면 됩니다.\n",
    "        # 예시)\n",
    "        \n",
    "        # embeddings = embeddings.unsqueeze(1)\n",
    "        \n",
    "        # Convolution block\n",
    "        conv_output1 = self.conv1d1(embeddings_t)\n",
    "        # conv_output2 = self.conv1d2(conv_output1)\n",
    "        # conv_output3 = self.conv1d3(conv_output2)\n",
    "\n",
    "        adap_out = self.adapted(conv_output1)\n",
    "\n",
    "        output_sq = torch.squeeze(adap_out, dim=1)\n",
    "\n",
    "        flattened_output = adap_out.view(output_sq.size(0), -1)\n",
    "\n",
    "        # logits = self.layer_fc1(flattened_output)\n",
    "        # logits = self.layer_fc2(logits)\n",
    "        logits = self.layer_fc3(flattened_output)\n",
    "        logits = torch.tanh(logits)\n",
    "        logits = self.add_layer_01(logits)\n",
    "        \n",
    "\n",
    "        if labels is not None:\n",
    "            loss_fct = nn.CrossEntropyLoss()\n",
    "            loss = loss_fct(logits.view(-1, self.num_labels), labels.view(-1).long())\n",
    "            return loss, logits\n",
    "        return logits"
   ]
  },
  {
   "cell_type": "code",
   "execution_count": 24,
   "id": "316d26d0",
   "metadata": {},
   "outputs": [],
   "source": [
    "import torch.optim as optim\n",
    "import matplotlib.pyplot as plt\n",
    "\n",
    "num_labels = 4\n",
    "ast_model_name = \"MIT/ast-finetuned-audioset-10-10-0.4593\"\n",
    "model = CustomASTClassifier(ast_model_name, num_labels).to(device)\n",
    "\n",
    "\n",
    "# Initialize metric lists\n",
    "train_losses, train_accuracies, val_losses, val_accuracies = [], [], [], []"
   ]
  },
  {
   "cell_type": "code",
   "execution_count": 25,
   "id": "b799b5c3",
   "metadata": {},
   "outputs": [],
   "source": [
    "ast_loss_fn = torch.nn.CrossEntropyLoss()"
   ]
  },
  {
   "cell_type": "markdown",
   "id": "e6fdc90d",
   "metadata": {},
   "source": [
    "## Lr 설정"
   ]
  },
  {
   "cell_type": "code",
   "execution_count": 26,
   "id": "2902f348",
   "metadata": {},
   "outputs": [],
   "source": [
    "def find_learning_rate(model, train_loader, loss_fn, device='cpu'):\n",
    "    optimizer = torch.optim.Adam(model.parameters(), lr=1e-5)\n",
    "\n",
    "    lr_find_loss = []\n",
    "    lr_find_lr = []\n",
    "\n",
    "    lr_init = 1.0e-5# <<<< 요기만 바꾸면됨\n",
    "    lr_final = 5e-3\n",
    "    n_steps = 100\n",
    "    current_lr = lr_init\n",
    "    lr_increment = (lr_final / lr_init) ** (1/n_steps)\n",
    "\n",
    "    model.train()  # Set model to training mode\n",
    "\n",
    "    for batch_idx, batch in enumerate(train_loader):\n",
    "        inputs, targets = batch\n",
    "        inputs, targets = inputs.to(device), targets.to(device)\n",
    "        \n",
    "        optimizer.param_groups[0]['lr'] = current_lr\n",
    "        outputs = model(inputs)\n",
    "        loss = loss_fn(outputs, targets.squeeze())\n",
    "\n",
    "        optimizer.zero_grad()\n",
    "        loss.backward()\n",
    "        optimizer.step()\n",
    "\n",
    "        lr_find_loss.append(loss.item())\n",
    "        lr_find_lr.append(current_lr)\n",
    "\n",
    "        current_lr *= lr_increment\n",
    "        if current_lr > lr_final:\n",
    "            break\n",
    "\n",
    "    plt.plot(lr_find_lr, lr_find_loss)\n",
    "    plt.xscale('log')\n",
    "    plt.xlabel('Learning Rate')\n",
    "    plt.ylabel('Loss')\n",
    "    plt.show()\n",
    "    return lr_find_lr, lr_find_loss"
   ]
  },
  {
   "cell_type": "code",
   "execution_count": 27,
   "id": "134bb3b8",
   "metadata": {},
   "outputs": [
    {
     "name": "stderr",
     "output_type": "stream",
     "text": [
      "c:\\Users\\Desk_Kang\\anaconda3\\envs\\pyenv\\lib\\site-packages\\audiomentations\\core\\audio_loading_utils.py:37: UserWarning: c:\\Users\\Desk_Kang\\Desktop\\Aiffel\\workplace\\lib\\Aiffelthon\\noise\\N-10_220916_A_3_e_12771.wav had to be resampled from 48000 Hz to 20000 Hz. This hurt execution time.\n",
      "  warnings.warn(\n",
      "c:\\Users\\Desk_Kang\\anaconda3\\envs\\pyenv\\lib\\site-packages\\audiomentations\\core\\audio_loading_utils.py:37: UserWarning: c:\\Users\\Desk_Kang\\Desktop\\Aiffel\\workplace\\lib\\Aiffelthon\\noise\\N-10_220923_A_1_a_00305.wav had to be resampled from 48000 Hz to 20000 Hz. This hurt execution time.\n",
      "  warnings.warn(\n",
      "c:\\Users\\Desk_Kang\\anaconda3\\envs\\pyenv\\lib\\site-packages\\audiomentations\\core\\audio_loading_utils.py:37: UserWarning: c:\\Users\\Desk_Kang\\Desktop\\Aiffel\\workplace\\lib\\Aiffelthon\\noise\\N-10_221010_A_3_f_13661.wav had to be resampled from 48000 Hz to 20000 Hz. This hurt execution time.\n",
      "  warnings.warn(\n",
      "c:\\Users\\Desk_Kang\\anaconda3\\envs\\pyenv\\lib\\site-packages\\audiomentations\\core\\audio_loading_utils.py:37: UserWarning: c:\\Users\\Desk_Kang\\Desktop\\Aiffel\\workplace\\lib\\Aiffelthon\\noise\\N-10_220924_A_3_b_08704.wav had to be resampled from 48000 Hz to 20000 Hz. This hurt execution time.\n",
      "  warnings.warn(\n",
      "c:\\Users\\Desk_Kang\\anaconda3\\envs\\pyenv\\lib\\site-packages\\audiomentations\\core\\audio_loading_utils.py:37: UserWarning: c:\\Users\\Desk_Kang\\Desktop\\Aiffel\\workplace\\lib\\Aiffelthon\\noise\\N-10_220916_A_3_e_12761.wav had to be resampled from 48000 Hz to 20000 Hz. This hurt execution time.\n",
      "  warnings.warn(\n",
      "c:\\Users\\Desk_Kang\\anaconda3\\envs\\pyenv\\lib\\site-packages\\audiomentations\\core\\audio_loading_utils.py:37: UserWarning: c:\\Users\\Desk_Kang\\Desktop\\Aiffel\\workplace\\lib\\Aiffelthon\\noise\\N-10_221010_A_3_f_13666.wav had to be resampled from 48000 Hz to 20000 Hz. This hurt execution time.\n",
      "  warnings.warn(\n",
      "c:\\Users\\Desk_Kang\\anaconda3\\envs\\pyenv\\lib\\site-packages\\audiomentations\\core\\audio_loading_utils.py:37: UserWarning: c:\\Users\\Desk_Kang\\Desktop\\Aiffel\\workplace\\lib\\Aiffelthon\\noise\\N-10_220923_A_1_a_00308.wav had to be resampled from 48000 Hz to 20000 Hz. This hurt execution time.\n",
      "  warnings.warn(\n",
      "c:\\Users\\Desk_Kang\\anaconda3\\envs\\pyenv\\lib\\site-packages\\audiomentations\\core\\audio_loading_utils.py:37: UserWarning: c:\\Users\\Desk_Kang\\Desktop\\Aiffel\\workplace\\lib\\Aiffelthon\\noise\\N-10_220926_A_3_b_09033.wav had to be resampled from 48000 Hz to 20000 Hz. This hurt execution time.\n",
      "  warnings.warn(\n",
      "c:\\Users\\Desk_Kang\\anaconda3\\envs\\pyenv\\lib\\site-packages\\audiomentations\\core\\audio_loading_utils.py:37: UserWarning: c:\\Users\\Desk_Kang\\Desktop\\Aiffel\\workplace\\lib\\Aiffelthon\\noise\\N-10_220916_A_3_e_12757.wav had to be resampled from 48000 Hz to 20000 Hz. This hurt execution time.\n",
      "  warnings.warn(\n",
      "c:\\Users\\Desk_Kang\\anaconda3\\envs\\pyenv\\lib\\site-packages\\audiomentations\\core\\audio_loading_utils.py:37: UserWarning: c:\\Users\\Desk_Kang\\Desktop\\Aiffel\\workplace\\lib\\Aiffelthon\\noise\\N-10_220923_A_1_a_00311.wav had to be resampled from 48000 Hz to 20000 Hz. This hurt execution time.\n",
      "  warnings.warn(\n",
      "c:\\Users\\Desk_Kang\\anaconda3\\envs\\pyenv\\lib\\site-packages\\audiomentations\\core\\audio_loading_utils.py:37: UserWarning: c:\\Users\\Desk_Kang\\Desktop\\Aiffel\\workplace\\lib\\Aiffelthon\\noise\\N-10_220923_A_3_b_09136.wav had to be resampled from 48000 Hz to 20000 Hz. This hurt execution time.\n",
      "  warnings.warn(\n",
      "c:\\Users\\Desk_Kang\\anaconda3\\envs\\pyenv\\lib\\site-packages\\audiomentations\\core\\audio_loading_utils.py:37: UserWarning: c:\\Users\\Desk_Kang\\Desktop\\Aiffel\\workplace\\lib\\Aiffelthon\\noise\\N-10_220923_A_1_a_00310.wav had to be resampled from 48000 Hz to 20000 Hz. This hurt execution time.\n",
      "  warnings.warn(\n",
      "c:\\Users\\Desk_Kang\\anaconda3\\envs\\pyenv\\lib\\site-packages\\audiomentations\\core\\audio_loading_utils.py:37: UserWarning: c:\\Users\\Desk_Kang\\Desktop\\Aiffel\\workplace\\lib\\Aiffelthon\\noise\\N-10_220916_A_3_e_12762.wav had to be resampled from 48000 Hz to 20000 Hz. This hurt execution time.\n",
      "  warnings.warn(\n",
      "c:\\Users\\Desk_Kang\\anaconda3\\envs\\pyenv\\lib\\site-packages\\audiomentations\\core\\audio_loading_utils.py:37: UserWarning: c:\\Users\\Desk_Kang\\Desktop\\Aiffel\\workplace\\lib\\Aiffelthon\\noise\\N-10_220926_A_3_b_09028.wav had to be resampled from 48000 Hz to 20000 Hz. This hurt execution time.\n",
      "  warnings.warn(\n",
      "c:\\Users\\Desk_Kang\\anaconda3\\envs\\pyenv\\lib\\site-packages\\audiomentations\\core\\audio_loading_utils.py:37: UserWarning: c:\\Users\\Desk_Kang\\Desktop\\Aiffel\\workplace\\lib\\Aiffelthon\\noise\\N-10_220916_A_3_e_12764.wav had to be resampled from 48000 Hz to 20000 Hz. This hurt execution time.\n",
      "  warnings.warn(\n",
      "c:\\Users\\Desk_Kang\\anaconda3\\envs\\pyenv\\lib\\site-packages\\audiomentations\\core\\audio_loading_utils.py:37: UserWarning: c:\\Users\\Desk_Kang\\Desktop\\Aiffel\\workplace\\lib\\Aiffelthon\\noise\\N-10_221010_A_3_f_13659.wav had to be resampled from 48000 Hz to 20000 Hz. This hurt execution time.\n",
      "  warnings.warn(\n",
      "c:\\Users\\Desk_Kang\\anaconda3\\envs\\pyenv\\lib\\site-packages\\audiomentations\\core\\audio_loading_utils.py:37: UserWarning: c:\\Users\\Desk_Kang\\Desktop\\Aiffel\\workplace\\lib\\Aiffelthon\\noise\\N-10_220923_A_1_a_00314.wav had to be resampled from 48000 Hz to 20000 Hz. This hurt execution time.\n",
      "  warnings.warn(\n",
      "c:\\Users\\Desk_Kang\\anaconda3\\envs\\pyenv\\lib\\site-packages\\audiomentations\\core\\audio_loading_utils.py:37: UserWarning: c:\\Users\\Desk_Kang\\Desktop\\Aiffel\\workplace\\lib\\Aiffelthon\\noise\\N-10_221010_A_3_f_13662.wav had to be resampled from 48000 Hz to 20000 Hz. This hurt execution time.\n",
      "  warnings.warn(\n"
     ]
    },
    {
     "data": {
      "image/png": "[encoded data removed]",
      "text/plain": [
       "<Figure size 640x480 with 1 Axes>"
      ]
     },
     "metadata": {},
     "output_type": "display_data"
    },
    {
     "data": {
      "text/plain": [
       "([1e-05,\n",
       "  1.0641177807473737e-05,\n",
       "  1.1323466513027156e-05,\n",
       "  1.2049502056209658e-05,\n",
       "  1.2822089387164737e-05,\n",
       "  1.3644213303214191e-05,\n",
       "  1.4519049980260076e-05,\n",
       "  1.544997924355455e-05,\n",
       "  1.6440597625244256e-05,\n",
       "  1.7494732259135457e-05,\n",
       "  1.861645566636071e-05,\n",
       "  1.9810101489069625e-05],\n",
       " [1.396583914756775,\n",
       "  1.3872910737991333,\n",
       "  1.3797181844711304,\n",
       "  1.3963302373886108,\n",
       "  1.3752415180206299,\n",
       "  1.3321102857589722,\n",
       "  1.3512625694274902,\n",
       "  1.3652288913726807,\n",
       "  1.4133927822113037,\n",
       "  1.4702224731445312,\n",
       "  1.3284423351287842,\n",
       "  1.3180347681045532])"
      ]
     },
     "execution_count": 27,
     "metadata": {},
     "output_type": "execute_result"
    }
   ],
   "source": [
    "find_learning_rate(model, train_dataloader, ast_loss_fn, device=device)"
   ]
  },
  {
   "cell_type": "markdown",
   "id": "8cbfd494",
   "metadata": {},
   "source": [
    "## Optimizer 설정"
   ]
  },
  {
   "cell_type": "code",
   "execution_count": 28,
   "id": "32f96e48",
   "metadata": {},
   "outputs": [],
   "source": [
    "# Define your optimizer, loss function, etc.\n",
    "optimizer = optim.Adam(model.parameters(), lr=1.15e-05)  #1.23e-05, 2.754e-06"
   ]
  },
  {
   "cell_type": "markdown",
   "id": "a40cd23e",
   "metadata": {},
   "source": [
    "## 학습"
   ]
  },
  {
   "cell_type": "code",
   "execution_count": 29,
   "id": "52249dd0",
   "metadata": {},
   "outputs": [
    {
     "name": "stderr",
     "output_type": "stream",
     "text": [
      "Epoch 1:   0%|          | 0/12 [00:00<?, ?it/s]"
     ]
    },
    {
     "name": "stderr",
     "output_type": "stream",
     "text": [
      "Epoch 1:   0%|          | 0/12 [00:03<?, ?it/s, loss=1.3] c:\\Users\\Desk_Kang\\anaconda3\\envs\\pyenv\\lib\\site-packages\\audiomentations\\core\\audio_loading_utils.py:37: UserWarning: c:\\Users\\Desk_Kang\\Desktop\\Aiffel\\workplace\\lib\\Aiffelthon\\noise\\N-10_221010_A_3_f_13663.wav had to be resampled from 48000 Hz to 20000 Hz. This hurt execution time.\n",
      "  warnings.warn(\n",
      "Epoch 1:   0%|          | 0/12 [00:24<?, ?it/s, loss=1.25]\n",
      "c:\\Users\\Desk_Kang\\anaconda3\\envs\\pyenv\\lib\\site-packages\\audiomentations\\core\\audio_loading_utils.py:37: UserWarning: c:\\Users\\Desk_Kang\\Desktop\\Aiffel\\workplace\\lib\\Aiffelthon\\noise\\N-10_220924_A_3_b_08705.wav had to be resampled from 48000 Hz to 20000 Hz. This hurt execution time.\n",
      "  warnings.warn(\n",
      "Epoch 2:   0%|          | 0/12 [00:21<?, ?it/s, loss=1.28]\n",
      "Epoch 3:   0%|          | 0/12 [00:24<?, ?it/s, loss=1.27]\n",
      "Epoch 4:   0%|          | 0/12 [00:22<?, ?it/s, loss=1.05]\n",
      "Epoch 5:   0%|          | 0/12 [00:25<?, ?it/s, loss=1.2] \n",
      "Epoch 6:   0%|          | 0/12 [00:24<?, ?it/s, loss=1.21]\n",
      "Epoch 7:   0%|          | 0/12 [00:23<?, ?it/s, loss=1.22] \n",
      "Epoch 8:   0%|          | 0/12 [00:22<?, ?it/s, loss=1.16]\n",
      "Epoch 9:   0%|          | 0/12 [00:20<?, ?it/s, loss=1.08] \n",
      "Epoch 10:   0%|          | 0/12 [00:21<?, ?it/s, loss=1.2]\n",
      "Epoch 11:   0%|          | 0/12 [00:23<?, ?it/s, loss=1.1]  \n",
      "Epoch 12:   0%|          | 0/12 [00:21<?, ?it/s, loss=1.04]\n",
      "Epoch 13:   0%|          | 0/12 [00:26<?, ?it/s, loss=0.929]\n",
      "Epoch 14:   0%|          | 0/12 [00:22<?, ?it/s, loss=1.15]\n",
      "Epoch 15:   0%|          | 0/12 [00:20<?, ?it/s, loss=0.957]\n",
      "Epoch 16:   0%|          | 0/12 [00:19<?, ?it/s, loss=1.19]\n",
      "Epoch 17:   0%|          | 0/12 [00:20<?, ?it/s, loss=1.11] \n",
      "Epoch 18:   0%|          | 0/12 [00:21<?, ?it/s, loss=1.19]\n",
      "Epoch 19:   0%|          | 0/12 [00:24<?, ?it/s, loss=0.823]\n",
      "Epoch 20:   0%|          | 0/12 [00:28<?, ?it/s, loss=1.2]\n",
      "Epoch 21:   0%|          | 0/12 [00:21<?, ?it/s, loss=1.01] \n",
      "Epoch 22:   0%|          | 0/12 [00:17<?, ?it/s, loss=0.848]\n",
      "Epoch 23:   0%|          | 0/12 [00:22<?, ?it/s, loss=1.2]  \n",
      "Epoch 24:   0%|          | 0/12 [00:17<?, ?it/s, loss=1.07]\n",
      "Epoch 25:   0%|          | 0/12 [00:22<?, ?it/s, loss=0.697]\n",
      "Epoch 26:   0%|          | 0/12 [00:19<?, ?it/s, loss=1.07]\n",
      "Epoch 27:   0%|          | 0/12 [00:21<?, ?it/s, loss=0.883]\n",
      "Epoch 28:   0%|          | 0/12 [00:20<?, ?it/s, loss=1.08]\n",
      "Epoch 29:   0%|          | 0/12 [00:21<?, ?it/s, loss=0.777]\n",
      "Epoch 30:   0%|          | 0/12 [00:25<?, ?it/s, loss=0.837]\n",
      "Epoch 31:   0%|          | 0/12 [00:21<?, ?it/s, loss=0.719]\n",
      "Epoch 32:   0%|          | 0/12 [00:21<?, ?it/s, loss=0.776]\n",
      "Epoch 33:   0%|          | 0/12 [00:21<?, ?it/s, loss=1.06] \n",
      "Epoch 34:   0%|          | 0/12 [00:21<?, ?it/s, loss=0.605]\n",
      "Epoch 35:   0%|          | 0/12 [00:21<?, ?it/s, loss=0.779]\n",
      "Epoch 36:   0%|          | 0/12 [00:22<?, ?it/s, loss=0.832]\n",
      "Epoch 37:   0%|          | 0/12 [00:22<?, ?it/s, loss=0.839]\n",
      "Epoch 38:   0%|          | 0/12 [00:22<?, ?it/s, loss=0.759]\n",
      "Epoch 39:   0%|          | 0/12 [00:21<?, ?it/s, loss=0.624]\n",
      "Epoch 40:   0%|          | 0/12 [00:22<?, ?it/s, loss=0.677]\n",
      "Epoch 41:   0%|          | 0/12 [00:22<?, ?it/s, loss=0.867]\n",
      "Epoch 42:   0%|          | 0/12 [00:22<?, ?it/s, loss=0.75]\n",
      "Epoch 43:   0%|          | 0/12 [00:22<?, ?it/s, loss=0.914]\n",
      "Epoch 44:   0%|          | 0/12 [00:21<?, ?it/s, loss=0.775]\n",
      "Epoch 45:   0%|          | 0/12 [00:19<?, ?it/s, loss=1.25] \n",
      "Epoch 46:   0%|          | 0/12 [00:20<?, ?it/s, loss=0.834]\n",
      "Epoch 47:   0%|          | 0/12 [00:19<?, ?it/s, loss=0.617]\n",
      "Epoch 48:   0%|          | 0/12 [00:19<?, ?it/s, loss=0.937]\n",
      "Epoch 49:   0%|          | 0/12 [00:18<?, ?it/s, loss=0.645]\n",
      "Epoch 50:   0%|          | 0/12 [00:18<?, ?it/s, loss=0.857]\n",
      "Epoch 51:   0%|          | 0/12 [00:19<?, ?it/s, loss=0.522]\n",
      "Epoch 52:   0%|          | 0/12 [00:19<?, ?it/s, loss=0.7]\n",
      "Epoch 53:   0%|          | 0/12 [00:20<?, ?it/s, loss=0.721]\n",
      "Epoch 54:   0%|          | 0/12 [00:17<?, ?it/s, loss=0.991]\n",
      "Epoch 55:   0%|          | 0/12 [00:19<?, ?it/s, loss=0.676]\n",
      "Epoch 56:   0%|          | 0/12 [00:18<?, ?it/s, loss=0.66]\n",
      "Epoch 57:   0%|          | 0/12 [00:17<?, ?it/s, loss=0.657]\n",
      "Epoch 58:   0%|          | 0/12 [00:18<?, ?it/s, loss=1.01]\n",
      "Epoch 59:   0%|          | 0/12 [00:16<?, ?it/s, loss=0.718]\n",
      "Epoch 60:   0%|          | 0/12 [00:17<?, ?it/s, loss=0.696]\n",
      "Epoch 61:   0%|          | 0/12 [00:17<?, ?it/s, loss=0.799]\n",
      "Epoch 62:   0%|          | 0/12 [00:17<?, ?it/s, loss=0.766]\n",
      "Epoch 63:   0%|          | 0/12 [00:17<?, ?it/s, loss=0.607]\n",
      "Epoch 64:   0%|          | 0/12 [00:18<?, ?it/s, loss=0.551]\n",
      "Epoch 65:   0%|          | 0/12 [00:16<?, ?it/s, loss=0.708]\n",
      "Epoch 66:   0%|          | 0/12 [00:16<?, ?it/s, loss=0.821]\n",
      "Epoch 67:   0%|          | 0/12 [00:16<?, ?it/s, loss=0.473]\n",
      "Epoch 68:   0%|          | 0/12 [00:16<?, ?it/s, loss=0.861]\n",
      "Epoch 69:   0%|          | 0/12 [00:16<?, ?it/s, loss=0.649]\n",
      "Epoch 70:   0%|          | 0/12 [00:17<?, ?it/s, loss=0.529]\n",
      "Epoch 71:   0%|          | 0/12 [00:17<?, ?it/s, loss=0.751]\n",
      "Epoch 72:   0%|          | 0/12 [00:17<?, ?it/s, loss=0.586]\n",
      "Epoch 73:   0%|          | 0/12 [00:18<?, ?it/s, loss=0.68] \n",
      "Epoch 74:   0%|          | 0/12 [00:17<?, ?it/s, loss=0.717]\n",
      "Epoch 75:   0%|          | 0/12 [00:14<?, ?it/s, loss=0.661]"
     ]
    }
   ],
   "source": [
    "from tqdm import tqdm\n",
    "\n",
    "# 검증 데이터 배치 불러오기\n",
    "for epoch in range(75):\n",
    "    total_loss, correct, total = 0, 0, 0\n",
    "    progress_bar = tqdm(train_dataloader, desc=f\"Epoch {epoch+1}\")\n",
    "\n",
    "    # Training phase\n",
    "    for batch in train_dataloader:\n",
    "        optimizer.zero_grad()\n",
    "        input_values, labels = batch\n",
    "        input_values, labels = input_values.to(device), labels.to(device)\n",
    "\n",
    "        loss, logits = model(input_values, labels)\n",
    "        total_loss += loss.item()\n",
    "\n",
    "        # Calculate accuracy\n",
    "        preds = logits.argmax(dim=1)\n",
    "        correct += (preds == labels).sum().item()\n",
    "        total += labels.size(0)\n",
    "\n",
    "        loss.backward()\n",
    "        optimizer.step()\n",
    "\n",
    "        progress_bar.set_postfix(loss=loss.item())\n",
    "\n",
    "    train_accuracy = correct / total\n",
    "    train_losses.append(total_loss / len(train_dataloader))\n",
    "    train_accuracies.append(train_accuracy)\n",
    "\n",
    "    # Validation phase\n",
    "    if val_dataloader is not None:\n",
    "        model.eval()\n",
    "        with torch.no_grad():\n",
    "            val_loss, correct, total = 0, 0, 0\n",
    "            for batch in val_dataloader:\n",
    "                input_values, labels = batch\n",
    "                input_values, labels = input_values.to(device), labels.to(device)\n",
    "\n",
    "                loss, logits = model(input_values, labels)\n",
    "                val_loss += loss.item()\n",
    "                preds = logits.argmax(dim=1)\n",
    "                correct += (preds == labels).sum().item()\n",
    "                total += labels.size(0)\n",
    "\n",
    "            val_accuracy = correct / total\n",
    "            val_losses.append(val_loss / len(val_dataloader))\n",
    "            val_accuracies.append(val_accuracy)\n",
    "\n",
    "        model.train()"
   ]
  },
  {
   "cell_type": "markdown",
   "id": "e0b931b9",
   "metadata": {},
   "source": [
    "## Test 평가"
   ]
  },
  {
   "cell_type": "code",
   "execution_count": 30,
   "id": "a09ab7b7",
   "metadata": {},
   "outputs": [
    {
     "name": "stdout",
     "output_type": "stream",
     "text": [
      "Accuracy: 69.23%\n"
     ]
    }
   ],
   "source": [
    "model.eval()  \n",
    "\n",
    "correct = 0\n",
    "total = 0\n",
    "with torch.no_grad():  \n",
    "    for data in test_dataloader:  \n",
    "        inputs, labels = data\n",
    "        inputs, labels = inputs.to(device), labels.to(device)\n",
    "        outputs = model(inputs)\n",
    "        _, predicted = torch.max(outputs.data, 1)\n",
    "        total += labels.size(0)\n",
    "        correct += (predicted == labels).sum().item()\n",
    "\n",
    "accuracy = correct / total\n",
    "print(f'Accuracy: {accuracy * 100:.2f}%')"
   ]
  },
  {
   "cell_type": "code",
   "execution_count": 31,
   "id": "2546a8af",
   "metadata": {},
   "outputs": [
    {
     "data": {
      "image/png": "[encoded data removed]",
      "text/plain": [
       "<Figure size 1200x500 with 2 Axes>"
      ]
     },
     "metadata": {},
     "output_type": "display_data"
    }
   ],
   "source": [
    "# Plotting\n",
    "plt.figure(figsize=(12, 5))\n",
    "plt.subplot(1, 2, 1)\n",
    "plt.plot(train_losses, label='Training Loss')\n",
    "if val_dataloader is not None:\n",
    "    plt.plot(val_losses, label='Validation Loss')\n",
    "plt.title(\"Loss Over Epochs\")\n",
    "plt.xlabel(\"Epochs\")\n",
    "plt.ylabel(\"Loss\")\n",
    "plt.legend()\n",
    "\n",
    "plt.subplot(1, 2, 2)\n",
    "plt.plot(train_accuracies, label='Training Accuracy')\n",
    "if val_dataloader is not None:\n",
    "    plt.plot(val_accuracies, label='Validation Accuracy')\n",
    "plt.title(\"Accuracy Over Epochs\")\n",
    "plt.xlabel(\"Epochs\")\n",
    "plt.ylabel(\"Accuracy\")\n",
    "plt.legend()\n",
    "# plt.savefig(\"win500_set2.2_test_epc200_flattened.png\") # 그래프 사진은 주석풀어서 사진이름만 설정해주시면 됩니다.\n",
    "\n",
    "plt.show()"
   ]
  },
  {
   "cell_type": "code",
   "execution_count": 32,
   "id": "3924c184",
   "metadata": {},
   "outputs": [],
   "source": [
    "# torch.save(model.state_dict(),'AST_pipe3_epoch50_acc74.pth')"
   ]
  },
  {
   "cell_type": "code",
   "execution_count": null,
   "id": "da47358b",
   "metadata": {},
   "outputs": [],
   "source": []
  }
 ],
 "metadata": {
  "kernelspec": {
   "display_name": "pyenv",
   "language": "python",
   "name": "python3"
  },
  "language_info": {
   "codemirror_mode": {
    "name": "ipython",
    "version": 3
   },
   "file_extension": ".py",
   "mimetype": "text/x-python",
   "name": "python",
   "nbconvert_exporter": "python",
   "pygments_lexer": "ipython3",
   "version": "3.10.13"
  }
 },
 "nbformat": 4,
 "nbformat_minor": 5
}
