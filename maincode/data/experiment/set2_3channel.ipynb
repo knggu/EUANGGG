{
 "cells": [
  {
   "cell_type": "code",
   "execution_count": 1,
   "id": "03b87d76-7986-4316-b26c-22f6ec04e43a",
   "metadata": {},
   "outputs": [],
   "source": [
    "import numpy as np\n",
    "import pandas as pd\n",
    "import glob\n",
    "import os\n",
    "import matplotlib.pyplot as plt\n",
    "import librosa\n",
    "from IPython.display import Audio\n",
    "from sklearn.preprocessing import StandardScaler\n",
    "from sklearn.preprocessing import LabelEncoder\n",
    "from sklearn.utils import shuffle\n",
    "import tensorflow as tf"
   ]
  },
  {
   "cell_type": "code",
   "execution_count": 2,
   "id": "593b6e1d-f57d-4a9b-a8f5-15f751e355e9",
   "metadata": {},
   "outputs": [
    {
     "data": {
      "text/plain": [
       "True"
      ]
     },
     "execution_count": 2,
     "metadata": {},
     "output_type": "execute_result"
    }
   ],
   "source": [
    "train_folder_path = r'C:../dataset/audioonly/labeled/set 2/Train'\n",
    "os.path.exists(train_folder_path)"
   ]
  },
  {
   "cell_type": "code",
   "execution_count": 3,
   "id": "5c6abbe9-6901-4831-936e-b5bd3ef3dc5c",
   "metadata": {},
   "outputs": [
    {
     "data": {
      "text/plain": [
       "['belly_pain', 'discomfort', 'hungry', 'tired']"
      ]
     },
     "execution_count": 3,
     "metadata": {},
     "output_type": "execute_result"
    }
   ],
   "source": [
    "class_names = next(os.walk(train_folder_path))[1]\n",
    "class_names = class_names[1:]\n",
    "class_names"
   ]
  },
  {
   "cell_type": "code",
   "execution_count": 4,
   "id": "8cc79ad0-b8bb-4aeb-8557-b3907a6e3dd9",
   "metadata": {},
   "outputs": [
    {
     "data": {
      "text/plain": [
       "['C:../dataset/audioonly/labeled/set 2/Train\\\\belly_pain',\n",
       " 'C:../dataset/audioonly/labeled/set 2/Train\\\\discomfort',\n",
       " 'C:../dataset/audioonly/labeled/set 2/Train\\\\hungry',\n",
       " 'C:../dataset/audioonly/labeled/set 2/Train\\\\tired']"
      ]
     },
     "execution_count": 4,
     "metadata": {},
     "output_type": "execute_result"
    }
   ],
   "source": [
    "audio_path = [os.path.join(train_folder_path, name) for name in class_names]\n",
    "audio_path"
   ]
  },
  {
   "cell_type": "code",
   "execution_count": 5,
   "id": "28c1714b-1b64-48e7-ba4b-e3090f78201b",
   "metadata": {},
   "outputs": [],
   "source": [
    "bpain_audio = glob.glob(os.path.join(audio_path[0], '*.wav'))\n",
    "discomf_audio = glob.glob(os.path.join(audio_path[1], '*.wav'))\n",
    "hungry_audio = glob.glob(os.path.join(audio_path[2], '*.wav'))\n",
    "tired_audio = glob.glob(os.path.join(audio_path[3], '*.wav'))"
   ]
  },
  {
   "cell_type": "code",
   "execution_count": 6,
   "id": "6156e590-b5ab-4808-b491-16017a899028",
   "metadata": {},
   "outputs": [],
   "source": [
    "audio_path_byclass = {\n",
    "    'bpain': bpain_audio,\n",
    "    'discomf': discomf_audio,\n",
    "    'hungry': hungry_audio,\n",
    "    'tired': tired_audio\n",
    "}"
   ]
  },
  {
   "cell_type": "markdown",
   "id": "4f1cf1ea-c408-44eb-bd5b-6225f4d152b2",
   "metadata": {},
   "source": [
    "# Load Audio"
   ]
  },
  {
   "cell_type": "code",
   "execution_count": 7,
   "id": "ab3cbc53-7ac2-49f6-9022-69055da278f8",
   "metadata": {},
   "outputs": [],
   "source": [
    "# Replace 'your_audio_file.mp3' with the path to your audio file\n",
    "load_audio = {}\n",
    "for name, pathlst in audio_path_byclass.items():\n",
    "    loaded = []\n",
    "    for path in pathlst:\n",
    "        audio, sr = librosa.load(path, sr=16000, mono=True, duration=5.2)\n",
    "        loaded.append(audio)\n",
    "    load_audio[name] = loaded"
   ]
  },
  {
   "cell_type": "code",
   "execution_count": 8,
   "id": "2c22e9ca-33bc-4621-a6d0-20bf2e5e0230",
   "metadata": {},
   "outputs": [],
   "source": [
    "mfcc_audio = {}\n",
    "for name, pathlst in audio_path_byclass.items():\n",
    "    mfccs = []\n",
    "    for path in pathlst:\n",
    "        audio, sr = librosa.load(path, sr=16000, mono=True, duration=5.0)\n",
    "        mfcc = librosa.feature.mfcc(y=audio, sr=16000, n_mfcc=10)\n",
    "        mfccs.append(mfcc)\n",
    "    mfcc_audio[name] = mfccs"
   ]
  },
  {
   "cell_type": "code",
   "execution_count": 9,
   "id": "1a338dce-2735-499b-89d3-769bff3190b6",
   "metadata": {},
   "outputs": [],
   "source": [
    "import collections\n",
    "\n",
    "shape = {}\n",
    "\n",
    "for class_name, lst in mfcc_audio.items():\n",
    "    for arr in lst:\n",
    "        shapes = [arr.shape for arr in lst]\n",
    "        shapes_count = collections.Counter(shapes)\n",
    "        shape[f'{class_name} mfcc shape counts'] = shapes_count"
   ]
  },
  {
   "cell_type": "code",
   "execution_count": 10,
   "id": "2f90ac73-4bc0-4c6d-bad7-d252087ee0f4",
   "metadata": {},
   "outputs": [
    {
     "data": {
      "text/plain": [
       "{'bpain mfcc shape counts': Counter({(10, 157): 69}),\n",
       " 'discomf mfcc shape counts': Counter({(10, 157): 94}),\n",
       " 'hungry mfcc shape counts': Counter({(10, 157): 100}),\n",
       " 'tired mfcc shape counts': Counter({(10, 157): 69})}"
      ]
     },
     "execution_count": 10,
     "metadata": {},
     "output_type": "execute_result"
    }
   ],
   "source": [
    "shape"
   ]
  },
  {
   "cell_type": "markdown",
   "id": "c4b84bc6-7a98-405a-b7d0-b388a02258ca",
   "metadata": {},
   "source": [
    "## Load Model"
   ]
  },
  {
   "cell_type": "code",
   "execution_count": 11,
   "id": "009acabc-4dda-4f76-83da-6a6ffd82f092",
   "metadata": {},
   "outputs": [],
   "source": [
    "# Load the model.\n",
    "import tensorflow_hub as hub\n",
    "model = hub.load('https://tfhub.dev/google/yamnet/1')"
   ]
  },
  {
   "cell_type": "code",
   "execution_count": 12,
   "id": "3f981c1e-8712-4ec2-ae3e-d6fdcb8b7ed5",
   "metadata": {},
   "outputs": [],
   "source": [
    "# Run the model, check the output.\n",
    "feature = {}\n",
    "for name, arr in load_audio.items():\n",
    "    # Initialize dictionaries for each class if not already existing\n",
    "    if name not in feature:\n",
    "        feature[name] = {'scores': [], 'embeddings': []}\n",
    "    \n",
    "    for wav in arr:\n",
    "        scores, embeddings, spectrogram = model(wav)\n",
    "        \n",
    "        # Append the results to the respective lists in the dictionary\n",
    "        feature[name]['scores'].append(np.array(scores))\n",
    "        feature[name]['embeddings'].append(np.array(embeddings))"
   ]
  },
  {
   "cell_type": "code",
   "execution_count": 13,
   "id": "7657b2ca-2327-439b-828d-1bd01487e7af",
   "metadata": {},
   "outputs": [],
   "source": [
    "shape_feat = {}\n",
    "\n",
    "for class_name in feature.keys():\n",
    "    for cat, lst in feature[class_name].items():\n",
    "        shapes = [arr.shape for arr in lst]\n",
    "        shapes_count = collections.Counter(shapes)\n",
    "        shape_feat[f'{class_name} {cat} shape counts'] = shapes_count"
   ]
  },
  {
   "cell_type": "code",
   "execution_count": 14,
   "id": "453abf05-6ca5-46c4-bb33-cdd84bb296c6",
   "metadata": {},
   "outputs": [
    {
     "data": {
      "text/plain": [
       "{'bpain scores shape counts': Counter({(10, 521): 69}),\n",
       " 'bpain embeddings shape counts': Counter({(10, 1024): 69}),\n",
       " 'discomf scores shape counts': Counter({(10, 521): 94}),\n",
       " 'discomf embeddings shape counts': Counter({(10, 1024): 94}),\n",
       " 'hungry scores shape counts': Counter({(10, 521): 100}),\n",
       " 'hungry embeddings shape counts': Counter({(10, 1024): 100}),\n",
       " 'tired scores shape counts': Counter({(10, 521): 69}),\n",
       " 'tired embeddings shape counts': Counter({(10, 1024): 69})}"
      ]
     },
     "execution_count": 14,
     "metadata": {},
     "output_type": "execute_result"
    }
   ],
   "source": [
    "shape_feat"
   ]
  },
  {
   "cell_type": "markdown",
   "id": "cdb34598-aa8f-4f78-9a2b-3e6633720ed1",
   "metadata": {},
   "source": [
    "## Padding"
   ]
  },
  {
   "cell_type": "code",
   "execution_count": 15,
   "id": "d756fa6f-9a84-44af-a45d-65ef6260bb3b",
   "metadata": {},
   "outputs": [],
   "source": [
    "from statistics import mean\n",
    "\n",
    "temp = [521, 1024, 157]\n",
    "avg = int(mean(temp))"
   ]
  },
  {
   "cell_type": "code",
   "execution_count": 16,
   "id": "4f59c196-636d-4bee-a6f4-d586bead2f17",
   "metadata": {},
   "outputs": [],
   "source": [
    "for class_name, lst in mfcc_audio.items():\n",
    "    feature[class_name]['mfcc'] = lst"
   ]
  },
  {
   "cell_type": "code",
   "execution_count": 17,
   "id": "bd6601ae-8ddb-4637-b588-a963bb5c2e84",
   "metadata": {},
   "outputs": [],
   "source": [
    "shape_feat_3d = {}\n",
    "\n",
    "for class_name in feature.keys():\n",
    "    for cat, lst in feature[class_name].items():\n",
    "        shapes = [arr.shape for arr in lst]\n",
    "        shapes_count = collections.Counter(shapes)\n",
    "        shape_feat_3d[f'{class_name} {cat} shape counts'] = shapes_count"
   ]
  },
  {
   "cell_type": "code",
   "execution_count": 18,
   "id": "59975e6b-9df9-4940-b9e3-4d07039d828d",
   "metadata": {},
   "outputs": [
    {
     "data": {
      "text/plain": [
       "{'bpain scores shape counts': Counter({(10, 521): 69}),\n",
       " 'bpain embeddings shape counts': Counter({(10, 1024): 69}),\n",
       " 'bpain mfcc shape counts': Counter({(10, 157): 69}),\n",
       " 'discomf scores shape counts': Counter({(10, 521): 94}),\n",
       " 'discomf embeddings shape counts': Counter({(10, 1024): 94}),\n",
       " 'discomf mfcc shape counts': Counter({(10, 157): 94}),\n",
       " 'hungry scores shape counts': Counter({(10, 521): 100}),\n",
       " 'hungry embeddings shape counts': Counter({(10, 1024): 100}),\n",
       " 'hungry mfcc shape counts': Counter({(10, 157): 100}),\n",
       " 'tired scores shape counts': Counter({(10, 521): 69}),\n",
       " 'tired embeddings shape counts': Counter({(10, 1024): 69}),\n",
       " 'tired mfcc shape counts': Counter({(10, 157): 69})}"
      ]
     },
     "execution_count": 18,
     "metadata": {},
     "output_type": "execute_result"
    }
   ],
   "source": [
    "shape_feat_3d"
   ]
  },
  {
   "cell_type": "code",
   "execution_count": 19,
   "id": "e5ac40a5-6905-4ac6-9483-c2625164ceb2",
   "metadata": {},
   "outputs": [],
   "source": [
    "reshaped = {}\n",
    "\n",
    "for class_name, categories in feature.items():\n",
    "    for cat, lst in categories.items():\n",
    "        temp = []\n",
    "        for arr in lst:\n",
    "            h, w = arr.shape\n",
    "            size = h * w\n",
    "\n",
    "            if size == 5210 or size == 1570:\n",
    "                padded = np.pad(arr, pad_width=((0, 0), (0, 1024 - w)), mode='constant', constant_values=0)\n",
    "                temp.append(padded)\n",
    "            elif size == 10240:\n",
    "                temp.append(arr)\n",
    "        \n",
    "        reshaped[f'{class_name} {cat}'] = temp"
   ]
  },
  {
   "cell_type": "code",
   "execution_count": 20,
   "id": "e9daf092-f466-40ca-a96c-55ae3ec4d863",
   "metadata": {},
   "outputs": [],
   "source": [
    "shape_count = {}\n",
    "\n",
    "for class_name, lst in reshaped.items():\n",
    "    shapes = [arr.shape for arr in lst]\n",
    "    shapes_count = collections.Counter(shapes)\n",
    "    shape_count[f'{class_name} shape counts'] = shapes_count"
   ]
  },
  {
   "cell_type": "code",
   "execution_count": 21,
   "id": "64aeabb6-3cbb-46db-868e-24d47019ca2c",
   "metadata": {},
   "outputs": [
    {
     "data": {
      "text/plain": [
       "{'bpain scores shape counts': Counter({(10, 1024): 69}),\n",
       " 'bpain embeddings shape counts': Counter({(10, 1024): 69}),\n",
       " 'bpain mfcc shape counts': Counter({(10, 1024): 69}),\n",
       " 'discomf scores shape counts': Counter({(10, 1024): 94}),\n",
       " 'discomf embeddings shape counts': Counter({(10, 1024): 94}),\n",
       " 'discomf mfcc shape counts': Counter({(10, 1024): 94}),\n",
       " 'hungry scores shape counts': Counter({(10, 1024): 100}),\n",
       " 'hungry embeddings shape counts': Counter({(10, 1024): 100}),\n",
       " 'hungry mfcc shape counts': Counter({(10, 1024): 100}),\n",
       " 'tired scores shape counts': Counter({(10, 1024): 69}),\n",
       " 'tired embeddings shape counts': Counter({(10, 1024): 69}),\n",
       " 'tired mfcc shape counts': Counter({(10, 1024): 69})}"
      ]
     },
     "execution_count": 21,
     "metadata": {},
     "output_type": "execute_result"
    }
   ],
   "source": [
    "shape_count"
   ]
  },
  {
   "cell_type": "code",
   "execution_count": 22,
   "id": "436ccef6-0677-4d0d-a38b-a36513ebac9a",
   "metadata": {},
   "outputs": [],
   "source": [
    "# Function to combine the data for each category into a 3-channel format\n",
    "def combine_data(category):\n",
    "    score_key = f'{category} scores'\n",
    "    embeddings_key = f'{category} embeddings'\n",
    "    mfcc_key = f'{category} mfcc'\n",
    "    return np.stack((reshaped[score_key], reshaped[embeddings_key], reshaped[mfcc_key]), axis=-1)"
   ]
  },
  {
   "cell_type": "code",
   "execution_count": 23,
   "id": "4e4c6d83-3682-4974-9a47-09dc9653fd4e",
   "metadata": {},
   "outputs": [
    {
     "name": "stdout",
     "output_type": "stream",
     "text": [
      "bpain: (69, 10, 1024, 3)\n",
      "discomf: (94, 10, 1024, 3)\n",
      "hungry: (100, 10, 1024, 3)\n",
      "tired: (69, 10, 1024, 3)\n"
     ]
    },
    {
     "data": {
      "text/plain": [
       "(69, 10, 1024, 3)"
      ]
     },
     "execution_count": 23,
     "metadata": {},
     "output_type": "execute_result"
    }
   ],
   "source": [
    "# Combine the data for each category\n",
    "combined_data = {category: combine_data(category) for category in ['bpain', 'discomf', 'hungry', 'tired']}\n",
    "\n",
    "# Display the shapes of the combined data for verification\n",
    "for category, data in combined_data.items():\n",
    "    print(f\"{category}: {data.shape}\")\n",
    "\n",
    "# Return the shape of the bpain data\n",
    "combined_data['bpain'].shape"
   ]
  },
  {
   "cell_type": "code",
   "execution_count": 24,
   "id": "ca37572d-3115-4130-be33-e35fe753c7ea",
   "metadata": {},
   "outputs": [
    {
     "data": {
      "text/plain": [
       "((265, 10, 1024, 3), (265,), (67, 10, 1024, 3), (67,))"
      ]
     },
     "execution_count": 24,
     "metadata": {},
     "output_type": "execute_result"
    }
   ],
   "source": [
    "from sklearn.model_selection import train_test_split\n",
    "\n",
    "# Labels for each category\n",
    "labels = {\n",
    "    'bpain': 0,\n",
    "    'discomf': 1,\n",
    "    'hungry': 2,\n",
    "    'tired': 3\n",
    "}\n",
    "\n",
    "# Combine all data and labels\n",
    "all_data = []\n",
    "all_labels = []\n",
    "for category, data in combined_data.items():\n",
    "    all_data.append(data)\n",
    "    all_labels.append(np.full((data.shape[0],), labels[category]))\n",
    "\n",
    "# Convert lists to numpy arrays\n",
    "all_data = np.concatenate(all_data)\n",
    "all_labels = np.concatenate(all_labels)\n",
    "\n",
    "# Shuffle the data and labels in unison\n",
    "shuffle_indices = np.random.permutation(np.arange(len(all_labels)))\n",
    "all_data_shuffled = all_data[shuffle_indices]\n",
    "all_labels_shuffled = all_labels[shuffle_indices]\n",
    "\n",
    "# Split the data into training and testing sets\n",
    "x_train, x_test, y_train, y_test = train_test_split(all_data_shuffled, all_labels_shuffled, test_size=0.2, random_state=42)\n",
    "\n",
    "# Verifying the shapes of the resulting arrays\n",
    "x_train.shape, y_train.shape, x_test.shape, y_test.shape"
   ]
  },
  {
   "cell_type": "markdown",
   "id": "9f708a52-d961-462e-88c0-b1a8af531ff3",
   "metadata": {},
   "source": [
    "## Model Training"
   ]
  },
  {
   "cell_type": "code",
   "execution_count": 25,
   "id": "f68508c8-ee1d-4a2f-8206-e3feea7fc4fe",
   "metadata": {
    "scrolled": true
   },
   "outputs": [
    {
     "name": "stdout",
     "output_type": "stream",
     "text": [
      "Model: \"sequential\"\n",
      "_________________________________________________________________\n",
      " Layer (type)                Output Shape              Param #   \n",
      "=================================================================\n",
      " conv2d (Conv2D)             (None, 9, 1023, 64)       832       \n",
      "                                                                 \n",
      " leaky_re_lu (LeakyReLU)     (None, 9, 1023, 64)       0         \n",
      "                                                                 \n",
      " max_pooling2d (MaxPooling2D  (None, 4, 511, 64)       0         \n",
      " )                                                               \n",
      "                                                                 \n",
      " batch_normalization (BatchN  (None, 4, 511, 64)       256       \n",
      " ormalization)                                                   \n",
      "                                                                 \n",
      " conv2d_1 (Conv2D)           (None, 3, 510, 128)       32896     \n",
      "                                                                 \n",
      " leaky_re_lu_1 (LeakyReLU)   (None, 3, 510, 128)       0         \n",
      "                                                                 \n",
      " max_pooling2d_1 (MaxPooling  (None, 1, 255, 128)      0         \n",
      " 2D)                                                             \n",
      "                                                                 \n",
      " batch_normalization_1 (Batc  (None, 1, 255, 128)      512       \n",
      " hNormalization)                                                 \n",
      "                                                                 \n",
      " flatten (Flatten)           (None, 32640)             0         \n",
      "                                                                 \n",
      " dense (Dense)               (None, 128)               4178048   \n",
      "                                                                 \n",
      " leaky_re_lu_2 (LeakyReLU)   (None, 128)               0         \n",
      "                                                                 \n",
      " dense_1 (Dense)             (None, 4)                 516       \n",
      "                                                                 \n",
      "=================================================================\n",
      "Total params: 4,213,060\n",
      "Trainable params: 4,212,676\n",
      "Non-trainable params: 384\n",
      "_________________________________________________________________\n"
     ]
    }
   ],
   "source": [
    "import tensorflow as tf\n",
    "from tensorflow.keras.models import Sequential\n",
    "from tensorflow.keras.layers import Conv2D, BatchNormalization, Flatten, Dense, MaxPooling2D, LeakyReLU, Dropout\n",
    "from tensorflow.keras.regularizers import l2, l1\n",
    "\n",
    "# Define the input shape\n",
    "input_shape = (10, 1024, 3)\n",
    "\n",
    "# Create a sequential model\n",
    "model = Sequential()\n",
    "\n",
    "# Add a convolutional layer with LeakyReLU activation\n",
    "model.add(Conv2D(filters=64, kernel_size=(2, 2), input_shape=input_shape))  # You can adjust the alpha value as needed\n",
    "model.add(LeakyReLU(alpha=0.022))\n",
    "model.add(MaxPooling2D(pool_size=(2,2)))\n",
    "model.add(BatchNormalization())\n",
    "\n",
    "# Add another convolutional layer with LeakyReLU activation\n",
    "model.add(Conv2D(filters=128, kernel_size=(2, 2)))\n",
    "model.add(LeakyReLU(alpha=0.022))\n",
    "model.add(MaxPooling2D(pool_size=(2,2))) \n",
    "model.add(BatchNormalization())\n",
    "\n",
    "# model.add(Conv2D(filters=64, kernel_size=(2, 2)))\n",
    "# model.add(LeakyReLU(alpha=0.021))\n",
    "# model.add(MaxPooling2D(pool_size=(2,2)))\n",
    "# model.add(BatchNormalization())\n",
    "\n",
    "# Flatten the output of the convolutional layers\n",
    "model.add(Flatten())\n",
    "\n",
    "# Add a dense layer with LeakyReLU activation\n",
    "model.add(Dense(128, kernel_regularizer=l2(0.001)))\n",
    "model.add(LeakyReLU(alpha=0.022)) # Adjusting alpha\n",
    "\n",
    "# model.add(Dense(64, kernel_regularizer=l2(0.001)))\n",
    "# model.add(LeakyReLU(alpha=0.022))\n",
    "\n",
    "# Add the output layer\n",
    "model.add(Dense(units=4, activation='softmax'))  # Assuming 4 classes as per your data\n",
    "\n",
    "# Compile the model\n",
    "model.compile(optimizer='adam', loss='sparse_categorical_crossentropy', metrics=['accuracy'])\n",
    "\n",
    "# Model summary\n",
    "model.summary()"
   ]
  },
  {
   "cell_type": "code",
   "execution_count": 26,
   "id": "ab2f5ad3-bb34-43ab-bbb3-3650db505276",
   "metadata": {},
   "outputs": [
    {
     "name": "stdout",
     "output_type": "stream",
     "text": [
      "Epoch 1/30\n",
      "67/67 [==============================] - 1s 11ms/step - loss: 3.8578 - accuracy: 0.3585 - val_loss: 1.6438 - val_accuracy: 0.3433\n",
      "Epoch 2/30\n",
      "67/67 [==============================] - 0s 6ms/step - loss: 1.5158 - accuracy: 0.4566 - val_loss: 1.6880 - val_accuracy: 0.3433\n",
      "Epoch 3/30\n",
      "67/67 [==============================] - 0s 6ms/step - loss: 1.4460 - accuracy: 0.5472 - val_loss: 2.1482 - val_accuracy: 0.3284\n",
      "Epoch 4/30\n",
      "67/67 [==============================] - 0s 6ms/step - loss: 1.2705 - accuracy: 0.5849 - val_loss: 1.6699 - val_accuracy: 0.3731\n",
      "Epoch 5/30\n",
      "67/67 [==============================] - 0s 6ms/step - loss: 1.2219 - accuracy: 0.6453 - val_loss: 2.9009 - val_accuracy: 0.3582\n",
      "Epoch 6/30\n",
      "67/67 [==============================] - 0s 6ms/step - loss: 1.1469 - accuracy: 0.6755 - val_loss: 1.7575 - val_accuracy: 0.5373\n",
      "Epoch 7/30\n",
      "67/67 [==============================] - 0s 6ms/step - loss: 0.9669 - accuracy: 0.7623 - val_loss: 1.7903 - val_accuracy: 0.4925\n",
      "Epoch 8/30\n",
      "67/67 [==============================] - 0s 6ms/step - loss: 1.0748 - accuracy: 0.7094 - val_loss: 6.6862 - val_accuracy: 0.2836\n",
      "Epoch 9/30\n",
      "67/67 [==============================] - 0s 6ms/step - loss: 1.5071 - accuracy: 0.6151 - val_loss: 2.4146 - val_accuracy: 0.4627\n",
      "Epoch 10/30\n",
      "67/67 [==============================] - 0s 6ms/step - loss: 1.0585 - accuracy: 0.7736 - val_loss: 3.0046 - val_accuracy: 0.4925\n",
      "Epoch 11/30\n",
      "67/67 [==============================] - 0s 6ms/step - loss: 0.9007 - accuracy: 0.8075 - val_loss: 2.9027 - val_accuracy: 0.3881\n",
      "Epoch 12/30\n",
      "67/67 [==============================] - 0s 6ms/step - loss: 0.8165 - accuracy: 0.8151 - val_loss: 3.1215 - val_accuracy: 0.4328\n",
      "Epoch 13/30\n",
      "67/67 [==============================] - 0s 6ms/step - loss: 0.8132 - accuracy: 0.8792 - val_loss: 3.3865 - val_accuracy: 0.3881\n",
      "Epoch 14/30\n",
      "67/67 [==============================] - 0s 6ms/step - loss: 0.6266 - accuracy: 0.9019 - val_loss: 2.9964 - val_accuracy: 0.5075\n",
      "Epoch 15/30\n",
      "67/67 [==============================] - 0s 6ms/step - loss: 0.7134 - accuracy: 0.9094 - val_loss: 5.2465 - val_accuracy: 0.2836\n",
      "Epoch 16/30\n",
      "67/67 [==============================] - 0s 6ms/step - loss: 0.8442 - accuracy: 0.8604 - val_loss: 3.0789 - val_accuracy: 0.4776\n",
      "Epoch 17/30\n",
      "67/67 [==============================] - 0s 6ms/step - loss: 0.6850 - accuracy: 0.9094 - val_loss: 2.8100 - val_accuracy: 0.4627\n",
      "Epoch 18/30\n",
      "67/67 [==============================] - 0s 6ms/step - loss: 0.7027 - accuracy: 0.8642 - val_loss: 2.9872 - val_accuracy: 0.5224\n",
      "Epoch 19/30\n",
      "67/67 [==============================] - 0s 6ms/step - loss: 0.4890 - accuracy: 0.9623 - val_loss: 2.9284 - val_accuracy: 0.5373\n",
      "Epoch 20/30\n",
      "67/67 [==============================] - 0s 6ms/step - loss: 0.4309 - accuracy: 0.9811 - val_loss: 3.0663 - val_accuracy: 0.6119\n",
      "Epoch 21/30\n",
      "67/67 [==============================] - 0s 6ms/step - loss: 1.4617 - accuracy: 0.8377 - val_loss: 15.1278 - val_accuracy: 0.3731\n",
      "Epoch 22/30\n",
      "67/67 [==============================] - 0s 6ms/step - loss: 5.0517 - accuracy: 0.5698 - val_loss: 5.8253 - val_accuracy: 0.4627\n",
      "Epoch 23/30\n",
      "67/67 [==============================] - 0s 6ms/step - loss: 1.6442 - accuracy: 0.7849 - val_loss: 4.2522 - val_accuracy: 0.4776\n",
      "Epoch 24/30\n",
      "67/67 [==============================] - 0s 6ms/step - loss: 0.9978 - accuracy: 0.9283 - val_loss: 3.0447 - val_accuracy: 0.5821\n",
      "Epoch 25/30\n",
      "67/67 [==============================] - 0s 6ms/step - loss: 0.8258 - accuracy: 0.9623 - val_loss: 2.9994 - val_accuracy: 0.5522\n",
      "Epoch 26/30\n",
      "67/67 [==============================] - 0s 6ms/step - loss: 0.7361 - accuracy: 0.9925 - val_loss: 3.2857 - val_accuracy: 0.4478\n",
      "Epoch 27/30\n",
      "67/67 [==============================] - 0s 6ms/step - loss: 0.6606 - accuracy: 0.9887 - val_loss: 3.7785 - val_accuracy: 0.5075\n",
      "Epoch 28/30\n",
      "67/67 [==============================] - 0s 6ms/step - loss: 0.5922 - accuracy: 0.9962 - val_loss: 3.1133 - val_accuracy: 0.4925\n",
      "Epoch 29/30\n",
      "67/67 [==============================] - 0s 6ms/step - loss: 0.5399 - accuracy: 1.0000 - val_loss: 3.1310 - val_accuracy: 0.5373\n",
      "Epoch 30/30\n",
      "67/67 [==============================] - 0s 6ms/step - loss: 0.4956 - accuracy: 1.0000 - val_loss: 3.1520 - val_accuracy: 0.5075\n"
     ]
    }
   ],
   "source": [
    "history = model.fit(x_train,\n",
    "                    y_train,\n",
    "                    validation_data=(x_test, y_test),\n",
    "                    epochs=30,\n",
    "                    batch_size=4)"
   ]
  },
  {
   "cell_type": "code",
   "execution_count": 27,
   "id": "64476185-aa0a-41d8-8821-014ab37dcb06",
   "metadata": {},
   "outputs": [
    {
     "name": "stdout",
     "output_type": "stream",
     "text": [
      "3/3 [==============================] - 0s 5ms/step - loss: 3.1518 - accuracy: 0.5075\n"
     ]
    },
    {
     "data": {
      "text/plain": [
       "[3.15179181098938, 0.5074626803398132]"
      ]
     },
     "execution_count": 27,
     "metadata": {},
     "output_type": "execute_result"
    }
   ],
   "source": [
    "model.evaluate(x_test, y_test)"
   ]
  },
  {
   "cell_type": "code",
   "execution_count": 28,
   "id": "651948f4-ac1d-466d-bd73-14118a0ed502",
   "metadata": {},
   "outputs": [],
   "source": [
    "acc = history.history['accuracy']\n",
    "val_acc = history.history['val_accuracy']\n",
    "loss = history.history['loss']\n",
    "val_loss = history.history['val_loss']"
   ]
  },
  {
   "cell_type": "code",
   "execution_count": 29,
   "id": "419ba398-9356-4ed4-a68d-b0cd576e2d11",
   "metadata": {},
   "outputs": [
    {
     "data": {
      "image/png": "[encoded data removed]",
      "text/plain": [
       "<Figure size 800x600 with 1 Axes>"
      ]
     },
     "metadata": {},
     "output_type": "display_data"
    },
    {
     "data": {
      "image/png": "[encoded data removed]",
      "text/plain": [
       "<Figure size 800x600 with 1 Axes>"
      ]
     },
     "metadata": {},
     "output_type": "display_data"
    }
   ],
   "source": [
    "# Plot accuracy\n",
    "plt.figure(figsize=(8, 6))\n",
    "plt.plot(acc, label='Training Accuracy')\n",
    "plt.plot(val_acc, label='Validation Accuracy')\n",
    "plt.xlabel('Epoch')\n",
    "plt.ylabel('Accuracy')\n",
    "plt.legend()\n",
    "plt.show()\n",
    "\n",
    "# Plot loss\n",
    "plt.figure(figsize=(8, 6))\n",
    "plt.plot(loss, label='Training Loss')\n",
    "plt.plot(val_loss, label='Validation Loss')\n",
    "plt.xlabel('Epoch')\n",
    "plt.ylabel('Loss')\n",
    "plt.legend()\n",
    "plt.show()"
   ]
  },
  {
   "cell_type": "markdown",
   "id": "79b739b1-2ca2-4818-a1fc-50aacc086968",
   "metadata": {},
   "source": [
    "## XGBoost"
   ]
  },
  {
   "cell_type": "code",
   "execution_count": 33,
   "id": "bb3702ba-6230-4599-9012-c221d93b7336",
   "metadata": {},
   "outputs": [],
   "source": [
    "train = np.load(r\"C:\\Users\\dave\\aiffel\\EUANGGG\\maincode\\data\\dataset\\audioonly\\labeled\\set 2\\xtrain.npy\")\n",
    "label = np.load(r\"C:\\Users\\dave\\aiffel\\EUANGGG\\maincode\\data\\dataset\\audioonly\\labeled\\set 2\\ytrain.npy\")\n",
    "test = np.load(r\"C:\\Users\\dave\\aiffel\\EUANGGG\\maincode\\data\\dataset\\audioonly\\labeled\\set 2\\xtest.npy\")\n",
    "test_label = np.load(r\"C:\\Users\\dave\\aiffel\\EUANGGG\\maincode\\data\\dataset\\audioonly\\labeled\\set 2\\ytest.npy\")"
   ]
  },
  {
   "cell_type": "code",
   "execution_count": 34,
   "id": "dfa31633-e412-43bd-8c49-3cf114688315",
   "metadata": {},
   "outputs": [
    {
     "name": "stdout",
     "output_type": "stream",
     "text": [
      "Accuracy: 50.75%\n"
     ]
    }
   ],
   "source": [
    "import xgboost as xgb\n",
    "from sklearn.model_selection import train_test_split\n",
    "from sklearn.metrics import accuracy_score\n",
    "\n",
    "model = xgb.XGBClassifier(objective='multi:softmax', num_class=4)\n",
    "model.fit(train, label)\n",
    "y_pred = model.predict(test)\n",
    "accuracy = accuracy_score(test_label, y_pred)\n",
    "print(\"Accuracy: %.2f%%\" % (accuracy * 100.0))"
   ]
  },
  {
   "cell_type": "markdown",
   "id": "cc655895-5692-4ecc-b556-f595767a3a01",
   "metadata": {},
   "source": [
    "## random forest"
   ]
  },
  {
   "cell_type": "code",
   "execution_count": 44,
   "id": "b5a6fb1c-c9aa-4af6-a1cc-2832dbeeb41c",
   "metadata": {},
   "outputs": [
    {
     "name": "stdout",
     "output_type": "stream",
     "text": [
      "Accuracy: 65.67%\n"
     ]
    }
   ],
   "source": [
    "from sklearn.ensemble import RandomForestClassifier\n",
    "\n",
    "# Create a Random Forest classifier model\n",
    "model = RandomForestClassifier(n_estimators=70, random_state=42)\n",
    "\n",
    "# Train the model\n",
    "model.fit(train, label)\n",
    "\n",
    "# Predict the labels for the test set\n",
    "y_pred = model.predict(test)\n",
    "\n",
    "# Evaluate the accuracy of the model\n",
    "accuracy = accuracy_score(test_label, y_pred)\n",
    "print(\"Accuracy: %.2f%%\" % (accuracy * 100.0))"
   ]
  },
  {
   "cell_type": "code",
   "execution_count": null,
   "id": "6f93e222-d32d-43d8-b4e2-3d02fef9d60d",
   "metadata": {},
   "outputs": [],
   "source": []
  }
 ],
 "metadata": {
  "kernelspec": {
   "display_name": "Python 3 (ipykernel)",
   "language": "python",
   "name": "python3"
  },
  "language_info": {
   "codemirror_mode": {
    "name": "ipython",
    "version": 3
   },
   "file_extension": ".py",
   "mimetype": "text/x-python",
   "name": "python",
   "nbconvert_exporter": "python",
   "pygments_lexer": "ipython3",
   "version": "3.10.11"
  }
 },
 "nbformat": 4,
 "nbformat_minor": 5
}
