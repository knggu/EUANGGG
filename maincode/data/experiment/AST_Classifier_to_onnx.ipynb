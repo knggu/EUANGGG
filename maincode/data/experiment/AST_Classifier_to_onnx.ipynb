{
  "cells": [
    {
      "cell_type": "code",
      "execution_count": 1,
      "metadata": {
        "id": "kV5zOcqTobUu"
      },
      "outputs": [],
      "source": [
        "import torch"
      ]
    },
    {
      "cell_type": "code",
      "execution_count": 2,
      "metadata": {
        "colab": {
          "base_uri": "https://localhost:8080/"
        },
        "id": "cShYlL6yob2H",
        "outputId": "ff42c4fc-7650-46ae-ec50-09b723129aea"
      },
      "outputs": [
        {
          "name": "stdout",
          "output_type": "stream",
          "text": [
            "True\n"
          ]
        }
      ],
      "source": [
        "device = torch.device(\"cuda\" if torch.cuda.is_available() else \"cpu\")\n",
        "print(torch.cuda.is_available())"
      ]
    },
    {
      "cell_type": "code",
      "execution_count": 3,
      "metadata": {
        "id": "5hofdLGEog9H"
      },
      "outputs": [],
      "source": [
        "import torch.nn as nn\n",
        "from transformers import ASTModel,ASTConfig\n",
        "import torch.nn.functional as F\n",
        "import torch.onnx\n",
        "from transformers import AutoProcessor\n",
        "import librosa\n",
        "import io\n",
        "import numpy as np"
      ]
    },
    {
      "cell_type": "code",
      "execution_count": 8,
      "metadata": {
        "id": "ym1mMM4ouYg3"
      },
      "outputs": [],
      "source": [
        "model_path = r'c:/Users/Desk_Kang/Desktop/Aiffel/workplace/lib/Aiffelthon/AST_pipe3_epoch50_acc74.pth'\n",
        "config_path_prep = r'c:/Users/Desk_Kang/Desktop/Aiffel/workplace/lib/Aiffelthon/ast-finetuned-audioset-10-10-0.4593'"
      ]
    },
    {
      "cell_type": "code",
      "execution_count": 9,
      "metadata": {
        "id": "KQLx5hEuqNfv"
      },
      "outputs": [],
      "source": [
        "class CustomASTClassifier(nn.Module):\n",
        "    def __init__(self, ast_model_name, num_labels):\n",
        "        super().__init__()\n",
        "        self.astconfig = ASTConfig()\n",
        "        self.ast = ASTModel.from_pretrained(ast_model_name)\n",
        "        self.num_labels = num_labels\n",
        "        for param in self.ast.parameters():\n",
        "            param.requires_grad = False\n",
        "\n",
        "\n",
        "\n",
        "        self.conv1d1 = nn.Sequential(\n",
        "            nn.Conv1d(in_channels=768,\n",
        "                      out_channels = 512,\n",
        "                      kernel_size = 4,\n",
        "                      stride = 1),\n",
        "            nn.BatchNorm1d(512),\n",
        "            nn.ReLU())\n",
        "\n",
        "\n",
        "        self.adapted = nn.AdaptiveAvgPool1d(1)\n",
        "\n",
        "\n",
        "\n",
        "        self.layer_fc3 = nn.Sequential(\n",
        "            nn.Linear(512,128),\n",
        "            nn.BatchNorm1d(128),\n",
        "            nn.GELU(),\n",
        "            nn.Dropout(0.3))\n",
        "\n",
        "\n",
        "        self.add_layer_01 = nn.Linear(128, num_labels)\n",
        "        self.num_labels = num_labels\n",
        "\n",
        "\n",
        "    def forward(self, input_values, labels=None):\n",
        "        input_values = input_values.float()\n",
        "        outputs = self.ast(input_values)\n",
        "        embeddings = outputs.last_hidden_state\n",
        "\n",
        "\n",
        "        embeddings_t = embeddings.transpose(1,2)\n",
        "\n",
        "        conv_output1 = self.conv1d1(embeddings_t)\n",
        "\n",
        "        adap_out = self.adapted(conv_output1)\n",
        "\n",
        "        output_sq = torch.squeeze(adap_out, dim=1)\n",
        "\n",
        "        flattened_output = adap_out.view(output_sq.size(0), -1)\n",
        "\n",
        "\n",
        "        logits = self.layer_fc3(flattened_output)\n",
        "        logits = torch.tanh(logits)\n",
        "        logits = self.add_layer_01(logits)\n",
        "\n",
        "\n",
        "        if labels is not None:\n",
        "            loss_fct = nn.CrossEntropyLoss()\n",
        "            loss = loss_fct(logits.view(-1, self.num_labels), labels.view(-1).long())\n",
        "            return loss, logits\n",
        "        return logits"
      ]
    },
    {
      "cell_type": "code",
      "execution_count": 10,
      "metadata": {
        "colab": {
          "base_uri": "https://localhost:8080/"
        },
        "id": "OEKrED2ruPnE",
        "outputId": "acf4e430-2cfd-459c-db6a-cf8b03eb3548"
      },
      "outputs": [],
      "source": [
        "model = CustomASTClassifier(config_path_prep, 4)"
      ]
    },
    {
      "cell_type": "code",
      "execution_count": 11,
      "metadata": {
        "colab": {
          "base_uri": "https://localhost:8080/"
        },
        "id": "_ilWT0GqcO9n",
        "outputId": "a3cc8d03-ecfc-407e-92d8-878b323290ed"
      },
      "outputs": [
        {
          "data": {
            "text/plain": [
              "<All keys matched successfully>"
            ]
          },
          "execution_count": 11,
          "metadata": {},
          "output_type": "execute_result"
        }
      ],
      "source": [
        "model.load_state_dict(torch.load(model_path, map_location='cuda'))"
      ]
    },
    {
      "cell_type": "code",
      "execution_count": 12,
      "metadata": {
        "colab": {
          "base_uri": "https://localhost:8080/"
        },
        "id": "DVUioorcvVTm",
        "outputId": "95499fdb-0887-42f3-f803-ca07163b0b79"
      },
      "outputs": [
        {
          "data": {
            "text/plain": [
              "CustomASTClassifier(\n",
              "  (ast): ASTModel(\n",
              "    (embeddings): ASTEmbeddings(\n",
              "      (patch_embeddings): ASTPatchEmbeddings(\n",
              "        (projection): Conv2d(1, 768, kernel_size=(16, 16), stride=(10, 10))\n",
              "      )\n",
              "      (dropout): Dropout(p=0.0, inplace=False)\n",
              "    )\n",
              "    (encoder): ASTEncoder(\n",
              "      (layer): ModuleList(\n",
              "        (0-11): 12 x ASTLayer(\n",
              "          (attention): ASTAttention(\n",
              "            (attention): ASTSelfAttention(\n",
              "              (query): Linear(in_features=768, out_features=768, bias=True)\n",
              "              (key): Linear(in_features=768, out_features=768, bias=True)\n",
              "              (value): Linear(in_features=768, out_features=768, bias=True)\n",
              "              (dropout): Dropout(p=0.0, inplace=False)\n",
              "            )\n",
              "            (output): ASTSelfOutput(\n",
              "              (dense): Linear(in_features=768, out_features=768, bias=True)\n",
              "              (dropout): Dropout(p=0.0, inplace=False)\n",
              "            )\n",
              "          )\n",
              "          (intermediate): ASTIntermediate(\n",
              "            (dense): Linear(in_features=768, out_features=3072, bias=True)\n",
              "            (intermediate_act_fn): GELUActivation()\n",
              "          )\n",
              "          (output): ASTOutput(\n",
              "            (dense): Linear(in_features=3072, out_features=768, bias=True)\n",
              "            (dropout): Dropout(p=0.0, inplace=False)\n",
              "          )\n",
              "          (layernorm_before): LayerNorm((768,), eps=1e-12, elementwise_affine=True)\n",
              "          (layernorm_after): LayerNorm((768,), eps=1e-12, elementwise_affine=True)\n",
              "        )\n",
              "      )\n",
              "    )\n",
              "    (layernorm): LayerNorm((768,), eps=1e-12, elementwise_affine=True)\n",
              "  )\n",
              "  (conv1d1): Sequential(\n",
              "    (0): Conv1d(768, 512, kernel_size=(4,), stride=(1,))\n",
              "    (1): BatchNorm1d(512, eps=1e-05, momentum=0.1, affine=True, track_running_stats=True)\n",
              "    (2): ReLU()\n",
              "  )\n",
              "  (adapted): AdaptiveAvgPool1d(output_size=1)\n",
              "  (layer_fc3): Sequential(\n",
              "    (0): Linear(in_features=512, out_features=128, bias=True)\n",
              "    (1): BatchNorm1d(128, eps=1e-05, momentum=0.1, affine=True, track_running_stats=True)\n",
              "    (2): GELU(approximate='none')\n",
              "    (3): Dropout(p=0.3, inplace=False)\n",
              "  )\n",
              "  (add_layer_01): Linear(in_features=128, out_features=4, bias=True)\n",
              ")"
            ]
          },
          "execution_count": 12,
          "metadata": {},
          "output_type": "execute_result"
        }
      ],
      "source": [
        "model.eval()"
      ]
    },
    {
      "cell_type": "code",
      "execution_count": 17,
      "metadata": {
        "id": "5_41ITSFvlMx"
      },
      "outputs": [],
      "source": [
        "example_input = torch.randn(1, 1024, 128)"
      ]
    },
    {
      "cell_type": "code",
      "execution_count": 16,
      "metadata": {},
      "outputs": [
        {
          "name": "stdout",
          "output_type": "stream",
          "text": [
            "모델의 입력 이름: ['input_values', 'labels', 'outputs', 'embeddings', 'embeddings_t', 'conv_output1', 'adap_out', 'output_sq', 'flattened_output', 'logits', 'loss_fct', 'loss']\n"
          ]
        }
      ],
      "source": [
        "input_names = [param for param in model.forward.__code__.co_varnames if param != 'self']\n",
        "print(\"모델의 입력 이름:\", input_names)"
      ]
    },
    {
      "cell_type": "code",
      "execution_count": 18,
      "metadata": {
        "colab": {
          "base_uri": "https://localhost:8080/",
          "height": 373
        },
        "id": "JVm5kJufz4e_",
        "outputId": "c8c12bda-6c0f-4fbf-f23b-64557092d73f"
      },
      "outputs": [
        {
          "name": "stderr",
          "output_type": "stream",
          "text": [
            "c:\\Users\\Desk_Kang\\anaconda3\\envs\\pyenv\\lib\\site-packages\\torch\\onnx\\symbolic_opset9.py:1235: UserWarning: This model contains a squeeze operation on dimension 1. The size of this dimension in the given input is 512. The model will be exported without the squeeze node. If the model is intended to be used with dynamic input shapes, please use opset version 11 to export the model.\n",
            "  warnings.warn(\n"
          ]
        },
        {
          "name": "stdout",
          "output_type": "stream",
          "text": [
            "================ Diagnostic Run torch.onnx.export version 2.0.1 ================\n",
            "verbose: False, log level: Level.ERROR\n",
            "======================= 0 NONE 0 NOTE 0 WARNING 0 ERROR ========================\n",
            "\n"
          ]
        }
      ],
      "source": [
        "torch.onnx.export(model,         # model being run\n",
        "      example_input,       # model input (or a tuple for multiple inputs)\n",
        "      'c:/Users/Desk_Kang/Desktop/Aiffel/workplace/lib/Aiffelthon/ASTClassifier_fin.onnx',       # where to save the model\n",
        "      export_params=True,  # store the trained parameter weights inside the model file\n",
        "      opset_version=10,    # the ONNX version to export the model to\n",
        "      do_constant_folding=True,  # whether to execute constant folding for optimization\n",
        "      input_names = ['modelInput'],   # the model's input names\n",
        "      output_names = ['modelOutput'], # the model's output names\n",
        "      dynamic_axes={'modelInput' : {0 : 'batch_size'},    # variable length axes\n",
        "                            'modelOutput' : {0 : 'batch_size'}})"
      ]
    },
    {
      "cell_type": "code",
      "execution_count": 19,
      "metadata": {
        "id": "rT3KrpEb2LbF"
      },
      "outputs": [],
      "source": [
        "import onnxruntime as ort"
      ]
    },
    {
      "cell_type": "code",
      "execution_count": 20,
      "metadata": {
        "id": "CAf2nHN4eErF"
      },
      "outputs": [],
      "source": [
        "dummy_input = torch.randn(1, 1024, 128)"
      ]
    },
    {
      "cell_type": "code",
      "execution_count": 21,
      "metadata": {
        "id": "3ebwQI4ilAKf"
      },
      "outputs": [],
      "source": [
        "input_array = dummy_input.detach().cpu().numpy()"
      ]
    },
    {
      "cell_type": "code",
      "execution_count": 22,
      "metadata": {
        "id": "p-TcoRR1envO"
      },
      "outputs": [],
      "source": [
        "torch_output = model(dummy_input)"
      ]
    },
    {
      "cell_type": "code",
      "execution_count": 23,
      "metadata": {
        "id": "ef0_-NMFexbW"
      },
      "outputs": [],
      "source": [
        "ort_session = ort.InferenceSession('c:/Users/Desk_Kang/Desktop/Aiffel/workplace/lib/Aiffelthon/ASTClassifier_fin.onnx')"
      ]
    },
    {
      "cell_type": "code",
      "execution_count": 24,
      "metadata": {
        "id": "B7RE8zLLe_e3"
      },
      "outputs": [],
      "source": [
        "outputs = ort_session.run(None, {\"modelInput\":input_array})"
      ]
    },
    {
      "cell_type": "code",
      "execution_count": 25,
      "metadata": {
        "id": "xa48e4zwkX9y"
      },
      "outputs": [
        {
          "name": "stdout",
          "output_type": "stream",
          "text": [
            "[array([[-0.09938867,  0.66113806, -0.81626517,  0.64111876]],\n",
            "      dtype=float32)]\n"
          ]
        }
      ],
      "source": [
        "print(outputs)"
      ]
    },
    {
      "cell_type": "code",
      "execution_count": 26,
      "metadata": {
        "id": "jNgYJdablaGr"
      },
      "outputs": [],
      "source": [
        "np.testing.assert_allclose(torch_output.detach().numpy(), outputs[0], rtol=1e-03, atol=1e-05)"
      ]
    },
    {
      "cell_type": "code",
      "execution_count": 27,
      "metadata": {
        "id": "Wpv0uhnxopPG"
      },
      "outputs": [
        {
          "name": "stdout",
          "output_type": "stream",
          "text": [
            "tensor([[-0.0994,  0.6611, -0.8163,  0.6411]], grad_fn=<AddmmBackward0>)\n"
          ]
        }
      ],
      "source": [
        "print(torch_output)"
      ]
    },
    {
      "cell_type": "code",
      "execution_count": null,
      "metadata": {},
      "outputs": [],
      "source": []
    }
  ],
  "metadata": {
    "accelerator": "GPU",
    "colab": {
      "gpuType": "T4",
      "provenance": []
    },
    "kernelspec": {
      "display_name": "Python 3",
      "name": "python3"
    },
    "language_info": {
      "codemirror_mode": {
        "name": "ipython",
        "version": 3
      },
      "file_extension": ".py",
      "mimetype": "text/x-python",
      "name": "python",
      "nbconvert_exporter": "python",
      "pygments_lexer": "ipython3",
      "version": "3.10.13"
    }
  },
  "nbformat": 4,
  "nbformat_minor": 0
}
