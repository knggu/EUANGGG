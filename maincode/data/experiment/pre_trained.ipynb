{
 "cells": [
  {
   "cell_type": "code",
   "execution_count": 2,
   "metadata": {},
   "outputs": [],
   "source": [
    "import matplotlib.pyplot as plt\n",
    "import os\n",
    "from scipy.io import wavfile\n",
    "from collections import defaultdict, Counter\n",
    "from scipy import signal\n",
    "import numpy as np\n",
    "import librosa\n",
    "import sklearn\n",
    "from keras.utils import to_categorical\n",
    "import random\n",
    "from unicodedata import normalize\n",
    "import tensorflow as tf\n",
    "from keras import models, layers\n",
    "from keras.layers import BatchNormalization, Activation, Dropout"
   ]
  },
  {
   "cell_type": "code",
   "execution_count": 3,
   "metadata": {},
   "outputs": [],
   "source": [
    "audio_data_path = \"c:/Users/Desk_Kang/Desktop/Aiffel/workplace/lib/Aiffelthon/data3\""
   ]
  },
  {
   "cell_type": "code",
   "execution_count": 4,
   "metadata": {},
   "outputs": [],
   "source": [
    "#파라미터 설정\n",
    "sr = 16000\n",
    "n_mfcc = 20\n",
    "# n_ttf = \n",
    "# hop_length"
   ]
  },
  {
   "cell_type": "code",
   "execution_count": 5,
   "metadata": {},
   "outputs": [],
   "source": [
    "trainset = []\n",
    "testset = []"
   ]
  },
  {
   "cell_type": "code",
   "execution_count": 6,
   "metadata": {},
   "outputs": [],
   "source": [
    "train_X = []\n",
    "train_mfccs = []\n",
    "train_y = []\n",
    "\n",
    "test_X = []\n",
    "test_mfccs = []\n",
    "train_y = []"
   ]
  },
  {
   "cell_type": "code",
   "execution_count": 7,
   "metadata": {},
   "outputs": [],
   "source": [
    "#음성파일의 길이가 같도록 뒷부분에 0으로 padding 처리\n",
    "mfcc_padd = lambda a, i: a[:, 0:i] if a.shape[1] > i else np.hstack((a, np.zeros((a.shape[0], i-a.shape[1]))))"
   ]
  },
  {
   "cell_type": "code",
   "execution_count": 8,
   "metadata": {},
   "outputs": [],
   "source": [
    "data_path = \"C:/Users/Desk_Kang/Desktop/Aiffel/workplace/lib/Aiffelthon/data3/train/belly_pain\""
   ]
  },
  {
   "cell_type": "code",
   "execution_count": 9,
   "metadata": {},
   "outputs": [],
   "source": [
    "#belly_pain = 0\n",
    "#discomfort = 1\n",
    "#hungry = 2\n",
    "#tired = 3"
   ]
  },
  {
   "cell_type": "code",
   "execution_count": 10,
   "metadata": {},
   "outputs": [],
   "source": [
    "#폴더 내의 파일을 반복하여 데이터 셋에 추가\n",
    "for filename in os.listdir(data_path) :\n",
    "    if filename.endswith(\".wav\"):\n",
    "        try :\n",
    "            wav, sr = librosa.load(os.path.join(data_path, filename))\n",
    "\n",
    "            mfcc = librosa.feature.mfcc(y=wav, sr = sr, n_mfcc = n_mfcc)\n",
    "            \n",
    "            trainset.append((mfcc, 0))\n",
    "        \n",
    "        except Exception as e :\n",
    "            print(filename, e)\n",
    "\n"
   ]
  },
  {
   "cell_type": "code",
   "execution_count": 11,
   "metadata": {},
   "outputs": [],
   "source": [
    "data_path = \"C:/Users/Desk_Kang/Desktop/Aiffel/workplace/lib/Aiffelthon/data3/train/discomfort/\""
   ]
  },
  {
   "cell_type": "code",
   "execution_count": 12,
   "metadata": {},
   "outputs": [],
   "source": [
    "#폴더 내의 파일을 반복하여 데이터 셋에 추가\n",
    "for filename in os.listdir(data_path) :\n",
    "    if filename.endswith(\".wav\"):\n",
    "        try :\n",
    "            wav, sr = librosa.load(os.path.join(data_path, filename))\n",
    "\n",
    "            mfcc = librosa.feature.mfcc(y=wav, sr = sr, n_mfcc = n_mfcc)\n",
    "            \n",
    "            trainset.append((mfcc, 1))\n",
    "        \n",
    "        except Exception as e :\n",
    "            print(filename, e)"
   ]
  },
  {
   "cell_type": "code",
   "execution_count": 13,
   "metadata": {},
   "outputs": [],
   "source": [
    "data_path = \"C:/Users/Desk_Kang/Desktop/Aiffel/workplace/lib/Aiffelthon/data3/train/hungry/\""
   ]
  },
  {
   "cell_type": "code",
   "execution_count": 14,
   "metadata": {},
   "outputs": [],
   "source": [
    "#폴더 내의 파일을 반복하여 데이터 셋에 추가\n",
    "for filename in os.listdir(data_path) :\n",
    "    if filename.endswith(\".wav\"):\n",
    "        try :\n",
    "            wav, sr = librosa.load(os.path.join(data_path, filename))\n",
    "\n",
    "            mfcc = librosa.feature.mfcc(y=wav, sr = sr, n_mfcc = n_mfcc)\n",
    "            \n",
    "            trainset.append((mfcc, 2))\n",
    "        \n",
    "        except Exception as e :\n",
    "            print(filename, e)"
   ]
  },
  {
   "cell_type": "code",
   "execution_count": 15,
   "metadata": {},
   "outputs": [],
   "source": [
    "data_path = \"C:/Users/Desk_Kang/Desktop/Aiffel/workplace/lib/Aiffelthon/data3/train/tired/\""
   ]
  },
  {
   "cell_type": "code",
   "execution_count": 16,
   "metadata": {},
   "outputs": [],
   "source": [
    "#폴더 내의 파일을 반복하여 데이터 셋에 추가\n",
    "for filename in os.listdir(data_path) :\n",
    "    if filename.endswith(\".wav\"):\n",
    "        try :\n",
    "            wav, sr = librosa.load(os.path.join(data_path, filename))\n",
    "\n",
    "            mfcc = librosa.feature.mfcc(y=wav, sr = sr, n_mfcc = n_mfcc)\n",
    "            \n",
    "            trainset.append((mfcc, 3))\n",
    "        \n",
    "        except Exception as e :\n",
    "            print(filename, e)"
   ]
  },
  {
   "cell_type": "code",
   "execution_count": 17,
   "metadata": {},
   "outputs": [],
   "source": [
    "#학습 데이터 랜덤 셔플링\n",
    "random.shuffle(trainset)"
   ]
  },
  {
   "cell_type": "code",
   "execution_count": 18,
   "metadata": {},
   "outputs": [],
   "source": [
    "data_path0 = \"C:/Users/Desk_Kang/Desktop/Aiffel/workplace/lib/Aiffelthon/data3/test/belly_pain/\"\n",
    "data_path1 = \"C:/Users/Desk_Kang/Desktop/Aiffel/workplace/lib/Aiffelthon/data3/test/discomfort/\"\n",
    "data_path2 = \"C:/Users/Desk_Kang/Desktop/Aiffel/workplace/lib/Aiffelthon/data3/test/hungry/\"\n",
    "data_path3 = \"C:/Users/Desk_Kang/Desktop/Aiffel/workplace/lib/Aiffelthon/data3/test/tired/\""
   ]
  },
  {
   "cell_type": "code",
   "execution_count": 19,
   "metadata": {},
   "outputs": [],
   "source": [
    "#폴더 내의 파일을 반복하여 데이터 셋에 추가\n",
    "for filename in os.listdir(data_path0) :\n",
    "    if filename.endswith(\".wav\"):\n",
    "        try :\n",
    "            wav, sr = librosa.load(os.path.join(data_path0, filename))\n",
    "\n",
    "            mfcc = librosa.feature.mfcc(y=wav, sr = sr, n_mfcc = n_mfcc)\n",
    "            \n",
    "            testset.append((mfcc, 0))\n",
    "        \n",
    "        except Exception as e :\n",
    "            print(filename, e)"
   ]
  },
  {
   "cell_type": "code",
   "execution_count": 20,
   "metadata": {},
   "outputs": [],
   "source": [
    "#폴더 내의 파일을 반복하여 데이터 셋에 추가\n",
    "for filename in os.listdir(data_path1) :\n",
    "    if filename.endswith(\".wav\"):\n",
    "        try :\n",
    "            wav, sr = librosa.load(os.path.join(data_path1, filename))\n",
    "\n",
    "            mfcc = librosa.feature.mfcc(y=wav, sr = sr, n_mfcc = n_mfcc)\n",
    "            \n",
    "            testset.append((mfcc, 1))\n",
    "        \n",
    "        except Exception as e :\n",
    "            print(filename, e)"
   ]
  },
  {
   "cell_type": "code",
   "execution_count": 21,
   "metadata": {},
   "outputs": [],
   "source": [
    "#폴더 내의 파일을 반복하여 데이터 셋에 추가\n",
    "for filename in os.listdir(data_path2) :\n",
    "    if filename.endswith(\".wav\"):\n",
    "        try :\n",
    "            wav, sr = librosa.load(os.path.join(data_path2, filename))\n",
    "\n",
    "            mfcc = librosa.feature.mfcc(y=wav, sr = sr, n_mfcc = n_mfcc)\n",
    "            \n",
    "            testset.append((mfcc, 2))\n",
    "        \n",
    "        except Exception as e :\n",
    "            print(filename, e)"
   ]
  },
  {
   "cell_type": "code",
   "execution_count": 22,
   "metadata": {},
   "outputs": [],
   "source": [
    "#폴더 내의 파일을 반복하여 데이터 셋에 추가\n",
    "for filename in os.listdir(data_path3) :\n",
    "    if filename.endswith(\".wav\"):\n",
    "        try :\n",
    "            wav, sr = librosa.load(os.path.join(data_path3, filename))\n",
    "\n",
    "            mfcc = librosa.feature.mfcc(y=wav, sr = sr, n_mfcc = n_mfcc)\n",
    "            \n",
    "            testset.append((mfcc, 3))\n",
    "        \n",
    "        except Exception as e :\n",
    "            print(filename, e)"
   ]
  },
  {
   "cell_type": "code",
   "execution_count": 23,
   "metadata": {},
   "outputs": [],
   "source": [
    "random.shuffle(testset)"
   ]
  },
  {
   "cell_type": "code",
   "execution_count": 24,
   "metadata": {},
   "outputs": [
    {
     "name": "stdout",
     "output_type": "stream",
     "text": [
      "204\n",
      "40\n"
     ]
    }
   ],
   "source": [
    "print(len(trainset))\n",
    "print(len(testset))"
   ]
  },
  {
   "cell_type": "code",
   "execution_count": 25,
   "metadata": {},
   "outputs": [],
   "source": [
    "train_mfccs = [a for (a,b) in trainset]\n",
    "train_y = [b for (a,b) in trainset]\n",
    "\n",
    "test_mfccs = [a for (a,b) in testset]\n",
    "test_y = [b for (a,b) in testset]"
   ]
  },
  {
   "cell_type": "code",
   "execution_count": 26,
   "metadata": {},
   "outputs": [],
   "source": [
    "train_lengths = [mfcc.shape[1] for mfcc, _ in trainset]\n",
    "\n",
    "max_len_trainset = max(train_lengths)"
   ]
  },
  {
   "cell_type": "code",
   "execution_count": 27,
   "metadata": {},
   "outputs": [
    {
     "data": {
      "text/plain": [
       "334"
      ]
     },
     "execution_count": 27,
     "metadata": {},
     "output_type": "execute_result"
    }
   ],
   "source": [
    "max_len_trainset"
   ]
  },
  {
   "cell_type": "code",
   "execution_count": 28,
   "metadata": {},
   "outputs": [],
   "source": [
    "test_lengths = [mfcc.shape[1] for mfcc, _ in testset]\n",
    "\n",
    "max_len_testset = max(test_lengths)"
   ]
  },
  {
   "cell_type": "code",
   "execution_count": 29,
   "metadata": {},
   "outputs": [
    {
     "data": {
      "text/plain": [
       "302"
      ]
     },
     "execution_count": 29,
     "metadata": {},
     "output_type": "execute_result"
    }
   ],
   "source": [
    "max_len_testset"
   ]
  },
  {
   "cell_type": "code",
   "execution_count": 30,
   "metadata": {},
   "outputs": [],
   "source": [
    "data_patha0 = \"C:/Users/Desk_Kang/Desktop/Aiffel/workplace/lib/Aiffelthon/data3/train/belly_pain/\"\n",
    "data_patha1 = \"C:/Users/Desk_Kang/Desktop/Aiffel/workplace/lib/Aiffelthon/data3/train/discomfort/\"\n",
    "data_patha2 = \"C:/Users/Desk_Kang/Desktop/Aiffel/workplace/lib/Aiffelthon/data3/train/hungry/\"\n",
    "data_patha3 = \"C:/Users/Desk_Kang/Desktop/Aiffel/workplace/lib/Aiffelthon/data3/train/tired/\""
   ]
  },
  {
   "cell_type": "code",
   "execution_count": 31,
   "metadata": {},
   "outputs": [],
   "source": [
    "data_pathb0 = \"C:/Users/Desk_Kang/Desktop/Aiffel/workplace/lib/Aiffelthon/data3/test/belly_pain/\"\n",
    "data_pathb1 = \"C:/Users/Desk_Kang/Desktop/Aiffel/workplace/lib/Aiffelthon/data3/test/discomfort/\"\n",
    "data_pathb2 = \"C:/Users/Desk_Kang/Desktop/Aiffel/workplace/lib/Aiffelthon/data3/test/hungry/\"\n",
    "data_pathb3 = \"C:/Users/Desk_Kang/Desktop/Aiffel/workplace/lib/Aiffelthon/data3/test/tired/\""
   ]
  },
  {
   "cell_type": "code",
   "execution_count": 32,
   "metadata": {},
   "outputs": [],
   "source": [
    "#다시 재설정\n",
    "trainset = []\n",
    "testset = []"
   ]
  },
  {
   "cell_type": "code",
   "execution_count": 33,
   "metadata": {},
   "outputs": [
    {
     "data": {
      "text/plain": [
       "[]"
      ]
     },
     "execution_count": 33,
     "metadata": {},
     "output_type": "execute_result"
    }
   ],
   "source": [
    "trainset"
   ]
  },
  {
   "cell_type": "code",
   "execution_count": 34,
   "metadata": {},
   "outputs": [],
   "source": [
    "train_X = []\n",
    "train_mfccs = []\n",
    "train_y = []\n",
    "\n",
    "test_X = []\n",
    "test_mfccs = []\n",
    "train_y = []"
   ]
  },
  {
   "cell_type": "code",
   "execution_count": 35,
   "metadata": {},
   "outputs": [],
   "source": [
    "#폴더 내의 파일을 반복하여 데이터 셋에 추가\n",
    "for filename in os.listdir(data_patha0) :\n",
    "    if filename.endswith(\".wav\"):\n",
    "        try :\n",
    "            wav, sr = librosa.load(os.path.join(data_patha0, filename))\n",
    "\n",
    "            mfcc = librosa.feature.mfcc(y=wav, sr = sr, n_mfcc = n_mfcc)\n",
    "            mfcc = mfcc_padd(mfcc, 334)\n",
    "            trainset.append((mfcc, 0))\n",
    "        \n",
    "        except Exception as e :\n",
    "            print(filename, e)"
   ]
  },
  {
   "cell_type": "code",
   "execution_count": 36,
   "metadata": {},
   "outputs": [],
   "source": [
    "#폴더 내의 파일을 반복하여 데이터 셋에 추가\n",
    "for filename in os.listdir(data_patha1) :\n",
    "    if filename.endswith(\".wav\"):\n",
    "        try :\n",
    "            wav, sr = librosa.load(os.path.join(data_patha1, filename))\n",
    "\n",
    "            mfcc = librosa.feature.mfcc(y=wav, sr = sr, n_mfcc = n_mfcc)\n",
    "            mfcc = mfcc_padd(mfcc, 334)\n",
    "            trainset.append((mfcc, 1))\n",
    "        \n",
    "        except Exception as e :\n",
    "            print(filename, e)"
   ]
  },
  {
   "cell_type": "code",
   "execution_count": 37,
   "metadata": {},
   "outputs": [],
   "source": [
    "#폴더 내의 파일을 반복하여 데이터 셋에 추가\n",
    "for filename in os.listdir(data_patha2) :\n",
    "    if filename.endswith(\".wav\"):\n",
    "        try :\n",
    "            wav, sr = librosa.load(os.path.join(data_patha2, filename))\n",
    "\n",
    "            mfcc = librosa.feature.mfcc(y=wav, sr = sr, n_mfcc = n_mfcc)\n",
    "            mfcc = mfcc_padd(mfcc, 334)\n",
    "            trainset.append((mfcc, 2))\n",
    "        \n",
    "        except Exception as e :\n",
    "            print(filename, e)"
   ]
  },
  {
   "cell_type": "code",
   "execution_count": 38,
   "metadata": {},
   "outputs": [],
   "source": [
    "#폴더 내의 파일을 반복하여 데이터 셋에 추가\n",
    "for filename in os.listdir(data_patha3) :\n",
    "    if filename.endswith(\".wav\"):\n",
    "        try :\n",
    "            wav, sr = librosa.load(os.path.join(data_patha3, filename))\n",
    "\n",
    "            mfcc = librosa.feature.mfcc(y=wav, sr = sr, n_mfcc = n_mfcc)\n",
    "            mfcc = mfcc_padd(mfcc, 334)\n",
    "            trainset.append((mfcc, 3))\n",
    "        \n",
    "        except Exception as e :\n",
    "            print(filename, e)"
   ]
  },
  {
   "cell_type": "code",
   "execution_count": 39,
   "metadata": {},
   "outputs": [],
   "source": [
    "#폴더 내의 파일을 반복하여 데이터 셋에 추가\n",
    "for filename in os.listdir(data_pathb0) :\n",
    "    if filename.endswith(\".wav\"):\n",
    "        try :\n",
    "            wav, sr = librosa.load(os.path.join(data_pathb0, filename))\n",
    "\n",
    "            mfcc = librosa.feature.mfcc(y=wav, sr = sr, n_mfcc = n_mfcc)\n",
    "            mfcc = mfcc_padd(mfcc, 334)\n",
    "            testset.append((mfcc, 0))\n",
    "        \n",
    "        except Exception as e :\n",
    "            print(filename, e)"
   ]
  },
  {
   "cell_type": "code",
   "execution_count": 40,
   "metadata": {},
   "outputs": [],
   "source": [
    "#폴더 내의 파일을 반복하여 데이터 셋에 추가\n",
    "for filename in os.listdir(data_pathb1) :\n",
    "    if filename.endswith(\".wav\"):\n",
    "        try :\n",
    "            wav, sr = librosa.load(os.path.join(data_pathb1, filename))\n",
    "\n",
    "            mfcc = librosa.feature.mfcc(y=wav, sr = sr, n_mfcc = n_mfcc)\n",
    "            mfcc = mfcc_padd(mfcc, 334)\n",
    "            testset.append((mfcc, 1))\n",
    "        \n",
    "        except Exception as e :\n",
    "            print(filename, e)"
   ]
  },
  {
   "cell_type": "code",
   "execution_count": 41,
   "metadata": {},
   "outputs": [],
   "source": [
    "#폴더 내의 파일을 반복하여 데이터 셋에 추가\n",
    "for filename in os.listdir(data_pathb2) :\n",
    "    if filename.endswith(\".wav\"):\n",
    "        try :\n",
    "            wav, sr = librosa.load(os.path.join(data_pathb2, filename))\n",
    "\n",
    "            mfcc = librosa.feature.mfcc(y=wav, sr = sr, n_mfcc = n_mfcc)\n",
    "            mfcc = mfcc_padd(mfcc, 334)\n",
    "            testset.append((mfcc, 2))\n",
    "        \n",
    "        except Exception as e :\n",
    "            print(filename, e)"
   ]
  },
  {
   "cell_type": "code",
   "execution_count": 42,
   "metadata": {},
   "outputs": [],
   "source": [
    "#폴더 내의 파일을 반복하여 데이터 셋에 추가\n",
    "for filename in os.listdir(data_pathb3) :\n",
    "    if filename.endswith(\".wav\"):\n",
    "        try :\n",
    "            wav, sr = librosa.load(os.path.join(data_pathb3, filename))\n",
    "\n",
    "            mfcc = librosa.feature.mfcc(y=wav, sr = sr, n_mfcc = n_mfcc)\n",
    "            mfcc = mfcc_padd(mfcc, 334)\n",
    "            testset.append((mfcc, 3))\n",
    "        \n",
    "        except Exception as e :\n",
    "            print(filename, e)"
   ]
  },
  {
   "cell_type": "code",
   "execution_count": 43,
   "metadata": {},
   "outputs": [],
   "source": [
    "#학습 데이터 랜덤 셔플링\n",
    "random.shuffle(trainset)\n",
    "#학습 데이터 랜덤 셔플링\n",
    "random.shuffle(testset)"
   ]
  },
  {
   "cell_type": "code",
   "execution_count": 44,
   "metadata": {},
   "outputs": [],
   "source": [
    "train_mfccs = [a for (a,b) in trainset]\n",
    "train_y = [b for (a,b) in trainset]\n",
    "\n",
    "test_mfccs = [a for (a,b) in testset]\n",
    "test_y = [b for (a,b) in testset]"
   ]
  },
  {
   "cell_type": "code",
   "execution_count": 45,
   "metadata": {},
   "outputs": [],
   "source": [
    "train_mfccs = np.array(train_mfccs)\n",
    "train_y = to_categorical(np.array(train_y))\n",
    "\n",
    "test_mfccs = np.array(test_mfccs)\n",
    "test_y = to_categorical(np.array(test_y))"
   ]
  },
  {
   "cell_type": "code",
   "execution_count": 46,
   "metadata": {},
   "outputs": [
    {
     "name": "stdout",
     "output_type": "stream",
     "text": [
      "train_mfccs: (204, 20, 334)\n",
      "train_y: (204, 4)\n",
      "test_mfccs: (40, 20, 334)\n",
      "test_y: (40, 4)\n"
     ]
    }
   ],
   "source": [
    "print('train_mfccs:', train_mfccs.shape)\n",
    "print('train_y:', train_y.shape)\n",
    "\n",
    "print('test_mfccs:', test_mfccs.shape)\n",
    "print('test_y:', test_y.shape)"
   ]
  },
  {
   "cell_type": "code",
   "execution_count": 47,
   "metadata": {},
   "outputs": [],
   "source": [
    "train_X_mfcc = np.expand_dims(train_mfccs, -1)\n",
    "test_X_mfcc = np.expand_dims(test_mfccs, -1)"
   ]
  },
  {
   "cell_type": "code",
   "execution_count": 48,
   "metadata": {},
   "outputs": [
    {
     "name": "stdout",
     "output_type": "stream",
     "text": [
      "train_X_mfcc: (204, 20, 334, 1)\n",
      "train_y: (204, 4)\n",
      "test_X_mfcc: (40, 20, 334, 1)\n",
      "test_y: (40, 4)\n"
     ]
    }
   ],
   "source": [
    "print('train_X_mfcc:', train_X_mfcc.shape)\n",
    "print('train_y:', train_y.shape)\n",
    "\n",
    "print('test_X_mfcc:', test_X_mfcc.shape)\n",
    "print('test_y:', test_y.shape)"
   ]
  },
  {
   "cell_type": "code",
   "execution_count": 49,
   "metadata": {},
   "outputs": [
    {
     "data": {
      "text/plain": [
       "(20, 334, 1)"
      ]
     },
     "execution_count": 49,
     "metadata": {},
     "output_type": "execute_result"
    }
   ],
   "source": [
    "train_X_mfcc[0].shape"
   ]
  },
  {
   "cell_type": "code",
   "execution_count": 52,
   "metadata": {},
   "outputs": [],
   "source": [
    "from tensorflow.keras.applications import VGG16"
   ]
  },
  {
   "cell_type": "code",
   "execution_count": 53,
   "metadata": {},
   "outputs": [
    {
     "ename": "ValueError",
     "evalue": "The input must have 3 channels; Received `input_shape=(20, 334, 1)`",
     "output_type": "error",
     "traceback": [
      "\u001b[1;31m---------------------------------------------------------------------------\u001b[0m",
      "\u001b[1;31mValueError\u001b[0m                                Traceback (most recent call last)",
      "Cell \u001b[1;32mIn[53], line 4\u001b[0m\n\u001b[0;32m      1\u001b[0m \u001b[38;5;66;03m#pre_trained \u001b[39;00m\n\u001b[1;32m----> 4\u001b[0m base_model \u001b[38;5;241m=\u001b[39m \u001b[43mtf\u001b[49m\u001b[38;5;241;43m.\u001b[39;49m\u001b[43mkeras\u001b[49m\u001b[38;5;241;43m.\u001b[39;49m\u001b[43mapplications\u001b[49m\u001b[38;5;241;43m.\u001b[39;49m\u001b[43mVGG16\u001b[49m\u001b[43m(\u001b[49m\u001b[43mweights\u001b[49m\u001b[38;5;241;43m=\u001b[39;49m\u001b[38;5;124;43m'\u001b[39;49m\u001b[38;5;124;43mimagenet\u001b[39;49m\u001b[38;5;124;43m'\u001b[39;49m\u001b[43m,\u001b[49m\u001b[43minclude_top\u001b[49m\u001b[38;5;241;43m=\u001b[39;49m\u001b[38;5;28;43;01mFalse\u001b[39;49;00m\u001b[43m,\u001b[49m\u001b[43m \u001b[49m\u001b[43minput_shape\u001b[49m\u001b[38;5;241;43m=\u001b[39;49m\u001b[43mtrain_X_mfcc\u001b[49m\u001b[43m[\u001b[49m\u001b[38;5;241;43m0\u001b[39;49m\u001b[43m]\u001b[49m\u001b[38;5;241;43m.\u001b[39;49m\u001b[43mshape\u001b[49m\u001b[43m)\u001b[49m\n\u001b[0;32m      6\u001b[0m input_layer \u001b[38;5;241m=\u001b[39m tf\u001b[38;5;241m.\u001b[39mkeras\u001b[38;5;241m.\u001b[39mlayers\u001b[38;5;241m.\u001b[39mInput(shape\u001b[38;5;241m=\u001b[39mtrain_X_mfcc[\u001b[38;5;241m0\u001b[39m]\u001b[38;5;241m.\u001b[39mshape)\n\u001b[0;32m      8\u001b[0m \u001b[38;5;66;03m# 새로운 분류 레이어 추가\u001b[39;00m\n",
      "File \u001b[1;32mc:\\Users\\Desk_Kang\\anaconda3\\envs\\pyenv\\lib\\site-packages\\keras\\applications\\vgg16.py:137\u001b[0m, in \u001b[0;36mVGG16\u001b[1;34m(include_top, weights, input_tensor, input_shape, pooling, classes, classifier_activation)\u001b[0m\n\u001b[0;32m    131\u001b[0m     \u001b[38;5;28;01mraise\u001b[39;00m \u001b[38;5;167;01mValueError\u001b[39;00m(\n\u001b[0;32m    132\u001b[0m         \u001b[38;5;124m'\u001b[39m\u001b[38;5;124mIf using `weights` as `\u001b[39m\u001b[38;5;124m\"\u001b[39m\u001b[38;5;124mimagenet\u001b[39m\u001b[38;5;124m\"\u001b[39m\u001b[38;5;124m` with `include_top` \u001b[39m\u001b[38;5;124m'\u001b[39m\n\u001b[0;32m    133\u001b[0m         \u001b[38;5;124m\"\u001b[39m\u001b[38;5;124mas true, `classes` should be 1000.  \u001b[39m\u001b[38;5;124m\"\u001b[39m\n\u001b[0;32m    134\u001b[0m         \u001b[38;5;124mf\u001b[39m\u001b[38;5;124m\"\u001b[39m\u001b[38;5;124mReceived `classes=\u001b[39m\u001b[38;5;132;01m{\u001b[39;00mclasses\u001b[38;5;132;01m}\u001b[39;00m\u001b[38;5;124m`\u001b[39m\u001b[38;5;124m\"\u001b[39m\n\u001b[0;32m    135\u001b[0m     )\n\u001b[0;32m    136\u001b[0m \u001b[38;5;66;03m# Determine proper input shape\u001b[39;00m\n\u001b[1;32m--> 137\u001b[0m input_shape \u001b[38;5;241m=\u001b[39m \u001b[43mimagenet_utils\u001b[49m\u001b[38;5;241;43m.\u001b[39;49m\u001b[43mobtain_input_shape\u001b[49m\u001b[43m(\u001b[49m\n\u001b[0;32m    138\u001b[0m \u001b[43m    \u001b[49m\u001b[43minput_shape\u001b[49m\u001b[43m,\u001b[49m\n\u001b[0;32m    139\u001b[0m \u001b[43m    \u001b[49m\u001b[43mdefault_size\u001b[49m\u001b[38;5;241;43m=\u001b[39;49m\u001b[38;5;241;43m224\u001b[39;49m\u001b[43m,\u001b[49m\n\u001b[0;32m    140\u001b[0m \u001b[43m    \u001b[49m\u001b[43mmin_size\u001b[49m\u001b[38;5;241;43m=\u001b[39;49m\u001b[38;5;241;43m32\u001b[39;49m\u001b[43m,\u001b[49m\n\u001b[0;32m    141\u001b[0m \u001b[43m    \u001b[49m\u001b[43mdata_format\u001b[49m\u001b[38;5;241;43m=\u001b[39;49m\u001b[43mbackend\u001b[49m\u001b[38;5;241;43m.\u001b[39;49m\u001b[43mimage_data_format\u001b[49m\u001b[43m(\u001b[49m\u001b[43m)\u001b[49m\u001b[43m,\u001b[49m\n\u001b[0;32m    142\u001b[0m \u001b[43m    \u001b[49m\u001b[43mrequire_flatten\u001b[49m\u001b[38;5;241;43m=\u001b[39;49m\u001b[43minclude_top\u001b[49m\u001b[43m,\u001b[49m\n\u001b[0;32m    143\u001b[0m \u001b[43m    \u001b[49m\u001b[43mweights\u001b[49m\u001b[38;5;241;43m=\u001b[39;49m\u001b[43mweights\u001b[49m\u001b[43m,\u001b[49m\n\u001b[0;32m    144\u001b[0m \u001b[43m\u001b[49m\u001b[43m)\u001b[49m\n\u001b[0;32m    146\u001b[0m \u001b[38;5;28;01mif\u001b[39;00m input_tensor \u001b[38;5;129;01mis\u001b[39;00m \u001b[38;5;28;01mNone\u001b[39;00m:\n\u001b[0;32m    147\u001b[0m     img_input \u001b[38;5;241m=\u001b[39m layers\u001b[38;5;241m.\u001b[39mInput(shape\u001b[38;5;241m=\u001b[39minput_shape)\n",
      "File \u001b[1;32mc:\\Users\\Desk_Kang\\anaconda3\\envs\\pyenv\\lib\\site-packages\\keras\\applications\\imagenet_utils.py:401\u001b[0m, in \u001b[0;36mobtain_input_shape\u001b[1;34m(input_shape, default_size, min_size, data_format, require_flatten, weights)\u001b[0m\n\u001b[0;32m    397\u001b[0m     \u001b[38;5;28;01mraise\u001b[39;00m \u001b[38;5;167;01mValueError\u001b[39;00m(\n\u001b[0;32m    398\u001b[0m         \u001b[38;5;124m\"\u001b[39m\u001b[38;5;124m`input_shape` must be a tuple of three integers.\u001b[39m\u001b[38;5;124m\"\u001b[39m\n\u001b[0;32m    399\u001b[0m     )\n\u001b[0;32m    400\u001b[0m \u001b[38;5;28;01mif\u001b[39;00m input_shape[\u001b[38;5;241m-\u001b[39m\u001b[38;5;241m1\u001b[39m] \u001b[38;5;241m!=\u001b[39m \u001b[38;5;241m3\u001b[39m \u001b[38;5;129;01mand\u001b[39;00m weights \u001b[38;5;241m==\u001b[39m \u001b[38;5;124m\"\u001b[39m\u001b[38;5;124mimagenet\u001b[39m\u001b[38;5;124m\"\u001b[39m:\n\u001b[1;32m--> 401\u001b[0m     \u001b[38;5;28;01mraise\u001b[39;00m \u001b[38;5;167;01mValueError\u001b[39;00m(\n\u001b[0;32m    402\u001b[0m         \u001b[38;5;124m\"\u001b[39m\u001b[38;5;124mThe input must have 3 channels; Received \u001b[39m\u001b[38;5;124m\"\u001b[39m\n\u001b[0;32m    403\u001b[0m         \u001b[38;5;124mf\u001b[39m\u001b[38;5;124m\"\u001b[39m\u001b[38;5;124m`input_shape=\u001b[39m\u001b[38;5;132;01m{\u001b[39;00minput_shape\u001b[38;5;132;01m}\u001b[39;00m\u001b[38;5;124m`\u001b[39m\u001b[38;5;124m\"\u001b[39m\n\u001b[0;32m    404\u001b[0m     )\n\u001b[0;32m    405\u001b[0m \u001b[38;5;28;01mif\u001b[39;00m (\n\u001b[0;32m    406\u001b[0m     input_shape[\u001b[38;5;241m0\u001b[39m] \u001b[38;5;129;01mis\u001b[39;00m \u001b[38;5;129;01mnot\u001b[39;00m \u001b[38;5;28;01mNone\u001b[39;00m \u001b[38;5;129;01mand\u001b[39;00m input_shape[\u001b[38;5;241m0\u001b[39m] \u001b[38;5;241m<\u001b[39m min_size\n\u001b[0;32m    407\u001b[0m ) \u001b[38;5;129;01mor\u001b[39;00m (input_shape[\u001b[38;5;241m1\u001b[39m] \u001b[38;5;129;01mis\u001b[39;00m \u001b[38;5;129;01mnot\u001b[39;00m \u001b[38;5;28;01mNone\u001b[39;00m \u001b[38;5;129;01mand\u001b[39;00m input_shape[\u001b[38;5;241m1\u001b[39m] \u001b[38;5;241m<\u001b[39m min_size):\n\u001b[0;32m    408\u001b[0m     \u001b[38;5;28;01mraise\u001b[39;00m \u001b[38;5;167;01mValueError\u001b[39;00m(\n\u001b[0;32m    409\u001b[0m         \u001b[38;5;124m\"\u001b[39m\u001b[38;5;124mInput size must be at least \u001b[39m\u001b[38;5;124m\"\u001b[39m\n\u001b[0;32m    410\u001b[0m         \u001b[38;5;124mf\u001b[39m\u001b[38;5;124m\"\u001b[39m\u001b[38;5;132;01m{\u001b[39;00mmin_size\u001b[38;5;132;01m}\u001b[39;00m\u001b[38;5;124mx\u001b[39m\u001b[38;5;132;01m{\u001b[39;00mmin_size\u001b[38;5;132;01m}\u001b[39;00m\u001b[38;5;124m; Received: \u001b[39m\u001b[38;5;124m\"\u001b[39m\n\u001b[0;32m    411\u001b[0m         \u001b[38;5;124mf\u001b[39m\u001b[38;5;124m\"\u001b[39m\u001b[38;5;124minput_shape=\u001b[39m\u001b[38;5;132;01m{\u001b[39;00minput_shape\u001b[38;5;132;01m}\u001b[39;00m\u001b[38;5;124m\"\u001b[39m\n\u001b[0;32m    412\u001b[0m     )\n",
      "\u001b[1;31mValueError\u001b[0m: The input must have 3 channels; Received `input_shape=(20, 334, 1)`"
     ]
    }
   ],
   "source": [
    "#pre_trained \n",
    "\n",
    "\n",
    "base_model = tf.keras.applications.VGG16(weights='imagenet',include_top=False, input_shape=train_X_mfcc[0].shape)\n",
    "\n",
    "input_layer = tf.keras.layers.Input(shape=train_X_mfcc[0].shape)\n",
    "\n",
    "# 새로운 분류 레이어 추가\n",
    "x = base_model(input_layer)\n",
    "\n",
    "\n",
    "x=tf.keras.layers.Flatten()(x)\n",
    "x=tf.keras.layers.Dense(1024, activation='relu')(x)\n",
    "x=tf.keras.layers.Dense(512, activation='relu')(x)\n",
    "out_layer=tf.keras.layers.Dense(4, activation='softmax')(x)\n",
    "\n",
    "model = tf.keras.Model(inputs=[input_layer], outputs=[out_layer])\n",
    "model.summary()\n"
   ]
  },
  {
   "cell_type": "code",
   "execution_count": 50,
   "metadata": {},
   "outputs": [],
   "source": [
    "model.compile(optimizer='adam', loss='categorical_crossentropy', metrics=['accuracy'])"
   ]
  },
  {
   "cell_type": "code",
   "execution_count": 51,
   "metadata": {},
   "outputs": [
    {
     "name": "stdout",
     "output_type": "stream",
     "text": [
      "Epoch 1/45\n",
      "7/7 [==============================] - 8s 436ms/step - loss: 11.2895 - accuracy: 0.4461 - val_loss: 143.1841 - val_accuracy: 0.2500\n",
      "Epoch 2/45\n",
      "7/7 [==============================] - 1s 67ms/step - loss: 2.1885 - accuracy: 0.4755 - val_loss: 232.8912 - val_accuracy: 0.2500\n",
      "Epoch 3/45\n",
      "7/7 [==============================] - 0s 63ms/step - loss: 2.2824 - accuracy: 0.4853 - val_loss: 112.9881 - val_accuracy: 0.2500\n",
      "Epoch 4/45\n",
      "7/7 [==============================] - 0s 64ms/step - loss: 1.6002 - accuracy: 0.5490 - val_loss: 91.7995 - val_accuracy: 0.2500\n",
      "Epoch 5/45\n",
      "7/7 [==============================] - 0s 63ms/step - loss: 1.4921 - accuracy: 0.5784 - val_loss: 24.5687 - val_accuracy: 0.2500\n",
      "Epoch 6/45\n",
      "7/7 [==============================] - 0s 63ms/step - loss: 1.1799 - accuracy: 0.5441 - val_loss: 18.1605 - val_accuracy: 0.2500\n",
      "Epoch 7/45\n",
      "7/7 [==============================] - 0s 59ms/step - loss: 1.2423 - accuracy: 0.6324 - val_loss: 14.3452 - val_accuracy: 0.2500\n",
      "Epoch 8/45\n",
      "7/7 [==============================] - 0s 60ms/step - loss: 1.0364 - accuracy: 0.6373 - val_loss: 8.5897 - val_accuracy: 0.2500\n",
      "Epoch 9/45\n",
      "7/7 [==============================] - 0s 65ms/step - loss: 1.1317 - accuracy: 0.5735 - val_loss: 5.8862 - val_accuracy: 0.3250\n",
      "Epoch 10/45\n",
      "7/7 [==============================] - 0s 61ms/step - loss: 0.9017 - accuracy: 0.6373 - val_loss: 6.0161 - val_accuracy: 0.2500\n",
      "Epoch 11/45\n",
      "7/7 [==============================] - 0s 61ms/step - loss: 1.0375 - accuracy: 0.5392 - val_loss: 5.3949 - val_accuracy: 0.3500\n",
      "Epoch 12/45\n",
      "7/7 [==============================] - 0s 60ms/step - loss: 1.0514 - accuracy: 0.6471 - val_loss: 4.9627 - val_accuracy: 0.2500\n",
      "Epoch 13/45\n",
      "7/7 [==============================] - 0s 61ms/step - loss: 0.9043 - accuracy: 0.6618 - val_loss: 3.3830 - val_accuracy: 0.2500\n",
      "Epoch 14/45\n",
      "7/7 [==============================] - 0s 62ms/step - loss: 0.8930 - accuracy: 0.6324 - val_loss: 3.3283 - val_accuracy: 0.3000\n",
      "Epoch 15/45\n",
      "7/7 [==============================] - 0s 59ms/step - loss: 0.8560 - accuracy: 0.6618 - val_loss: 2.5736 - val_accuracy: 0.4250\n",
      "Epoch 16/45\n",
      "7/7 [==============================] - 0s 59ms/step - loss: 0.9824 - accuracy: 0.6127 - val_loss: 2.6839 - val_accuracy: 0.2500\n",
      "Epoch 17/45\n",
      "7/7 [==============================] - 0s 60ms/step - loss: 0.9058 - accuracy: 0.6373 - val_loss: 2.8564 - val_accuracy: 0.3500\n",
      "Epoch 18/45\n",
      "7/7 [==============================] - 0s 60ms/step - loss: 0.8562 - accuracy: 0.6716 - val_loss: 1.7411 - val_accuracy: 0.4750\n",
      "Epoch 19/45\n",
      "7/7 [==============================] - 0s 64ms/step - loss: 0.9007 - accuracy: 0.6618 - val_loss: 2.3960 - val_accuracy: 0.3000\n",
      "Epoch 20/45\n",
      "7/7 [==============================] - 0s 59ms/step - loss: 0.8449 - accuracy: 0.6814 - val_loss: 2.1279 - val_accuracy: 0.4500\n",
      "Epoch 21/45\n",
      "7/7 [==============================] - 0s 61ms/step - loss: 0.7970 - accuracy: 0.6716 - val_loss: 2.6279 - val_accuracy: 0.4750\n",
      "Epoch 22/45\n",
      "7/7 [==============================] - 0s 59ms/step - loss: 0.8863 - accuracy: 0.6863 - val_loss: 2.9845 - val_accuracy: 0.4250\n",
      "Epoch 23/45\n",
      "7/7 [==============================] - 0s 60ms/step - loss: 0.7200 - accuracy: 0.7059 - val_loss: 3.3144 - val_accuracy: 0.3250\n",
      "Epoch 24/45\n",
      "7/7 [==============================] - 0s 61ms/step - loss: 0.7980 - accuracy: 0.7304 - val_loss: 3.7004 - val_accuracy: 0.4000\n",
      "Epoch 25/45\n",
      "7/7 [==============================] - 0s 60ms/step - loss: 0.7056 - accuracy: 0.7206 - val_loss: 2.8149 - val_accuracy: 0.4500\n",
      "Epoch 26/45\n",
      "7/7 [==============================] - 0s 60ms/step - loss: 0.7256 - accuracy: 0.7059 - val_loss: 3.6606 - val_accuracy: 0.3500\n",
      "Epoch 27/45\n",
      "7/7 [==============================] - 0s 63ms/step - loss: 0.6450 - accuracy: 0.7353 - val_loss: 3.7411 - val_accuracy: 0.4000\n",
      "Epoch 28/45\n",
      "7/7 [==============================] - 0s 59ms/step - loss: 0.5913 - accuracy: 0.7549 - val_loss: 3.5663 - val_accuracy: 0.3750\n",
      "Epoch 29/45\n",
      "7/7 [==============================] - 0s 60ms/step - loss: 0.5964 - accuracy: 0.7647 - val_loss: 3.5772 - val_accuracy: 0.3750\n",
      "Epoch 30/45\n",
      "7/7 [==============================] - 0s 60ms/step - loss: 0.5727 - accuracy: 0.7794 - val_loss: 2.6691 - val_accuracy: 0.3250\n",
      "Epoch 31/45\n",
      "7/7 [==============================] - 0s 60ms/step - loss: 0.6730 - accuracy: 0.7549 - val_loss: 3.2643 - val_accuracy: 0.4250\n",
      "Epoch 32/45\n",
      "7/7 [==============================] - 0s 60ms/step - loss: 0.6272 - accuracy: 0.7451 - val_loss: 2.9245 - val_accuracy: 0.3500\n",
      "Epoch 33/45\n",
      "7/7 [==============================] - 0s 59ms/step - loss: 0.5027 - accuracy: 0.7892 - val_loss: 3.2067 - val_accuracy: 0.3750\n",
      "Epoch 34/45\n",
      "7/7 [==============================] - 0s 60ms/step - loss: 0.5054 - accuracy: 0.7892 - val_loss: 3.1689 - val_accuracy: 0.4750\n",
      "Epoch 35/45\n",
      "7/7 [==============================] - 0s 61ms/step - loss: 0.4836 - accuracy: 0.8137 - val_loss: 3.8689 - val_accuracy: 0.4250\n",
      "Epoch 36/45\n",
      "7/7 [==============================] - 0s 59ms/step - loss: 0.5853 - accuracy: 0.7745 - val_loss: 4.6233 - val_accuracy: 0.3250\n",
      "Epoch 37/45\n",
      "7/7 [==============================] - 0s 60ms/step - loss: 0.5143 - accuracy: 0.7892 - val_loss: 9.4256 - val_accuracy: 0.3000\n",
      "Epoch 38/45\n",
      "7/7 [==============================] - 0s 60ms/step - loss: 0.3837 - accuracy: 0.8431 - val_loss: 8.8519 - val_accuracy: 0.3250\n",
      "Epoch 39/45\n",
      "7/7 [==============================] - 0s 59ms/step - loss: 0.3694 - accuracy: 0.8578 - val_loss: 13.5093 - val_accuracy: 0.3000\n",
      "Epoch 40/45\n",
      "7/7 [==============================] - 0s 60ms/step - loss: 0.3477 - accuracy: 0.8775 - val_loss: 11.6938 - val_accuracy: 0.3000\n",
      "Epoch 41/45\n",
      "7/7 [==============================] - 0s 60ms/step - loss: 0.2866 - accuracy: 0.9118 - val_loss: 9.0822 - val_accuracy: 0.3250\n",
      "Epoch 42/45\n",
      "7/7 [==============================] - 0s 59ms/step - loss: 0.3679 - accuracy: 0.8676 - val_loss: 10.3014 - val_accuracy: 0.3500\n",
      "Epoch 43/45\n",
      "7/7 [==============================] - 0s 62ms/step - loss: 0.3690 - accuracy: 0.8333 - val_loss: 18.1195 - val_accuracy: 0.2500\n",
      "Epoch 44/45\n",
      "7/7 [==============================] - 0s 60ms/step - loss: 0.2652 - accuracy: 0.9412 - val_loss: 13.3498 - val_accuracy: 0.3500\n",
      "Epoch 45/45\n",
      "7/7 [==============================] - 0s 59ms/step - loss: 0.2138 - accuracy: 0.9216 - val_loss: 9.4413 - val_accuracy: 0.3500\n"
     ]
    }
   ],
   "source": [
    "history = model.fit(train_X_mfcc, train_y, epochs=45, validation_data = (test_X_mfcc, test_y))"
   ]
  },
  {
   "cell_type": "code",
   "execution_count": 52,
   "metadata": {},
   "outputs": [
    {
     "name": "stderr",
     "output_type": "stream",
     "text": [
      "C:\\Users\\Desk_Kang\\AppData\\Local\\Temp\\ipykernel_12184\\237002889.py:1: MatplotlibDeprecationWarning: The seaborn styles shipped by Matplotlib are deprecated since 3.6, as they no longer correspond to the styles shipped by seaborn. However, they will remain available as 'seaborn-v0_8-<style>'. Alternatively, directly use the seaborn API instead.\n",
      "  plt.style.use('seaborn-white')\n"
     ]
    },
    {
     "data": {
      "image/png": "[encoded data removed]",
      "text/plain": [
       "<Figure size 1200x500 with 2 Axes>"
      ]
     },
     "metadata": {},
     "output_type": "display_data"
    }
   ],
   "source": [
    "plt.style.use('seaborn-white')\n",
    "\n",
    "history_dict = history.history\n",
    "\n",
    "loss = history_dict['loss']\n",
    "val_loss = history_dict['val_loss']\n",
    "\n",
    "epochs = range(1, len(loss) + 1)\n",
    "fig = plt.figure(figsize=(12, 5))\n",
    "\n",
    "ax1 = fig.add_subplot(1, 2, 1)\n",
    "ax1.plot(epochs, loss, 'b-', label='train_loss')\n",
    "ax1.plot(epochs, val_loss, 'r-', label='val_loss')\n",
    "ax1.set_title('Train and Validation Loss')\n",
    "ax1.set_xlabel('Epochs')\n",
    "ax1.set_ylabel('Loss')\n",
    "ax1.grid()\n",
    "ax1.legend()\n",
    "\n",
    "accuracy = history_dict['accuracy']\n",
    "val_accuracy = history_dict['val_accuracy']\n",
    "\n",
    "ax2 = fig.add_subplot(1, 2, 2)\n",
    "ax2.plot(epochs, accuracy, 'b-', label='train_accuracy')\n",
    "ax2.plot(epochs, val_accuracy, 'r-', label='val_accuracy')\n",
    "ax2.set_title('Train and Validation Accuracy')\n",
    "ax2.set_xlabel('Epochs')\n",
    "ax2.set_ylabel('Accuracy')\n",
    "ax2.grid()\n",
    "ax2.legend()\n",
    "\n",
    "plt.show()"
   ]
  },
  {
   "cell_type": "code",
   "execution_count": 53,
   "metadata": {},
   "outputs": [
    {
     "name": "stdout",
     "output_type": "stream",
     "text": [
      "2/2 [==============================] - 0s 11ms/step - loss: 9.4413 - accuracy: 0.3500\n"
     ]
    },
    {
     "data": {
      "text/plain": [
       "[9.441349029541016, 0.3499999940395355]"
      ]
     },
     "execution_count": 53,
     "metadata": {},
     "output_type": "execute_result"
    }
   ],
   "source": [
    "model.evaluate(test_X_mfcc, test_y)"
   ]
  },
  {
   "cell_type": "code",
   "execution_count": 54,
   "metadata": {},
   "outputs": [
    {
     "name": "stdout",
     "output_type": "stream",
     "text": [
      "2/2 [==============================] - 0s 16ms/step\n",
      "예측 값 : 1, 실제 값 : [0. 1. 0. 0.]\n",
      "예측 값 : 1, 실제 값 : [0. 0. 0. 1.]\n",
      "예측 값 : 2, 실제 값 : [1. 0. 0. 0.]\n",
      "예측 값 : 1, 실제 값 : [1. 0. 0. 0.]\n",
      "예측 값 : 2, 실제 값 : [0. 0. 1. 0.]\n"
     ]
    }
   ],
   "source": [
    "# 예측값과 실제값 랜덤 비교\n",
    "import numpy as np\n",
    "\n",
    "\n",
    "predictions = model.predict(test_X_mfcc)\n",
    "\n",
    "random_indices = np.random.choice(len(test_X_mfcc), 5, replace=False)\n",
    "\n",
    "for i in random_indices:\n",
    "   #랜덤 샘플에 대한 예측값과 실제값\n",
    "   predicted_class = np.argmax(predictions[i])\n",
    "   true_class = test_y[i]\n",
    "\n",
    "   print(f\"예측 값 : {predicted_class}, 실제 값 : {true_class}\")"
   ]
  },
  {
   "cell_type": "code",
   "execution_count": 55,
   "metadata": {},
   "outputs": [],
   "source": [
    "true_labels = np.argmax(test_y, axis=1)\n",
    "true_classes = np.argmax(predictions, axis=1)"
   ]
  },
  {
   "cell_type": "code",
   "execution_count": 56,
   "metadata": {},
   "outputs": [],
   "source": [
    "from sklearn.metrics import confusion_matrix\n",
    "import seaborn as sns\n",
    "from sklearn.metrics import ConfusionMatrixDisplay"
   ]
  },
  {
   "cell_type": "code",
   "execution_count": 57,
   "metadata": {},
   "outputs": [
    {
     "name": "stdout",
     "output_type": "stream",
     "text": [
      "[[0 5 5 0]\n",
      " [1 8 1 0]\n",
      " [0 3 6 1]\n",
      " [0 8 2 0]]\n"
     ]
    }
   ],
   "source": [
    "\n",
    "conf_matrix = confusion_matrix(true_labels, true_classes)\n",
    "\n",
    "\n",
    "print(conf_matrix)"
   ]
  },
  {
   "cell_type": "code",
   "execution_count": 58,
   "metadata": {},
   "outputs": [
    {
     "data": {
      "image/png": "[encoded data removed]",
      "text/plain": [
       "<Figure size 1000x800 with 2 Axes>"
      ]
     },
     "metadata": {},
     "output_type": "display_data"
    }
   ],
   "source": [
    "plt.figure(figsize=(10, 8))\n",
    "sns.set(font_scale=1.2)  # 폰트 크기 조절\n",
    "sns.heatmap(conf_matrix, annot=True, fmt='d', cmap='Blues', xticklabels=['belly_pain', 'discomf', 'hungry', 'tired'], yticklabels=['belly_pain', 'discomf', 'hungry', 'tired'])\n",
    "plt.xlabel('Predicted')\n",
    "plt.ylabel('True')\n",
    "plt.title('Confusion Matrix')\n",
    "plt.show()"
   ]
  },
  {
   "cell_type": "code",
   "execution_count": null,
   "metadata": {},
   "outputs": [],
   "source": []
  }
 ],
 "metadata": {
  "kernelspec": {
   "display_name": "pyenv",
   "language": "python",
   "name": "python3"
  },
  "language_info": {
   "codemirror_mode": {
    "name": "ipython",
    "version": 3
   },
   "file_extension": ".py",
   "mimetype": "text/x-python",
   "name": "python",
   "nbconvert_exporter": "python",
   "pygments_lexer": "ipython3",
   "version": "3.10.13"
  }
 },
 "nbformat": 4,
 "nbformat_minor": 2
}
