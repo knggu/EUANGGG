{
 "cells": [
  {
   "cell_type": "code",
   "execution_count": 1,
   "id": "b69d0495-09c3-42f8-9f3d-fc2b6332dde2",
   "metadata": {},
   "outputs": [],
   "source": [
    "import numpy as np\n",
    "import pandas as pd\n",
    "import glob\n",
    "import os\n",
    "import matplotlib.pyplot as plt\n",
    "import librosa\n",
    "from IPython.display import Audio\n",
    "from sklearn.preprocessing import StandardScaler\n",
    "from sklearn.preprocessing import LabelEncoder\n",
    "from sklearn.utils import shuffle\n",
    "import tensorflow as tf"
   ]
  },
  {
   "cell_type": "code",
   "execution_count": 2,
   "id": "1fa90862-60c1-4c04-9c36-4bb83c25b16f",
   "metadata": {},
   "outputs": [],
   "source": [
    "train_folder_path = r'C:./data3/train'\n",
    "test_folder_path = r'C:./data3/test'"
   ]
  },
  {
   "cell_type": "code",
   "execution_count": 3,
   "id": "c7fdb2d4-cdd9-4e1d-9f20-2b60c41fbee2",
   "metadata": {},
   "outputs": [
    {
     "data": {
      "text/plain": [
       "True"
      ]
     },
     "execution_count": 3,
     "metadata": {},
     "output_type": "execute_result"
    }
   ],
   "source": [
    "os.path.exists(train_folder_path)"
   ]
  },
  {
   "cell_type": "code",
   "execution_count": 4,
   "id": "a1317963-5115-4e63-8abf-0f615de53709",
   "metadata": {},
   "outputs": [
    {
     "data": {
      "text/plain": [
       "['belly_pain', 'discomfort', 'hungry', 'tired']"
      ]
     },
     "execution_count": 4,
     "metadata": {},
     "output_type": "execute_result"
    }
   ],
   "source": [
    "class_names = next(os.walk(train_folder_path))[1]\n",
    "class_names"
   ]
  },
  {
   "cell_type": "code",
   "execution_count": 5,
   "id": "022fa069-5699-43a1-bf2b-1f9cff9a670b",
   "metadata": {},
   "outputs": [
    {
     "data": {
      "text/plain": [
       "['C:./data3/train\\\\belly_pain',\n",
       " 'C:./data3/train\\\\discomfort',\n",
       " 'C:./data3/train\\\\hungry',\n",
       " 'C:./data3/train\\\\tired']"
      ]
     },
     "execution_count": 5,
     "metadata": {},
     "output_type": "execute_result"
    }
   ],
   "source": [
    "audio_path = [os.path.join(train_folder_path, name) for name in class_names]\n",
    "audio_path"
   ]
  },
  {
   "cell_type": "code",
   "execution_count": 6,
   "id": "3a6acae1-1df7-4ee8-95e4-bbbcfb439a92",
   "metadata": {},
   "outputs": [],
   "source": [
    "bpain_audio = glob.glob(os.path.join(audio_path[0], '*.wav'))\n",
    "discomf_audio = glob.glob(os.path.join(audio_path[1], '*.wav'))\n",
    "hungry_audio = glob.glob(os.path.join(audio_path[2], '*.wav'))\n",
    "tired_audio = glob.glob(os.path.join(audio_path[3], '*.wav'))"
   ]
  },
  {
   "cell_type": "code",
   "execution_count": 7,
   "id": "9b4c2824-b56c-49ed-a6e4-e4550298a464",
   "metadata": {},
   "outputs": [],
   "source": [
    "audio_path_byclass = {\n",
    "    'bpain': bpain_audio,\n",
    "    'discomf': discomf_audio,\n",
    "    'hungry': hungry_audio,\n",
    "    'tired': tired_audio\n",
    "}"
   ]
  },
  {
   "cell_type": "markdown",
   "id": "e0a1378f-deee-48fb-a765-a2cf859d0450",
   "metadata": {},
   "source": [
    "## Load Audio"
   ]
  },
  {
   "cell_type": "code",
   "execution_count": 8,
   "id": "86fa5d47-1cee-44ee-b193-fab488048f6a",
   "metadata": {},
   "outputs": [],
   "source": [
    "# Replace 'your_audio_file.mp3' with the path to your audio file\n",
    "load_audio = {}\n",
    "for name, pathlst in audio_path_byclass.items():\n",
    "    loaded = []\n",
    "    for path in pathlst:\n",
    "        audio, sr = librosa.load(path, sr=16000, mono=True, duration=5.2)\n",
    "        loaded.append(audio)\n",
    "    load_audio[name] = loaded"
   ]
  },
  {
   "cell_type": "markdown",
   "id": "33071bee-fd0e-4db9-8e82-4e12b5ade3f0",
   "metadata": {},
   "source": [
    "## Load Model"
   ]
  },
  {
   "cell_type": "code",
   "execution_count": 9,
   "id": "7b52da07-7f41-44cb-bf2c-3d80a12c45f3",
   "metadata": {},
   "outputs": [],
   "source": [
    "# Load the model.\n",
    "import tensorflow_hub as hub\n",
    "model = hub.load('https://tfhub.dev/google/yamnet/1')"
   ]
  },
  {
   "cell_type": "code",
   "execution_count": 10,
   "id": "7cbaf834-0d28-4ae4-a360-de9d9691d1c7",
   "metadata": {},
   "outputs": [],
   "source": [
    "# Run the model, check the output.\n",
    "feature = {}\n",
    "for name, arr in load_audio.items():\n",
    "    # Initialize dictionaries for each class if not already existing\n",
    "    if name not in feature:\n",
    "        feature[name] = {'scores': [], 'embeddings': [], 'spectrograms': []}\n",
    "    \n",
    "    for wav in arr:\n",
    "        scores, embeddings, spectrogram = model(wav)\n",
    "        \n",
    "        # Append the results to the respective lists in the dictionary\n",
    "        feature[name]['scores'].append(np.array(scores))\n",
    "        feature[name]['embeddings'].append(np.array(embeddings))\n",
    "        feature[name]['spectrograms'].append(np.array(spectrogram))"
   ]
  },
  {
   "cell_type": "code",
   "execution_count": 11,
   "id": "46327ecf-b787-4220-802f-41a327b2abc1",
   "metadata": {},
   "outputs": [],
   "source": [
    "import collections\n",
    "\n",
    "shape = {}\n",
    "\n",
    "for class_name in feature.keys():\n",
    "    for cat, lst in feature[class_name].items():\n",
    "        shapes = [arr.shape for arr in lst]\n",
    "        shapes_count = collections.Counter(shapes)\n",
    "        shape[f'{class_name} {cat} shape counts'] = shapes_count"
   ]
  },
  {
   "cell_type": "code",
   "execution_count": 12,
   "id": "314bb6f4-4444-4f35-ba8c-5b21efcc489f",
   "metadata": {},
   "outputs": [
    {
     "data": {
      "text/plain": [
       "{'bpain scores shape counts': Counter({(10, 521): 16}),\n",
       " 'bpain embeddings shape counts': Counter({(10, 1024): 16}),\n",
       " 'bpain spectrograms shape counts': Counter({(528, 64): 16}),\n",
       " 'discomf scores shape counts': Counter({(10, 521): 64}),\n",
       " 'discomf embeddings shape counts': Counter({(10, 1024): 64}),\n",
       " 'discomf spectrograms shape counts': Counter({(528, 64): 64}),\n",
       " 'hungry scores shape counts': Counter({(10, 521): 100}),\n",
       " 'hungry embeddings shape counts': Counter({(10, 1024): 100}),\n",
       " 'hungry spectrograms shape counts': Counter({(528, 64): 100}),\n",
       " 'tired scores shape counts': Counter({(10, 521): 24}),\n",
       " 'tired embeddings shape counts': Counter({(10, 1024): 24}),\n",
       " 'tired spectrograms shape counts': Counter({(528, 64): 24})}"
      ]
     },
     "execution_count": 12,
     "metadata": {},
     "output_type": "execute_result"
    }
   ],
   "source": [
    "shape"
   ]
  },
  {
   "cell_type": "markdown",
   "id": "e5b037ab-3c4f-4db5-90c6-3f9352fe2e47",
   "metadata": {},
   "source": [
    "## nd array padding\n",
    "- 각 클래스 카테고리마다 평균 row를 구한 후 padding 해준다"
   ]
  },
  {
   "cell_type": "code",
   "execution_count": 13,
   "id": "a3d4a8a9-7bfe-4b95-a3d2-8a5c5b083cf2",
   "metadata": {},
   "outputs": [],
   "source": [
    "from statistics import mean\n",
    "\n",
    "temp = []\n",
    "\n",
    "for class_cat, counter in shape.items():\n",
    "    for shape, count in counter.items():\n",
    "        h, w = shape\n",
    "        num_elements = h * w\n",
    "        temp.append(num_elements)"
   ]
  },
  {
   "cell_type": "code",
   "execution_count": 14,
   "id": "4f2ca8a2-eac2-463c-b958-e0557ce5d308",
   "metadata": {},
   "outputs": [],
   "source": [
    "avg = mean(temp)"
   ]
  },
  {
   "cell_type": "code",
   "execution_count": 15,
   "id": "332b9ddd-caab-4483-ae04-e129e5ceefb6",
   "metadata": {},
   "outputs": [
    {
     "data": {
      "text/plain": [
       "16414"
      ]
     },
     "execution_count": 15,
     "metadata": {},
     "output_type": "execute_result"
    }
   ],
   "source": [
    "avg"
   ]
  },
  {
   "cell_type": "code",
   "execution_count": 16,
   "id": "a9bbb647-27a7-4e9f-ba23-7b2c724c97fe",
   "metadata": {},
   "outputs": [],
   "source": [
    "reshaped = {}\n",
    "\n",
    "for class_name, categories in feature.items():\n",
    "    for cat, lst in categories.items():\n",
    "        temp = []\n",
    "        for arr in lst:\n",
    "            h, w = arr.shape\n",
    "            flat_arr = arr.flatten()\n",
    "            size = h * w\n",
    "\n",
    "            if size == 5210 or size == 10240:\n",
    "                padded = np.pad(flat_arr, pad_width=(0, avg - size), mode='constant', constant_values=0)\n",
    "                temp.append(padded)\n",
    "            elif size == 33792:\n",
    "                trunc_arr = flat_arr[:avg]\n",
    "                temp.append(trunc_arr)\n",
    "        \n",
    "        reshaped[f'{class_name} {cat}'] = temp"
   ]
  },
  {
   "cell_type": "code",
   "execution_count": 17,
   "id": "5eb877c6-430b-426a-bef6-b8dbb923ce44",
   "metadata": {},
   "outputs": [],
   "source": [
    "shape_count = {}\n",
    "\n",
    "for class_name, lst in reshaped.items():\n",
    "    shapes = [arr.shape for arr in lst]\n",
    "    shapes_count = collections.Counter(shapes)\n",
    "    shape_count[f'{class_name} shape counts'] = shapes_count"
   ]
  },
  {
   "cell_type": "code",
   "execution_count": 18,
   "id": "8f69e2ad-169e-43b4-960a-bcff1d368fcb",
   "metadata": {},
   "outputs": [
    {
     "data": {
      "text/plain": [
       "{'bpain scores shape counts': Counter({(16414,): 16}),\n",
       " 'bpain embeddings shape counts': Counter({(16414,): 16}),\n",
       " 'bpain spectrograms shape counts': Counter({(16414,): 16}),\n",
       " 'discomf scores shape counts': Counter({(16414,): 64}),\n",
       " 'discomf embeddings shape counts': Counter({(16414,): 64}),\n",
       " 'discomf spectrograms shape counts': Counter({(16414,): 64}),\n",
       " 'hungry scores shape counts': Counter({(16414,): 100}),\n",
       " 'hungry embeddings shape counts': Counter({(16414,): 100}),\n",
       " 'hungry spectrograms shape counts': Counter({(16414,): 100}),\n",
       " 'tired scores shape counts': Counter({(16414,): 24}),\n",
       " 'tired embeddings shape counts': Counter({(16414,): 24}),\n",
       " 'tired spectrograms shape counts': Counter({(16414,): 24})}"
      ]
     },
     "execution_count": 18,
     "metadata": {},
     "output_type": "execute_result"
    }
   ],
   "source": [
    "shape_count"
   ]
  },
  {
   "cell_type": "code",
   "execution_count": 19,
   "id": "919ed44d-4cb8-44c3-b3fb-391ca00b15c9",
   "metadata": {},
   "outputs": [
    {
     "data": {
      "text/plain": [
       "dict_keys(['bpain scores', 'bpain embeddings', 'bpain spectrograms', 'discomf scores', 'discomf embeddings', 'discomf spectrograms', 'hungry scores', 'hungry embeddings', 'hungry spectrograms', 'tired scores', 'tired embeddings', 'tired spectrograms'])"
      ]
     },
     "execution_count": 19,
     "metadata": {},
     "output_type": "execute_result"
    }
   ],
   "source": [
    "reshaped.keys()"
   ]
  },
  {
   "cell_type": "code",
   "execution_count": 20,
   "id": "eac6f8e7-4bd0-4e08-a7a0-0e0b3a5f07c4",
   "metadata": {},
   "outputs": [],
   "source": [
    "# Define your class names\n",
    "class_names = ['bpain', 'discomf', 'hungry', 'tired']\n",
    "\n",
    "# Initialize dictionaries for each category\n",
    "score_only = {class_name: [] for class_name in class_names}\n",
    "embed_only = {class_name: [] for class_name in class_names}\n",
    "spec_only = {class_name: [] for class_name in class_names}\n",
    "\n",
    "# Loop over reshaped items only once\n",
    "for category, lists in reshaped.items():\n",
    "    for class_name in class_names:\n",
    "        if f'{class_name} scores' in category:\n",
    "            score_only[class_name].extend(lists)\n",
    "        elif f'{class_name} embeddings' in category:\n",
    "            embed_only[class_name].extend(lists)\n",
    "        elif f'{class_name} spectrograms' in category:\n",
    "            spec_only[class_name].extend(lists)"
   ]
  },
  {
   "cell_type": "code",
   "execution_count": 21,
   "id": "ae01faf4-0313-427a-948f-84f7d6c9073b",
   "metadata": {},
   "outputs": [
    {
     "data": {
      "text/plain": [
       "(24, 16414)"
      ]
     },
     "execution_count": 21,
     "metadata": {},
     "output_type": "execute_result"
    }
   ],
   "source": [
    "bpain_score_arr = np.array(score_only['bpain'])\n",
    "discomf_score_arr = np.array(score_only['discomf'])\n",
    "hungry_score_arr = np.array(score_only['hungry'])\n",
    "tired_score_arr = np.array(score_only['tired'])\n",
    "tired_score_arr.shape"
   ]
  },
  {
   "cell_type": "code",
   "execution_count": 22,
   "id": "5a26bfa2-e42e-42ff-81ad-607ab215adf4",
   "metadata": {},
   "outputs": [
    {
     "data": {
      "text/plain": [
       "(204, 16414)"
      ]
     },
     "execution_count": 22,
     "metadata": {},
     "output_type": "execute_result"
    }
   ],
   "source": [
    "score_stack = np.vstack((bpain_score_arr, discomf_score_arr, hungry_score_arr, tired_score_arr))\n",
    "score_stack.shape"
   ]
  },
  {
   "cell_type": "code",
   "execution_count": 23,
   "id": "4e87d043-242b-4d51-95a3-6e71b7f01098",
   "metadata": {},
   "outputs": [
    {
     "name": "stdout",
     "output_type": "stream",
     "text": [
      "matching true\n"
     ]
    }
   ],
   "source": [
    "if np.array_equal(score_stack[180:204, :], tired_score_arr):\n",
    "    print('matching true')\n",
    "else:\n",
    "    print('matching false')"
   ]
  },
  {
   "cell_type": "code",
   "execution_count": 24,
   "id": "304b880b-7a7a-4cbb-b5ba-6046774fc1eb",
   "metadata": {},
   "outputs": [],
   "source": [
    "bpain_embed_arr = np.array(embed_only['bpain'])\n",
    "discomf_embed_arr = np.array(embed_only['discomf'])\n",
    "hungry_embed_arr = np.array(embed_only['hungry'])\n",
    "tired_embed_arr = np.array(embed_only['tired'])"
   ]
  },
  {
   "cell_type": "code",
   "execution_count": 25,
   "id": "e1634ffc-3bab-42aa-9237-4b13f0ff0e33",
   "metadata": {},
   "outputs": [
    {
     "data": {
      "text/plain": [
       "(204, 16414)"
      ]
     },
     "execution_count": 25,
     "metadata": {},
     "output_type": "execute_result"
    }
   ],
   "source": [
    "embed_stack = np.vstack((bpain_embed_arr, discomf_embed_arr, hungry_embed_arr, tired_embed_arr))\n",
    "embed_stack.shape"
   ]
  },
  {
   "cell_type": "code",
   "execution_count": 26,
   "id": "33fd8421-b6c1-4111-8fbb-cf1756abdf44",
   "metadata": {},
   "outputs": [],
   "source": [
    "bpain_spec_arr = np.array(spec_only['bpain'])\n",
    "discomf_spec_arr = np.array(spec_only['discomf'])\n",
    "hungry_spec_arr = np.array(spec_only['hungry'])\n",
    "tired_spec_arr = np.array(spec_only['tired'])"
   ]
  },
  {
   "cell_type": "code",
   "execution_count": 27,
   "id": "d38f5559-1a8e-4a4e-acc6-7b34a3541b02",
   "metadata": {},
   "outputs": [
    {
     "data": {
      "text/plain": [
       "(204, 16414)"
      ]
     },
     "execution_count": 27,
     "metadata": {},
     "output_type": "execute_result"
    }
   ],
   "source": [
    "spec_stack = np.vstack((bpain_spec_arr, discomf_spec_arr, hungry_spec_arr, tired_spec_arr))\n",
    "spec_stack.shape"
   ]
  },
  {
   "cell_type": "code",
   "execution_count": 28,
   "id": "04d93490-48ad-448b-ad69-70e3647f1d3e",
   "metadata": {},
   "outputs": [
    {
     "data": {
      "text/plain": [
       "(204,)"
      ]
     },
     "execution_count": 28,
     "metadata": {},
     "output_type": "execute_result"
    }
   ],
   "source": [
    "# Combine data and labels\n",
    "score_labels = []\n",
    "\n",
    "score_arrlst = [\n",
    "    bpain_score_arr,\n",
    "    discomf_score_arr,\n",
    "    hungry_score_arr,\n",
    "    tired_score_arr\n",
    "]\n",
    "\n",
    "for idx, arr in enumerate(score_arrlst):\n",
    "    score_labels.extend([idx] * len(arr))\n",
    "\n",
    "y_train = np.array(score_labels)\n",
    "y_train.shape"
   ]
  },
  {
   "cell_type": "code",
   "execution_count": 29,
   "id": "edf0faeb-6803-4ea4-86a6-30509f09d029",
   "metadata": {},
   "outputs": [
    {
     "name": "stdout",
     "output_type": "stream",
     "text": [
      "16\n",
      "64\n",
      "100\n",
      "24\n"
     ]
    }
   ],
   "source": [
    "for i in range(4):\n",
    "    print(score_labels.count(i))"
   ]
  },
  {
   "cell_type": "code",
   "execution_count": 30,
   "id": "85ac9b04-e85e-48aa-a4be-0cec3ad9180b",
   "metadata": {},
   "outputs": [],
   "source": [
    "# Generate shuffled indices\n",
    "shuffled_indices = np.random.permutation(score_stack.shape[0])\n",
    "\n",
    "# Shuffle each array using the same shuffled indices\n",
    "shuffled_score = score_stack[shuffled_indices, :]\n",
    "shuffled_embed = embed_stack[shuffled_indices, :]\n",
    "shuffled_spec = spec_stack[shuffled_indices, :]\n",
    "y_train = y_train[shuffled_indices]"
   ]
  },
  {
   "cell_type": "code",
   "execution_count": 31,
   "id": "17326bd7",
   "metadata": {},
   "outputs": [],
   "source": [
    "train_ratio = 0.8\n",
    "\n",
    "num_train = int(len(shuffled_indices) * train_ratio)\n",
    "\n",
    "train_indices, test_indices = shuffled_indices[:num_train], shuffled_indices[num_train:]\n",
    "\n",
    "# 나눈 인덱스를 사용하여 데이터를 나눔\n",
    "shuffled_score_train, shuffled_score_test = shuffled_score[train_indices, :], shuffled_score[test_indices, :]\n",
    "shuffled_embed_train, shuffled_embed_test = shuffled_embed[train_indices, :], shuffled_embed[test_indices, :]\n",
    "shuffled_spec_train, shuffled_spec_test = shuffled_spec[train_indices, :], shuffled_spec[test_indices, :]\n",
    "y_train_train, y_train_test = y_train[train_indices], y_train[test_indices]"
   ]
  },
  {
   "cell_type": "markdown",
   "id": "c00bdc92",
   "metadata": {},
   "source": [
    "## Functional API Tried"
   ]
  },
  {
   "cell_type": "code",
   "execution_count": 32,
   "id": "fec78dda",
   "metadata": {},
   "outputs": [],
   "source": [
    "from tensorflow.keras import layers, models, utils, Input"
   ]
  },
  {
   "cell_type": "code",
   "execution_count": 47,
   "id": "f0f69c6b",
   "metadata": {},
   "outputs": [
    {
     "name": "stdout",
     "output_type": "stream",
     "text": [
      "Model: \"model_1\"\n",
      "__________________________________________________________________________________________________\n",
      " Layer (type)                   Output Shape         Param #     Connected to                     \n",
      "==================================================================================================\n",
      " Input_1 (InputLayer)           [(None, 16414)]      0           []                               \n",
      "                                                                                                  \n",
      " Input_2 (InputLayer)           [(None, 16414)]      0           []                               \n",
      "                                                                                                  \n",
      " Input_3 (InputLayer)           [(None, 16414)]      0           []                               \n",
      "                                                                                                  \n",
      " dense_12 (Dense)               (None, 512)          8404480     ['Input_1[0][0]']                \n",
      "                                                                                                  \n",
      " dense_13 (Dense)               (None, 512)          8404480     ['Input_2[0][0]']                \n",
      "                                                                                                  \n",
      " dense_14 (Dense)               (None, 512)          8404480     ['Input_3[0][0]']                \n",
      "                                                                                                  \n",
      " batch_normalization_12 (BatchN  (None, 512)         2048        ['dense_12[0][0]']               \n",
      " ormalization)                                                                                    \n",
      "                                                                                                  \n",
      " batch_normalization_13 (BatchN  (None, 512)         2048        ['dense_13[0][0]']               \n",
      " ormalization)                                                                                    \n",
      "                                                                                                  \n",
      " batch_normalization_14 (BatchN  (None, 512)         2048        ['dense_14[0][0]']               \n",
      " ormalization)                                                                                    \n",
      "                                                                                                  \n",
      " dense_15 (Dense)               (None, 256)          131328      ['batch_normalization_12[0][0]'] \n",
      "                                                                                                  \n",
      " dense_16 (Dense)               (None, 256)          131328      ['batch_normalization_13[0][0]'] \n",
      "                                                                                                  \n",
      " dense_17 (Dense)               (None, 256)          131328      ['batch_normalization_14[0][0]'] \n",
      "                                                                                                  \n",
      " batch_normalization_15 (BatchN  (None, 256)         1024        ['dense_15[0][0]']               \n",
      " ormalization)                                                                                    \n",
      "                                                                                                  \n",
      " batch_normalization_16 (BatchN  (None, 256)         1024        ['dense_16[0][0]']               \n",
      " ormalization)                                                                                    \n",
      "                                                                                                  \n",
      " batch_normalization_17 (BatchN  (None, 256)         1024        ['dense_17[0][0]']               \n",
      " ormalization)                                                                                    \n",
      "                                                                                                  \n",
      " dropout_6 (Dropout)            (None, 256)          0           ['batch_normalization_15[0][0]'] \n",
      "                                                                                                  \n",
      " dropout_7 (Dropout)            (None, 256)          0           ['batch_normalization_16[0][0]'] \n",
      "                                                                                                  \n",
      " dropout_8 (Dropout)            (None, 256)          0           ['batch_normalization_17[0][0]'] \n",
      "                                                                                                  \n",
      " dense_18 (Dense)               (None, 64)           16448       ['dropout_6[0][0]']              \n",
      "                                                                                                  \n",
      " dense_19 (Dense)               (None, 64)           16448       ['dropout_7[0][0]']              \n",
      "                                                                                                  \n",
      " dense_20 (Dense)               (None, 64)           16448       ['dropout_8[0][0]']              \n",
      "                                                                                                  \n",
      " batch_normalization_18 (BatchN  (None, 64)          256         ['dense_18[0][0]']               \n",
      " ormalization)                                                                                    \n",
      "                                                                                                  \n",
      " batch_normalization_19 (BatchN  (None, 64)          256         ['dense_19[0][0]']               \n",
      " ormalization)                                                                                    \n",
      "                                                                                                  \n",
      " batch_normalization_20 (BatchN  (None, 64)          256         ['dense_20[0][0]']               \n",
      " ormalization)                                                                                    \n",
      "                                                                                                  \n",
      " dense_21 (Dense)               (None, 32)           2080        ['batch_normalization_18[0][0]'] \n",
      "                                                                                                  \n",
      " dense_22 (Dense)               (None, 32)           2080        ['batch_normalization_19[0][0]'] \n",
      "                                                                                                  \n",
      " dense_23 (Dense)               (None, 32)           2080        ['batch_normalization_20[0][0]'] \n",
      "                                                                                                  \n",
      " batch_normalization_21 (BatchN  (None, 32)          128         ['dense_21[0][0]']               \n",
      " ormalization)                                                                                    \n",
      "                                                                                                  \n",
      " batch_normalization_22 (BatchN  (None, 32)          128         ['dense_22[0][0]']               \n",
      " ormalization)                                                                                    \n",
      "                                                                                                  \n",
      " batch_normalization_23 (BatchN  (None, 32)          128         ['dense_23[0][0]']               \n",
      " ormalization)                                                                                    \n",
      "                                                                                                  \n",
      " dropout_9 (Dropout)            (None, 32)           0           ['batch_normalization_21[0][0]'] \n",
      "                                                                                                  \n",
      " dropout_10 (Dropout)           (None, 32)           0           ['batch_normalization_22[0][0]'] \n",
      "                                                                                                  \n",
      " dropout_11 (Dropout)           (None, 32)           0           ['batch_normalization_23[0][0]'] \n",
      "                                                                                                  \n",
      " concatenate_1 (Concatenate)    (None, 96)           0           ['dropout_9[0][0]',              \n",
      "                                                                  'dropout_10[0][0]',             \n",
      "                                                                  'dropout_11[0][0]']             \n",
      "                                                                                                  \n",
      " output (Dense)                 (None, 4)            388         ['concatenate_1[0][0]']          \n",
      "                                                                                                  \n",
      "==================================================================================================\n",
      "Total params: 25,673,764\n",
      "Trainable params: 25,668,580\n",
      "Non-trainable params: 5,184\n",
      "__________________________________________________________________________________________________\n"
     ]
    }
   ],
   "source": [
    "# Input layer\n",
    "input_1 = Input(shape=(shuffled_score_train[0].shape), name='Input_1')\n",
    "input_2 = Input(shape=(shuffled_embed_train[0].shape), name='Input_2')\n",
    "input_3 = Input(shape=(shuffled_spec_train[0].shape), name='Input_3')\n",
    "\n",
    "# First hidden layer\n",
    "hidden_spec1 = layers.Dense(512, activation='sigmoid')(input_1)\n",
    "hidden_spec1 = layers.BatchNormalization()(hidden_spec1)\n",
    "\n",
    "hidden_embed1 = layers.Dense(512, activation='sigmoid')(input_2)\n",
    "hidden_embed1 = layers.BatchNormalization()(hidden_embed1)\n",
    "\n",
    "hidden_score1 = layers.Dense(512, activation='sigmoid')(input_3)\n",
    "hidden_score1 = layers.BatchNormalization()(hidden_score1)\n",
    "\n",
    "# Second hidden layer\n",
    "hidden_spec2 = layers.Dense(256, activation='sigmoid')(hidden_spec1)\n",
    "hidden_spec2 = layers.BatchNormalization()(hidden_spec2)\n",
    "hidden_spec2 = layers.Dropout(0.35)(hidden_spec2)\n",
    "\n",
    "hidden_embed2 = layers.Dense(256, activation='sigmoid')(hidden_embed1)\n",
    "hidden_embed2 = layers.BatchNormalization()(hidden_embed2)\n",
    "hidden_embed2 = layers.Dropout(0.35)(hidden_embed2)\n",
    "\n",
    "hidden_score2 = layers.Dense(256, activation='sigmoid')(hidden_score1)\n",
    "hidden_score2 = layers.BatchNormalization()(hidden_score2)\n",
    "hidden_score2 = layers.Dropout(0.35)(hidden_score2)\n",
    "\n",
    "# Third hidden layer\n",
    "hidden_spec3 = layers.Dense(64, activation='sigmoid')(hidden_spec2)\n",
    "hidden_spec3 = layers.BatchNormalization()(hidden_spec3)\n",
    "\n",
    "hidden_embed3 = layers.Dense(64, activation='sigmoid')(hidden_embed2)\n",
    "hidden_embed3 = layers.BatchNormalization()(hidden_embed3)\n",
    "\n",
    "hidden_score3 = layers.Dense(64, activation='sigmoid')(hidden_score2)\n",
    "hidden_score3 = layers.BatchNormalization()(hidden_score3)\n",
    "\n",
    "# Fourth hidden layer\n",
    "hidden_spec4 = layers.Dense(32, activation='sigmoid')(hidden_spec3)\n",
    "hidden_spec4 = layers.BatchNormalization()(hidden_spec4)\n",
    "hidden_spec4 = layers.Dropout(0.35)(hidden_spec4)\n",
    "\n",
    "hidden_embed4 = layers.Dense(32, activation='sigmoid')(hidden_embed3)\n",
    "hidden_embed4 = layers.BatchNormalization()(hidden_embed4)\n",
    "hidden_embed4 = layers.Dropout(0.35)(hidden_embed4)\n",
    "\n",
    "hidden_score4 = layers.Dense(32, activation='sigmoid')(hidden_score3)\n",
    "hidden_score4 = layers.BatchNormalization()(hidden_score4)\n",
    "hidden_score4 = layers.Dropout(0.35)(hidden_score4)\n",
    "\n",
    "# Concatenate layer\n",
    "concat = layers.Concatenate()([hidden_spec4, hidden_embed4, hidden_score4])\n",
    "# \n",
    "output = layers.Dense(4, activation='softmax', name='output')(concat)\n",
    "\n",
    "model = models.Model(inputs=[input_1, input_2, input_3], outputs=[output])\n",
    "model.summary()"
   ]
  },
  {
   "cell_type": "code",
   "execution_count": 34,
   "id": "b4680400",
   "metadata": {},
   "outputs": [
    {
     "name": "stdout",
     "output_type": "stream",
     "text": [
      "You must install pydot (`pip install pydot`) and install graphviz (see instructions at https://graphviz.gitlab.io/download/) for plot_model to work.\n"
     ]
    }
   ],
   "source": [
    "utils.plot_model(model)"
   ]
  },
  {
   "cell_type": "code",
   "execution_count": 49,
   "id": "13dee0cb",
   "metadata": {},
   "outputs": [],
   "source": [
    "# Compile the model\n",
    "model.compile(optimizer='adam', \n",
    "              loss='sparse_categorical_crossentropy', \n",
    "              metrics=['accuracy'])\n"
   ]
  },
  {
   "cell_type": "code",
   "execution_count": 50,
   "id": "6583d276",
   "metadata": {},
   "outputs": [
    {
     "name": "stdout",
     "output_type": "stream",
     "text": [
      "Epoch 1/50\n",
      "41/41 [==============================] - 5s 42ms/step - loss: 2.0784 - accuracy: 0.2883 - val_loss: 1.3295 - val_accuracy: 0.4146\n",
      "Epoch 2/50\n",
      "41/41 [==============================] - 1s 29ms/step - loss: 1.6138 - accuracy: 0.4110 - val_loss: 1.2928 - val_accuracy: 0.4146\n",
      "Epoch 3/50\n",
      "41/41 [==============================] - 1s 29ms/step - loss: 1.4011 - accuracy: 0.4294 - val_loss: 1.2686 - val_accuracy: 0.4146\n",
      "Epoch 4/50\n",
      "41/41 [==============================] - 1s 28ms/step - loss: 1.2228 - accuracy: 0.5583 - val_loss: 1.2531 - val_accuracy: 0.4146\n",
      "Epoch 5/50\n",
      "41/41 [==============================] - 1s 29ms/step - loss: 1.1395 - accuracy: 0.5276 - val_loss: 1.2526 - val_accuracy: 0.4146\n",
      "Epoch 6/50\n",
      "41/41 [==============================] - 1s 28ms/step - loss: 0.9115 - accuracy: 0.6626 - val_loss: 1.3171 - val_accuracy: 0.4390\n",
      "Epoch 7/50\n",
      "41/41 [==============================] - 1s 27ms/step - loss: 0.9095 - accuracy: 0.6319 - val_loss: 1.3888 - val_accuracy: 0.4390\n",
      "Epoch 8/50\n",
      "41/41 [==============================] - 1s 28ms/step - loss: 0.9272 - accuracy: 0.6748 - val_loss: 1.3943 - val_accuracy: 0.4878\n",
      "Epoch 9/50\n",
      "41/41 [==============================] - 1s 30ms/step - loss: 0.9181 - accuracy: 0.6626 - val_loss: 1.5684 - val_accuracy: 0.4634\n",
      "Epoch 10/50\n",
      "41/41 [==============================] - 1s 28ms/step - loss: 0.8746 - accuracy: 0.6810 - val_loss: 1.9528 - val_accuracy: 0.4390\n",
      "Epoch 11/50\n",
      "41/41 [==============================] - 1s 28ms/step - loss: 0.6688 - accuracy: 0.7546 - val_loss: 1.7081 - val_accuracy: 0.4390\n",
      "Epoch 12/50\n",
      "41/41 [==============================] - 1s 28ms/step - loss: 0.5793 - accuracy: 0.7853 - val_loss: 2.0254 - val_accuracy: 0.3902\n",
      "Epoch 13/50\n",
      "41/41 [==============================] - 1s 29ms/step - loss: 0.6111 - accuracy: 0.7791 - val_loss: 1.7547 - val_accuracy: 0.4390\n",
      "Epoch 14/50\n",
      "41/41 [==============================] - 1s 30ms/step - loss: 0.4861 - accuracy: 0.8405 - val_loss: 1.9079 - val_accuracy: 0.5122\n",
      "Epoch 15/50\n",
      "41/41 [==============================] - 1s 28ms/step - loss: 0.5086 - accuracy: 0.8160 - val_loss: 2.2160 - val_accuracy: 0.4634\n",
      "Epoch 16/50\n",
      "41/41 [==============================] - 1s 28ms/step - loss: 0.4451 - accuracy: 0.8405 - val_loss: 2.2204 - val_accuracy: 0.4146\n",
      "Epoch 17/50\n",
      "41/41 [==============================] - 1s 29ms/step - loss: 0.4363 - accuracy: 0.8282 - val_loss: 2.6156 - val_accuracy: 0.3902\n",
      "Epoch 18/50\n",
      "41/41 [==============================] - 1s 30ms/step - loss: 0.4207 - accuracy: 0.8405 - val_loss: 2.6083 - val_accuracy: 0.4146\n",
      "Epoch 19/50\n",
      "41/41 [==============================] - 1s 28ms/step - loss: 0.4041 - accuracy: 0.8650 - val_loss: 2.4966 - val_accuracy: 0.3659\n",
      "Epoch 20/50\n",
      "41/41 [==============================] - 1s 30ms/step - loss: 0.4847 - accuracy: 0.8037 - val_loss: 2.6716 - val_accuracy: 0.3415\n",
      "Epoch 21/50\n",
      "41/41 [==============================] - 1s 30ms/step - loss: 0.5616 - accuracy: 0.7853 - val_loss: 2.6979 - val_accuracy: 0.4390\n",
      "Epoch 22/50\n",
      "41/41 [==============================] - 1s 30ms/step - loss: 0.4367 - accuracy: 0.8098 - val_loss: 2.6836 - val_accuracy: 0.4634\n",
      "Epoch 23/50\n",
      "41/41 [==============================] - 1s 28ms/step - loss: 0.3918 - accuracy: 0.8282 - val_loss: 2.7459 - val_accuracy: 0.3902\n",
      "Epoch 24/50\n",
      "41/41 [==============================] - 1s 28ms/step - loss: 0.3451 - accuracy: 0.8773 - val_loss: 2.8974 - val_accuracy: 0.4390\n",
      "Epoch 25/50\n",
      "41/41 [==============================] - 1s 27ms/step - loss: 0.4338 - accuracy: 0.8405 - val_loss: 2.8284 - val_accuracy: 0.4146\n",
      "Epoch 26/50\n",
      "41/41 [==============================] - 1s 32ms/step - loss: 0.4420 - accuracy: 0.8282 - val_loss: 2.3564 - val_accuracy: 0.4634\n",
      "Epoch 27/50\n",
      "41/41 [==============================] - 1s 30ms/step - loss: 0.4438 - accuracy: 0.8221 - val_loss: 2.7184 - val_accuracy: 0.4390\n",
      "Epoch 28/50\n",
      "41/41 [==============================] - 1s 28ms/step - loss: 0.3519 - accuracy: 0.8712 - val_loss: 3.1969 - val_accuracy: 0.4878\n",
      "Epoch 29/50\n",
      "41/41 [==============================] - 1s 28ms/step - loss: 0.4151 - accuracy: 0.8405 - val_loss: 3.0376 - val_accuracy: 0.3902\n",
      "Epoch 30/50\n",
      "41/41 [==============================] - 1s 29ms/step - loss: 0.4199 - accuracy: 0.8405 - val_loss: 4.1467 - val_accuracy: 0.3902\n",
      "Epoch 31/50\n",
      "41/41 [==============================] - 1s 30ms/step - loss: 0.3294 - accuracy: 0.8834 - val_loss: 3.4953 - val_accuracy: 0.4146\n",
      "Epoch 32/50\n",
      "41/41 [==============================] - 1s 29ms/step - loss: 0.2541 - accuracy: 0.8957 - val_loss: 3.2426 - val_accuracy: 0.3415\n",
      "Epoch 33/50\n",
      "41/41 [==============================] - 1s 29ms/step - loss: 0.4225 - accuracy: 0.8160 - val_loss: 2.8049 - val_accuracy: 0.3902\n",
      "Epoch 34/50\n",
      "41/41 [==============================] - 1s 28ms/step - loss: 0.3336 - accuracy: 0.8834 - val_loss: 2.8051 - val_accuracy: 0.4146\n",
      "Epoch 35/50\n",
      "41/41 [==============================] - 1s 29ms/step - loss: 0.2730 - accuracy: 0.9141 - val_loss: 2.8501 - val_accuracy: 0.3902\n",
      "Epoch 36/50\n",
      "41/41 [==============================] - 1s 27ms/step - loss: 0.2096 - accuracy: 0.9387 - val_loss: 2.7823 - val_accuracy: 0.3902\n",
      "Epoch 37/50\n",
      "41/41 [==============================] - 1s 30ms/step - loss: 0.2780 - accuracy: 0.8896 - val_loss: 2.4550 - val_accuracy: 0.4634\n",
      "Epoch 38/50\n",
      "41/41 [==============================] - 1s 29ms/step - loss: 0.2291 - accuracy: 0.9202 - val_loss: 2.1638 - val_accuracy: 0.4634\n",
      "Epoch 39/50\n",
      "41/41 [==============================] - 1s 31ms/step - loss: 0.3959 - accuracy: 0.8589 - val_loss: 2.3646 - val_accuracy: 0.4878\n",
      "Epoch 40/50\n",
      "41/41 [==============================] - 1s 29ms/step - loss: 0.2428 - accuracy: 0.9141 - val_loss: 2.3360 - val_accuracy: 0.4878\n",
      "Epoch 41/50\n",
      "41/41 [==============================] - 1s 33ms/step - loss: 0.2699 - accuracy: 0.8834 - val_loss: 2.7682 - val_accuracy: 0.4634\n",
      "Epoch 42/50\n",
      "41/41 [==============================] - 1s 33ms/step - loss: 0.3402 - accuracy: 0.8834 - val_loss: 2.5495 - val_accuracy: 0.4634\n",
      "Epoch 43/50\n",
      "41/41 [==============================] - 2s 39ms/step - loss: 0.3182 - accuracy: 0.8712 - val_loss: 2.7021 - val_accuracy: 0.4878\n",
      "Epoch 44/50\n",
      "41/41 [==============================] - 2s 39ms/step - loss: 0.3214 - accuracy: 0.8650 - val_loss: 2.9421 - val_accuracy: 0.4634\n",
      "Epoch 45/50\n",
      "41/41 [==============================] - 2s 47ms/step - loss: 0.3253 - accuracy: 0.8834 - val_loss: 2.5360 - val_accuracy: 0.4878\n",
      "Epoch 46/50\n",
      "41/41 [==============================] - 2s 41ms/step - loss: 0.2145 - accuracy: 0.9448 - val_loss: 3.0786 - val_accuracy: 0.4878\n",
      "Epoch 47/50\n",
      "41/41 [==============================] - 1s 36ms/step - loss: 0.3121 - accuracy: 0.8957 - val_loss: 3.3246 - val_accuracy: 0.4146\n",
      "Epoch 48/50\n",
      "41/41 [==============================] - 2s 39ms/step - loss: 0.2893 - accuracy: 0.8834 - val_loss: 3.1680 - val_accuracy: 0.4146\n",
      "Epoch 49/50\n",
      "41/41 [==============================] - 1s 33ms/step - loss: 0.2522 - accuracy: 0.9202 - val_loss: 3.2196 - val_accuracy: 0.3902\n",
      "Epoch 50/50\n",
      "41/41 [==============================] - 1s 29ms/step - loss: 0.3476 - accuracy: 0.8405 - val_loss: 3.4439 - val_accuracy: 0.3415\n"
     ]
    }
   ],
   "source": [
    "history = model.fit(\n",
    "    \n",
    "    x=(shuffled_score_train, shuffled_embed_train, shuffled_spec_train),\n",
    "    y=y_train_train,\n",
    "    batch_size=4,\n",
    "    epochs=50,\n",
    "    validation_data=((shuffled_score_test, shuffled_embed_test, shuffled_spec_test), y_train_test)\n",
    "    )\n"
   ]
  },
  {
   "cell_type": "code",
   "execution_count": 51,
   "id": "a14d5b96",
   "metadata": {},
   "outputs": [
    {
     "name": "stderr",
     "output_type": "stream",
     "text": [
      "C:\\Users\\Desk_Kang\\AppData\\Local\\Temp\\ipykernel_13496\\1424018204.py:3: MatplotlibDeprecationWarning: The seaborn styles shipped by Matplotlib are deprecated since 3.6, as they no longer correspond to the styles shipped by seaborn. However, they will remain available as 'seaborn-v0_8-<style>'. Alternatively, directly use the seaborn API instead.\n",
      "  plt.style.use('seaborn-white')\n"
     ]
    },
    {
     "data": {
      "image/png": "[encoded data removed]",
      "text/plain": [
       "<Figure size 1200x500 with 2 Axes>"
      ]
     },
     "metadata": {},
     "output_type": "display_data"
    }
   ],
   "source": [
    "import matplotlib.pyplot as plt\n",
    "\n",
    "plt.style.use('seaborn-white')\n",
    "\n",
    "history_dict = history.history\n",
    "\n",
    "loss = history_dict['loss']\n",
    "val_loss = history_dict['val_loss']\n",
    "\n",
    "epochs = range(1, len(loss) + 1)\n",
    "fig = plt.figure(figsize=(12, 5))\n",
    "\n",
    "ax1 = fig.add_subplot(1, 2, 1)\n",
    "ax1.plot(epochs, loss, 'b-', label='train_loss')\n",
    "ax1.plot(epochs, val_loss, 'r-', label='val_loss')\n",
    "ax1.set_title('Train and Validation Loss')\n",
    "ax1.set_xlabel('Epochs')\n",
    "ax1.set_ylabel('Loss')\n",
    "ax1.grid()\n",
    "ax1.legend()\n",
    "\n",
    "accuracy = history_dict['accuracy']\n",
    "val_accuracy = history_dict['val_accuracy']\n",
    "\n",
    "ax2 = fig.add_subplot(1, 2, 2)\n",
    "ax2.plot(epochs, accuracy, 'b-', label='train_accuracy')\n",
    "ax2.plot(epochs, val_accuracy, 'r-', label='val_accuracy')\n",
    "ax2.set_title('Train and Validation Accuracy')\n",
    "ax2.set_xlabel('Epochs')\n",
    "ax2.set_ylabel('Accuracy')\n",
    "ax2.grid()\n",
    "ax2.legend()\n",
    "\n",
    "plt.show()"
   ]
  },
  {
   "cell_type": "code",
   "execution_count": null,
   "id": "0cdf7876",
   "metadata": {},
   "outputs": [],
   "source": []
  }
 ],
 "metadata": {
  "kernelspec": {
   "display_name": "Python 3 (ipykernel)",
   "language": "python",
   "name": "python3"
  },
  "language_info": {
   "codemirror_mode": {
    "name": "ipython",
    "version": 3
   },
   "file_extension": ".py",
   "mimetype": "text/x-python",
   "name": "python",
   "nbconvert_exporter": "python",
   "pygments_lexer": "ipython3",
   "version": "3.10.13"
  }
 },
 "nbformat": 4,
 "nbformat_minor": 5
}
