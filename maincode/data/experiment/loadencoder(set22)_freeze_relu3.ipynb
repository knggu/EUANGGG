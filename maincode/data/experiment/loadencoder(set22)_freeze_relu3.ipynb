{
 "cells": [
  {
   "cell_type": "code",
   "execution_count": 1,
   "metadata": {},
   "outputs": [],
   "source": [
    "import matplotlib.pyplot as plt\n",
    "import os\n",
    "from scipy.io import wavfile\n",
    "from collections import defaultdict, Counter\n",
    "from scipy import signal\n",
    "import numpy as np\n",
    "import librosa\n",
    "import random\n",
    "import tensorflow as tf\n",
    "from keras import models, layers"
   ]
  },
  {
   "cell_type": "code",
   "execution_count": 2,
   "metadata": {},
   "outputs": [],
   "source": [
    "audio_data_path = r'C:./set22/train'"
   ]
  },
  {
   "cell_type": "code",
   "execution_count": 3,
   "metadata": {},
   "outputs": [],
   "source": [
    "#파라미터 설정\n",
    "sr = 16000\n",
    "n_mels = 128\n",
    "# n_ttf = \n",
    "# hop_length\n",
    "# 224 222 220 110 108 106 54  "
   ]
  },
  {
   "cell_type": "code",
   "execution_count": 4,
   "metadata": {},
   "outputs": [],
   "source": [
    "trainset = []"
   ]
  },
  {
   "cell_type": "code",
   "execution_count": 5,
   "metadata": {},
   "outputs": [],
   "source": [
    "label_mapping = {'belly_pain': 0, 'discomfort': 1, 'hungry': 2, 'tired': 3}"
   ]
  },
  {
   "cell_type": "code",
   "execution_count": 6,
   "metadata": {},
   "outputs": [],
   "source": [
    "# 목표로 하는 패딩 크기\n",
    "target_size = (n_mels, n_mels)\n",
    "\n",
    "# 폴더 내의 파일을 반복하여 데이터셋에 추가\n",
    "for class_name in label_mapping.keys():\n",
    "    class_path = os.path.join(audio_data_path, class_name)\n",
    "    \n",
    "    # 클래스 폴더 내의 WAV 파일에 대해 루프 수행\n",
    "    for filename in os.listdir(class_path):\n",
    "        if filename.endswith(\".wav\"):\n",
    "            try:\n",
    "                # WAV 파일 읽기\n",
    "                wav_path = os.path.join(class_path, filename)\n",
    "                \n",
    "                wav, sr = librosa.load(wav_path, sr=None, mono=True, duration=5.0)\n",
    "\n",
    "                # Mel-spectrogram\n",
    "                mels_spec = librosa.feature.melspectrogram(y=wav, sr= sr, n_mels= n_mels)\n",
    "                \n",
    "                # 패딩 또는 자르기 작업\n",
    "                if mels_spec.shape[1] > target_size[1]:\n",
    "                    # 자르기\n",
    "                    padded_mels = mels_spec[:, :target_size[1]]\n",
    "                else:\n",
    "                    # 패딩\n",
    "                    pad_width = target_size[1] - mels_spec.shape[1]\n",
    "                    padded_mels = np.pad(mels_spec, ((0, 0), (0, pad_width)), mode='constant')\n",
    "                \n",
    "                # 라벨 할당\n",
    "                label = label_mapping[class_name]\n",
    "                \n",
    "                # 데이터와 라벨을 trainset에 추가\n",
    "                trainset.append((padded_mels, label))\n",
    "                \n",
    "            except Exception as e:\n",
    "                print(f'Error processing {filename}: {e}')"
   ]
  },
  {
   "cell_type": "code",
   "execution_count": 7,
   "metadata": {},
   "outputs": [
    {
     "name": "stdout",
     "output_type": "stream",
     "text": [
      "Mel_spec 크기: (128, 128), 라벨: 0\n",
      "Mel_spec 크기: (128, 128), 라벨: 0\n",
      "Mel_spec 크기: (128, 128), 라벨: 0\n",
      "Mel_spec 크기: (128, 128), 라벨: 0\n",
      "Mel_spec 크기: (128, 128), 라벨: 0\n",
      "Mel_spec 크기: (128, 128), 라벨: 0\n",
      "Mel_spec 크기: (128, 128), 라벨: 0\n",
      "Mel_spec 크기: (128, 128), 라벨: 0\n",
      "Mel_spec 크기: (128, 128), 라벨: 0\n",
      "Mel_spec 크기: (128, 128), 라벨: 0\n",
      "Mel_spec 크기: (128, 128), 라벨: 0\n",
      "Mel_spec 크기: (128, 128), 라벨: 0\n",
      "Mel_spec 크기: (128, 128), 라벨: 0\n",
      "Mel_spec 크기: (128, 128), 라벨: 0\n",
      "Mel_spec 크기: (128, 128), 라벨: 0\n",
      "Mel_spec 크기: (128, 128), 라벨: 0\n",
      "Mel_spec 크기: (128, 128), 라벨: 0\n",
      "Mel_spec 크기: (128, 128), 라벨: 0\n",
      "Mel_spec 크기: (128, 128), 라벨: 0\n",
      "Mel_spec 크기: (128, 128), 라벨: 0\n",
      "Mel_spec 크기: (128, 128), 라벨: 0\n",
      "Mel_spec 크기: (128, 128), 라벨: 0\n",
      "Mel_spec 크기: (128, 128), 라벨: 0\n",
      "Mel_spec 크기: (128, 128), 라벨: 0\n",
      "Mel_spec 크기: (128, 128), 라벨: 0\n",
      "Mel_spec 크기: (128, 128), 라벨: 0\n",
      "Mel_spec 크기: (128, 128), 라벨: 0\n",
      "Mel_spec 크기: (128, 128), 라벨: 0\n",
      "Mel_spec 크기: (128, 128), 라벨: 0\n",
      "Mel_spec 크기: (128, 128), 라벨: 0\n",
      "Mel_spec 크기: (128, 128), 라벨: 0\n",
      "Mel_spec 크기: (128, 128), 라벨: 0\n",
      "Mel_spec 크기: (128, 128), 라벨: 0\n",
      "Mel_spec 크기: (128, 128), 라벨: 0\n",
      "Mel_spec 크기: (128, 128), 라벨: 0\n",
      "Mel_spec 크기: (128, 128), 라벨: 0\n",
      "Mel_spec 크기: (128, 128), 라벨: 0\n",
      "Mel_spec 크기: (128, 128), 라벨: 0\n",
      "Mel_spec 크기: (128, 128), 라벨: 0\n",
      "Mel_spec 크기: (128, 128), 라벨: 0\n",
      "Mel_spec 크기: (128, 128), 라벨: 0\n",
      "Mel_spec 크기: (128, 128), 라벨: 0\n",
      "Mel_spec 크기: (128, 128), 라벨: 0\n",
      "Mel_spec 크기: (128, 128), 라벨: 0\n",
      "Mel_spec 크기: (128, 128), 라벨: 0\n",
      "Mel_spec 크기: (128, 128), 라벨: 0\n",
      "Mel_spec 크기: (128, 128), 라벨: 0\n",
      "Mel_spec 크기: (128, 128), 라벨: 0\n",
      "Mel_spec 크기: (128, 128), 라벨: 0\n",
      "Mel_spec 크기: (128, 128), 라벨: 0\n",
      "Mel_spec 크기: (128, 128), 라벨: 0\n",
      "Mel_spec 크기: (128, 128), 라벨: 0\n",
      "Mel_spec 크기: (128, 128), 라벨: 0\n",
      "Mel_spec 크기: (128, 128), 라벨: 0\n",
      "Mel_spec 크기: (128, 128), 라벨: 0\n",
      "Mel_spec 크기: (128, 128), 라벨: 0\n",
      "Mel_spec 크기: (128, 128), 라벨: 0\n",
      "Mel_spec 크기: (128, 128), 라벨: 0\n",
      "Mel_spec 크기: (128, 128), 라벨: 0\n",
      "Mel_spec 크기: (128, 128), 라벨: 0\n",
      "Mel_spec 크기: (128, 128), 라벨: 0\n",
      "Mel_spec 크기: (128, 128), 라벨: 0\n",
      "Mel_spec 크기: (128, 128), 라벨: 0\n",
      "Mel_spec 크기: (128, 128), 라벨: 1\n",
      "Mel_spec 크기: (128, 128), 라벨: 1\n",
      "Mel_spec 크기: (128, 128), 라벨: 1\n",
      "Mel_spec 크기: (128, 128), 라벨: 1\n",
      "Mel_spec 크기: (128, 128), 라벨: 1\n",
      "Mel_spec 크기: (128, 128), 라벨: 1\n",
      "Mel_spec 크기: (128, 128), 라벨: 1\n",
      "Mel_spec 크기: (128, 128), 라벨: 1\n",
      "Mel_spec 크기: (128, 128), 라벨: 1\n",
      "Mel_spec 크기: (128, 128), 라벨: 1\n",
      "Mel_spec 크기: (128, 128), 라벨: 1\n",
      "Mel_spec 크기: (128, 128), 라벨: 1\n",
      "Mel_spec 크기: (128, 128), 라벨: 1\n",
      "Mel_spec 크기: (128, 128), 라벨: 1\n",
      "Mel_spec 크기: (128, 128), 라벨: 1\n",
      "Mel_spec 크기: (128, 128), 라벨: 1\n",
      "Mel_spec 크기: (128, 128), 라벨: 1\n",
      "Mel_spec 크기: (128, 128), 라벨: 1\n",
      "Mel_spec 크기: (128, 128), 라벨: 1\n",
      "Mel_spec 크기: (128, 128), 라벨: 1\n",
      "Mel_spec 크기: (128, 128), 라벨: 1\n",
      "Mel_spec 크기: (128, 128), 라벨: 1\n",
      "Mel_spec 크기: (128, 128), 라벨: 1\n",
      "Mel_spec 크기: (128, 128), 라벨: 1\n",
      "Mel_spec 크기: (128, 128), 라벨: 1\n",
      "Mel_spec 크기: (128, 128), 라벨: 1\n",
      "Mel_spec 크기: (128, 128), 라벨: 1\n",
      "Mel_spec 크기: (128, 128), 라벨: 1\n",
      "Mel_spec 크기: (128, 128), 라벨: 1\n",
      "Mel_spec 크기: (128, 128), 라벨: 1\n",
      "Mel_spec 크기: (128, 128), 라벨: 1\n",
      "Mel_spec 크기: (128, 128), 라벨: 1\n",
      "Mel_spec 크기: (128, 128), 라벨: 1\n",
      "Mel_spec 크기: (128, 128), 라벨: 1\n",
      "Mel_spec 크기: (128, 128), 라벨: 1\n",
      "Mel_spec 크기: (128, 128), 라벨: 1\n",
      "Mel_spec 크기: (128, 128), 라벨: 1\n",
      "Mel_spec 크기: (128, 128), 라벨: 1\n",
      "Mel_spec 크기: (128, 128), 라벨: 1\n",
      "Mel_spec 크기: (128, 128), 라벨: 1\n",
      "Mel_spec 크기: (128, 128), 라벨: 1\n",
      "Mel_spec 크기: (128, 128), 라벨: 1\n",
      "Mel_spec 크기: (128, 128), 라벨: 1\n",
      "Mel_spec 크기: (128, 128), 라벨: 1\n",
      "Mel_spec 크기: (128, 128), 라벨: 1\n",
      "Mel_spec 크기: (128, 128), 라벨: 1\n",
      "Mel_spec 크기: (128, 128), 라벨: 1\n",
      "Mel_spec 크기: (128, 128), 라벨: 1\n",
      "Mel_spec 크기: (128, 128), 라벨: 1\n",
      "Mel_spec 크기: (128, 128), 라벨: 1\n",
      "Mel_spec 크기: (128, 128), 라벨: 1\n",
      "Mel_spec 크기: (128, 128), 라벨: 1\n",
      "Mel_spec 크기: (128, 128), 라벨: 1\n",
      "Mel_spec 크기: (128, 128), 라벨: 1\n",
      "Mel_spec 크기: (128, 128), 라벨: 1\n",
      "Mel_spec 크기: (128, 128), 라벨: 1\n",
      "Mel_spec 크기: (128, 128), 라벨: 1\n",
      "Mel_spec 크기: (128, 128), 라벨: 1\n",
      "Mel_spec 크기: (128, 128), 라벨: 1\n",
      "Mel_spec 크기: (128, 128), 라벨: 1\n",
      "Mel_spec 크기: (128, 128), 라벨: 1\n",
      "Mel_spec 크기: (128, 128), 라벨: 1\n",
      "Mel_spec 크기: (128, 128), 라벨: 1\n",
      "Mel_spec 크기: (128, 128), 라벨: 1\n",
      "Mel_spec 크기: (128, 128), 라벨: 1\n",
      "Mel_spec 크기: (128, 128), 라벨: 1\n",
      "Mel_spec 크기: (128, 128), 라벨: 1\n",
      "Mel_spec 크기: (128, 128), 라벨: 1\n",
      "Mel_spec 크기: (128, 128), 라벨: 1\n",
      "Mel_spec 크기: (128, 128), 라벨: 1\n",
      "Mel_spec 크기: (128, 128), 라벨: 1\n",
      "Mel_spec 크기: (128, 128), 라벨: 1\n",
      "Mel_spec 크기: (128, 128), 라벨: 1\n",
      "Mel_spec 크기: (128, 128), 라벨: 1\n",
      "Mel_spec 크기: (128, 128), 라벨: 1\n",
      "Mel_spec 크기: (128, 128), 라벨: 1\n",
      "Mel_spec 크기: (128, 128), 라벨: 1\n",
      "Mel_spec 크기: (128, 128), 라벨: 1\n",
      "Mel_spec 크기: (128, 128), 라벨: 1\n",
      "Mel_spec 크기: (128, 128), 라벨: 1\n",
      "Mel_spec 크기: (128, 128), 라벨: 1\n",
      "Mel_spec 크기: (128, 128), 라벨: 1\n",
      "Mel_spec 크기: (128, 128), 라벨: 1\n",
      "Mel_spec 크기: (128, 128), 라벨: 1\n",
      "Mel_spec 크기: (128, 128), 라벨: 1\n",
      "Mel_spec 크기: (128, 128), 라벨: 1\n",
      "Mel_spec 크기: (128, 128), 라벨: 1\n",
      "Mel_spec 크기: (128, 128), 라벨: 1\n",
      "Mel_spec 크기: (128, 128), 라벨: 1\n",
      "Mel_spec 크기: (128, 128), 라벨: 1\n",
      "Mel_spec 크기: (128, 128), 라벨: 1\n",
      "Mel_spec 크기: (128, 128), 라벨: 1\n",
      "Mel_spec 크기: (128, 128), 라벨: 1\n",
      "Mel_spec 크기: (128, 128), 라벨: 1\n",
      "Mel_spec 크기: (128, 128), 라벨: 1\n",
      "Mel_spec 크기: (128, 128), 라벨: 1\n",
      "Mel_spec 크기: (128, 128), 라벨: 1\n",
      "Mel_spec 크기: (128, 128), 라벨: 1\n",
      "Mel_spec 크기: (128, 128), 라벨: 1\n",
      "Mel_spec 크기: (128, 128), 라벨: 1\n",
      "Mel_spec 크기: (128, 128), 라벨: 1\n",
      "Mel_spec 크기: (128, 128), 라벨: 1\n",
      "Mel_spec 크기: (128, 128), 라벨: 1\n",
      "Mel_spec 크기: (128, 128), 라벨: 1\n",
      "Mel_spec 크기: (128, 128), 라벨: 1\n",
      "Mel_spec 크기: (128, 128), 라벨: 1\n",
      "Mel_spec 크기: (128, 128), 라벨: 1\n",
      "Mel_spec 크기: (128, 128), 라벨: 1\n",
      "Mel_spec 크기: (128, 128), 라벨: 1\n",
      "Mel_spec 크기: (128, 128), 라벨: 1\n",
      "Mel_spec 크기: (128, 128), 라벨: 1\n",
      "Mel_spec 크기: (128, 128), 라벨: 1\n",
      "Mel_spec 크기: (128, 128), 라벨: 1\n",
      "Mel_spec 크기: (128, 128), 라벨: 1\n",
      "Mel_spec 크기: (128, 128), 라벨: 1\n",
      "Mel_spec 크기: (128, 128), 라벨: 1\n",
      "Mel_spec 크기: (128, 128), 라벨: 1\n",
      "Mel_spec 크기: (128, 128), 라벨: 1\n",
      "Mel_spec 크기: (128, 128), 라벨: 1\n",
      "Mel_spec 크기: (128, 128), 라벨: 1\n",
      "Mel_spec 크기: (128, 128), 라벨: 1\n",
      "Mel_spec 크기: (128, 128), 라벨: 1\n",
      "Mel_spec 크기: (128, 128), 라벨: 1\n",
      "Mel_spec 크기: (128, 128), 라벨: 1\n",
      "Mel_spec 크기: (128, 128), 라벨: 1\n",
      "Mel_spec 크기: (128, 128), 라벨: 1\n",
      "Mel_spec 크기: (128, 128), 라벨: 1\n",
      "Mel_spec 크기: (128, 128), 라벨: 1\n",
      "Mel_spec 크기: (128, 128), 라벨: 2\n",
      "Mel_spec 크기: (128, 128), 라벨: 2\n",
      "Mel_spec 크기: (128, 128), 라벨: 2\n",
      "Mel_spec 크기: (128, 128), 라벨: 2\n",
      "Mel_spec 크기: (128, 128), 라벨: 2\n",
      "Mel_spec 크기: (128, 128), 라벨: 2\n",
      "Mel_spec 크기: (128, 128), 라벨: 2\n",
      "Mel_spec 크기: (128, 128), 라벨: 2\n",
      "Mel_spec 크기: (128, 128), 라벨: 2\n",
      "Mel_spec 크기: (128, 128), 라벨: 2\n",
      "Mel_spec 크기: (128, 128), 라벨: 2\n",
      "Mel_spec 크기: (128, 128), 라벨: 2\n",
      "Mel_spec 크기: (128, 128), 라벨: 2\n",
      "Mel_spec 크기: (128, 128), 라벨: 2\n",
      "Mel_spec 크기: (128, 128), 라벨: 2\n",
      "Mel_spec 크기: (128, 128), 라벨: 2\n",
      "Mel_spec 크기: (128, 128), 라벨: 2\n",
      "Mel_spec 크기: (128, 128), 라벨: 2\n",
      "Mel_spec 크기: (128, 128), 라벨: 2\n",
      "Mel_spec 크기: (128, 128), 라벨: 2\n",
      "Mel_spec 크기: (128, 128), 라벨: 2\n",
      "Mel_spec 크기: (128, 128), 라벨: 2\n",
      "Mel_spec 크기: (128, 128), 라벨: 2\n",
      "Mel_spec 크기: (128, 128), 라벨: 2\n",
      "Mel_spec 크기: (128, 128), 라벨: 2\n",
      "Mel_spec 크기: (128, 128), 라벨: 2\n",
      "Mel_spec 크기: (128, 128), 라벨: 2\n",
      "Mel_spec 크기: (128, 128), 라벨: 2\n",
      "Mel_spec 크기: (128, 128), 라벨: 2\n",
      "Mel_spec 크기: (128, 128), 라벨: 2\n",
      "Mel_spec 크기: (128, 128), 라벨: 2\n",
      "Mel_spec 크기: (128, 128), 라벨: 2\n",
      "Mel_spec 크기: (128, 128), 라벨: 2\n",
      "Mel_spec 크기: (128, 128), 라벨: 2\n",
      "Mel_spec 크기: (128, 128), 라벨: 2\n",
      "Mel_spec 크기: (128, 128), 라벨: 2\n",
      "Mel_spec 크기: (128, 128), 라벨: 2\n",
      "Mel_spec 크기: (128, 128), 라벨: 2\n",
      "Mel_spec 크기: (128, 128), 라벨: 2\n",
      "Mel_spec 크기: (128, 128), 라벨: 2\n",
      "Mel_spec 크기: (128, 128), 라벨: 2\n",
      "Mel_spec 크기: (128, 128), 라벨: 2\n",
      "Mel_spec 크기: (128, 128), 라벨: 2\n",
      "Mel_spec 크기: (128, 128), 라벨: 2\n",
      "Mel_spec 크기: (128, 128), 라벨: 2\n",
      "Mel_spec 크기: (128, 128), 라벨: 2\n",
      "Mel_spec 크기: (128, 128), 라벨: 2\n",
      "Mel_spec 크기: (128, 128), 라벨: 2\n",
      "Mel_spec 크기: (128, 128), 라벨: 2\n",
      "Mel_spec 크기: (128, 128), 라벨: 2\n",
      "Mel_spec 크기: (128, 128), 라벨: 2\n",
      "Mel_spec 크기: (128, 128), 라벨: 2\n",
      "Mel_spec 크기: (128, 128), 라벨: 2\n",
      "Mel_spec 크기: (128, 128), 라벨: 2\n",
      "Mel_spec 크기: (128, 128), 라벨: 2\n",
      "Mel_spec 크기: (128, 128), 라벨: 2\n",
      "Mel_spec 크기: (128, 128), 라벨: 2\n",
      "Mel_spec 크기: (128, 128), 라벨: 2\n",
      "Mel_spec 크기: (128, 128), 라벨: 2\n",
      "Mel_spec 크기: (128, 128), 라벨: 2\n",
      "Mel_spec 크기: (128, 128), 라벨: 2\n",
      "Mel_spec 크기: (128, 128), 라벨: 2\n",
      "Mel_spec 크기: (128, 128), 라벨: 2\n",
      "Mel_spec 크기: (128, 128), 라벨: 2\n",
      "Mel_spec 크기: (128, 128), 라벨: 2\n",
      "Mel_spec 크기: (128, 128), 라벨: 2\n",
      "Mel_spec 크기: (128, 128), 라벨: 2\n",
      "Mel_spec 크기: (128, 128), 라벨: 2\n",
      "Mel_spec 크기: (128, 128), 라벨: 2\n",
      "Mel_spec 크기: (128, 128), 라벨: 2\n",
      "Mel_spec 크기: (128, 128), 라벨: 2\n",
      "Mel_spec 크기: (128, 128), 라벨: 2\n",
      "Mel_spec 크기: (128, 128), 라벨: 2\n",
      "Mel_spec 크기: (128, 128), 라벨: 2\n",
      "Mel_spec 크기: (128, 128), 라벨: 2\n",
      "Mel_spec 크기: (128, 128), 라벨: 2\n",
      "Mel_spec 크기: (128, 128), 라벨: 2\n",
      "Mel_spec 크기: (128, 128), 라벨: 2\n",
      "Mel_spec 크기: (128, 128), 라벨: 2\n",
      "Mel_spec 크기: (128, 128), 라벨: 2\n",
      "Mel_spec 크기: (128, 128), 라벨: 2\n",
      "Mel_spec 크기: (128, 128), 라벨: 2\n",
      "Mel_spec 크기: (128, 128), 라벨: 2\n",
      "Mel_spec 크기: (128, 128), 라벨: 2\n",
      "Mel_spec 크기: (128, 128), 라벨: 2\n",
      "Mel_spec 크기: (128, 128), 라벨: 2\n",
      "Mel_spec 크기: (128, 128), 라벨: 2\n",
      "Mel_spec 크기: (128, 128), 라벨: 2\n",
      "Mel_spec 크기: (128, 128), 라벨: 2\n",
      "Mel_spec 크기: (128, 128), 라벨: 2\n",
      "Mel_spec 크기: (128, 128), 라벨: 2\n",
      "Mel_spec 크기: (128, 128), 라벨: 2\n",
      "Mel_spec 크기: (128, 128), 라벨: 2\n",
      "Mel_spec 크기: (128, 128), 라벨: 2\n",
      "Mel_spec 크기: (128, 128), 라벨: 2\n",
      "Mel_spec 크기: (128, 128), 라벨: 2\n",
      "Mel_spec 크기: (128, 128), 라벨: 2\n",
      "Mel_spec 크기: (128, 128), 라벨: 2\n",
      "Mel_spec 크기: (128, 128), 라벨: 2\n",
      "Mel_spec 크기: (128, 128), 라벨: 2\n",
      "Mel_spec 크기: (128, 128), 라벨: 3\n",
      "Mel_spec 크기: (128, 128), 라벨: 3\n",
      "Mel_spec 크기: (128, 128), 라벨: 3\n",
      "Mel_spec 크기: (128, 128), 라벨: 3\n",
      "Mel_spec 크기: (128, 128), 라벨: 3\n",
      "Mel_spec 크기: (128, 128), 라벨: 3\n",
      "Mel_spec 크기: (128, 128), 라벨: 3\n",
      "Mel_spec 크기: (128, 128), 라벨: 3\n",
      "Mel_spec 크기: (128, 128), 라벨: 3\n",
      "Mel_spec 크기: (128, 128), 라벨: 3\n",
      "Mel_spec 크기: (128, 128), 라벨: 3\n",
      "Mel_spec 크기: (128, 128), 라벨: 3\n",
      "Mel_spec 크기: (128, 128), 라벨: 3\n",
      "Mel_spec 크기: (128, 128), 라벨: 3\n",
      "Mel_spec 크기: (128, 128), 라벨: 3\n",
      "Mel_spec 크기: (128, 128), 라벨: 3\n",
      "Mel_spec 크기: (128, 128), 라벨: 3\n",
      "Mel_spec 크기: (128, 128), 라벨: 3\n",
      "Mel_spec 크기: (128, 128), 라벨: 3\n",
      "Mel_spec 크기: (128, 128), 라벨: 3\n",
      "Mel_spec 크기: (128, 128), 라벨: 3\n",
      "Mel_spec 크기: (128, 128), 라벨: 3\n",
      "Mel_spec 크기: (128, 128), 라벨: 3\n",
      "Mel_spec 크기: (128, 128), 라벨: 3\n",
      "Mel_spec 크기: (128, 128), 라벨: 3\n",
      "Mel_spec 크기: (128, 128), 라벨: 3\n",
      "Mel_spec 크기: (128, 128), 라벨: 3\n",
      "Mel_spec 크기: (128, 128), 라벨: 3\n",
      "Mel_spec 크기: (128, 128), 라벨: 3\n",
      "Mel_spec 크기: (128, 128), 라벨: 3\n",
      "Mel_spec 크기: (128, 128), 라벨: 3\n",
      "Mel_spec 크기: (128, 128), 라벨: 3\n",
      "Mel_spec 크기: (128, 128), 라벨: 3\n",
      "Mel_spec 크기: (128, 128), 라벨: 3\n",
      "Mel_spec 크기: (128, 128), 라벨: 3\n",
      "Mel_spec 크기: (128, 128), 라벨: 3\n",
      "Mel_spec 크기: (128, 128), 라벨: 3\n",
      "Mel_spec 크기: (128, 128), 라벨: 3\n",
      "Mel_spec 크기: (128, 128), 라벨: 3\n",
      "Mel_spec 크기: (128, 128), 라벨: 3\n",
      "Mel_spec 크기: (128, 128), 라벨: 3\n",
      "Mel_spec 크기: (128, 128), 라벨: 3\n",
      "Mel_spec 크기: (128, 128), 라벨: 3\n",
      "Mel_spec 크기: (128, 128), 라벨: 3\n",
      "Mel_spec 크기: (128, 128), 라벨: 3\n",
      "Mel_spec 크기: (128, 128), 라벨: 3\n",
      "Mel_spec 크기: (128, 128), 라벨: 3\n",
      "Mel_spec 크기: (128, 128), 라벨: 3\n",
      "Mel_spec 크기: (128, 128), 라벨: 3\n"
     ]
    }
   ],
   "source": [
    "# 패딩된 MFCC 배열 확인\n",
    "for padded_mels, label in trainset:\n",
    "    print(f'Mel_spec 크기: {padded_mels.shape}, 라벨: {label}')"
   ]
  },
  {
   "cell_type": "code",
   "execution_count": 8,
   "metadata": {},
   "outputs": [
    {
     "data": {
      "text/plain": [
       "340"
      ]
     },
     "execution_count": 8,
     "metadata": {},
     "output_type": "execute_result"
    }
   ],
   "source": [
    "len(trainset)"
   ]
  },
  {
   "cell_type": "code",
   "execution_count": 9,
   "metadata": {},
   "outputs": [
    {
     "data": {
      "text/plain": [
       "0"
      ]
     },
     "execution_count": 9,
     "metadata": {},
     "output_type": "execute_result"
    }
   ],
   "source": [
    "trainset[0][1]"
   ]
  },
  {
   "cell_type": "code",
   "execution_count": 10,
   "metadata": {},
   "outputs": [],
   "source": [
    "trainset_np = np.array(trainset, dtype=object)"
   ]
  },
  {
   "cell_type": "code",
   "execution_count": 11,
   "metadata": {},
   "outputs": [
    {
     "data": {
      "text/plain": [
       "(340, 2)"
      ]
     },
     "execution_count": 11,
     "metadata": {},
     "output_type": "execute_result"
    }
   ],
   "source": [
    "trainset_np.shape"
   ]
  },
  {
   "cell_type": "code",
   "execution_count": 12,
   "metadata": {},
   "outputs": [
    {
     "name": "stdout",
     "output_type": "stream",
     "text": [
      "훈련 세트 크기: (272, 128, 128), 라벨 크기: (272,)\n",
      "테스트 세트 크기: (68, 128, 128), 라벨 크기: (68,)\n"
     ]
    }
   ],
   "source": [
    "from sklearn.model_selection import train_test_split\n",
    "\n",
    "# trainset을 데이터와 라벨로 나누기\n",
    "X = np.array([item[0] for item in trainset])\n",
    "y = np.array([item[1] for item in trainset])\n",
    "\n",
    "# 훈련 세트와 테스트 세트로 나누기 (예: 훈련 세트 80%, 테스트 세트 20%)\n",
    "X_train, X_test, y_train, y_test = train_test_split(X, y, test_size=0.2) #, random_state=1024\n",
    "\n",
    "# 결과 확인\n",
    "print(f\"훈련 세트 크기: {X_train.shape}, 라벨 크기: {y_train.shape}\")\n",
    "print(f\"테스트 세트 크기: {X_test.shape}, 라벨 크기: {y_test.shape}\")\n"
   ]
  },
  {
   "cell_type": "code",
   "execution_count": 13,
   "metadata": {},
   "outputs": [],
   "source": [
    "# X_train의 차원을 (샘플 수, 98, 98, 1)로 조정\n",
    "X_train_dim = X_train.reshape(X_train.shape + (1,))\n",
    "X_test_dim = X_test.reshape(X_test.shape + (1,))"
   ]
  },
  {
   "cell_type": "code",
   "execution_count": 14,
   "metadata": {},
   "outputs": [
    {
     "data": {
      "text/plain": [
       "(128, 128, 1)"
      ]
     },
     "execution_count": 14,
     "metadata": {},
     "output_type": "execute_result"
    }
   ],
   "source": [
    "X_train_dim[0].shape"
   ]
  },
  {
   "cell_type": "code",
   "execution_count": 15,
   "metadata": {},
   "outputs": [
    {
     "name": "stdout",
     "output_type": "stream",
     "text": [
      "WARNING:tensorflow:No training configuration found in the save file, so the model was *not* compiled. Compile it manually.\n",
      "Model: \"model_1\"\n",
      "_________________________________________________________________\n",
      " Layer (type)                Output Shape              Param #   \n",
      "=================================================================\n",
      " input_1 (InputLayer)        [(None, 128, 128, 1)]     0         \n",
      "                                                                 \n",
      " conv2d (Conv2D)             (None, 128, 128, 32)      320       \n",
      "                                                                 \n",
      " conv2d_1 (Conv2D)           (None, 128, 128, 32)      9248      \n",
      "                                                                 \n",
      " max_pooling2d (MaxPooling2D  (None, 64, 64, 32)       0         \n",
      " )                                                               \n",
      "                                                                 \n",
      " conv2d_2 (Conv2D)           (None, 64, 64, 64)        18496     \n",
      "                                                                 \n",
      " conv2d_3 (Conv2D)           (None, 64, 64, 64)        36928     \n",
      "                                                                 \n",
      " max_pooling2d_1 (MaxPooling  (None, 32, 32, 64)       0         \n",
      " 2D)                                                             \n",
      "                                                                 \n",
      " conv2d_4 (Conv2D)           (None, 32, 32, 128)       73856     \n",
      "                                                                 \n",
      " conv2d_5 (Conv2D)           (None, 32, 32, 128)       147584    \n",
      "                                                                 \n",
      " max_pooling2d_2 (MaxPooling  (None, 16, 16, 128)      0         \n",
      " 2D)                                                             \n",
      "                                                                 \n",
      " conv2d_6 (Conv2D)           (None, 16, 16, 256)       295168    \n",
      "                                                                 \n",
      " conv2d_7 (Conv2D)           (None, 16, 16, 256)       590080    \n",
      "                                                                 \n",
      "=================================================================\n",
      "Total params: 1,171,680\n",
      "Trainable params: 1,171,680\n",
      "Non-trainable params: 0\n",
      "_________________________________________________________________\n"
     ]
    }
   ],
   "source": [
    "\n",
    "load_encoder = tf.keras.models.load_model('autoencoder_relu2.h5')\n",
    "\n",
    "load_encoder.summary()"
   ]
  },
  {
   "cell_type": "code",
   "execution_count": 16,
   "metadata": {},
   "outputs": [],
   "source": [
    "freeze_layer = 9"
   ]
  },
  {
   "cell_type": "code",
   "execution_count": 17,
   "metadata": {},
   "outputs": [],
   "source": [
    "for layer in load_encoder.layers[:freeze_layer]:\n",
    "    layer.trainable = False"
   ]
  },
  {
   "cell_type": "code",
   "execution_count": 18,
   "metadata": {},
   "outputs": [
    {
     "name": "stdout",
     "output_type": "stream",
     "text": [
      "Model: \"model_1\"\n",
      "_________________________________________________________________\n",
      " Layer (type)                Output Shape              Param #   \n",
      "=================================================================\n",
      " input_1 (InputLayer)        [(None, 128, 128, 1)]     0         \n",
      "                                                                 \n",
      " conv2d (Conv2D)             (None, 128, 128, 32)      320       \n",
      "                                                                 \n",
      " conv2d_1 (Conv2D)           (None, 128, 128, 32)      9248      \n",
      "                                                                 \n",
      " max_pooling2d (MaxPooling2D  (None, 64, 64, 32)       0         \n",
      " )                                                               \n",
      "                                                                 \n",
      " conv2d_2 (Conv2D)           (None, 64, 64, 64)        18496     \n",
      "                                                                 \n",
      " conv2d_3 (Conv2D)           (None, 64, 64, 64)        36928     \n",
      "                                                                 \n",
      " max_pooling2d_1 (MaxPooling  (None, 32, 32, 64)       0         \n",
      " 2D)                                                             \n",
      "                                                                 \n",
      " conv2d_4 (Conv2D)           (None, 32, 32, 128)       73856     \n",
      "                                                                 \n",
      " conv2d_5 (Conv2D)           (None, 32, 32, 128)       147584    \n",
      "                                                                 \n",
      " max_pooling2d_2 (MaxPooling  (None, 16, 16, 128)      0         \n",
      " 2D)                                                             \n",
      "                                                                 \n",
      " conv2d_6 (Conv2D)           (None, 16, 16, 256)       295168    \n",
      "                                                                 \n",
      " conv2d_7 (Conv2D)           (None, 16, 16, 256)       590080    \n",
      "                                                                 \n",
      "=================================================================\n",
      "Total params: 1,171,680\n",
      "Trainable params: 885,248\n",
      "Non-trainable params: 286,432\n",
      "_________________________________________________________________\n"
     ]
    }
   ],
   "source": [
    "load_encoder.summary()"
   ]
  },
  {
   "cell_type": "code",
   "execution_count": 19,
   "metadata": {},
   "outputs": [
    {
     "name": "stdout",
     "output_type": "stream",
     "text": [
      "Model: \"model\"\n",
      "_________________________________________________________________\n",
      " Layer (type)                Output Shape              Param #   \n",
      "=================================================================\n",
      " input_1 (InputLayer)        [(None, 128, 128, 1)]     0         \n",
      "                                                                 \n",
      " model_1 (Functional)        (None, 16, 16, 256)       1171680   \n",
      "                                                                 \n",
      " flatten (Flatten)           (None, 65536)             0         \n",
      "                                                                 \n",
      " dense (Dense)               (None, 1024)              67109888  \n",
      "                                                                 \n",
      " batch_normalization (BatchN  (None, 1024)             4096      \n",
      " ormalization)                                                   \n",
      "                                                                 \n",
      " dropout (Dropout)           (None, 1024)              0         \n",
      "                                                                 \n",
      " dense_1 (Dense)             (None, 512)               524800    \n",
      "                                                                 \n",
      " dropout_1 (Dropout)         (None, 512)               0         \n",
      "                                                                 \n",
      " dense_2 (Dense)             (None, 128)               65664     \n",
      "                                                                 \n",
      " dropout_2 (Dropout)         (None, 128)               0         \n",
      "                                                                 \n",
      " dense_3 (Dense)             (None, 4)                 516       \n",
      "                                                                 \n",
      "=================================================================\n",
      "Total params: 68,876,644\n",
      "Trainable params: 68,588,164\n",
      "Non-trainable params: 288,480\n",
      "_________________________________________________________________\n"
     ]
    }
   ],
   "source": [
    "inputs = layers.Input(shape= X_train_dim[0].shape)\n",
    "\n",
    "input_layer = load_encoder(inputs)\n",
    "\n",
    "# MSE -> input & output 비교\n",
    "full01 = layers.Flatten()(input_layer)\n",
    "dense01 = layers.Dense(1024, activation='relu')(full01)\n",
    "batch01 = layers.BatchNormalization()(dense01)\n",
    "drop01 = layers.Dropout(0.25)(batch01)\n",
    "\n",
    "dense02 = layers.Dense(512, activation='relu')(drop01)\n",
    "batch02 = layers.BatchNormalization()(dense02)\n",
    "drop02 = layers.Dropout(0.25)(dense02)\n",
    "\n",
    "dense03 = layers.Dense(128, activation='relu')(drop02)\n",
    "batch03 = layers.BatchNormalization()(dense03)\n",
    "drop03 = layers.Dropout(0.25)(dense03)\n",
    "\n",
    "\n",
    "\n",
    "out_layer = layers.Dense(4, activation='softmax')(drop03)\n",
    "\n",
    "\n",
    "\n",
    "model = tf.keras.Model(inputs=inputs, outputs=out_layer)\n",
    "\n",
    "\n",
    "\n",
    "model.summary()"
   ]
  },
  {
   "cell_type": "code",
   "execution_count": 20,
   "metadata": {},
   "outputs": [
    {
     "name": "stdout",
     "output_type": "stream",
     "text": [
      "Epoch 1/35\n"
     ]
    },
    {
     "name": "stdout",
     "output_type": "stream",
     "text": [
      "9/9 [==============================] - 7s 202ms/step - loss: 1.6226 - accuracy: 0.3750 - val_loss: 1.1391 - val_accuracy: 0.5882\n",
      "Epoch 2/35\n",
      "9/9 [==============================] - 0s 42ms/step - loss: 1.3309 - accuracy: 0.5037 - val_loss: 1.4428 - val_accuracy: 0.4706\n",
      "Epoch 3/35\n",
      "9/9 [==============================] - 0s 43ms/step - loss: 1.0659 - accuracy: 0.4963 - val_loss: 1.4438 - val_accuracy: 0.4118\n",
      "Epoch 4/35\n",
      "9/9 [==============================] - 0s 55ms/step - loss: 0.9860 - accuracy: 0.6066 - val_loss: 2.0063 - val_accuracy: 0.5000\n",
      "Epoch 5/35\n",
      "9/9 [==============================] - 0s 44ms/step - loss: 0.8342 - accuracy: 0.6691 - val_loss: 1.3399 - val_accuracy: 0.5000\n",
      "Epoch 6/35\n",
      "9/9 [==============================] - 0s 41ms/step - loss: 0.7572 - accuracy: 0.6728 - val_loss: 1.3569 - val_accuracy: 0.5588\n",
      "Epoch 7/35\n",
      "9/9 [==============================] - 0s 45ms/step - loss: 0.6716 - accuracy: 0.7059 - val_loss: 1.7424 - val_accuracy: 0.5147\n",
      "Epoch 8/35\n",
      "9/9 [==============================] - 0s 41ms/step - loss: 0.6355 - accuracy: 0.7243 - val_loss: 2.1068 - val_accuracy: 0.5588\n",
      "Epoch 9/35\n",
      "9/9 [==============================] - 0s 43ms/step - loss: 0.6160 - accuracy: 0.7537 - val_loss: 1.8849 - val_accuracy: 0.5294\n",
      "Epoch 10/35\n",
      "9/9 [==============================] - 0s 43ms/step - loss: 0.5023 - accuracy: 0.8199 - val_loss: 1.5901 - val_accuracy: 0.5735\n",
      "Epoch 11/35\n",
      "9/9 [==============================] - 0s 39ms/step - loss: 0.4021 - accuracy: 0.8529 - val_loss: 1.2872 - val_accuracy: 0.5735\n",
      "Epoch 12/35\n",
      "9/9 [==============================] - 0s 40ms/step - loss: 0.4234 - accuracy: 0.8272 - val_loss: 1.2484 - val_accuracy: 0.5000\n",
      "Epoch 13/35\n",
      "9/9 [==============================] - 0s 40ms/step - loss: 0.3454 - accuracy: 0.8713 - val_loss: 1.7111 - val_accuracy: 0.5441\n",
      "Epoch 14/35\n",
      "9/9 [==============================] - 0s 45ms/step - loss: 0.2890 - accuracy: 0.8897 - val_loss: 1.6364 - val_accuracy: 0.5735\n",
      "Epoch 15/35\n",
      "9/9 [==============================] - 0s 45ms/step - loss: 0.3995 - accuracy: 0.8566 - val_loss: 1.5326 - val_accuracy: 0.5735\n",
      "Epoch 16/35\n",
      "9/9 [==============================] - 0s 37ms/step - loss: 0.2971 - accuracy: 0.8971 - val_loss: 1.8363 - val_accuracy: 0.5294\n",
      "Epoch 17/35\n",
      "9/9 [==============================] - 0s 47ms/step - loss: 0.2730 - accuracy: 0.9044 - val_loss: 2.8395 - val_accuracy: 0.5588\n",
      "Epoch 18/35\n",
      "9/9 [==============================] - 0s 45ms/step - loss: 0.3137 - accuracy: 0.8860 - val_loss: 2.1248 - val_accuracy: 0.6176\n",
      "Epoch 19/35\n",
      "9/9 [==============================] - 0s 41ms/step - loss: 0.2654 - accuracy: 0.9265 - val_loss: 3.4490 - val_accuracy: 0.5441\n",
      "Epoch 20/35\n",
      "9/9 [==============================] - 0s 44ms/step - loss: 0.2409 - accuracy: 0.9007 - val_loss: 4.5477 - val_accuracy: 0.6324\n",
      "Epoch 21/35\n",
      "9/9 [==============================] - 0s 44ms/step - loss: 0.2237 - accuracy: 0.9154 - val_loss: 3.2055 - val_accuracy: 0.4853\n",
      "Epoch 22/35\n",
      "9/9 [==============================] - 0s 37ms/step - loss: 0.2292 - accuracy: 0.9265 - val_loss: 2.8218 - val_accuracy: 0.5588\n",
      "Epoch 23/35\n",
      "9/9 [==============================] - 0s 50ms/step - loss: 0.2168 - accuracy: 0.9375 - val_loss: 2.6043 - val_accuracy: 0.5882\n",
      "Epoch 24/35\n",
      "9/9 [==============================] - 0s 36ms/step - loss: 0.1996 - accuracy: 0.9228 - val_loss: 3.5211 - val_accuracy: 0.5147\n",
      "Epoch 25/35\n",
      "9/9 [==============================] - 0s 57ms/step - loss: 0.2308 - accuracy: 0.9375 - val_loss: 2.5589 - val_accuracy: 0.4853\n",
      "Epoch 26/35\n",
      "9/9 [==============================] - 0s 43ms/step - loss: 0.1833 - accuracy: 0.9228 - val_loss: 2.5767 - val_accuracy: 0.5294\n",
      "Epoch 27/35\n",
      "9/9 [==============================] - 0s 51ms/step - loss: 0.1207 - accuracy: 0.9596 - val_loss: 3.1347 - val_accuracy: 0.5588\n",
      "Epoch 28/35\n",
      "9/9 [==============================] - 1s 60ms/step - loss: 0.1064 - accuracy: 0.9449 - val_loss: 4.5087 - val_accuracy: 0.6176\n",
      "Epoch 29/35\n",
      "9/9 [==============================] - 0s 42ms/step - loss: 0.1154 - accuracy: 0.9522 - val_loss: 3.9893 - val_accuracy: 0.5735\n",
      "Epoch 30/35\n",
      "9/9 [==============================] - 0s 49ms/step - loss: 0.1126 - accuracy: 0.9596 - val_loss: 3.3808 - val_accuracy: 0.5882\n",
      "Epoch 31/35\n",
      "9/9 [==============================] - 0s 37ms/step - loss: 0.0773 - accuracy: 0.9816 - val_loss: 3.2975 - val_accuracy: 0.5588\n",
      "Epoch 32/35\n",
      "9/9 [==============================] - 0s 36ms/step - loss: 0.0766 - accuracy: 0.9779 - val_loss: 2.7928 - val_accuracy: 0.5882\n",
      "Epoch 33/35\n",
      "9/9 [==============================] - 0s 42ms/step - loss: 0.1052 - accuracy: 0.9669 - val_loss: 3.0175 - val_accuracy: 0.5441\n",
      "Epoch 34/35\n",
      "9/9 [==============================] - 0s 38ms/step - loss: 0.0898 - accuracy: 0.9669 - val_loss: 2.8941 - val_accuracy: 0.5000\n",
      "Epoch 35/35\n",
      "9/9 [==============================] - 0s 36ms/step - loss: 0.0874 - accuracy: 0.9669 - val_loss: 2.5283 - val_accuracy: 0.5882\n"
     ]
    }
   ],
   "source": [
    "# Compile and train your model\n",
    "model.compile(optimizer='adam', loss='sparse_categorical_crossentropy', metrics=['accuracy'])\n",
    "history = model.fit(X_train_dim, y_train, epochs=35,  validation_data = (X_test_dim, y_test))"
   ]
  },
  {
   "cell_type": "code",
   "execution_count": 21,
   "metadata": {},
   "outputs": [
    {
     "name": "stderr",
     "output_type": "stream",
     "text": [
      "C:\\Users\\Desk_Kang\\AppData\\Local\\Temp\\ipykernel_1900\\237002889.py:1: MatplotlibDeprecationWarning: The seaborn styles shipped by Matplotlib are deprecated since 3.6, as they no longer correspond to the styles shipped by seaborn. However, they will remain available as 'seaborn-v0_8-<style>'. Alternatively, directly use the seaborn API instead.\n",
      "  plt.style.use('seaborn-white')\n"
     ]
    },
    {
     "data": {
      "image/png": "[encoded data removed]",
      "text/plain": [
       "<Figure size 1200x500 with 2 Axes>"
      ]
     },
     "metadata": {},
     "output_type": "display_data"
    }
   ],
   "source": [
    "plt.style.use('seaborn-white')\n",
    "\n",
    "history_dict = history.history\n",
    "\n",
    "loss = history_dict['loss']\n",
    "val_loss = history_dict['val_loss']\n",
    "\n",
    "epochs = range(1, len(loss) + 1)\n",
    "fig = plt.figure(figsize=(12, 5))\n",
    "\n",
    "ax1 = fig.add_subplot(1, 2, 1)\n",
    "ax1.plot(epochs, loss, 'b-', label='train_loss')\n",
    "ax1.plot(epochs, val_loss, 'r-', label='val_loss')\n",
    "ax1.set_title('Train and Validation Loss')\n",
    "ax1.set_xlabel('Epochs')\n",
    "ax1.set_ylabel('Loss')\n",
    "ax1.grid()\n",
    "ax1.legend()\n",
    "\n",
    "accuracy = history_dict['accuracy']\n",
    "val_accuracy = history_dict['val_accuracy']\n",
    "\n",
    "ax2 = fig.add_subplot(1, 2, 2)\n",
    "ax2.plot(epochs, accuracy, 'b-', label='train_accuracy')\n",
    "ax2.plot(epochs, val_accuracy, 'r-', label='val_accuracy')\n",
    "ax2.set_title('Train and Validation Accuracy')\n",
    "ax2.set_xlabel('Epochs')\n",
    "ax2.set_ylabel('Accuracy')\n",
    "ax2.grid()\n",
    "ax2.legend()\n",
    "\n",
    "plt.show()"
   ]
  },
  {
   "cell_type": "code",
   "execution_count": 22,
   "metadata": {},
   "outputs": [
    {
     "name": "stdout",
     "output_type": "stream",
     "text": [
      "3/3 [==============================] - 0s 12ms/step\n"
     ]
    }
   ],
   "source": [
    "predictions = model.predict(X_test_dim)"
   ]
  },
  {
   "cell_type": "code",
   "execution_count": 23,
   "metadata": {},
   "outputs": [],
   "source": [
    "pred_label = np.argmax(predictions, axis=1)"
   ]
  },
  {
   "cell_type": "code",
   "execution_count": 24,
   "metadata": {},
   "outputs": [
    {
     "data": {
      "text/plain": [
       "array([0, 2, 1, 1, 2, 2, 3, 0, 3, 2, 1, 1, 1, 1, 1, 2, 2, 2, 0, 1, 1, 2,\n",
       "       1, 2, 1, 1, 0, 2, 2, 0, 3, 1, 0, 1, 1, 1, 2, 2, 2, 1, 1, 2, 3, 2,\n",
       "       1, 2, 2, 2, 3, 1, 3, 3, 1, 0, 0, 1, 1, 2, 1, 3, 3, 3, 1, 0, 1, 1,\n",
       "       2, 2])"
      ]
     },
     "execution_count": 24,
     "metadata": {},
     "output_type": "execute_result"
    }
   ],
   "source": [
    "y_test"
   ]
  },
  {
   "cell_type": "code",
   "execution_count": 25,
   "metadata": {},
   "outputs": [
    {
     "name": "stdout",
     "output_type": "stream",
     "text": [
      "[[ 3  4  2  0]\n",
      " [ 2 18  4  3]\n",
      " [ 0  3 15  4]\n",
      " [ 2  3  1  4]]\n"
     ]
    }
   ],
   "source": [
    "from sklearn.metrics import confusion_matrix\n",
    "import seaborn as sns\n",
    "from sklearn.metrics import ConfusionMatrixDisplay\n",
    "\n",
    "conf_matrix = confusion_matrix(y_test, pred_label)\n",
    "\n",
    "\n",
    "print(conf_matrix)"
   ]
  },
  {
   "cell_type": "code",
   "execution_count": 26,
   "metadata": {},
   "outputs": [
    {
     "data": {
      "image/png": "[encoded data removed]",
      "text/plain": [
       "<Figure size 1000x800 with 2 Axes>"
      ]
     },
     "metadata": {},
     "output_type": "display_data"
    }
   ],
   "source": [
    "plt.figure(figsize=(10, 8))\n",
    "sns.set(font_scale=1.2)  # 폰트 크기 조절\n",
    "sns.heatmap(conf_matrix, annot=True, fmt='d', cmap='Blues', xticklabels=['belly_pain', 'discomf', 'hungry', 'tired'], yticklabels=['belly_pain', 'discomf', 'hungry', 'tired'])\n",
    "plt.xlabel('Predicted')\n",
    "plt.ylabel('True')\n",
    "plt.title('Confusion Matrix')\n",
    "plt.show()"
   ]
  },
  {
   "cell_type": "code",
   "execution_count": 27,
   "metadata": {},
   "outputs": [
    {
     "name": "stdout",
     "output_type": "stream",
     "text": [
      "3/3 [==============================] - 0s 14ms/step - loss: 2.5283 - accuracy: 0.5882\n"
     ]
    },
    {
     "data": {
      "text/plain": [
       "[2.528256416320801, 0.5882353186607361]"
      ]
     },
     "execution_count": 27,
     "metadata": {},
     "output_type": "execute_result"
    }
   ],
   "source": [
    "model.evaluate(X_test_dim, y_test)"
   ]
  },
  {
   "cell_type": "code",
   "execution_count": 29,
   "metadata": {},
   "outputs": [],
   "source": [
    "model.save('loadencoder(set22)_freeze_relu(0.58).h5')"
   ]
  },
  {
   "cell_type": "code",
   "execution_count": null,
   "metadata": {},
   "outputs": [],
   "source": []
  }
 ],
 "metadata": {
  "kernelspec": {
   "display_name": "pyenv",
   "language": "python",
   "name": "python3"
  },
  "language_info": {
   "codemirror_mode": {
    "name": "ipython",
    "version": 3
   },
   "file_extension": ".py",
   "mimetype": "text/x-python",
   "name": "python",
   "nbconvert_exporter": "python",
   "pygments_lexer": "ipython3",
   "version": "3.10.13"
  }
 },
 "nbformat": 4,
 "nbformat_minor": 2
}
