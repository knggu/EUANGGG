{
 "cells": [
  {
   "cell_type": "code",
   "execution_count": 1,
   "id": "b69d0495-09c3-42f8-9f3d-fc2b6332dde2",
   "metadata": {},
   "outputs": [],
   "source": [
    "import numpy as np\n",
    "import pandas as pd\n",
    "import glob\n",
    "import os\n",
    "import matplotlib.pyplot as plt\n",
    "import librosa\n",
    "from IPython.display import Audio\n",
    "from sklearn.preprocessing import StandardScaler\n",
    "from sklearn.preprocessing import LabelEncoder\n",
    "from sklearn.utils import shuffle\n",
    "import tensorflow as tf"
   ]
  },
  {
   "cell_type": "code",
   "execution_count": 2,
   "id": "1fa90862-60c1-4c04-9c36-4bb83c25b16f",
   "metadata": {},
   "outputs": [],
   "source": [
    "train_folder_path = r'C:./data3/train'\n",
    "test_folder_path = r'C:./data3/test'"
   ]
  },
  {
   "cell_type": "code",
   "execution_count": 3,
   "id": "c7fdb2d4-cdd9-4e1d-9f20-2b60c41fbee2",
   "metadata": {},
   "outputs": [
    {
     "data": {
      "text/plain": [
       "True"
      ]
     },
     "execution_count": 3,
     "metadata": {},
     "output_type": "execute_result"
    }
   ],
   "source": [
    "os.path.exists(train_folder_path)"
   ]
  },
  {
   "cell_type": "code",
   "execution_count": 4,
   "id": "a1317963-5115-4e63-8abf-0f615de53709",
   "metadata": {},
   "outputs": [
    {
     "data": {
      "text/plain": [
       "['belly_pain', 'discomfort', 'hungry', 'tired']"
      ]
     },
     "execution_count": 4,
     "metadata": {},
     "output_type": "execute_result"
    }
   ],
   "source": [
    "train_class_names = next(os.walk(train_folder_path))[1]\n",
    "train_class_names"
   ]
  },
  {
   "cell_type": "code",
   "execution_count": 5,
   "id": "43f3bddc",
   "metadata": {},
   "outputs": [
    {
     "data": {
      "text/plain": [
       "['belly_pain', 'discomfort', 'hungry', 'tired']"
      ]
     },
     "execution_count": 5,
     "metadata": {},
     "output_type": "execute_result"
    }
   ],
   "source": [
    "test_class_names = next(os.walk(test_folder_path))[1]\n",
    "test_class_names"
   ]
  },
  {
   "cell_type": "code",
   "execution_count": 6,
   "id": "022fa069-5699-43a1-bf2b-1f9cff9a670b",
   "metadata": {},
   "outputs": [
    {
     "data": {
      "text/plain": [
       "['C:./data3/train\\\\belly_pain',\n",
       " 'C:./data3/train\\\\discomfort',\n",
       " 'C:./data3/train\\\\hungry',\n",
       " 'C:./data3/train\\\\tired']"
      ]
     },
     "execution_count": 6,
     "metadata": {},
     "output_type": "execute_result"
    }
   ],
   "source": [
    "train_audio_path = [os.path.join(train_folder_path, name) for name in train_class_names]\n",
    "train_audio_path"
   ]
  },
  {
   "cell_type": "code",
   "execution_count": 7,
   "id": "e9fff7c5",
   "metadata": {},
   "outputs": [
    {
     "data": {
      "text/plain": [
       "['C:./data3/test\\\\belly_pain',\n",
       " 'C:./data3/test\\\\discomfort',\n",
       " 'C:./data3/test\\\\hungry',\n",
       " 'C:./data3/test\\\\tired']"
      ]
     },
     "execution_count": 7,
     "metadata": {},
     "output_type": "execute_result"
    }
   ],
   "source": [
    "test_audio_path = [os.path.join(test_folder_path, name) for name in test_class_names]\n",
    "test_audio_path"
   ]
  },
  {
   "cell_type": "code",
   "execution_count": 8,
   "id": "3a6acae1-1df7-4ee8-95e4-bbbcfb439a92",
   "metadata": {},
   "outputs": [],
   "source": [
    "train_bpain_audio = glob.glob(os.path.join(train_audio_path[0], '*.wav'))\n",
    "train_discomf_audio = glob.glob(os.path.join(train_audio_path[1], '*.wav'))\n",
    "train_hungry_audio = glob.glob(os.path.join(train_audio_path[2], '*.wav'))\n",
    "train_tired_audio = glob.glob(os.path.join(train_audio_path[3], '*.wav'))"
   ]
  },
  {
   "cell_type": "code",
   "execution_count": 9,
   "id": "b95d8efb",
   "metadata": {},
   "outputs": [],
   "source": [
    "test_bpain_audio = glob.glob(os.path.join(test_audio_path[0], '*.wav'))\n",
    "test_discomf_audio = glob.glob(os.path.join(test_audio_path[1], '*.wav'))\n",
    "test_hungry_audio = glob.glob(os.path.join(test_audio_path[2], '*.wav'))\n",
    "test_tired_audio = glob.glob(os.path.join(test_audio_path[3], '*.wav'))"
   ]
  },
  {
   "cell_type": "code",
   "execution_count": 10,
   "id": "9b4c2824-b56c-49ed-a6e4-e4550298a464",
   "metadata": {},
   "outputs": [],
   "source": [
    "train_audio_path_byclass = {\n",
    "    'bpain': train_bpain_audio,\n",
    "    'discomf': train_discomf_audio,\n",
    "    'hungry': train_hungry_audio,\n",
    "    'tired': train_tired_audio\n",
    "}"
   ]
  },
  {
   "cell_type": "code",
   "execution_count": 11,
   "id": "b595bfa5",
   "metadata": {},
   "outputs": [],
   "source": [
    "test_audio_path_byclass = {\n",
    "    'bpain': test_bpain_audio,\n",
    "    'discomf': test_discomf_audio,\n",
    "    'hungry': test_hungry_audio,\n",
    "    'tired': test_tired_audio\n",
    "}"
   ]
  },
  {
   "cell_type": "markdown",
   "id": "e0a1378f-deee-48fb-a765-a2cf859d0450",
   "metadata": {},
   "source": [
    "## Load Audio"
   ]
  },
  {
   "cell_type": "code",
   "execution_count": 12,
   "id": "86fa5d47-1cee-44ee-b193-fab488048f6a",
   "metadata": {},
   "outputs": [],
   "source": [
    "# Replace 'your_audio_file.mp3' with the path to your audio file\n",
    "train_load_audio = {}\n",
    "for name, pathlst in train_audio_path_byclass.items():\n",
    "    loaded = []\n",
    "    for path in pathlst:\n",
    "        audio, sr = librosa.load(path, sr=16000, mono=True, duration=5.2)\n",
    "        loaded.append(audio)\n",
    "    train_load_audio[name] = loaded"
   ]
  },
  {
   "cell_type": "code",
   "execution_count": 13,
   "id": "51ec6cab",
   "metadata": {},
   "outputs": [],
   "source": [
    "# Replace 'your_audio_file.mp3' with the path to your audio file\n",
    "test_load_audio = {}\n",
    "for name, pathlst in test_audio_path_byclass.items():\n",
    "    loaded = []\n",
    "    for path in pathlst:\n",
    "        audio, sr = librosa.load(path, sr=16000, mono=True, duration=5.2)\n",
    "        loaded.append(audio)\n",
    "    test_load_audio[name] = loaded"
   ]
  },
  {
   "cell_type": "markdown",
   "id": "33071bee-fd0e-4db9-8e82-4e12b5ade3f0",
   "metadata": {},
   "source": [
    "## Load Model"
   ]
  },
  {
   "cell_type": "code",
   "execution_count": 14,
   "id": "7b52da07-7f41-44cb-bf2c-3d80a12c45f3",
   "metadata": {},
   "outputs": [],
   "source": [
    "# Load the model.\n",
    "import tensorflow_hub as hub\n",
    "model = hub.load('https://tfhub.dev/google/yamnet/1')"
   ]
  },
  {
   "cell_type": "code",
   "execution_count": 15,
   "id": "7cbaf834-0d28-4ae4-a360-de9d9691d1c7",
   "metadata": {},
   "outputs": [],
   "source": [
    "# Run the model, check the output.\n",
    "train_feature = {}\n",
    "for name, arr in train_load_audio.items():\n",
    "    # Initialize dictionaries for each class if not already existing\n",
    "    if name not in train_feature:\n",
    "        train_feature[name] = {'scores': [], 'embeddings': [], 'spectrograms': []}\n",
    "    \n",
    "    for wav in arr:\n",
    "        scores, embeddings, spectrogram = model(wav)\n",
    "        \n",
    "        # Append the results to the respective lists in the dictionary\n",
    "        train_feature[name]['scores'].append(np.array(scores))\n",
    "        train_feature[name]['embeddings'].append(np.array(embeddings))\n",
    "        train_feature[name]['spectrograms'].append(np.array(spectrogram))"
   ]
  },
  {
   "cell_type": "code",
   "execution_count": 16,
   "id": "2a1a264c",
   "metadata": {},
   "outputs": [],
   "source": [
    "# Run the model, check the output.\n",
    "test_feature = {}\n",
    "for name, arr in test_load_audio.items():\n",
    "    # Initialize dictionaries for each class if not already existing\n",
    "    if name not in test_feature:\n",
    "        test_feature[name] = {'scores': [], 'embeddings': [], 'spectrograms': []}\n",
    "    \n",
    "    for wav in arr:\n",
    "        scores, embeddings, spectrogram = model(wav)\n",
    "        \n",
    "        # Append the results to the respective lists in the dictionary\n",
    "        test_feature[name]['scores'].append(np.array(scores))\n",
    "        test_feature[name]['embeddings'].append(np.array(embeddings))\n",
    "        test_feature[name]['spectrograms'].append(np.array(spectrogram))"
   ]
  },
  {
   "cell_type": "code",
   "execution_count": 17,
   "id": "46327ecf-b787-4220-802f-41a327b2abc1",
   "metadata": {},
   "outputs": [],
   "source": [
    "import collections\n",
    "\n",
    "train_shape = {}\n",
    "\n",
    "for class_name in train_feature.keys():\n",
    "    for cat, lst in train_feature[class_name].items():\n",
    "        shapes = [arr.shape for arr in lst]\n",
    "        shapes_count = collections.Counter(shapes)\n",
    "        train_shape[f'{class_name} {cat} shape counts'] = shapes_count"
   ]
  },
  {
   "cell_type": "code",
   "execution_count": 18,
   "id": "314bb6f4-4444-4f35-ba8c-5b21efcc489f",
   "metadata": {},
   "outputs": [],
   "source": [
    "test_shape = {}\n",
    "\n",
    "for class_name in test_feature.keys():\n",
    "    for cat, lst in test_feature[class_name].items():\n",
    "        shapes = [arr.shape for arr in lst]\n",
    "        shapes_count = collections.Counter(shapes)\n",
    "        test_shape[f'{class_name} {cat} shape counts'] = shapes_count"
   ]
  },
  {
   "cell_type": "code",
   "execution_count": 19,
   "id": "361c371e",
   "metadata": {},
   "outputs": [
    {
     "data": {
      "text/plain": [
       "{'bpain scores shape counts': Counter({(10, 521): 16}),\n",
       " 'bpain embeddings shape counts': Counter({(10, 1024): 16}),\n",
       " 'bpain spectrograms shape counts': Counter({(528, 64): 16}),\n",
       " 'discomf scores shape counts': Counter({(10, 521): 64}),\n",
       " 'discomf embeddings shape counts': Counter({(10, 1024): 64}),\n",
       " 'discomf spectrograms shape counts': Counter({(528, 64): 64}),\n",
       " 'hungry scores shape counts': Counter({(10, 521): 100}),\n",
       " 'hungry embeddings shape counts': Counter({(10, 1024): 100}),\n",
       " 'hungry spectrograms shape counts': Counter({(528, 64): 100}),\n",
       " 'tired scores shape counts': Counter({(10, 521): 24}),\n",
       " 'tired embeddings shape counts': Counter({(10, 1024): 24}),\n",
       " 'tired spectrograms shape counts': Counter({(528, 64): 24})}"
      ]
     },
     "execution_count": 19,
     "metadata": {},
     "output_type": "execute_result"
    }
   ],
   "source": [
    "train_shape"
   ]
  },
  {
   "cell_type": "code",
   "execution_count": 20,
   "id": "cd9d1d29",
   "metadata": {},
   "outputs": [
    {
     "data": {
      "text/plain": [
       "{'bpain scores shape counts': Counter({(10, 521): 10}),\n",
       " 'bpain embeddings shape counts': Counter({(10, 1024): 10}),\n",
       " 'bpain spectrograms shape counts': Counter({(528, 64): 10}),\n",
       " 'discomf scores shape counts': Counter({(10, 521): 10}),\n",
       " 'discomf embeddings shape counts': Counter({(10, 1024): 10}),\n",
       " 'discomf spectrograms shape counts': Counter({(528, 64): 10}),\n",
       " 'hungry scores shape counts': Counter({(10, 521): 10}),\n",
       " 'hungry embeddings shape counts': Counter({(10, 1024): 10}),\n",
       " 'hungry spectrograms shape counts': Counter({(528, 64): 10}),\n",
       " 'tired scores shape counts': Counter({(10, 521): 10}),\n",
       " 'tired embeddings shape counts': Counter({(10, 1024): 10}),\n",
       " 'tired spectrograms shape counts': Counter({(528, 64): 10})}"
      ]
     },
     "execution_count": 20,
     "metadata": {},
     "output_type": "execute_result"
    }
   ],
   "source": [
    "test_shape"
   ]
  },
  {
   "cell_type": "markdown",
   "id": "e5b037ab-3c4f-4db5-90c6-3f9352fe2e47",
   "metadata": {},
   "source": [
    "## nd array padding\n",
    "- 각 클래스 카테고리마다 평균 row를 구한 후 padding 해준다"
   ]
  },
  {
   "cell_type": "code",
   "execution_count": 21,
   "id": "a3d4a8a9-7bfe-4b95-a3d2-8a5c5b083cf2",
   "metadata": {},
   "outputs": [],
   "source": [
    "from statistics import mean\n",
    "\n",
    "train_temp = []\n",
    "\n",
    "for class_cat, counter in train_shape.items():\n",
    "    for shape, count in counter.items():\n",
    "        h, w = shape\n",
    "        num_elements = h * w\n",
    "        train_temp.append(num_elements)"
   ]
  },
  {
   "cell_type": "code",
   "execution_count": 22,
   "id": "cd503aab",
   "metadata": {},
   "outputs": [],
   "source": [
    "test_temp = []\n",
    "\n",
    "for class_cat, counter in test_shape.items():\n",
    "    for shape, count in counter.items():\n",
    "        h, w = shape\n",
    "        num_elements = h * w\n",
    "        test_temp.append(num_elements)"
   ]
  },
  {
   "cell_type": "code",
   "execution_count": 23,
   "id": "4f2ca8a2-eac2-463c-b958-e0557ce5d308",
   "metadata": {},
   "outputs": [],
   "source": [
    "train_avg = mean(train_temp)"
   ]
  },
  {
   "cell_type": "code",
   "execution_count": 24,
   "id": "98778a20",
   "metadata": {},
   "outputs": [],
   "source": [
    "test_avg = mean(test_temp)"
   ]
  },
  {
   "cell_type": "code",
   "execution_count": 25,
   "id": "332b9ddd-caab-4483-ae04-e129e5ceefb6",
   "metadata": {},
   "outputs": [
    {
     "data": {
      "text/plain": [
       "16414"
      ]
     },
     "execution_count": 25,
     "metadata": {},
     "output_type": "execute_result"
    }
   ],
   "source": [
    "# train = test\n",
    "test_avg"
   ]
  },
  {
   "cell_type": "code",
   "execution_count": 26,
   "id": "a9bbb647-27a7-4e9f-ba23-7b2c724c97fe",
   "metadata": {},
   "outputs": [],
   "source": [
    "train_reshaped = {}\n",
    "\n",
    "for class_name, categories in train_feature.items():\n",
    "    for cat, lst in categories.items():\n",
    "        temp = []\n",
    "        for arr in lst:\n",
    "            h, w = arr.shape\n",
    "            flat_arr = arr.flatten()\n",
    "            size = h * w\n",
    "\n",
    "            if size == 5210 or size == 10240:\n",
    "                padded = np.pad(flat_arr, pad_width=(0, train_avg - size), mode='constant', constant_values=0)\n",
    "                temp.append(padded)\n",
    "            elif size == 33792:\n",
    "                trunc_arr = flat_arr[:train_avg]\n",
    "                temp.append(trunc_arr)\n",
    "        \n",
    "        train_reshaped[f'{class_name} {cat}'] = temp"
   ]
  },
  {
   "cell_type": "code",
   "execution_count": 27,
   "id": "17bcc93d",
   "metadata": {},
   "outputs": [],
   "source": [
    "test_reshaped = {}\n",
    "\n",
    "for class_name, categories in test_feature.items():\n",
    "    for cat, lst in categories.items():\n",
    "        temp = []\n",
    "        for arr in lst:\n",
    "            h, w = arr.shape\n",
    "            flat_arr = arr.flatten()\n",
    "            size = h * w\n",
    "\n",
    "            if size == 5210 or size == 10240:\n",
    "                padded = np.pad(flat_arr, pad_width=(0, test_avg - size), mode='constant', constant_values=0)\n",
    "                temp.append(padded)\n",
    "            elif size == 33792:\n",
    "                trunc_arr = flat_arr[:test_avg]\n",
    "                temp.append(trunc_arr)\n",
    "        \n",
    "        test_reshaped[f'{class_name} {cat}'] = temp"
   ]
  },
  {
   "cell_type": "code",
   "execution_count": 28,
   "id": "5eb877c6-430b-426a-bef6-b8dbb923ce44",
   "metadata": {},
   "outputs": [],
   "source": [
    "train_shape_count = {}\n",
    "\n",
    "for class_name, lst in train_reshaped.items():\n",
    "    shapes = [arr.shape for arr in lst]\n",
    "    shapes_count = collections.Counter(shapes)\n",
    "    train_shape_count[f'{class_name} shape counts'] = shapes_count"
   ]
  },
  {
   "cell_type": "code",
   "execution_count": 29,
   "id": "665400a4",
   "metadata": {},
   "outputs": [],
   "source": [
    "test_shape_count = {}\n",
    "\n",
    "for class_name, lst in test_reshaped.items():\n",
    "    shapes = [arr.shape for arr in lst]\n",
    "    shapes_count = collections.Counter(shapes)\n",
    "    test_shape_count[f'{class_name} shape counts'] = shapes_count"
   ]
  },
  {
   "cell_type": "code",
   "execution_count": 30,
   "id": "8f69e2ad-169e-43b4-960a-bcff1d368fcb",
   "metadata": {},
   "outputs": [
    {
     "data": {
      "text/plain": [
       "{'bpain scores shape counts': Counter({(16414,): 10}),\n",
       " 'bpain embeddings shape counts': Counter({(16414,): 10}),\n",
       " 'bpain spectrograms shape counts': Counter({(16414,): 10}),\n",
       " 'discomf scores shape counts': Counter({(16414,): 10}),\n",
       " 'discomf embeddings shape counts': Counter({(16414,): 10}),\n",
       " 'discomf spectrograms shape counts': Counter({(16414,): 10}),\n",
       " 'hungry scores shape counts': Counter({(16414,): 10}),\n",
       " 'hungry embeddings shape counts': Counter({(16414,): 10}),\n",
       " 'hungry spectrograms shape counts': Counter({(16414,): 10}),\n",
       " 'tired scores shape counts': Counter({(16414,): 10}),\n",
       " 'tired embeddings shape counts': Counter({(16414,): 10}),\n",
       " 'tired spectrograms shape counts': Counter({(16414,): 10})}"
      ]
     },
     "execution_count": 30,
     "metadata": {},
     "output_type": "execute_result"
    }
   ],
   "source": [
    "test_shape_count"
   ]
  },
  {
   "cell_type": "code",
   "execution_count": 31,
   "id": "919ed44d-4cb8-44c3-b3fb-391ca00b15c9",
   "metadata": {},
   "outputs": [
    {
     "data": {
      "text/plain": [
       "dict_keys(['bpain scores', 'bpain embeddings', 'bpain spectrograms', 'discomf scores', 'discomf embeddings', 'discomf spectrograms', 'hungry scores', 'hungry embeddings', 'hungry spectrograms', 'tired scores', 'tired embeddings', 'tired spectrograms'])"
      ]
     },
     "execution_count": 31,
     "metadata": {},
     "output_type": "execute_result"
    }
   ],
   "source": [
    "test_reshaped.keys()"
   ]
  },
  {
   "cell_type": "code",
   "execution_count": 32,
   "id": "eac6f8e7-4bd0-4e08-a7a0-0e0b3a5f07c4",
   "metadata": {},
   "outputs": [],
   "source": [
    "# Define your class names\n",
    "class_names = ['bpain', 'discomf', 'hungry', 'tired']"
   ]
  },
  {
   "cell_type": "code",
   "execution_count": 33,
   "id": "b89e0c96",
   "metadata": {},
   "outputs": [],
   "source": [
    "# Initialize dictionaries for each category\n",
    "train_score_only = {class_name: [] for class_name in class_names}\n",
    "train_embed_only = {class_name: [] for class_name in class_names}\n",
    "train_spec_only = {class_name: [] for class_name in class_names}\n",
    "\n",
    "# Loop over reshaped items only once\n",
    "for category, lists in train_reshaped.items():\n",
    "    for class_name in class_names:\n",
    "        if f'{class_name} scores' in category:\n",
    "            train_score_only[class_name].extend(lists)\n",
    "        elif f'{class_name} embeddings' in category:\n",
    "            train_embed_only[class_name].extend(lists)\n",
    "        elif f'{class_name} spectrograms' in category:\n",
    "            train_spec_only[class_name].extend(lists)"
   ]
  },
  {
   "cell_type": "code",
   "execution_count": 34,
   "id": "555fb90e",
   "metadata": {},
   "outputs": [],
   "source": [
    "# Initialize dictionaries for each category\n",
    "test_score_only = {class_name: [] for class_name in class_names}\n",
    "test_embed_only = {class_name: [] for class_name in class_names}\n",
    "test_spec_only = {class_name: [] for class_name in class_names}\n",
    "\n",
    "# Loop over reshaped items only once\n",
    "for category, lists in test_reshaped.items():\n",
    "    for class_name in class_names:\n",
    "        if f'{class_name} scores' in category:\n",
    "            test_score_only[class_name].extend(lists)\n",
    "        elif f'{class_name} embeddings' in category:\n",
    "            test_embed_only[class_name].extend(lists)\n",
    "        elif f'{class_name} spectrograms' in category:\n",
    "            test_spec_only[class_name].extend(lists)"
   ]
  },
  {
   "cell_type": "code",
   "execution_count": 35,
   "id": "ae01faf4-0313-427a-948f-84f7d6c9073b",
   "metadata": {},
   "outputs": [
    {
     "data": {
      "text/plain": [
       "(24, 16414)"
      ]
     },
     "execution_count": 35,
     "metadata": {},
     "output_type": "execute_result"
    }
   ],
   "source": [
    "train_bpain_score_arr = np.array(train_score_only['bpain'])\n",
    "train_discomf_score_arr = np.array(train_score_only['discomf'])\n",
    "train_hungry_score_arr = np.array(train_score_only['hungry'])\n",
    "train_tired_score_arr = np.array(train_score_only['tired'])\n",
    "train_tired_score_arr.shape"
   ]
  },
  {
   "cell_type": "code",
   "execution_count": 36,
   "id": "5affcd1f",
   "metadata": {},
   "outputs": [
    {
     "data": {
      "text/plain": [
       "(10, 16414)"
      ]
     },
     "execution_count": 36,
     "metadata": {},
     "output_type": "execute_result"
    }
   ],
   "source": [
    "test_bpain_score_arr = np.array(test_score_only['bpain'])\n",
    "test_discomf_score_arr = np.array(test_score_only['discomf'])\n",
    "test_hungry_score_arr = np.array(test_score_only['hungry'])\n",
    "test_tired_score_arr = np.array(test_score_only['tired'])\n",
    "test_tired_score_arr.shape"
   ]
  },
  {
   "cell_type": "code",
   "execution_count": 37,
   "id": "5a26bfa2-e42e-42ff-81ad-607ab215adf4",
   "metadata": {},
   "outputs": [
    {
     "data": {
      "text/plain": [
       "(204, 16414)"
      ]
     },
     "execution_count": 37,
     "metadata": {},
     "output_type": "execute_result"
    }
   ],
   "source": [
    "train_score_stack = np.vstack((train_bpain_score_arr, train_discomf_score_arr, train_hungry_score_arr, train_tired_score_arr))\n",
    "train_score_stack.shape"
   ]
  },
  {
   "cell_type": "code",
   "execution_count": 38,
   "id": "a796f608",
   "metadata": {},
   "outputs": [
    {
     "data": {
      "text/plain": [
       "(40, 16414)"
      ]
     },
     "execution_count": 38,
     "metadata": {},
     "output_type": "execute_result"
    }
   ],
   "source": [
    "test_score_stack = np.vstack((test_bpain_score_arr, test_discomf_score_arr, test_hungry_score_arr, test_tired_score_arr))\n",
    "test_score_stack.shape"
   ]
  },
  {
   "cell_type": "code",
   "execution_count": 39,
   "id": "4e87d043-242b-4d51-95a3-6e71b7f01098",
   "metadata": {},
   "outputs": [
    {
     "name": "stdout",
     "output_type": "stream",
     "text": [
      "matching true\n"
     ]
    }
   ],
   "source": [
    "if np.array_equal(train_score_stack[180:204, :], train_tired_score_arr):\n",
    "    print('matching true')\n",
    "else:\n",
    "    print('matching false')"
   ]
  },
  {
   "cell_type": "code",
   "execution_count": 40,
   "id": "c91ac8c1",
   "metadata": {},
   "outputs": [
    {
     "name": "stdout",
     "output_type": "stream",
     "text": [
      "matching true\n"
     ]
    }
   ],
   "source": [
    "if np.array_equal(test_score_stack[30:40, :], test_tired_score_arr):\n",
    "    print('matching true')\n",
    "else:\n",
    "    print('matching false')"
   ]
  },
  {
   "cell_type": "code",
   "execution_count": 41,
   "id": "304b880b-7a7a-4cbb-b5ba-6046774fc1eb",
   "metadata": {},
   "outputs": [],
   "source": [
    "train_bpain_embed_arr = np.array(train_embed_only['bpain'])\n",
    "train_discomf_embed_arr = np.array(train_embed_only['discomf'])\n",
    "train_hungry_embed_arr = np.array(train_embed_only['hungry'])\n",
    "train_tired_embed_arr = np.array(train_embed_only['tired'])"
   ]
  },
  {
   "cell_type": "code",
   "execution_count": 42,
   "id": "a4e29d5d",
   "metadata": {},
   "outputs": [],
   "source": [
    "test_bpain_embed_arr = np.array(test_embed_only['bpain'])\n",
    "test_discomf_embed_arr = np.array(test_embed_only['discomf'])\n",
    "test_hungry_embed_arr = np.array(test_embed_only['hungry'])\n",
    "test_tired_embed_arr = np.array(test_embed_only['tired'])"
   ]
  },
  {
   "cell_type": "code",
   "execution_count": 43,
   "id": "e1634ffc-3bab-42aa-9237-4b13f0ff0e33",
   "metadata": {},
   "outputs": [
    {
     "data": {
      "text/plain": [
       "(204, 16414)"
      ]
     },
     "execution_count": 43,
     "metadata": {},
     "output_type": "execute_result"
    }
   ],
   "source": [
    "train_embed_stack = np.vstack((train_bpain_embed_arr, train_discomf_embed_arr, train_hungry_embed_arr, train_tired_embed_arr))\n",
    "train_embed_stack.shape"
   ]
  },
  {
   "cell_type": "code",
   "execution_count": 44,
   "id": "7a9f3602",
   "metadata": {},
   "outputs": [
    {
     "data": {
      "text/plain": [
       "(40, 16414)"
      ]
     },
     "execution_count": 44,
     "metadata": {},
     "output_type": "execute_result"
    }
   ],
   "source": [
    "test_embed_stack = np.vstack((test_bpain_embed_arr, test_discomf_embed_arr, test_hungry_embed_arr, test_tired_embed_arr))\n",
    "test_embed_stack.shape"
   ]
  },
  {
   "cell_type": "code",
   "execution_count": 45,
   "id": "33fd8421-b6c1-4111-8fbb-cf1756abdf44",
   "metadata": {},
   "outputs": [],
   "source": [
    "test_bpain_spec_arr = np.array(test_spec_only['bpain'])\n",
    "test_discomf_spec_arr = np.array(test_spec_only['discomf'])\n",
    "test_hungry_spec_arr = np.array(test_spec_only['hungry'])\n",
    "test_tired_spec_arr = np.array(test_spec_only['tired'])"
   ]
  },
  {
   "cell_type": "code",
   "execution_count": 46,
   "id": "1a7209e8",
   "metadata": {},
   "outputs": [],
   "source": [
    "train_bpain_spec_arr = np.array(train_spec_only['bpain'])\n",
    "train_discomf_spec_arr = np.array(train_spec_only['discomf'])\n",
    "train_hungry_spec_arr = np.array(train_spec_only['hungry'])\n",
    "train_tired_spec_arr = np.array(train_spec_only['tired'])"
   ]
  },
  {
   "cell_type": "code",
   "execution_count": 47,
   "id": "d38f5559-1a8e-4a4e-acc6-7b34a3541b02",
   "metadata": {},
   "outputs": [
    {
     "data": {
      "text/plain": [
       "(204, 16414)"
      ]
     },
     "execution_count": 47,
     "metadata": {},
     "output_type": "execute_result"
    }
   ],
   "source": [
    "train_spec_stack = np.vstack((train_bpain_spec_arr, train_discomf_spec_arr, train_hungry_spec_arr, train_tired_spec_arr))\n",
    "train_spec_stack.shape"
   ]
  },
  {
   "cell_type": "code",
   "execution_count": 48,
   "id": "793781bc",
   "metadata": {},
   "outputs": [
    {
     "data": {
      "text/plain": [
       "(40, 16414)"
      ]
     },
     "execution_count": 48,
     "metadata": {},
     "output_type": "execute_result"
    }
   ],
   "source": [
    "test_spec_stack = np.vstack((test_bpain_spec_arr, test_discomf_spec_arr, test_hungry_spec_arr, test_tired_spec_arr))\n",
    "test_spec_stack.shape"
   ]
  },
  {
   "cell_type": "code",
   "execution_count": 49,
   "id": "04d93490-48ad-448b-ad69-70e3647f1d3e",
   "metadata": {},
   "outputs": [
    {
     "data": {
      "text/plain": [
       "(204,)"
      ]
     },
     "execution_count": 49,
     "metadata": {},
     "output_type": "execute_result"
    }
   ],
   "source": [
    "# Combine data and labels\n",
    "train_score_labels = []\n",
    "\n",
    "score_arrlst = [\n",
    "    train_bpain_score_arr,\n",
    "    train_discomf_score_arr,\n",
    "    train_hungry_score_arr,\n",
    "    train_tired_score_arr\n",
    "]\n",
    "\n",
    "for idx, arr in enumerate(score_arrlst):\n",
    "    train_score_labels.extend([idx] * len(arr))\n",
    "\n",
    "y_train = np.array(train_score_labels)\n",
    "y_train.shape"
   ]
  },
  {
   "cell_type": "code",
   "execution_count": 50,
   "id": "370c34fc",
   "metadata": {},
   "outputs": [
    {
     "data": {
      "text/plain": [
       "(40,)"
      ]
     },
     "execution_count": 50,
     "metadata": {},
     "output_type": "execute_result"
    }
   ],
   "source": [
    "# Combine data and labels\n",
    "test_score_labels = []\n",
    "\n",
    "score_arrlst = [\n",
    "    test_bpain_score_arr,\n",
    "    test_discomf_score_arr,\n",
    "    test_hungry_score_arr,\n",
    "    test_tired_score_arr\n",
    "]\n",
    "\n",
    "for idx, arr in enumerate(score_arrlst):\n",
    "    test_score_labels.extend([idx] * len(arr))\n",
    "\n",
    "y_test = np.array(test_score_labels)\n",
    "y_test.shape"
   ]
  },
  {
   "cell_type": "code",
   "execution_count": 51,
   "id": "edf0faeb-6803-4ea4-86a6-30509f09d029",
   "metadata": {},
   "outputs": [
    {
     "name": "stdout",
     "output_type": "stream",
     "text": [
      "16\n",
      "64\n",
      "100\n",
      "24\n"
     ]
    }
   ],
   "source": [
    "for i in range(4):\n",
    "    print(train_score_labels.count(i))"
   ]
  },
  {
   "cell_type": "code",
   "execution_count": 52,
   "id": "6d0abdd8",
   "metadata": {},
   "outputs": [
    {
     "name": "stdout",
     "output_type": "stream",
     "text": [
      "10\n",
      "10\n",
      "10\n",
      "10\n"
     ]
    }
   ],
   "source": [
    "for i in range(4):\n",
    "    print(test_score_labels.count(i))"
   ]
  },
  {
   "cell_type": "code",
   "execution_count": 53,
   "id": "85ac9b04-e85e-48aa-a4be-0cec3ad9180b",
   "metadata": {},
   "outputs": [],
   "source": [
    "# Generate shuffled indices\n",
    "shuffled_indices = np.random.permutation(train_score_stack.shape[0])\n",
    "\n",
    "# Shuffle each array using the same shuffled indices\n",
    "train_shuffled_score = train_score_stack[shuffled_indices, :]\n",
    "train_shuffled_embed = train_embed_stack[shuffled_indices, :]\n",
    "train_shuffled_spec = train_spec_stack[shuffled_indices, :]\n",
    "y_train = y_train[shuffled_indices]"
   ]
  },
  {
   "cell_type": "code",
   "execution_count": 54,
   "id": "f80de279",
   "metadata": {},
   "outputs": [],
   "source": [
    "# Generate shuffled indices\n",
    "shuffled_indices = np.random.permutation(test_score_stack.shape[0])\n",
    "\n",
    "# Shuffle each array using the same shuffled indices\n",
    "test_shuffled_score = test_score_stack[shuffled_indices, :]\n",
    "test_shuffled_embed = test_embed_stack[shuffled_indices, :]\n",
    "test_shuffled_spec = test_spec_stack[shuffled_indices, :]\n",
    "y_test = y_test[shuffled_indices]"
   ]
  },
  {
   "cell_type": "markdown",
   "id": "c00bdc92",
   "metadata": {},
   "source": [
    "## Functional API Tried"
   ]
  },
  {
   "cell_type": "code",
   "execution_count": 55,
   "id": "fec78dda",
   "metadata": {},
   "outputs": [],
   "source": [
    "from tensorflow.keras import layers, models, utils, Input"
   ]
  },
  {
   "cell_type": "code",
   "execution_count": 56,
   "id": "f0f69c6b",
   "metadata": {},
   "outputs": [
    {
     "name": "stdout",
     "output_type": "stream",
     "text": [
      "Model: \"model\"\n",
      "__________________________________________________________________________________________________\n",
      " Layer (type)                   Output Shape         Param #     Connected to                     \n",
      "==================================================================================================\n",
      " Input_1 (InputLayer)           [(None, 16414)]      0           []                               \n",
      "                                                                                                  \n",
      " Input_2 (InputLayer)           [(None, 16414)]      0           []                               \n",
      "                                                                                                  \n",
      " Input_3 (InputLayer)           [(None, 16414)]      0           []                               \n",
      "                                                                                                  \n",
      " dense (Dense)                  (None, 512)          8404480     ['Input_1[0][0]']                \n",
      "                                                                                                  \n",
      " dense_1 (Dense)                (None, 512)          8404480     ['Input_2[0][0]']                \n",
      "                                                                                                  \n",
      " dense_2 (Dense)                (None, 512)          8404480     ['Input_3[0][0]']                \n",
      "                                                                                                  \n",
      " batch_normalization (BatchNorm  (None, 512)         2048        ['dense[0][0]']                  \n",
      " alization)                                                                                       \n",
      "                                                                                                  \n",
      " batch_normalization_1 (BatchNo  (None, 512)         2048        ['dense_1[0][0]']                \n",
      " rmalization)                                                                                     \n",
      "                                                                                                  \n",
      " batch_normalization_2 (BatchNo  (None, 512)         2048        ['dense_2[0][0]']                \n",
      " rmalization)                                                                                     \n",
      "                                                                                                  \n",
      " dense_3 (Dense)                (None, 256)          131328      ['batch_normalization[0][0]']    \n",
      "                                                                                                  \n",
      " dense_4 (Dense)                (None, 256)          131328      ['batch_normalization_1[0][0]']  \n",
      "                                                                                                  \n",
      " dense_5 (Dense)                (None, 256)          131328      ['batch_normalization_2[0][0]']  \n",
      "                                                                                                  \n",
      " batch_normalization_3 (BatchNo  (None, 256)         1024        ['dense_3[0][0]']                \n",
      " rmalization)                                                                                     \n",
      "                                                                                                  \n",
      " batch_normalization_4 (BatchNo  (None, 256)         1024        ['dense_4[0][0]']                \n",
      " rmalization)                                                                                     \n",
      "                                                                                                  \n",
      " batch_normalization_5 (BatchNo  (None, 256)         1024        ['dense_5[0][0]']                \n",
      " rmalization)                                                                                     \n",
      "                                                                                                  \n",
      " dropout (Dropout)              (None, 256)          0           ['batch_normalization_3[0][0]']  \n",
      "                                                                                                  \n",
      " dropout_1 (Dropout)            (None, 256)          0           ['batch_normalization_4[0][0]']  \n",
      "                                                                                                  \n",
      " dropout_2 (Dropout)            (None, 256)          0           ['batch_normalization_5[0][0]']  \n",
      "                                                                                                  \n",
      " dense_6 (Dense)                (None, 64)           16448       ['dropout[0][0]']                \n",
      "                                                                                                  \n",
      " dense_7 (Dense)                (None, 64)           16448       ['dropout_1[0][0]']              \n",
      "                                                                                                  \n",
      " dense_8 (Dense)                (None, 64)           16448       ['dropout_2[0][0]']              \n",
      "                                                                                                  \n",
      " batch_normalization_6 (BatchNo  (None, 64)          256         ['dense_6[0][0]']                \n",
      " rmalization)                                                                                     \n",
      "                                                                                                  \n",
      " batch_normalization_7 (BatchNo  (None, 64)          256         ['dense_7[0][0]']                \n",
      " rmalization)                                                                                     \n",
      "                                                                                                  \n",
      " batch_normalization_8 (BatchNo  (None, 64)          256         ['dense_8[0][0]']                \n",
      " rmalization)                                                                                     \n",
      "                                                                                                  \n",
      " dense_9 (Dense)                (None, 32)           2080        ['batch_normalization_6[0][0]']  \n",
      "                                                                                                  \n",
      " dense_10 (Dense)               (None, 32)           2080        ['batch_normalization_7[0][0]']  \n",
      "                                                                                                  \n",
      " dense_11 (Dense)               (None, 32)           2080        ['batch_normalization_8[0][0]']  \n",
      "                                                                                                  \n",
      " batch_normalization_9 (BatchNo  (None, 32)          128         ['dense_9[0][0]']                \n"
     ]
    },
    {
     "name": "stdout",
     "output_type": "stream",
     "text": [
      " rmalization)                                                                                     \n",
      "                                                                                                  \n",
      " batch_normalization_10 (BatchN  (None, 32)          128         ['dense_10[0][0]']               \n",
      " ormalization)                                                                                    \n",
      "                                                                                                  \n",
      " batch_normalization_11 (BatchN  (None, 32)          128         ['dense_11[0][0]']               \n",
      " ormalization)                                                                                    \n",
      "                                                                                                  \n",
      " dropout_3 (Dropout)            (None, 32)           0           ['batch_normalization_9[0][0]']  \n",
      "                                                                                                  \n",
      " dropout_4 (Dropout)            (None, 32)           0           ['batch_normalization_10[0][0]'] \n",
      "                                                                                                  \n",
      " dropout_5 (Dropout)            (None, 32)           0           ['batch_normalization_11[0][0]'] \n",
      "                                                                                                  \n",
      " concatenate (Concatenate)      (None, 96)           0           ['dropout_3[0][0]',              \n",
      "                                                                  'dropout_4[0][0]',              \n",
      "                                                                  'dropout_5[0][0]']              \n",
      "                                                                                                  \n",
      " output (Dense)                 (None, 4)            388         ['concatenate[0][0]']            \n",
      "                                                                                                  \n",
      "==================================================================================================\n",
      "Total params: 25,673,764\n",
      "Trainable params: 25,668,580\n",
      "Non-trainable params: 5,184\n",
      "__________________________________________________________________________________________________\n"
     ]
    }
   ],
   "source": [
    "# Input layer\n",
    "input_1 = Input(shape=(train_shuffled_score[0].shape), name='Input_1')\n",
    "input_2 = Input(shape=(train_shuffled_embed[0].shape), name='Input_2')\n",
    "input_3 = Input(shape=(train_shuffled_spec[0].shape), name='Input_3')\n",
    "\n",
    "# First hidden layer\n",
    "hidden_spec1 = layers.Dense(512, activation='sigmoid')(input_1)\n",
    "hidden_spec1 = layers.BatchNormalization()(hidden_spec1)\n",
    "\n",
    "hidden_embed1 = layers.Dense(512, activation='sigmoid')(input_2)\n",
    "hidden_embed1 = layers.BatchNormalization()(hidden_embed1)\n",
    "\n",
    "hidden_score1 = layers.Dense(512, activation='sigmoid')(input_3)\n",
    "hidden_score1 = layers.BatchNormalization()(hidden_score1)\n",
    "\n",
    "# Second hidden layer\n",
    "hidden_spec2 = layers.Dense(256, activation='sigmoid')(hidden_spec1)\n",
    "hidden_spec2 = layers.BatchNormalization()(hidden_spec2)\n",
    "hidden_spec2 = layers.Dropout(0.35)(hidden_spec2)\n",
    "\n",
    "hidden_embed2 = layers.Dense(256, activation='sigmoid')(hidden_embed1)\n",
    "hidden_embed2 = layers.BatchNormalization()(hidden_embed2)\n",
    "hidden_embed2 = layers.Dropout(0.35)(hidden_embed2)\n",
    "\n",
    "hidden_score2 = layers.Dense(256, activation='sigmoid')(hidden_score1)\n",
    "hidden_score2 = layers.BatchNormalization()(hidden_score2)\n",
    "hidden_score2 = layers.Dropout(0.35)(hidden_score2)\n",
    "\n",
    "# Third hidden layer\n",
    "hidden_spec3 = layers.Dense(64, activation='sigmoid')(hidden_spec2)\n",
    "hidden_spec3 = layers.BatchNormalization()(hidden_spec3)\n",
    "\n",
    "hidden_embed3 = layers.Dense(64, activation='sigmoid')(hidden_embed2)\n",
    "hidden_embed3 = layers.BatchNormalization()(hidden_embed3)\n",
    "\n",
    "hidden_score3 = layers.Dense(64, activation='sigmoid')(hidden_score2)\n",
    "hidden_score3 = layers.BatchNormalization()(hidden_score3)\n",
    "\n",
    "# Fourth hidden layer\n",
    "hidden_spec4 = layers.Dense(32, activation='sigmoid')(hidden_spec3)\n",
    "hidden_spec4 = layers.BatchNormalization()(hidden_spec4)\n",
    "hidden_spec4 = layers.Dropout(0.35)(hidden_spec4)\n",
    "\n",
    "hidden_embed4 = layers.Dense(32, activation='sigmoid')(hidden_embed3)\n",
    "hidden_embed4 = layers.BatchNormalization()(hidden_embed4)\n",
    "hidden_embed4 = layers.Dropout(0.35)(hidden_embed4)\n",
    "\n",
    "hidden_score4 = layers.Dense(32, activation='sigmoid')(hidden_score3)\n",
    "hidden_score4 = layers.BatchNormalization()(hidden_score4)\n",
    "hidden_score4 = layers.Dropout(0.35)(hidden_score4)\n",
    "\n",
    "# Concatenate layer\n",
    "concat = layers.Concatenate()([hidden_spec4, hidden_embed4, hidden_score4])\n",
    "hidden_layer1 = layers.Dense(128, activation='relu')(concat)\n",
    "hidden_layer2 = layers.Dense(64, activation='relu')(hidden_layer1)\n",
    "output = layers.Dense(4, activation='softmax', name='output')(concat)\n",
    "\n",
    "model = models.Model(inputs=[input_1, input_2, input_3], outputs=[output])\n",
    "model.summary()"
   ]
  },
  {
   "cell_type": "code",
   "execution_count": 61,
   "id": "13dee0cb",
   "metadata": {},
   "outputs": [],
   "source": [
    "# Compile the model\n",
    "model.compile(optimizer=tf.optimizers.RMSprop(learning_rate=0.0005, decay=1e-6), \n",
    "              loss='sparse_categorical_crossentropy', \n",
    "              metrics=['accuracy'])\n"
   ]
  },
  {
   "cell_type": "code",
   "execution_count": 58,
   "id": "6583d276",
   "metadata": {},
   "outputs": [
    {
     "name": "stdout",
     "output_type": "stream",
     "text": [
      "Epoch 1/50\n",
      "26/26 [==============================] - 6s 61ms/step - loss: 1.8478 - accuracy: 0.3039 - val_loss: 1.6805 - val_accuracy: 0.2500\n",
      "Epoch 2/50\n",
      "26/26 [==============================] - 1s 43ms/step - loss: 1.2326 - accuracy: 0.5588 - val_loss: 1.6511 - val_accuracy: 0.3000\n",
      "Epoch 3/50\n",
      "26/26 [==============================] - 1s 42ms/step - loss: 1.1200 - accuracy: 0.5980 - val_loss: 1.6311 - val_accuracy: 0.1750\n",
      "Epoch 4/50\n",
      "26/26 [==============================] - 1s 42ms/step - loss: 0.9168 - accuracy: 0.6667 - val_loss: 1.6083 - val_accuracy: 0.2500\n",
      "Epoch 5/50\n",
      "26/26 [==============================] - 1s 43ms/step - loss: 0.7748 - accuracy: 0.7108 - val_loss: 1.5793 - val_accuracy: 0.3000\n",
      "Epoch 6/50\n",
      "26/26 [==============================] - 1s 41ms/step - loss: 0.7769 - accuracy: 0.6912 - val_loss: 1.5550 - val_accuracy: 0.3000\n",
      "Epoch 7/50\n",
      "26/26 [==============================] - 1s 41ms/step - loss: 0.5730 - accuracy: 0.8039 - val_loss: 1.5522 - val_accuracy: 0.2500\n",
      "Epoch 8/50\n",
      "26/26 [==============================] - 1s 43ms/step - loss: 0.4736 - accuracy: 0.8627 - val_loss: 1.6318 - val_accuracy: 0.2500\n",
      "Epoch 9/50\n",
      "26/26 [==============================] - 1s 40ms/step - loss: 0.4213 - accuracy: 0.8578 - val_loss: 1.5138 - val_accuracy: 0.2500\n",
      "Epoch 10/50\n",
      "26/26 [==============================] - 1s 40ms/step - loss: 0.4937 - accuracy: 0.8088 - val_loss: 1.5565 - val_accuracy: 0.2500\n",
      "Epoch 11/50\n",
      "26/26 [==============================] - 1s 40ms/step - loss: 0.5344 - accuracy: 0.8137 - val_loss: 1.5668 - val_accuracy: 0.2500\n",
      "Epoch 12/50\n",
      "26/26 [==============================] - 1s 43ms/step - loss: 0.3622 - accuracy: 0.8578 - val_loss: 1.7067 - val_accuracy: 0.3000\n",
      "Epoch 13/50\n",
      "26/26 [==============================] - 1s 40ms/step - loss: 0.3130 - accuracy: 0.8922 - val_loss: 1.8181 - val_accuracy: 0.3250\n",
      "Epoch 14/50\n",
      "26/26 [==============================] - 1s 41ms/step - loss: 0.3401 - accuracy: 0.8725 - val_loss: 1.9981 - val_accuracy: 0.2750\n",
      "Epoch 15/50\n",
      "26/26 [==============================] - 1s 43ms/step - loss: 0.3027 - accuracy: 0.8922 - val_loss: 2.3682 - val_accuracy: 0.3000\n",
      "Epoch 16/50\n",
      "26/26 [==============================] - 1s 42ms/step - loss: 0.2253 - accuracy: 0.9265 - val_loss: 2.3734 - val_accuracy: 0.2750\n",
      "Epoch 17/50\n",
      "26/26 [==============================] - 1s 43ms/step - loss: 0.2557 - accuracy: 0.9020 - val_loss: 2.3566 - val_accuracy: 0.2750\n",
      "Epoch 18/50\n",
      "26/26 [==============================] - 1s 42ms/step - loss: 0.2116 - accuracy: 0.9363 - val_loss: 3.0417 - val_accuracy: 0.3000\n",
      "Epoch 19/50\n",
      "26/26 [==============================] - 1s 42ms/step - loss: 0.2445 - accuracy: 0.9020 - val_loss: 3.3396 - val_accuracy: 0.3000\n",
      "Epoch 20/50\n",
      "26/26 [==============================] - 1s 42ms/step - loss: 0.1550 - accuracy: 0.9510 - val_loss: 2.8223 - val_accuracy: 0.2750\n",
      "Epoch 21/50\n",
      "26/26 [==============================] - 1s 42ms/step - loss: 0.1394 - accuracy: 0.9510 - val_loss: 3.8446 - val_accuracy: 0.3250\n",
      "Epoch 22/50\n",
      "26/26 [==============================] - 1s 42ms/step - loss: 0.3022 - accuracy: 0.8971 - val_loss: 2.9585 - val_accuracy: 0.3500\n",
      "Epoch 23/50\n",
      "26/26 [==============================] - 1s 42ms/step - loss: 0.2209 - accuracy: 0.9412 - val_loss: 2.9688 - val_accuracy: 0.3000\n",
      "Epoch 24/50\n",
      "26/26 [==============================] - 1s 42ms/step - loss: 0.1980 - accuracy: 0.9265 - val_loss: 3.0982 - val_accuracy: 0.3000\n",
      "Epoch 25/50\n",
      "26/26 [==============================] - 1s 42ms/step - loss: 0.2129 - accuracy: 0.9167 - val_loss: 2.3862 - val_accuracy: 0.2250\n",
      "Epoch 26/50\n",
      "26/26 [==============================] - 1s 42ms/step - loss: 0.1828 - accuracy: 0.9363 - val_loss: 2.3715 - val_accuracy: 0.2500\n",
      "Epoch 27/50\n",
      "26/26 [==============================] - 1s 42ms/step - loss: 0.1523 - accuracy: 0.9314 - val_loss: 2.9535 - val_accuracy: 0.3250\n",
      "Epoch 28/50\n",
      "26/26 [==============================] - 1s 44ms/step - loss: 0.1543 - accuracy: 0.9608 - val_loss: 2.9897 - val_accuracy: 0.3000\n",
      "Epoch 29/50\n",
      "26/26 [==============================] - 1s 44ms/step - loss: 0.1500 - accuracy: 0.9461 - val_loss: 3.1982 - val_accuracy: 0.3000\n",
      "Epoch 30/50\n",
      "26/26 [==============================] - 1s 47ms/step - loss: 0.1788 - accuracy: 0.9461 - val_loss: 3.0003 - val_accuracy: 0.2250\n",
      "Epoch 31/50\n",
      "26/26 [==============================] - 1s 49ms/step - loss: 0.1949 - accuracy: 0.9461 - val_loss: 2.6584 - val_accuracy: 0.3250\n",
      "Epoch 32/50\n",
      "26/26 [==============================] - 1s 55ms/step - loss: 0.1587 - accuracy: 0.9510 - val_loss: 3.4170 - val_accuracy: 0.3250\n",
      "Epoch 33/50\n",
      "26/26 [==============================] - 1s 46ms/step - loss: 0.1371 - accuracy: 0.9559 - val_loss: 3.2877 - val_accuracy: 0.2750\n",
      "Epoch 34/50\n",
      "26/26 [==============================] - 1s 55ms/step - loss: 0.2965 - accuracy: 0.9069 - val_loss: 3.0983 - val_accuracy: 0.3250\n",
      "Epoch 35/50\n",
      "26/26 [==============================] - 1s 52ms/step - loss: 0.2169 - accuracy: 0.9265 - val_loss: 2.8179 - val_accuracy: 0.3250\n",
      "Epoch 36/50\n",
      "26/26 [==============================] - 1s 51ms/step - loss: 0.2084 - accuracy: 0.9118 - val_loss: 3.3269 - val_accuracy: 0.3000\n",
      "Epoch 37/50\n",
      "26/26 [==============================] - 1s 49ms/step - loss: 0.1769 - accuracy: 0.9657 - val_loss: 3.3161 - val_accuracy: 0.4250\n",
      "Epoch 38/50\n",
      "26/26 [==============================] - 1s 49ms/step - loss: 0.1151 - accuracy: 0.9559 - val_loss: 2.9074 - val_accuracy: 0.3500\n",
      "Epoch 39/50\n",
      "26/26 [==============================] - 1s 49ms/step - loss: 0.1147 - accuracy: 0.9706 - val_loss: 3.5699 - val_accuracy: 0.2750\n",
      "Epoch 40/50\n",
      "26/26 [==============================] - 1s 49ms/step - loss: 0.1324 - accuracy: 0.9804 - val_loss: 3.4438 - val_accuracy: 0.3000\n",
      "Epoch 41/50\n",
      "26/26 [==============================] - 1s 52ms/step - loss: 0.2155 - accuracy: 0.9314 - val_loss: 3.1926 - val_accuracy: 0.3250\n",
      "Epoch 42/50\n",
      "26/26 [==============================] - 1s 48ms/step - loss: 0.1400 - accuracy: 0.9461 - val_loss: 3.1989 - val_accuracy: 0.3500\n",
      "Epoch 43/50\n",
      "26/26 [==============================] - 2s 58ms/step - loss: 0.1332 - accuracy: 0.9706 - val_loss: 3.3882 - val_accuracy: 0.3000\n",
      "Epoch 44/50\n",
      "26/26 [==============================] - 1s 43ms/step - loss: 0.1070 - accuracy: 0.9510 - val_loss: 3.3069 - val_accuracy: 0.3250\n",
      "Epoch 45/50\n",
      "26/26 [==============================] - 1s 42ms/step - loss: 0.1203 - accuracy: 0.9510 - val_loss: 3.7024 - val_accuracy: 0.3750\n",
      "Epoch 46/50\n",
      "26/26 [==============================] - 1s 47ms/step - loss: 0.1015 - accuracy: 0.9804 - val_loss: 4.4773 - val_accuracy: 0.3500\n",
      "Epoch 47/50\n",
      "26/26 [==============================] - 1s 49ms/step - loss: 0.1031 - accuracy: 0.9657 - val_loss: 2.9933 - val_accuracy: 0.2500\n",
      "Epoch 48/50\n",
      "26/26 [==============================] - 1s 48ms/step - loss: 0.1025 - accuracy: 0.9804 - val_loss: 3.6480 - val_accuracy: 0.3000\n",
      "Epoch 49/50\n",
      "26/26 [==============================] - 1s 45ms/step - loss: 0.2855 - accuracy: 0.9167 - val_loss: 3.1773 - val_accuracy: 0.3750\n",
      "Epoch 50/50\n",
      "26/26 [==============================] - 1s 43ms/step - loss: 0.1197 - accuracy: 0.9510 - val_loss: 3.5577 - val_accuracy: 0.3250\n"
     ]
    }
   ],
   "source": [
    "history = model.fit(\n",
    "    \n",
    "    x=(train_shuffled_score, train_shuffled_embed, train_shuffled_spec),\n",
    "    y=y_train,\n",
    "    batch_size=6,\n",
    "    epochs=35,\n",
    "    validation_data=((test_shuffled_score, test_shuffled_embed, test_shuffled_spec), y_test)\n",
    "    )\n"
   ]
  },
  {
   "cell_type": "code",
   "execution_count": 59,
   "id": "a14d5b96",
   "metadata": {},
   "outputs": [
    {
     "name": "stderr",
     "output_type": "stream",
     "text": [
      "C:\\Users\\Desk_Kang\\AppData\\Local\\Temp\\ipykernel_13408\\1424018204.py:3: MatplotlibDeprecationWarning: The seaborn styles shipped by Matplotlib are deprecated since 3.6, as they no longer correspond to the styles shipped by seaborn. However, they will remain available as 'seaborn-v0_8-<style>'. Alternatively, directly use the seaborn API instead.\n",
      "  plt.style.use('seaborn-white')\n"
     ]
    },
    {
     "data": {
      "image/png": "[encoded data removed]",
      "text/plain": [
       "<Figure size 1200x500 with 2 Axes>"
      ]
     },
     "metadata": {},
     "output_type": "display_data"
    }
   ],
   "source": [
    "import matplotlib.pyplot as plt\n",
    "\n",
    "plt.style.use('seaborn-white')\n",
    "\n",
    "history_dict = history.history\n",
    "\n",
    "loss = history_dict['loss']\n",
    "val_loss = history_dict['val_loss']\n",
    "\n",
    "epochs = range(1, len(loss) + 1)\n",
    "fig = plt.figure(figsize=(12, 5))\n",
    "\n",
    "ax1 = fig.add_subplot(1, 2, 1)\n",
    "ax1.plot(epochs, loss, 'b-', label='train_loss')\n",
    "ax1.plot(epochs, val_loss, 'r-', label='val_loss')\n",
    "ax1.set_title('Train and Validation Loss')\n",
    "ax1.set_xlabel('Epochs')\n",
    "ax1.set_ylabel('Loss')\n",
    "ax1.grid()\n",
    "ax1.legend()\n",
    "\n",
    "accuracy = history_dict['accuracy']\n",
    "val_accuracy = history_dict['val_accuracy']\n",
    "\n",
    "ax2 = fig.add_subplot(1, 2, 2)\n",
    "ax2.plot(epochs, accuracy, 'b-', label='train_accuracy')\n",
    "ax2.plot(epochs, val_accuracy, 'r-', label='val_accuracy')\n",
    "ax2.set_title('Train and Validation Accuracy')\n",
    "ax2.set_xlabel('Epochs')\n",
    "ax2.set_ylabel('Accuracy')\n",
    "ax2.grid()\n",
    "ax2.legend()\n",
    "\n",
    "plt.show()"
   ]
  },
  {
   "cell_type": "code",
   "execution_count": null,
   "id": "0cdf7876",
   "metadata": {},
   "outputs": [],
   "source": []
  }
 ],
 "metadata": {
  "kernelspec": {
   "display_name": "Python 3 (ipykernel)",
   "language": "python",
   "name": "python3"
  },
  "language_info": {
   "codemirror_mode": {
    "name": "ipython",
    "version": 3
   },
   "file_extension": ".py",
   "mimetype": "text/x-python",
   "name": "python",
   "nbconvert_exporter": "python",
   "pygments_lexer": "ipython3",
   "version": "3.10.13"
  }
 },
 "nbformat": 4,
 "nbformat_minor": 5
}
