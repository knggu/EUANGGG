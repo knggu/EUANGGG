{
 "cells": [
  {
   "cell_type": "code",
   "execution_count": 1,
   "metadata": {},
   "outputs": [],
   "source": [
    "import matplotlib.pyplot as plt\n",
    "import os\n",
    "from scipy.io import wavfile\n",
    "from collections import defaultdict, Counter\n",
    "from scipy import signal\n",
    "import numpy as np\n",
    "import librosa\n",
    "import random\n",
    "import tensorflow as tf\n",
    "from keras import models, layers"
   ]
  },
  {
   "cell_type": "code",
   "execution_count": 2,
   "metadata": {},
   "outputs": [],
   "source": [
    "audio_data_path = r'C:./set1/train'"
   ]
  },
  {
   "cell_type": "code",
   "execution_count": 3,
   "metadata": {},
   "outputs": [],
   "source": [
    "#파라미터 설정\n",
    "sr = 16000\n",
    "n_mfcc = 116\n",
    "n_mels = 104\n",
    "# n_ttf = \n",
    "# hop_length\n",
    "# 224 222 220 110 108 106 54  "
   ]
  },
  {
   "cell_type": "code",
   "execution_count": 4,
   "metadata": {},
   "outputs": [],
   "source": [
    "trainset = []"
   ]
  },
  {
   "cell_type": "code",
   "execution_count": 5,
   "metadata": {},
   "outputs": [],
   "source": [
    "label_mapping = {'belly_pain': 0, 'discomfort': 1, 'hungry': 2, 'tired': 3}"
   ]
  },
  {
   "cell_type": "code",
   "execution_count": 6,
   "metadata": {},
   "outputs": [],
   "source": [
    "# # 목표로 하는 패딩 크기\n",
    "# target_size = (116, 116)\n",
    "\n",
    "# # 폴더 내의 파일을 반복하여 데이터셋에 추가\n",
    "# for class_name in label_mapping.keys():\n",
    "#     class_path = os.path.join(audio_data_path, class_name)\n",
    "    \n",
    "#     # 클래스 폴더 내의 WAV 파일에 대해 루프 수행\n",
    "#     for filename in os.listdir(class_path):\n",
    "#         if filename.endswith(\".wav\"):\n",
    "#             try:\n",
    "#                 # WAV 파일 읽기\n",
    "#                 wav_path = os.path.join(class_path, filename)\n",
    "                \n",
    "#                 wav, sr = librosa.load(wav_path, sr=None, mono=True, duration=5.0)\n",
    "                \n",
    "#                 # MFCC 추출\n",
    "#                 mfcc = librosa.feature.mfcc(y=wav, sr=sr, n_mfcc=n_mfcc)\n",
    "                \n",
    "#                 # 패딩 또는 자르기 작업\n",
    "#                 if mfcc.shape[1] > target_size[1]:\n",
    "#                     # 자르기\n",
    "#                     padded_mfcc = mfcc[:, :target_size[1]]\n",
    "#                 else:\n",
    "#                     # 패딩\n",
    "#                     pad_width = target_size[1] - mfcc.shape[1]\n",
    "#                     padded_mfcc = np.pad(mfcc, ((0, 0), (0, pad_width)), mode='constant')\n",
    "                \n",
    "#                 # 라벨 할당\n",
    "#                 label = label_mapping[class_name]\n",
    "                \n",
    "#                 # 데이터와 라벨을 trainset에 추가\n",
    "#                 trainset.append((padded_mfcc, label))\n",
    "                \n",
    "#             except Exception as e:\n",
    "#                 print(f'Error processing {filename}: {e}')"
   ]
  },
  {
   "cell_type": "code",
   "execution_count": 7,
   "metadata": {},
   "outputs": [],
   "source": [
    "# 목표로 하는 패딩 크기\n",
    "target_size = (n_mels, n_mels)\n",
    "\n",
    "# 폴더 내의 파일을 반복하여 데이터셋에 추가\n",
    "for class_name in label_mapping.keys():\n",
    "    class_path = os.path.join(audio_data_path, class_name)\n",
    "    \n",
    "    # 클래스 폴더 내의 WAV 파일에 대해 루프 수행\n",
    "    for filename in os.listdir(class_path):\n",
    "        if filename.endswith(\".wav\"):\n",
    "            try:\n",
    "                # WAV 파일 읽기\n",
    "                wav_path = os.path.join(class_path, filename)\n",
    "                \n",
    "                wav, sr = librosa.load(wav_path, sr=None, mono=True, duration=5.0)\n",
    "\n",
    "                # Mel-spectrogram\n",
    "                mels_spec = librosa.feature.melspectrogram(y=wav, sr= sr, n_mels= n_mels)\n",
    "                \n",
    "                # 패딩 또는 자르기 작업\n",
    "                if mels_spec.shape[1] > target_size[1]:\n",
    "                    # 자르기\n",
    "                    padded_mels = mels_spec[:, :target_size[1]]\n",
    "                else:\n",
    "                    # 패딩\n",
    "                    pad_width = target_size[1] - mels_spec.shape[1]\n",
    "                    padded_mels = np.pad(mels_spec, ((0, 0), (0, pad_width)), mode='constant')\n",
    "                \n",
    "                # 라벨 할당\n",
    "                label = label_mapping[class_name]\n",
    "                \n",
    "                # 데이터와 라벨을 trainset에 추가\n",
    "                trainset.append((padded_mels, label))\n",
    "                \n",
    "            except Exception as e:\n",
    "                print(f'Error processing {filename}: {e}')"
   ]
  },
  {
   "cell_type": "code",
   "execution_count": 8,
   "metadata": {},
   "outputs": [
    {
     "name": "stdout",
     "output_type": "stream",
     "text": [
      "Mel_spec 크기: (104, 104), 라벨: 0\n",
      "Mel_spec 크기: (104, 104), 라벨: 0\n",
      "Mel_spec 크기: (104, 104), 라벨: 0\n",
      "Mel_spec 크기: (104, 104), 라벨: 0\n",
      "Mel_spec 크기: (104, 104), 라벨: 0\n",
      "Mel_spec 크기: (104, 104), 라벨: 0\n",
      "Mel_spec 크기: (104, 104), 라벨: 0\n",
      "Mel_spec 크기: (104, 104), 라벨: 0\n",
      "Mel_spec 크기: (104, 104), 라벨: 0\n",
      "Mel_spec 크기: (104, 104), 라벨: 0\n",
      "Mel_spec 크기: (104, 104), 라벨: 0\n",
      "Mel_spec 크기: (104, 104), 라벨: 0\n",
      "Mel_spec 크기: (104, 104), 라벨: 0\n",
      "Mel_spec 크기: (104, 104), 라벨: 0\n",
      "Mel_spec 크기: (104, 104), 라벨: 0\n",
      "Mel_spec 크기: (104, 104), 라벨: 0\n",
      "Mel_spec 크기: (104, 104), 라벨: 0\n",
      "Mel_spec 크기: (104, 104), 라벨: 0\n",
      "Mel_spec 크기: (104, 104), 라벨: 0\n",
      "Mel_spec 크기: (104, 104), 라벨: 0\n",
      "Mel_spec 크기: (104, 104), 라벨: 0\n",
      "Mel_spec 크기: (104, 104), 라벨: 0\n",
      "Mel_spec 크기: (104, 104), 라벨: 0\n",
      "Mel_spec 크기: (104, 104), 라벨: 0\n",
      "Mel_spec 크기: (104, 104), 라벨: 0\n",
      "Mel_spec 크기: (104, 104), 라벨: 0\n",
      "Mel_spec 크기: (104, 104), 라벨: 0\n",
      "Mel_spec 크기: (104, 104), 라벨: 0\n",
      "Mel_spec 크기: (104, 104), 라벨: 0\n",
      "Mel_spec 크기: (104, 104), 라벨: 0\n",
      "Mel_spec 크기: (104, 104), 라벨: 0\n",
      "Mel_spec 크기: (104, 104), 라벨: 0\n",
      "Mel_spec 크기: (104, 104), 라벨: 0\n",
      "Mel_spec 크기: (104, 104), 라벨: 0\n",
      "Mel_spec 크기: (104, 104), 라벨: 0\n",
      "Mel_spec 크기: (104, 104), 라벨: 0\n",
      "Mel_spec 크기: (104, 104), 라벨: 0\n",
      "Mel_spec 크기: (104, 104), 라벨: 0\n",
      "Mel_spec 크기: (104, 104), 라벨: 0\n",
      "Mel_spec 크기: (104, 104), 라벨: 0\n",
      "Mel_spec 크기: (104, 104), 라벨: 0\n",
      "Mel_spec 크기: (104, 104), 라벨: 0\n",
      "Mel_spec 크기: (104, 104), 라벨: 0\n",
      "Mel_spec 크기: (104, 104), 라벨: 0\n",
      "Mel_spec 크기: (104, 104), 라벨: 0\n",
      "Mel_spec 크기: (104, 104), 라벨: 0\n",
      "Mel_spec 크기: (104, 104), 라벨: 0\n",
      "Mel_spec 크기: (104, 104), 라벨: 0\n",
      "Mel_spec 크기: (104, 104), 라벨: 0\n",
      "Mel_spec 크기: (104, 104), 라벨: 0\n",
      "Mel_spec 크기: (104, 104), 라벨: 0\n",
      "Mel_spec 크기: (104, 104), 라벨: 0\n",
      "Mel_spec 크기: (104, 104), 라벨: 0\n",
      "Mel_spec 크기: (104, 104), 라벨: 0\n",
      "Mel_spec 크기: (104, 104), 라벨: 0\n",
      "Mel_spec 크기: (104, 104), 라벨: 0\n",
      "Mel_spec 크기: (104, 104), 라벨: 0\n",
      "Mel_spec 크기: (104, 104), 라벨: 0\n",
      "Mel_spec 크기: (104, 104), 라벨: 0\n",
      "Mel_spec 크기: (104, 104), 라벨: 0\n",
      "Mel_spec 크기: (104, 104), 라벨: 0\n",
      "Mel_spec 크기: (104, 104), 라벨: 0\n",
      "Mel_spec 크기: (104, 104), 라벨: 0\n",
      "Mel_spec 크기: (104, 104), 라벨: 0\n",
      "Mel_spec 크기: (104, 104), 라벨: 0\n",
      "Mel_spec 크기: (104, 104), 라벨: 0\n",
      "Mel_spec 크기: (104, 104), 라벨: 0\n",
      "Mel_spec 크기: (104, 104), 라벨: 0\n",
      "Mel_spec 크기: (104, 104), 라벨: 0\n",
      "Mel_spec 크기: (104, 104), 라벨: 1\n",
      "Mel_spec 크기: (104, 104), 라벨: 1\n",
      "Mel_spec 크기: (104, 104), 라벨: 1\n",
      "Mel_spec 크기: (104, 104), 라벨: 1\n",
      "Mel_spec 크기: (104, 104), 라벨: 1\n",
      "Mel_spec 크기: (104, 104), 라벨: 1\n",
      "Mel_spec 크기: (104, 104), 라벨: 1\n",
      "Mel_spec 크기: (104, 104), 라벨: 1\n",
      "Mel_spec 크기: (104, 104), 라벨: 1\n",
      "Mel_spec 크기: (104, 104), 라벨: 1\n",
      "Mel_spec 크기: (104, 104), 라벨: 1\n",
      "Mel_spec 크기: (104, 104), 라벨: 1\n",
      "Mel_spec 크기: (104, 104), 라벨: 1\n",
      "Mel_spec 크기: (104, 104), 라벨: 1\n",
      "Mel_spec 크기: (104, 104), 라벨: 1\n",
      "Mel_spec 크기: (104, 104), 라벨: 1\n",
      "Mel_spec 크기: (104, 104), 라벨: 1\n",
      "Mel_spec 크기: (104, 104), 라벨: 1\n",
      "Mel_spec 크기: (104, 104), 라벨: 1\n",
      "Mel_spec 크기: (104, 104), 라벨: 1\n",
      "Mel_spec 크기: (104, 104), 라벨: 1\n",
      "Mel_spec 크기: (104, 104), 라벨: 1\n",
      "Mel_spec 크기: (104, 104), 라벨: 1\n",
      "Mel_spec 크기: (104, 104), 라벨: 1\n",
      "Mel_spec 크기: (104, 104), 라벨: 1\n",
      "Mel_spec 크기: (104, 104), 라벨: 1\n",
      "Mel_spec 크기: (104, 104), 라벨: 1\n",
      "Mel_spec 크기: (104, 104), 라벨: 1\n",
      "Mel_spec 크기: (104, 104), 라벨: 1\n",
      "Mel_spec 크기: (104, 104), 라벨: 1\n",
      "Mel_spec 크기: (104, 104), 라벨: 1\n",
      "Mel_spec 크기: (104, 104), 라벨: 1\n",
      "Mel_spec 크기: (104, 104), 라벨: 1\n",
      "Mel_spec 크기: (104, 104), 라벨: 1\n",
      "Mel_spec 크기: (104, 104), 라벨: 1\n",
      "Mel_spec 크기: (104, 104), 라벨: 1\n",
      "Mel_spec 크기: (104, 104), 라벨: 1\n",
      "Mel_spec 크기: (104, 104), 라벨: 1\n",
      "Mel_spec 크기: (104, 104), 라벨: 1\n",
      "Mel_spec 크기: (104, 104), 라벨: 1\n",
      "Mel_spec 크기: (104, 104), 라벨: 1\n",
      "Mel_spec 크기: (104, 104), 라벨: 1\n",
      "Mel_spec 크기: (104, 104), 라벨: 1\n",
      "Mel_spec 크기: (104, 104), 라벨: 1\n",
      "Mel_spec 크기: (104, 104), 라벨: 1\n",
      "Mel_spec 크기: (104, 104), 라벨: 1\n",
      "Mel_spec 크기: (104, 104), 라벨: 1\n",
      "Mel_spec 크기: (104, 104), 라벨: 1\n",
      "Mel_spec 크기: (104, 104), 라벨: 1\n",
      "Mel_spec 크기: (104, 104), 라벨: 1\n",
      "Mel_spec 크기: (104, 104), 라벨: 1\n",
      "Mel_spec 크기: (104, 104), 라벨: 1\n",
      "Mel_spec 크기: (104, 104), 라벨: 1\n",
      "Mel_spec 크기: (104, 104), 라벨: 1\n",
      "Mel_spec 크기: (104, 104), 라벨: 1\n",
      "Mel_spec 크기: (104, 104), 라벨: 1\n",
      "Mel_spec 크기: (104, 104), 라벨: 1\n",
      "Mel_spec 크기: (104, 104), 라벨: 1\n",
      "Mel_spec 크기: (104, 104), 라벨: 1\n",
      "Mel_spec 크기: (104, 104), 라벨: 1\n",
      "Mel_spec 크기: (104, 104), 라벨: 1\n",
      "Mel_spec 크기: (104, 104), 라벨: 1\n",
      "Mel_spec 크기: (104, 104), 라벨: 1\n",
      "Mel_spec 크기: (104, 104), 라벨: 1\n",
      "Mel_spec 크기: (104, 104), 라벨: 1\n",
      "Mel_spec 크기: (104, 104), 라벨: 1\n",
      "Mel_spec 크기: (104, 104), 라벨: 1\n",
      "Mel_spec 크기: (104, 104), 라벨: 1\n",
      "Mel_spec 크기: (104, 104), 라벨: 1\n",
      "Mel_spec 크기: (104, 104), 라벨: 1\n",
      "Mel_spec 크기: (104, 104), 라벨: 1\n",
      "Mel_spec 크기: (104, 104), 라벨: 1\n",
      "Mel_spec 크기: (104, 104), 라벨: 1\n",
      "Mel_spec 크기: (104, 104), 라벨: 1\n",
      "Mel_spec 크기: (104, 104), 라벨: 1\n",
      "Mel_spec 크기: (104, 104), 라벨: 1\n",
      "Mel_spec 크기: (104, 104), 라벨: 1\n",
      "Mel_spec 크기: (104, 104), 라벨: 1\n",
      "Mel_spec 크기: (104, 104), 라벨: 1\n",
      "Mel_spec 크기: (104, 104), 라벨: 1\n",
      "Mel_spec 크기: (104, 104), 라벨: 1\n",
      "Mel_spec 크기: (104, 104), 라벨: 1\n",
      "Mel_spec 크기: (104, 104), 라벨: 1\n",
      "Mel_spec 크기: (104, 104), 라벨: 1\n",
      "Mel_spec 크기: (104, 104), 라벨: 1\n",
      "Mel_spec 크기: (104, 104), 라벨: 1\n",
      "Mel_spec 크기: (104, 104), 라벨: 1\n",
      "Mel_spec 크기: (104, 104), 라벨: 1\n",
      "Mel_spec 크기: (104, 104), 라벨: 1\n",
      "Mel_spec 크기: (104, 104), 라벨: 1\n",
      "Mel_spec 크기: (104, 104), 라벨: 1\n",
      "Mel_spec 크기: (104, 104), 라벨: 1\n",
      "Mel_spec 크기: (104, 104), 라벨: 1\n",
      "Mel_spec 크기: (104, 104), 라벨: 1\n",
      "Mel_spec 크기: (104, 104), 라벨: 2\n",
      "Mel_spec 크기: (104, 104), 라벨: 2\n",
      "Mel_spec 크기: (104, 104), 라벨: 2\n",
      "Mel_spec 크기: (104, 104), 라벨: 2\n",
      "Mel_spec 크기: (104, 104), 라벨: 2\n",
      "Mel_spec 크기: (104, 104), 라벨: 2\n",
      "Mel_spec 크기: (104, 104), 라벨: 2\n",
      "Mel_spec 크기: (104, 104), 라벨: 2\n",
      "Mel_spec 크기: (104, 104), 라벨: 2\n",
      "Mel_spec 크기: (104, 104), 라벨: 2\n",
      "Mel_spec 크기: (104, 104), 라벨: 2\n",
      "Mel_spec 크기: (104, 104), 라벨: 2\n",
      "Mel_spec 크기: (104, 104), 라벨: 2\n",
      "Mel_spec 크기: (104, 104), 라벨: 2\n",
      "Mel_spec 크기: (104, 104), 라벨: 2\n",
      "Mel_spec 크기: (104, 104), 라벨: 2\n",
      "Mel_spec 크기: (104, 104), 라벨: 2\n",
      "Mel_spec 크기: (104, 104), 라벨: 2\n",
      "Mel_spec 크기: (104, 104), 라벨: 2\n",
      "Mel_spec 크기: (104, 104), 라벨: 2\n",
      "Mel_spec 크기: (104, 104), 라벨: 2\n",
      "Mel_spec 크기: (104, 104), 라벨: 2\n",
      "Mel_spec 크기: (104, 104), 라벨: 2\n",
      "Mel_spec 크기: (104, 104), 라벨: 2\n",
      "Mel_spec 크기: (104, 104), 라벨: 2\n",
      "Mel_spec 크기: (104, 104), 라벨: 2\n",
      "Mel_spec 크기: (104, 104), 라벨: 2\n",
      "Mel_spec 크기: (104, 104), 라벨: 2\n",
      "Mel_spec 크기: (104, 104), 라벨: 2\n",
      "Mel_spec 크기: (104, 104), 라벨: 2\n",
      "Mel_spec 크기: (104, 104), 라벨: 2\n",
      "Mel_spec 크기: (104, 104), 라벨: 2\n",
      "Mel_spec 크기: (104, 104), 라벨: 2\n",
      "Mel_spec 크기: (104, 104), 라벨: 2\n",
      "Mel_spec 크기: (104, 104), 라벨: 2\n",
      "Mel_spec 크기: (104, 104), 라벨: 2\n",
      "Mel_spec 크기: (104, 104), 라벨: 2\n",
      "Mel_spec 크기: (104, 104), 라벨: 2\n",
      "Mel_spec 크기: (104, 104), 라벨: 2\n",
      "Mel_spec 크기: (104, 104), 라벨: 2\n",
      "Mel_spec 크기: (104, 104), 라벨: 2\n",
      "Mel_spec 크기: (104, 104), 라벨: 2\n",
      "Mel_spec 크기: (104, 104), 라벨: 2\n",
      "Mel_spec 크기: (104, 104), 라벨: 2\n",
      "Mel_spec 크기: (104, 104), 라벨: 2\n",
      "Mel_spec 크기: (104, 104), 라벨: 2\n",
      "Mel_spec 크기: (104, 104), 라벨: 2\n",
      "Mel_spec 크기: (104, 104), 라벨: 2\n",
      "Mel_spec 크기: (104, 104), 라벨: 2\n",
      "Mel_spec 크기: (104, 104), 라벨: 2\n",
      "Mel_spec 크기: (104, 104), 라벨: 2\n",
      "Mel_spec 크기: (104, 104), 라벨: 2\n",
      "Mel_spec 크기: (104, 104), 라벨: 2\n",
      "Mel_spec 크기: (104, 104), 라벨: 2\n",
      "Mel_spec 크기: (104, 104), 라벨: 2\n",
      "Mel_spec 크기: (104, 104), 라벨: 2\n",
      "Mel_spec 크기: (104, 104), 라벨: 2\n",
      "Mel_spec 크기: (104, 104), 라벨: 2\n",
      "Mel_spec 크기: (104, 104), 라벨: 2\n",
      "Mel_spec 크기: (104, 104), 라벨: 2\n",
      "Mel_spec 크기: (104, 104), 라벨: 2\n",
      "Mel_spec 크기: (104, 104), 라벨: 2\n",
      "Mel_spec 크기: (104, 104), 라벨: 2\n",
      "Mel_spec 크기: (104, 104), 라벨: 2\n",
      "Mel_spec 크기: (104, 104), 라벨: 2\n",
      "Mel_spec 크기: (104, 104), 라벨: 2\n",
      "Mel_spec 크기: (104, 104), 라벨: 2\n",
      "Mel_spec 크기: (104, 104), 라벨: 2\n",
      "Mel_spec 크기: (104, 104), 라벨: 2\n",
      "Mel_spec 크기: (104, 104), 라벨: 2\n",
      "Mel_spec 크기: (104, 104), 라벨: 2\n",
      "Mel_spec 크기: (104, 104), 라벨: 2\n",
      "Mel_spec 크기: (104, 104), 라벨: 2\n",
      "Mel_spec 크기: (104, 104), 라벨: 2\n",
      "Mel_spec 크기: (104, 104), 라벨: 2\n",
      "Mel_spec 크기: (104, 104), 라벨: 2\n",
      "Mel_spec 크기: (104, 104), 라벨: 2\n",
      "Mel_spec 크기: (104, 104), 라벨: 2\n",
      "Mel_spec 크기: (104, 104), 라벨: 2\n",
      "Mel_spec 크기: (104, 104), 라벨: 2\n",
      "Mel_spec 크기: (104, 104), 라벨: 2\n",
      "Mel_spec 크기: (104, 104), 라벨: 2\n",
      "Mel_spec 크기: (104, 104), 라벨: 2\n",
      "Mel_spec 크기: (104, 104), 라벨: 2\n",
      "Mel_spec 크기: (104, 104), 라벨: 2\n",
      "Mel_spec 크기: (104, 104), 라벨: 2\n",
      "Mel_spec 크기: (104, 104), 라벨: 2\n",
      "Mel_spec 크기: (104, 104), 라벨: 2\n",
      "Mel_spec 크기: (104, 104), 라벨: 2\n",
      "Mel_spec 크기: (104, 104), 라벨: 2\n",
      "Mel_spec 크기: (104, 104), 라벨: 2\n",
      "Mel_spec 크기: (104, 104), 라벨: 2\n",
      "Mel_spec 크기: (104, 104), 라벨: 2\n",
      "Mel_spec 크기: (104, 104), 라벨: 2\n",
      "Mel_spec 크기: (104, 104), 라벨: 2\n",
      "Mel_spec 크기: (104, 104), 라벨: 2\n",
      "Mel_spec 크기: (104, 104), 라벨: 2\n",
      "Mel_spec 크기: (104, 104), 라벨: 2\n",
      "Mel_spec 크기: (104, 104), 라벨: 2\n",
      "Mel_spec 크기: (104, 104), 라벨: 2\n",
      "Mel_spec 크기: (104, 104), 라벨: 3\n",
      "Mel_spec 크기: (104, 104), 라벨: 3\n",
      "Mel_spec 크기: (104, 104), 라벨: 3\n",
      "Mel_spec 크기: (104, 104), 라벨: 3\n",
      "Mel_spec 크기: (104, 104), 라벨: 3\n",
      "Mel_spec 크기: (104, 104), 라벨: 3\n",
      "Mel_spec 크기: (104, 104), 라벨: 3\n",
      "Mel_spec 크기: (104, 104), 라벨: 3\n",
      "Mel_spec 크기: (104, 104), 라벨: 3\n",
      "Mel_spec 크기: (104, 104), 라벨: 3\n",
      "Mel_spec 크기: (104, 104), 라벨: 3\n",
      "Mel_spec 크기: (104, 104), 라벨: 3\n",
      "Mel_spec 크기: (104, 104), 라벨: 3\n",
      "Mel_spec 크기: (104, 104), 라벨: 3\n",
      "Mel_spec 크기: (104, 104), 라벨: 3\n",
      "Mel_spec 크기: (104, 104), 라벨: 3\n",
      "Mel_spec 크기: (104, 104), 라벨: 3\n",
      "Mel_spec 크기: (104, 104), 라벨: 3\n",
      "Mel_spec 크기: (104, 104), 라벨: 3\n",
      "Mel_spec 크기: (104, 104), 라벨: 3\n",
      "Mel_spec 크기: (104, 104), 라벨: 3\n",
      "Mel_spec 크기: (104, 104), 라벨: 3\n",
      "Mel_spec 크기: (104, 104), 라벨: 3\n",
      "Mel_spec 크기: (104, 104), 라벨: 3\n",
      "Mel_spec 크기: (104, 104), 라벨: 3\n",
      "Mel_spec 크기: (104, 104), 라벨: 3\n",
      "Mel_spec 크기: (104, 104), 라벨: 3\n",
      "Mel_spec 크기: (104, 104), 라벨: 3\n",
      "Mel_spec 크기: (104, 104), 라벨: 3\n",
      "Mel_spec 크기: (104, 104), 라벨: 3\n",
      "Mel_spec 크기: (104, 104), 라벨: 3\n",
      "Mel_spec 크기: (104, 104), 라벨: 3\n",
      "Mel_spec 크기: (104, 104), 라벨: 3\n",
      "Mel_spec 크기: (104, 104), 라벨: 3\n",
      "Mel_spec 크기: (104, 104), 라벨: 3\n",
      "Mel_spec 크기: (104, 104), 라벨: 3\n",
      "Mel_spec 크기: (104, 104), 라벨: 3\n",
      "Mel_spec 크기: (104, 104), 라벨: 3\n",
      "Mel_spec 크기: (104, 104), 라벨: 3\n",
      "Mel_spec 크기: (104, 104), 라벨: 3\n",
      "Mel_spec 크기: (104, 104), 라벨: 3\n",
      "Mel_spec 크기: (104, 104), 라벨: 3\n",
      "Mel_spec 크기: (104, 104), 라벨: 3\n",
      "Mel_spec 크기: (104, 104), 라벨: 3\n",
      "Mel_spec 크기: (104, 104), 라벨: 3\n",
      "Mel_spec 크기: (104, 104), 라벨: 3\n",
      "Mel_spec 크기: (104, 104), 라벨: 3\n",
      "Mel_spec 크기: (104, 104), 라벨: 3\n",
      "Mel_spec 크기: (104, 104), 라벨: 3\n",
      "Mel_spec 크기: (104, 104), 라벨: 3\n",
      "Mel_spec 크기: (104, 104), 라벨: 3\n",
      "Mel_spec 크기: (104, 104), 라벨: 3\n",
      "Mel_spec 크기: (104, 104), 라벨: 3\n",
      "Mel_spec 크기: (104, 104), 라벨: 3\n",
      "Mel_spec 크기: (104, 104), 라벨: 3\n",
      "Mel_spec 크기: (104, 104), 라벨: 3\n",
      "Mel_spec 크기: (104, 104), 라벨: 3\n",
      "Mel_spec 크기: (104, 104), 라벨: 3\n",
      "Mel_spec 크기: (104, 104), 라벨: 3\n",
      "Mel_spec 크기: (104, 104), 라벨: 3\n",
      "Mel_spec 크기: (104, 104), 라벨: 3\n",
      "Mel_spec 크기: (104, 104), 라벨: 3\n",
      "Mel_spec 크기: (104, 104), 라벨: 3\n",
      "Mel_spec 크기: (104, 104), 라벨: 3\n",
      "Mel_spec 크기: (104, 104), 라벨: 3\n",
      "Mel_spec 크기: (104, 104), 라벨: 3\n",
      "Mel_spec 크기: (104, 104), 라벨: 3\n",
      "Mel_spec 크기: (104, 104), 라벨: 3\n",
      "Mel_spec 크기: (104, 104), 라벨: 3\n"
     ]
    }
   ],
   "source": [
    "# 패딩된 MFCC 배열 확인\n",
    "for padded_mels, label in trainset:\n",
    "    print(f'Mel_spec 크기: {padded_mels.shape}, 라벨: {label}')"
   ]
  },
  {
   "cell_type": "code",
   "execution_count": 9,
   "metadata": {},
   "outputs": [
    {
     "data": {
      "text/plain": [
       "332"
      ]
     },
     "execution_count": 9,
     "metadata": {},
     "output_type": "execute_result"
    }
   ],
   "source": [
    "len(trainset)"
   ]
  },
  {
   "cell_type": "code",
   "execution_count": 10,
   "metadata": {},
   "outputs": [
    {
     "data": {
      "text/plain": [
       "0"
      ]
     },
     "execution_count": 10,
     "metadata": {},
     "output_type": "execute_result"
    }
   ],
   "source": [
    "trainset[0][1]"
   ]
  },
  {
   "cell_type": "code",
   "execution_count": 11,
   "metadata": {},
   "outputs": [],
   "source": [
    "trainset_np = np.array(trainset, dtype=object)"
   ]
  },
  {
   "cell_type": "code",
   "execution_count": 12,
   "metadata": {},
   "outputs": [
    {
     "data": {
      "text/plain": [
       "(332, 2)"
      ]
     },
     "execution_count": 12,
     "metadata": {},
     "output_type": "execute_result"
    }
   ],
   "source": [
    "trainset_np.shape"
   ]
  },
  {
   "cell_type": "code",
   "execution_count": 13,
   "metadata": {},
   "outputs": [
    {
     "name": "stdout",
     "output_type": "stream",
     "text": [
      "훈련 세트 크기: (265, 104, 104), 라벨 크기: (265,)\n",
      "테스트 세트 크기: (67, 104, 104), 라벨 크기: (67,)\n"
     ]
    }
   ],
   "source": [
    "from sklearn.model_selection import train_test_split\n",
    "\n",
    "# trainset을 데이터와 라벨로 나누기\n",
    "X = np.array([item[0] for item in trainset])\n",
    "y = np.array([item[1] for item in trainset])\n",
    "\n",
    "# 훈련 세트와 테스트 세트로 나누기 (예: 훈련 세트 80%, 테스트 세트 20%)\n",
    "X_train, X_test, y_train, y_test = train_test_split(X, y, test_size=0.2) #, random_state=1024\n",
    "\n",
    "# 결과 확인\n",
    "print(f\"훈련 세트 크기: {X_train.shape}, 라벨 크기: {y_train.shape}\")\n",
    "print(f\"테스트 세트 크기: {X_test.shape}, 라벨 크기: {y_test.shape}\")\n"
   ]
  },
  {
   "cell_type": "code",
   "execution_count": 14,
   "metadata": {},
   "outputs": [],
   "source": [
    "# X_train의 차원을 (샘플 수, 98, 98, 1)로 조정\n",
    "X_train_dim = X_train.reshape(X_train.shape + (1,))\n",
    "X_test_dim = X_test.reshape(X_test.shape + (1,))"
   ]
  },
  {
   "cell_type": "code",
   "execution_count": 15,
   "metadata": {},
   "outputs": [
    {
     "data": {
      "text/plain": [
       "(104, 104, 1)"
      ]
     },
     "execution_count": 15,
     "metadata": {},
     "output_type": "execute_result"
    }
   ],
   "source": [
    "X_train_dim[0].shape"
   ]
  },
  {
   "cell_type": "code",
   "execution_count": 16,
   "metadata": {},
   "outputs": [
    {
     "ename": "ValueError",
     "evalue": "A `Concatenate` layer requires inputs with matching shapes except for the concatenation axis. Received: input_shape=[(None, 28, 28, 64), (None, 29, 29, 64)]",
     "output_type": "error",
     "traceback": [
      "\u001b[1;31m---------------------------------------------------------------------------\u001b[0m",
      "\u001b[1;31mValueError\u001b[0m                                Traceback (most recent call last)",
      "Cell \u001b[1;32mIn[16], line 80\u001b[0m\n\u001b[0;32m     78\u001b[0m \u001b[38;5;66;03m# Define your input shape based on your mel-spectrogram dimensions\u001b[39;00m\n\u001b[0;32m     79\u001b[0m input_shape \u001b[38;5;241m=\u001b[39m (\u001b[38;5;241m116\u001b[39m, \u001b[38;5;241m116\u001b[39m, \u001b[38;5;241m1\u001b[39m)  \u001b[38;5;66;03m# Example shape\u001b[39;00m\n\u001b[1;32m---> 80\u001b[0m unet, encoder \u001b[38;5;241m=\u001b[39m \u001b[43mbuild_unet\u001b[49m\u001b[43m(\u001b[49m\u001b[43minput_shape\u001b[49m\u001b[43m)\u001b[49m\n",
      "Cell \u001b[1;32mIn[16], line 38\u001b[0m, in \u001b[0;36mbuild_unet\u001b[1;34m(input_shape)\u001b[0m\n\u001b[0;32m     36\u001b[0m trans01 \u001b[38;5;241m=\u001b[39m layers\u001b[38;5;241m.\u001b[39mConv2DTranspose(\u001b[38;5;241m64\u001b[39m, kernel_size\u001b[38;5;241m=\u001b[39m\u001b[38;5;241m2\u001b[39m, strides\u001b[38;5;241m=\u001b[39m(\u001b[38;5;241m2\u001b[39m, \u001b[38;5;241m2\u001b[39m), activation\u001b[38;5;241m=\u001b[39m\u001b[38;5;124m'\u001b[39m\u001b[38;5;124mrelu\u001b[39m\u001b[38;5;124m'\u001b[39m)(conv10) \u001b[38;5;66;03m# 44\u001b[39;00m\n\u001b[0;32m     37\u001b[0m \u001b[38;5;66;03m# crop01 = layers.Cropping2D(cropping=(4, 4))(conv4) \u001b[39;00m\n\u001b[1;32m---> 38\u001b[0m concat01 \u001b[38;5;241m=\u001b[39m \u001b[43mlayers\u001b[49m\u001b[38;5;241;43m.\u001b[39;49m\u001b[43mconcatenate\u001b[49m\u001b[43m(\u001b[49m\u001b[43m[\u001b[49m\u001b[43mtrans01\u001b[49m\u001b[43m,\u001b[49m\u001b[43m \u001b[49m\u001b[43mconv7\u001b[49m\u001b[43m]\u001b[49m\u001b[43m,\u001b[49m\u001b[43m \u001b[49m\u001b[43maxis\u001b[49m\u001b[38;5;241;43m=\u001b[39;49m\u001b[38;5;241;43m-\u001b[39;49m\u001b[38;5;241;43m1\u001b[39;49m\u001b[43m)\u001b[49m \u001b[38;5;66;03m# 44 & 52\u001b[39;00m\n\u001b[0;32m     41\u001b[0m \u001b[38;5;66;03m# [6]\u001b[39;00m\n\u001b[0;32m     42\u001b[0m conv11 \u001b[38;5;241m=\u001b[39m layers\u001b[38;5;241m.\u001b[39mConv2D(\u001b[38;5;241m64\u001b[39m, activation\u001b[38;5;241m=\u001b[39m\u001b[38;5;124m'\u001b[39m\u001b[38;5;124mtanh\u001b[39m\u001b[38;5;124m'\u001b[39m, kernel_size\u001b[38;5;241m=\u001b[39m\u001b[38;5;241m3\u001b[39m, padding\u001b[38;5;241m=\u001b[39m\u001b[38;5;124m'\u001b[39m\u001b[38;5;124msame\u001b[39m\u001b[38;5;124m'\u001b[39m)(concat01) \u001b[38;5;66;03m# 44 - 42\u001b[39;00m\n",
      "File \u001b[1;32mc:\\Users\\Desk_Kang\\anaconda3\\envs\\pyenv\\lib\\site-packages\\keras\\layers\\merging\\concatenate.py:231\u001b[0m, in \u001b[0;36mconcatenate\u001b[1;34m(inputs, axis, **kwargs)\u001b[0m\n\u001b[0;32m    199\u001b[0m \u001b[38;5;129m@keras_export\u001b[39m(\u001b[38;5;124m\"\u001b[39m\u001b[38;5;124mkeras.layers.concatenate\u001b[39m\u001b[38;5;124m\"\u001b[39m)\n\u001b[0;32m    200\u001b[0m \u001b[38;5;28;01mdef\u001b[39;00m \u001b[38;5;21mconcatenate\u001b[39m(inputs, axis\u001b[38;5;241m=\u001b[39m\u001b[38;5;241m-\u001b[39m\u001b[38;5;241m1\u001b[39m, \u001b[38;5;241m*\u001b[39m\u001b[38;5;241m*\u001b[39mkwargs):\n\u001b[0;32m    201\u001b[0m \u001b[38;5;250m    \u001b[39m\u001b[38;5;124;03m\"\"\"Functional interface to the `Concatenate` layer.\u001b[39;00m\n\u001b[0;32m    202\u001b[0m \n\u001b[0;32m    203\u001b[0m \u001b[38;5;124;03m    >>> x = np.arange(20).reshape(2, 2, 5)\u001b[39;00m\n\u001b[1;32m   (...)\u001b[0m\n\u001b[0;32m    229\u001b[0m \u001b[38;5;124;03m        A tensor, the concatenation of the inputs alongside axis `axis`.\u001b[39;00m\n\u001b[0;32m    230\u001b[0m \u001b[38;5;124;03m    \"\"\"\u001b[39;00m\n\u001b[1;32m--> 231\u001b[0m     \u001b[38;5;28;01mreturn\u001b[39;00m \u001b[43mConcatenate\u001b[49m\u001b[43m(\u001b[49m\u001b[43maxis\u001b[49m\u001b[38;5;241;43m=\u001b[39;49m\u001b[43maxis\u001b[49m\u001b[43m,\u001b[49m\u001b[43m \u001b[49m\u001b[38;5;241;43m*\u001b[39;49m\u001b[38;5;241;43m*\u001b[39;49m\u001b[43mkwargs\u001b[49m\u001b[43m)\u001b[49m\u001b[43m(\u001b[49m\u001b[43minputs\u001b[49m\u001b[43m)\u001b[49m\n",
      "File \u001b[1;32mc:\\Users\\Desk_Kang\\anaconda3\\envs\\pyenv\\lib\\site-packages\\keras\\utils\\traceback_utils.py:70\u001b[0m, in \u001b[0;36mfilter_traceback.<locals>.error_handler\u001b[1;34m(*args, **kwargs)\u001b[0m\n\u001b[0;32m     67\u001b[0m     filtered_tb \u001b[38;5;241m=\u001b[39m _process_traceback_frames(e\u001b[38;5;241m.\u001b[39m__traceback__)\n\u001b[0;32m     68\u001b[0m     \u001b[38;5;66;03m# To get the full stack trace, call:\u001b[39;00m\n\u001b[0;32m     69\u001b[0m     \u001b[38;5;66;03m# `tf.debugging.disable_traceback_filtering()`\u001b[39;00m\n\u001b[1;32m---> 70\u001b[0m     \u001b[38;5;28;01mraise\u001b[39;00m e\u001b[38;5;241m.\u001b[39mwith_traceback(filtered_tb) \u001b[38;5;28;01mfrom\u001b[39;00m \u001b[38;5;28;01mNone\u001b[39;00m\n\u001b[0;32m     71\u001b[0m \u001b[38;5;28;01mfinally\u001b[39;00m:\n\u001b[0;32m     72\u001b[0m     \u001b[38;5;28;01mdel\u001b[39;00m filtered_tb\n",
      "File \u001b[1;32mc:\\Users\\Desk_Kang\\anaconda3\\envs\\pyenv\\lib\\site-packages\\keras\\layers\\merging\\concatenate.py:131\u001b[0m, in \u001b[0;36mConcatenate.build\u001b[1;34m(self, input_shape)\u001b[0m\n\u001b[0;32m    125\u001b[0m unique_dims \u001b[38;5;241m=\u001b[39m \u001b[38;5;28mset\u001b[39m(\n\u001b[0;32m    126\u001b[0m     shape[axis]\n\u001b[0;32m    127\u001b[0m     \u001b[38;5;28;01mfor\u001b[39;00m shape \u001b[38;5;129;01min\u001b[39;00m shape_set\n\u001b[0;32m    128\u001b[0m     \u001b[38;5;28;01mif\u001b[39;00m shape[axis] \u001b[38;5;129;01mis\u001b[39;00m \u001b[38;5;129;01mnot\u001b[39;00m \u001b[38;5;28;01mNone\u001b[39;00m\n\u001b[0;32m    129\u001b[0m )\n\u001b[0;32m    130\u001b[0m \u001b[38;5;28;01mif\u001b[39;00m \u001b[38;5;28mlen\u001b[39m(unique_dims) \u001b[38;5;241m>\u001b[39m \u001b[38;5;241m1\u001b[39m:\n\u001b[1;32m--> 131\u001b[0m     \u001b[38;5;28;01mraise\u001b[39;00m \u001b[38;5;167;01mValueError\u001b[39;00m(err_msg)\n",
      "\u001b[1;31mValueError\u001b[0m: A `Concatenate` layer requires inputs with matching shapes except for the concatenation axis. Received: input_shape=[(None, 28, 28, 64), (None, 29, 29, 64)]"
     ]
    }
   ],
   "source": [
    "\n",
    "def build_unet(input_shape):\n",
    "    # Define the input layer\n",
    "    inputs = tf.keras.Input(shape=input_shape)\n",
    "\n",
    "    # 인코더 Functional API 시작\n",
    "    # [1]\n",
    "    conv0 = layers.Conv2D(16, activation='tanh', kernel_size = 3, padding='same')(inputs) # 104  52 26\n",
    "    conv1 = layers.Conv2D(16, activation='tanh', kernel_size = 3, padding='same')(conv0)  # Skip connection으로 Expanding path로 이어질 예정, 112\n",
    "    conv2 = layers.MaxPooling2D(pool_size=(2, 2), strides=(2, 2))(conv1) # 52\n",
    "\n",
    "# 104 52 26 13 26 52 1\n",
    "\n",
    "    # [2]\n",
    "    conv3 = layers.Conv2D(32, activation='tanh', kernel_size = 3, padding='same')(conv2) # 52\n",
    "    conv4 = layers.Conv2D(32, activation='tanh', kernel_size = 3, padding='same')(conv3) # \n",
    "    conv5 = layers.MaxPooling2D(pool_size=(2, 2), strides=(2, 2))(conv4) #26\n",
    "\n",
    "\n",
    "    # [3]\n",
    "    conv6 = layers.Conv2D(64, activation='tanh', kernel_size=3, padding='same')(conv5) # 26 \n",
    "    conv7 = layers.Conv2D(64, activation='tanh', kernel_size=3, padding='same')(conv6) # \n",
    "    conv8 = layers.MaxPooling2D(pool_size=(2, 2), strides=(2, 2))(conv7) #13\n",
    "\n",
    "\n",
    "    # [4]\n",
    "    conv9 = layers.Conv2D(128, activation='tanh', kernel_size=3, padding='same')(conv8) # 13\n",
    "    conv10 = layers.Conv2D(128, activation='tanh', kernel_size=3, padding='same')(conv9) # \n",
    "\n",
    "    # Contracting path 끝\n",
    "\n",
    "    # The output of the last encoder layer\n",
    "    encoder_output = conv10\n",
    "\n",
    "\n",
    "    # 디코더 functional api 시작\n",
    "    # [6]\n",
    "    trans01 = layers.Conv2DTranspose(64, kernel_size=2, strides=(2, 2), activation='relu')(conv10) # 26\n",
    "    # crop01 = layers.Cropping2D(cropping=(4, 4))(conv4) \n",
    "    concat01 = layers.concatenate([trans01, conv7], axis=-1) # 44 & 52\n",
    "\n",
    "\n",
    "    # [6]\n",
    "    conv11 = layers.Conv2D(64, activation='tanh', kernel_size=3, padding='same')(concat01) # 44 - 42\n",
    "    conv12 = layers.Conv2D(64, activation='tanh', kernel_size=3, padding='same')(conv11)  # 40\n",
    "\n",
    "\n",
    "    trans02 = layers.Conv2DTranspose(32, kernel_size=2, strides=(2, 2), activation='relu')(conv12)\n",
    "    # crop02 = layers.Cropping2D(cropping=(16, 16))(conv1) # 80 & 112\n",
    "    concat02 = layers.concatenate([trans02, conv4], axis=-1)\n",
    "\n",
    "\n",
    "    # [6]\n",
    "    conv13 = layers.Conv2D(32, activation='tanh', kernel_size=3, padding='same')(concat02) # 44 - 42\n",
    "    conv14 = layers.Conv2D(32, activation='tanh', kernel_size=3, padding='same')(conv13)  # 40\n",
    "\n",
    "\n",
    "    trans03 = layers.Conv2DTranspose(16, kernel_size=2, strides=(2, 2), activation='relu')(conv14)\n",
    "    # crop02 = layers.Cropping2D(cropping=(16, 16))(conv1) # 80 & 112\n",
    "    concat03 = layers.concatenate([trans03, conv1], axis=-1)\n",
    "\n",
    "    # [13]\n",
    "    conv15 = layers.Conv2D(16, activation='tanh', kernel_size=3, padding='same')(concat03) # 80 - 78 - 76\n",
    "    conv16 = layers.Conv2D(16, activation='tanh', kernel_size=3, padding='same')(conv15)\n",
    "    # Expanding path 끝\n",
    "\n",
    "\n",
    "    # Define the output layer for the U-Net\n",
    "    outputs = layers.Conv2D(1, kernel_size=1)(conv16)\n",
    "\n",
    "\n",
    "    # Full U-Net model\n",
    "    unet_model = tf.keras.Model(inputs=inputs, outputs=outputs)\n",
    "\n",
    "\n",
    "    # Return the full model and the encoder part\n",
    "    encoder_model = tf.keras.Model(inputs=inputs, outputs=encoder_output)\n",
    "    return unet_model, encoder_model\n",
    "\n",
    "# Define your input shape based on your mel-spectrogram dimensions\n",
    "input_shape = (116, 116, 1)  # Example shape\n",
    "unet, encoder = build_unet(input_shape)"
   ]
  },
  {
   "cell_type": "code",
   "execution_count": null,
   "metadata": {},
   "outputs": [
    {
     "name": "stdout",
     "output_type": "stream",
     "text": [
      "Epoch 1/35\n",
      "9/9 [==============================] - 5s 153ms/step - loss: 2.4023 - val_loss: 1.4026\n",
      "Epoch 2/35\n",
      "9/9 [==============================] - 0s 54ms/step - loss: 1.2876 - val_loss: 1.1078\n",
      "Epoch 3/35\n",
      "9/9 [==============================] - 0s 51ms/step - loss: 1.1361 - val_loss: 1.1583\n",
      "Epoch 4/35\n",
      "9/9 [==============================] - 0s 49ms/step - loss: 1.0849 - val_loss: 1.1048\n",
      "Epoch 5/35\n",
      "9/9 [==============================] - 0s 50ms/step - loss: 1.1242 - val_loss: 1.1111\n",
      "Epoch 6/35\n",
      "9/9 [==============================] - 0s 50ms/step - loss: 1.1019 - val_loss: 1.1000\n",
      "Epoch 7/35\n",
      "9/9 [==============================] - 0s 50ms/step - loss: 1.0923 - val_loss: 1.1067\n",
      "Epoch 8/35\n",
      "9/9 [==============================] - 0s 49ms/step - loss: 1.0967 - val_loss: 1.0943\n",
      "Epoch 9/35\n",
      "9/9 [==============================] - 0s 50ms/step - loss: 1.0901 - val_loss: 1.1032\n",
      "Epoch 10/35\n",
      "9/9 [==============================] - 0s 52ms/step - loss: 1.1117 - val_loss: 1.0942\n",
      "Epoch 11/35\n",
      "9/9 [==============================] - 0s 50ms/step - loss: 1.0959 - val_loss: 1.0902\n",
      "Epoch 12/35\n",
      "9/9 [==============================] - 0s 50ms/step - loss: 1.0937 - val_loss: 1.0973\n",
      "Epoch 13/35\n",
      "9/9 [==============================] - 0s 50ms/step - loss: 1.0903 - val_loss: 1.1023\n",
      "Epoch 14/35\n",
      "9/9 [==============================] - 0s 49ms/step - loss: 1.0907 - val_loss: 1.0929\n",
      "Epoch 15/35\n",
      "9/9 [==============================] - 0s 51ms/step - loss: 1.1009 - val_loss: 1.0976\n",
      "Epoch 16/35\n",
      "9/9 [==============================] - 0s 51ms/step - loss: 1.0962 - val_loss: 1.0909\n",
      "Epoch 17/35\n",
      "9/9 [==============================] - 0s 52ms/step - loss: 1.0911 - val_loss: 1.1132\n",
      "Epoch 18/35\n",
      "9/9 [==============================] - 0s 50ms/step - loss: 1.1207 - val_loss: 1.0923\n",
      "Epoch 19/35\n",
      "9/9 [==============================] - 0s 50ms/step - loss: 1.0926 - val_loss: 1.0850\n",
      "Epoch 20/35\n",
      "9/9 [==============================] - 0s 52ms/step - loss: 1.0957 - val_loss: 1.1043\n",
      "Epoch 21/35\n",
      "9/9 [==============================] - 0s 51ms/step - loss: 1.0905 - val_loss: 1.0954\n",
      "Epoch 22/35\n",
      "9/9 [==============================] - 0s 50ms/step - loss: 1.0991 - val_loss: 1.1007\n",
      "Epoch 23/35\n",
      "9/9 [==============================] - 0s 50ms/step - loss: 1.1015 - val_loss: 1.0844\n",
      "Epoch 24/35\n",
      "9/9 [==============================] - 0s 53ms/step - loss: 1.0945 - val_loss: 1.1166\n",
      "Epoch 25/35\n",
      "9/9 [==============================] - 0s 51ms/step - loss: 1.0859 - val_loss: 1.0902\n",
      "Epoch 26/35\n",
      "9/9 [==============================] - 0s 50ms/step - loss: 1.0892 - val_loss: 1.0930\n",
      "Epoch 27/35\n",
      "9/9 [==============================] - 0s 50ms/step - loss: 1.1335 - val_loss: 1.1331\n",
      "Epoch 28/35\n",
      "9/9 [==============================] - 0s 50ms/step - loss: 1.1311 - val_loss: 1.0841\n",
      "Epoch 29/35\n",
      "9/9 [==============================] - 0s 52ms/step - loss: 1.0884 - val_loss: 1.1237\n",
      "Epoch 30/35\n",
      "9/9 [==============================] - 0s 51ms/step - loss: 1.0936 - val_loss: 1.0854\n",
      "Epoch 31/35\n",
      "9/9 [==============================] - 0s 50ms/step - loss: 1.0943 - val_loss: 1.0837\n",
      "Epoch 32/35\n",
      "9/9 [==============================] - 0s 50ms/step - loss: 1.1021 - val_loss: 1.0893\n",
      "Epoch 33/35\n",
      "9/9 [==============================] - 0s 49ms/step - loss: 1.1022 - val_loss: 1.1226\n",
      "Epoch 34/35\n",
      "9/9 [==============================] - 0s 51ms/step - loss: 1.0842 - val_loss: 1.0858\n",
      "Epoch 35/35\n",
      "9/9 [==============================] - 0s 51ms/step - loss: 1.0978 - val_loss: 1.0862\n"
     ]
    }
   ],
   "source": [
    "# Compile and train your model\n",
    "unet.compile(optimizer='adam', loss='mean_squared_error')\n",
    "history = unet.fit(X_train_dim, y_train, epochs=35,  validation_data = (X_test_dim, y_test))"
   ]
  },
  {
   "cell_type": "code",
   "execution_count": null,
   "metadata": {},
   "outputs": [
    {
     "name": "stdout",
     "output_type": "stream",
     "text": [
      "WARNING:tensorflow:Compiled the loaded model, but the compiled metrics have yet to be built. `model.compile_metrics` will be empty until you train or evaluate the model.\n"
     ]
    },
    {
     "name": "stderr",
     "output_type": "stream",
     "text": [
      "WARNING:absl:Found untraced functions such as _jit_compiled_convolution_op, _jit_compiled_convolution_op, _jit_compiled_convolution_op, _jit_compiled_convolution_op, _jit_compiled_convolution_op while saving (showing 5 of 6). These functions will not be directly callable after loading.\n"
     ]
    },
    {
     "name": "stdout",
     "output_type": "stream",
     "text": [
      "INFO:tensorflow:Assets written to: u_net_encoder\\assets\n"
     ]
    },
    {
     "name": "stderr",
     "output_type": "stream",
     "text": [
      "INFO:tensorflow:Assets written to: u_net_encoder\\assets\n"
     ]
    }
   ],
   "source": [
    "# After training, save only the encoder model\n",
    "encoder.save('u_net_encoder')"
   ]
  },
  {
   "cell_type": "code",
   "execution_count": null,
   "metadata": {},
   "outputs": [
    {
     "name": "stderr",
     "output_type": "stream",
     "text": [
      "C:\\Users\\Desk_Kang\\AppData\\Local\\Temp\\ipykernel_19436\\2511105823.py:1: MatplotlibDeprecationWarning: The seaborn styles shipped by Matplotlib are deprecated since 3.6, as they no longer correspond to the styles shipped by seaborn. However, they will remain available as 'seaborn-v0_8-<style>'. Alternatively, directly use the seaborn API instead.\n",
      "  plt.style.use('seaborn-white')\n"
     ]
    },
    {
     "data": {
      "image/png": "[encoded data removed]",
      "text/plain": [
       "<Figure size 1200x500 with 1 Axes>"
      ]
     },
     "metadata": {},
     "output_type": "display_data"
    }
   ],
   "source": [
    "plt.style.use('seaborn-white')\n",
    "\n",
    "history_dict = history.history\n",
    "\n",
    "loss = history_dict['loss']\n",
    "val_loss = history_dict['val_loss']\n",
    "\n",
    "epochs = range(1, len(loss) + 1)\n",
    "fig = plt.figure(figsize=(12, 5))\n",
    "\n",
    "ax1 = fig.add_subplot(1, 2, 1)\n",
    "ax1.plot(epochs, loss, 'b-', label='train_loss')\n",
    "ax1.plot(epochs, val_loss, 'r-', label='val_loss')\n",
    "ax1.set_title('Train and Validation Loss')\n",
    "ax1.set_xlabel('Epochs')\n",
    "ax1.set_ylabel('Loss')\n",
    "ax1.grid()\n",
    "ax1.legend()\n",
    "\n",
    "\n",
    "plt.show()"
   ]
  },
  {
   "cell_type": "code",
   "execution_count": null,
   "metadata": {},
   "outputs": [
    {
     "name": "stdout",
     "output_type": "stream",
     "text": [
      "3/3 [==============================] - 0s 93ms/step\n"
     ]
    }
   ],
   "source": [
    "pred = unet.predict(X_test_dim)"
   ]
  },
  {
   "cell_type": "code",
   "execution_count": null,
   "metadata": {},
   "outputs": [
    {
     "name": "stdout",
     "output_type": "stream",
     "text": [
      "3/3 [==============================] - 0s 10ms/step - loss: 1.0852\n"
     ]
    },
    {
     "data": {
      "text/plain": [
       "1.0851610898971558"
      ]
     },
     "execution_count": 23,
     "metadata": {},
     "output_type": "execute_result"
    }
   ],
   "source": [
    "unet.evaluate(pred, y_test)"
   ]
  },
  {
   "cell_type": "code",
   "execution_count": null,
   "metadata": {},
   "outputs": [],
   "source": []
  }
 ],
 "metadata": {
  "kernelspec": {
   "display_name": "pyenv",
   "language": "python",
   "name": "python3"
  },
  "language_info": {
   "codemirror_mode": {
    "name": "ipython",
    "version": 3
   },
   "file_extension": ".py",
   "mimetype": "text/x-python",
   "name": "python",
   "nbconvert_exporter": "python",
   "pygments_lexer": "ipython3",
   "version": "3.10.13"
  }
 },
 "nbformat": 4,
 "nbformat_minor": 2
}
